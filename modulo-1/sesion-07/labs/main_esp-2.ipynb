{
 "cells": [
  {
   "cell_type": "markdown",
   "metadata": {},
   "source": [
    "# Functions"
   ]
  },
  {
   "cell_type": "markdown",
   "metadata": {},
   "source": [
    "En este laboratorio pondremos en práctica algunos de los conceptos que hemos aprendido en los últimos días.\n",
    "\n",
    "`NOTA: En este laboratorio deberías intentar escribir todas las funciones por ti mismo utilizando solo la sintaxis más básica de Python y sin funciones como len, count, sum, max, min, in, etc. Dale una oportunidad. 🧑🏻‍💻👩🏻‍💻`\n",
    "\n",
    "La celda después de cada ejercicio contiene algunas pruebas para verificar si tu función funciona como se espera."
   ]
  },
  {
   "cell_type": "markdown",
   "metadata": {},
   "source": [
    "## 1. Escribe una función que devuelva el mayor de dos números"
   ]
  },
  {
   "cell_type": "code",
   "execution_count": 376,
   "metadata": {},
   "outputs": [],
   "source": [
    "def greater(a,b):\n",
    "    '''\n",
    "    Devuelve el número mayor, de los dos que le pasamos como argumento\n",
    "    \n",
    "    Argumentos:\n",
    "        a (int): Un número.\n",
    "        b (int): Otro número.\n",
    "\n",
    "    Devuelve:\n",
    "        int: El mayor de ambos números\n",
    "\n",
    "    Ejemplo:\n",
    "        >>> greater(5,2)\n",
    "        5   \n",
    "    '''\n",
    "    res = a\n",
    "    if a < b: res = b\n",
    "    return res"
   ]
  },
  {
   "cell_type": "code",
   "execution_count": 378,
   "metadata": {},
   "outputs": [
    {
     "data": {
      "text/plain": [
       "5"
      ]
     },
     "execution_count": 378,
     "metadata": {},
     "output_type": "execute_result"
    }
   ],
   "source": [
    "# Para testear tu función\n",
    "greater(5,2)"
   ]
  },
  {
   "cell_type": "markdown",
   "metadata": {},
   "source": [
    "## 2. Ahora escribe una función que devuelva el elemento más grande de una lista"
   ]
  },
  {
   "cell_type": "code",
   "execution_count": 24,
   "metadata": {},
   "outputs": [],
   "source": [
    "def greater_in_list(lst):\n",
    "    '''\n",
    "    Devuelve elemento más grande de la lista que le pasamos como argumento\n",
    "    '''   \n",
    "    res = lst[0]\n",
    "    for num in lst:\n",
    "       if num > res:\n",
    "           res = num\n",
    "    return res"
   ]
  },
  {
   "cell_type": "code",
   "execution_count": 26,
   "metadata": {},
   "outputs": [
    {
     "data": {
      "text/plain": [
       "15"
      ]
     },
     "execution_count": 26,
     "metadata": {},
     "output_type": "execute_result"
    }
   ],
   "source": [
    "# Para testear tu función\n",
    "greater_in_list([8,2,9,15,7,3])"
   ]
  },
  {
   "cell_type": "markdown",
   "metadata": {},
   "source": [
    "## 3. Escribe una función que sume todos los elementos de una lista"
   ]
  },
  {
   "cell_type": "code",
   "execution_count": 28,
   "metadata": {},
   "outputs": [],
   "source": [
    "def sum_all(lst):\n",
    "    '''\n",
    "    Suma todos los elementos de una lista\n",
    "    '''   \n",
    "    res = 0\n",
    "    for num in lst:\n",
    "        res += num\n",
    "    return res"
   ]
  },
  {
   "cell_type": "code",
   "execution_count": 34,
   "metadata": {
    "scrolled": true
   },
   "outputs": [
    {
     "data": {
      "text/plain": [
       "10"
      ]
     },
     "execution_count": 34,
     "metadata": {},
     "output_type": "execute_result"
    }
   ],
   "source": [
    "# Para testear tu función\n",
    "sum_all([1,2,3,4])"
   ]
  },
  {
   "cell_type": "markdown",
   "metadata": {},
   "source": [
    "## 4. Escribe otra función que multiplique todos los elementos de una lista"
   ]
  },
  {
   "cell_type": "code",
   "execution_count": 278,
   "metadata": {},
   "outputs": [],
   "source": [
    "def mult_all(lst):\n",
    "    '''\n",
    "    Multiplica todos los elementos de una lista\n",
    "    '''   \n",
    "    res = 1\n",
    "    for num in lst:\n",
    "        res = res * num\n",
    "    return res"
   ]
  },
  {
   "cell_type": "code",
   "execution_count": 280,
   "metadata": {
    "scrolled": true
   },
   "outputs": [
    {
     "data": {
      "text/plain": [
       "24"
      ]
     },
     "execution_count": 280,
     "metadata": {},
     "output_type": "execute_result"
    }
   ],
   "source": [
    "# Para testear tu función\n",
    "mult_all([1,2,3,4])"
   ]
  },
  {
   "cell_type": "markdown",
   "metadata": {},
   "source": [
    "## 5. Ahora combina esas dos ideas y escribe una función que reciba una lista y ya sea \"+\" o \"*\", y produzca el resultado acorde"
   ]
  },
  {
   "cell_type": "code",
   "execution_count": 51,
   "metadata": {},
   "outputs": [],
   "source": [
    "def oper_all(arr, oper = \"*\"):\n",
    "    '''\n",
    "    Realiza la operación especificada mediante el segundo parámetro (e.g. \"+\" o \"*\") sobre los números de la lista\n",
    "    '''   \n",
    "    res = 0\n",
    "    if oper == \"+\":\n",
    "        res = sum_all(arr)\n",
    "    elif oper == \"*\":\n",
    "        res = mult_all(arr)\n",
    "    else:\n",
    "        raise ValueError(\"Operación especificada inválida.\")\n",
    "    return res"
   ]
  },
  {
   "cell_type": "code",
   "execution_count": 55,
   "metadata": {},
   "outputs": [
    {
     "data": {
      "text/plain": [
       "10"
      ]
     },
     "execution_count": 55,
     "metadata": {},
     "output_type": "execute_result"
    }
   ],
   "source": [
    "# Para testear tu función\n",
    "oper_all([1,2,3,4], \"+\")"
   ]
  },
  {
   "cell_type": "code",
   "execution_count": 57,
   "metadata": {},
   "outputs": [
    {
     "data": {
      "text/plain": [
       "24"
      ]
     },
     "execution_count": 57,
     "metadata": {},
     "output_type": "execute_result"
    }
   ],
   "source": [
    "# Para testear tu función\n",
    "oper_all([1,2,3,4], \"*\")"
   ]
  },
  {
   "cell_type": "code",
   "execution_count": 59,
   "metadata": {},
   "outputs": [
    {
     "ename": "ValueError",
     "evalue": "Operación especificada inválida.",
     "output_type": "error",
     "traceback": [
      "\u001b[0;31m---------------------------------------------------------------------------\u001b[0m",
      "\u001b[0;31mValueError\u001b[0m                                Traceback (most recent call last)",
      "Cell \u001b[0;32mIn[59], line 2\u001b[0m\n\u001b[1;32m      1\u001b[0m \u001b[38;5;66;03m# Para testear tu función\u001b[39;00m\n\u001b[0;32m----> 2\u001b[0m oper_all([\u001b[38;5;241m1\u001b[39m,\u001b[38;5;241m2\u001b[39m,\u001b[38;5;241m3\u001b[39m,\u001b[38;5;241m4\u001b[39m], \u001b[38;5;124m\"\u001b[39m\u001b[38;5;124m-\u001b[39m\u001b[38;5;124m\"\u001b[39m)\n",
      "Cell \u001b[0;32mIn[51], line 11\u001b[0m, in \u001b[0;36moper_all\u001b[0;34m(arr, oper)\u001b[0m\n\u001b[1;32m      9\u001b[0m     res \u001b[38;5;241m=\u001b[39m mult_all(arr)\n\u001b[1;32m     10\u001b[0m \u001b[38;5;28;01melse\u001b[39;00m:\n\u001b[0;32m---> 11\u001b[0m     \u001b[38;5;28;01mraise\u001b[39;00m \u001b[38;5;167;01mValueError\u001b[39;00m(\u001b[38;5;124m\"\u001b[39m\u001b[38;5;124mOperación especificada inválida.\u001b[39m\u001b[38;5;124m\"\u001b[39m)\n\u001b[1;32m     12\u001b[0m \u001b[38;5;28;01mreturn\u001b[39;00m res\n",
      "\u001b[0;31mValueError\u001b[0m: Operación especificada inválida."
     ]
    }
   ],
   "source": [
    "# Para testear tu función\n",
    "oper_all([1,2,3,4], \"-\")"
   ]
  },
  {
   "cell_type": "markdown",
   "metadata": {},
   "source": [
    "## 6. Escribe una función que devuelva el factorial de un número."
   ]
  },
  {
   "cell_type": "code",
   "execution_count": 61,
   "metadata": {},
   "outputs": [],
   "source": [
    "def factorial(n):\n",
    "    '''\n",
    "    Devuelve el factorial (n! = n * (n - 1) *...*1) de un número\n",
    "    '''   \n",
    "    res = 1\n",
    "    for i in range(1,n+1):\n",
    "        res = res * i\n",
    "    return res"
   ]
  },
  {
   "cell_type": "code",
   "execution_count": 1,
   "metadata": {},
   "outputs": [],
   "source": [
    "# Fórmula factorial\n",
    "# n! = n * (n - 1) *...*1\n",
    "\n",
    "# Este código define una función llamada \"factorial\" que toma una entrada \"n\". La función utiliza un bucle for para iterar a través del rango de números\n",
    "# desde 1 hasta n+1. Para cada número en ese rango, multiplica el valor actual de x por el número en el rango. Al final del bucle,\n",
    "# la función devuelve el valor final de x, que será el factorial del número de entrada \"n\".\n",
    "\n",
    "# El factorial de un entero positivo n es el producto de todos los enteros positivos menores o iguales a n.\n",
    "# Por ejemplo, el factorial de 6 (escrito \"6!\") es 6 * 5 * 4 * 3 * 2 * 1 = 720.\n",
    "\n",
    "# Así que esta función toma una entrada de cualquier entero positivo y devuelve el factorial de ese número."
   ]
  },
  {
   "cell_type": "code",
   "execution_count": 63,
   "metadata": {},
   "outputs": [
    {
     "data": {
      "text/plain": [
       "720"
      ]
     },
     "execution_count": 63,
     "metadata": {},
     "output_type": "execute_result"
    }
   ],
   "source": [
    "# This will test your function \n",
    "factorial(6)"
   ]
  },
  {
   "cell_type": "markdown",
   "metadata": {},
   "source": [
    "## 7. Escribe una función que tome una lista y devuelva una lista de los valores únicos.\n",
    "\n",
    "`NOTE: No podemos usar set. 🤔`"
   ]
  },
  {
   "cell_type": "code",
   "execution_count": 95,
   "metadata": {},
   "outputs": [],
   "source": [
    "def unique(lst_un):\n",
    "    '''\n",
    "    Elimina valores duplicados de una lista\n",
    "    '''   \n",
    "    arr = []\n",
    "    for num in lst_un:\n",
    "        try:\n",
    "          arr.index(num)\n",
    "        except:\n",
    "          arr.append(num)\n",
    "    return arr"
   ]
  },
  {
   "cell_type": "code",
   "execution_count": 99,
   "metadata": {},
   "outputs": [
    {
     "data": {
      "text/plain": [
       "[1, 2, 3]"
      ]
     },
     "execution_count": 99,
     "metadata": {},
     "output_type": "execute_result"
    }
   ],
   "source": [
    "# Para testear tu función \n",
    "unique([1,1,2,2,3,3])"
   ]
  },
  {
   "cell_type": "markdown",
   "metadata": {},
   "source": [
    "## 8. Escribe una función que devuelva la moda de una lista, es decir: el elemento que aparece más veces.\n",
    "\n",
    "`NOTE: No se debe usar count... 🧐`"
   ]
  },
  {
   "cell_type": "code",
   "execution_count": 153,
   "metadata": {},
   "outputs": [],
   "source": [
    "def mode_counter(arr):\n",
    "    '''\n",
    "    Devuelve la moda (el elemento que aparece más veces en una lista)\n",
    "    '''   \n",
    "    dict = {}\n",
    "    for num in arr:\n",
    "        if num in dict:\n",
    "            dict[num] += 1\n",
    "        else:\n",
    "            dict.update({num: 1})\n",
    "        \n",
    "    moda = (0,0)        \n",
    "    for k, v in dict.items():\n",
    "        if v > moda[1]:\n",
    "            moda = (k,v)    \n",
    "       \n",
    "    return moda[0]"
   ]
  },
  {
   "cell_type": "code",
   "execution_count": 127,
   "metadata": {
    "jupyter": {
     "source_hidden": true
    }
   },
   "outputs": [],
   "source": [
    "def mode_counter(arr):\n",
    "    '''\n",
    "    Devuelve la moda (el elemento que aparece más veces en una lista)\n",
    "    '''   \n",
    "    dict = {}\n",
    "    for num in arr:\n",
    "        print(num)        \n",
    "        try:\n",
    "            \n",
    "            print(\"Exists\")\n",
    "            print(dict.keys())\n",
    "            if len(dict.keys()) > 0:\n",
    "                dict.keys().index(str(num))\n",
    "                dict[str(num)] += 1\n",
    "        except:\n",
    "            print(\"Not exists\")\n",
    "            dict.update({str(num): 1})\n",
    "        print(dict)\n",
    "    \n",
    "    moda = (0,0)        \n",
    "    for k, v in dict.items():\n",
    "        if v > moda[1]:\n",
    "            moda = (k,v)    \n",
    "            print(moda)\n",
    "    return moda"
   ]
  },
  {
   "cell_type": "code",
   "execution_count": 155,
   "metadata": {},
   "outputs": [
    {
     "data": {
      "text/plain": [
       "4"
      ]
     },
     "execution_count": 155,
     "metadata": {},
     "output_type": "execute_result"
    }
   ],
   "source": [
    "# Para testear tu función \n",
    "mode_counter([1,2,2,3,3,3,4,4,4,4,4,4,4,4,4,4,4,4,4,4,4,4,4])"
   ]
  },
  {
   "cell_type": "markdown",
   "metadata": {},
   "source": [
    "## 9. Escribe una función que calcule la desviación estándar de una lista.\n",
    "`NOTE: no utilices librerías ni ninguna función ya construida. 😉`"
   ]
  },
  {
   "cell_type": "code",
   "execution_count": 267,
   "metadata": {},
   "outputs": [],
   "source": [
    "def st_dev(list_sd):\n",
    "    '''\n",
    "    Calcula la desviación estándar de una lista\n",
    "    '''   \n",
    "    desviacion_std = 0\n",
    "    \n",
    "    # Número de elementos en la lista\n",
    "    n = 0\n",
    "\n",
    "    # Cálculo de la media aritmética\n",
    "    total = 0\n",
    "    for x in list_sd:\n",
    "        n += 1\n",
    "        total += x\n",
    "    media = total / n\n",
    "\n",
    "    print(f\"Número de elementos en la lista: {n}\")\n",
    "    print(f\"Media aritmética de los valores: {media}\")\n",
    "    \n",
    "    # Calcula la varianza de cada punto de datos (Punto - Media aritmética)\n",
    "    # Eleva al cuadrado las varianzas y súmalas todas\n",
    "    varianza = 0\n",
    "    for x in list_sd:\n",
    "        varianza += ((x - media) ** 2 )\n",
    "    \n",
    "    # Divide la suma del cuadrado de las varianzas por el número de puntos de datos - 1\n",
    "    # Haz la raíz cuadrada            \n",
    "    desviacion_std = (varianza / (n - 1)) ** 0.5\n",
    "    \n",
    "    return desviacion_std"
   ]
  },
  {
   "cell_type": "code",
   "execution_count": 275,
   "metadata": {},
   "outputs": [
    {
     "name": "stdout",
     "output_type": "stream",
     "text": [
      "Número de elementos en la lista: 7\n",
      "Media aritmética de los valores: 4.0\n",
      "2.160246899469287\n",
      "2.160246899469287\n"
     ]
    }
   ],
   "source": [
    "# Para testear tu función\n",
    "lista_enteros = [1,2,3,4,5,6,7]\n",
    "\n",
    "print(st_dev(lista_enteros))\n",
    "\n",
    "import statistics\n",
    "desviacion_estandar = statistics.stdev(lista_enteros)\n",
    "print(desviacion_estandar)"
   ]
  },
  {
   "cell_type": "markdown",
   "metadata": {},
   "source": [
    "## 10. Escribe una función para verificar si una cadena es un pangrama, es decir: si contiene todas las letras del alfabeto al menos una vez. Ten en cuenta que las cadenas pueden contener caracteres que no son letras."
   ]
  },
  {
   "cell_type": "code",
   "execution_count": 321,
   "metadata": {},
   "outputs": [],
   "source": [
    "def pangram(string):\n",
    "    '''\n",
    "    Verifica si una cadena es un pangrama (contiene todas las letras al menos una vez)\n",
    "    '''   \n",
    "    abecedario = \"abcdefghijklmnopqrstuvxyz\"\n",
    "    letras = [l for l in abecedario]\n",
    "\n",
    "    string_lower = string.lower()\n",
    "    string_set = set(string_lower)\n",
    "    string_uniques = \"\".join(string_set)\n",
    "\n",
    "    is_pangram = True\n",
    "    for l in letras:\n",
    "        if (string_uniques.find(l) < 0):\n",
    "            is_pangram = False\n",
    "        if not is_pangram:\n",
    "            break\n",
    "            \n",
    "    return is_pangram"
   ]
  },
  {
   "cell_type": "code",
   "execution_count": 327,
   "metadata": {},
   "outputs": [
    {
     "name": "stdout",
     "output_type": "stream",
     "text": [
      "Is \"abcdefghijklmnopqrstuvxyz\" a pangram? True\n",
      "Is \"aaaaaaaaBBBB,.....,BBBbcdefghijklmnopqrstuvxXXXyz\" a pangram? True\n",
      "Is \"abc\" a pangram? False\n"
     ]
    }
   ],
   "source": [
    "# Para testear tu función\n",
    "#test_pangram(pangram)\n",
    "mi_string = \"abcdefghijklmnopqrstuvxyz\"\n",
    "print(f\"Is \\\"{mi_string}\\\" a pangram? {pangram(mi_string)}\")\n",
    "\n",
    "mi_string = \"aaaaaaaaBBBB,.....,BBBbcdefghijklmnopqrstuvxXXXyz\"\n",
    "print(f\"Is \\\"{mi_string}\\\" a pangram? {pangram(mi_string)}\")\n",
    "\n",
    "mi_string = \"abc\"\n",
    "print(f\"Is \\\"{mi_string}\\\" a pangram? {pangram(mi_string)}\")"
   ]
  },
  {
   "cell_type": "markdown",
   "metadata": {},
   "source": [
    "## 11. Escribe una función que reciba una cadena de palabras separadas por comas y devuelva una cadena de palabras separadas por comas ordenadas alfabéticamente.\n",
    "\n",
    "`NOTA: Puedes usar sorted pero no split y definitivamente no join! 🤪`"
   ]
  },
  {
   "cell_type": "code",
   "execution_count": 371,
   "metadata": {},
   "outputs": [],
   "source": [
    "def sort_alpha(string):\n",
    "    '''\n",
    "    Ordena una cadena de palabras separadas por comas\n",
    "    '''\n",
    "    lst = []\n",
    "    s = string\n",
    "    pos = s.find(\",\")\n",
    "    if (pos < 0):\n",
    "        # Una sola palabra\n",
    "        string_sorted = string\n",
    "    else:\n",
    "        # Varias palabras separadas por coma\n",
    "        while pos >= 0:\n",
    "            #cadena[inicio:fin:paso]\n",
    "            palabra = s[0:pos:1]\n",
    "            lst.append(palabra)\n",
    "            s = s.replace(palabra+\",\", \"\", 1)\n",
    "            pos = s.find(\",\")\n",
    "        # Añadir la última palabra\n",
    "        lst.append(s)\n",
    "\n",
    "        # Ordenar\n",
    "        lst_sorted = sorted(lst)\n",
    "\n",
    "        # Transformar lista ordenada en cadena\n",
    "        string_sorted = \"\"\n",
    "        for palabra in lst_sorted:\n",
    "            string_sorted += (palabra + \",\")\n",
    "        string_sorted = string_sorted[0:-1:1]\n",
    "            \n",
    "    return string_sorted"
   ]
  },
  {
   "cell_type": "code",
   "execution_count": 373,
   "metadata": {},
   "outputs": [
    {
     "data": {
      "text/plain": [
       "'gato,hurón,oveja,perro,vaca'"
      ]
     },
     "execution_count": 373,
     "metadata": {},
     "output_type": "execute_result"
    }
   ],
   "source": [
    "# Para testear tu función \n",
    "#test_alpha(sort_alpha)\n",
    "mi_string = \"perro,gato,hurón,oveja,vaca\"\n",
    "sort_alpha(mi_string)"
   ]
  },
  {
   "cell_type": "markdown",
   "metadata": {},
   "source": [
    "## 12. Escribe una función para verificar si una contraseña dada es fuerte (al menos 8 caracteres, al menos una minúscula, al menos una mayúscula, al menos un número y al menos un carácter especial). Debería devolver True si es fuerte y False si no lo es."
   ]
  },
  {
   "cell_type": "code",
   "execution_count": 390,
   "metadata": {},
   "outputs": [],
   "source": [
    "# Observación!! Me sigo rigiendo por lo que ponía al inicio del Lab\n",
    "#  sobre sintaxis básica de Python, a pesar de que me parece que este\n",
    "#  ejercicio sería más rápido usando RegEx.\n",
    "def check_pass(password):\n",
    "    '''\n",
    "    Verifica si una contraseña es fuerte:\n",
    "        8 caracteres mínimo\n",
    "        1 minúscula\n",
    "        1 mayúscula\n",
    "        1 número\n",
    "        1 caracter especial\n",
    "    '''\n",
    "    abecedario = \"abcdefghijklmnopqrstuvxyz\"\n",
    "    ABECEDARIO = abecedario.upper()\n",
    "\n",
    "    numeros = \"0123456789\"\n",
    "    \n",
    "    len = 0\n",
    "    hay_minus = False\n",
    "    hay_mayus = False\n",
    "    hay_num = False\n",
    "    hay_special = False\n",
    "    for c in password:\n",
    "        if numeros.find(c) >=0:\n",
    "            if not hay_num: \n",
    "                hay_num = True\n",
    "                print(c)\n",
    "        elif abecedario.find(c) >= 0:\n",
    "            if not hay_minus:\n",
    "                hay_minus = True\n",
    "                print(c)\n",
    "        elif ABECEDARIO.find(c) >= 0:\n",
    "            if not hay_mayus:\n",
    "                hay_mayus = True\n",
    "                print(c)\n",
    "        else:\n",
    "            if not hay_special:\n",
    "                hay_special = True\n",
    "                print(c)\n",
    "        len += 1       \n",
    "\n",
    "    print(f\"Length: {len}\")\n",
    "\n",
    "    is_strong = len >=8 and hay_minus and hay_mayus and hay_num and hay_special\n",
    "    \n",
    "    return is_strong"
   ]
  },
  {
   "cell_type": "code",
   "execution_count": 398,
   "metadata": {},
   "outputs": [
    {
     "name": "stdout",
     "output_type": "stream",
     "text": [
      "#\n",
      "g\n",
      "1\n",
      "T\n",
      "Length: 12\n",
      "La contraseña \"#gatyw123TMQ\" es fuerte? True\n",
      "\n",
      "a\n",
      "1\n",
      "Length: 6\n",
      "La contraseña \"abc123\" es fuerte? False\n",
      "\n"
     ]
    }
   ],
   "source": [
    "# Para testear tu función\n",
    "#test_pass(check_pass)\n",
    "contrasenya = \"#gatyw123TMQ\"\n",
    "print(f\"La contraseña \\\"{contrasenya}\\\" es fuerte? {check_pass(contrasenya)}\\n\")\n",
    "\n",
    "contrasenya = \"abc123\"\n",
    "print(f\"La contraseña \\\"{contrasenya}\\\" es fuerte? {check_pass(contrasenya)}\\n\")"
   ]
  }
 ],
 "metadata": {
  "kernelspec": {
   "display_name": "Python 3 (ipykernel)",
   "language": "python",
   "name": "python3"
  },
  "language_info": {
   "codemirror_mode": {
    "name": "ipython",
    "version": 3
   },
   "file_extension": ".py",
   "mimetype": "text/x-python",
   "name": "python",
   "nbconvert_exporter": "python",
   "pygments_lexer": "ipython3",
   "version": "3.12.4"
  },
  "vscode": {
   "interpreter": {
    "hash": "aee8b7b246df8f9039afb4144a1f6fd8d2ca17a180786b69acc140d282b71a49"
   }
  }
 },
 "nbformat": 4,
 "nbformat_minor": 4
}
