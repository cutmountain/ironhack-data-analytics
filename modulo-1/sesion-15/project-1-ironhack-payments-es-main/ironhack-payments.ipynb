{
 "cells": [
  {
   "cell_type": "markdown",
   "id": "b9f3c1b8-c8cd-4d38-927a-d3314d61296d",
   "metadata": {},
   "source": [
    "# Desafío Empresarial: Análisis de Cohortes para los Pagos de Ironhack (Proyecto 1)"
   ]
  },
  {
   "cell_type": "markdown",
   "id": "9acc1c8e",
   "metadata": {},
   "source": [
    "##### Setup: cargar librerías necesarias"
   ]
  },
  {
   "cell_type": "code",
   "execution_count": 50,
   "id": "ab976745-143e-4fd8-bd5b-575f2f85d831",
   "metadata": {},
   "outputs": [],
   "source": [
    "# Importing the NumPy library for numerical operations (as np)\n",
    "import numpy as np\n",
    "# Importing the Pandas library for data manipulation and analysis (as pd)\n",
    "import pandas as pd\n",
    "\n",
    "# Importing the Seaborn library for advanced data visualization (as sns)\n",
    "import seaborn as sns\n",
    "# Importing the Matplotlib library for basic plotting functionalities (as plt)\n",
    "import matplotlib.pyplot as plt"
   ]
  },
  {
   "cell_type": "markdown",
   "id": "fba1f78f",
   "metadata": {},
   "source": [
    "#####  Setup: ajustes de visualización para los gráficos"
   ]
  },
  {
   "cell_type": "code",
   "execution_count": 51,
   "id": "c70bff6d",
   "metadata": {},
   "outputs": [],
   "source": [
    "# Matplotlib inline to visualize Matplotlib graphs\n",
    "%matplotlib inline\n",
    "\n",
    "# Configuration to set so that all the Seaborn figures come out with this size\n",
    "%config Inlinebackend.figure_format= 'retina'"
   ]
  },
  {
   "cell_type": "code",
   "execution_count": 52,
   "id": "91203301",
   "metadata": {},
   "outputs": [],
   "source": [
    "# Set the Seaborn context to \"poster\" for larger text and figures\n",
    "sns.set_context(\"poster\")\n",
    "\n",
    "# Set the default figure size for Seaborn plots\n",
    "sns.set(rc={\"figure.figsize\": (12., 6.)})\n",
    "\n",
    "# Set the Seaborn style to \"whitegrid\" for a white background with gridlines\n",
    "sns.set_style(\"whitegrid\")"
   ]
  },
  {
   "cell_type": "markdown",
   "id": "cf15dc49-d2fb-4da3-acff-3d0d82814b60",
   "metadata": {},
   "source": [
    "## Análisis Exploratorio de Datos (EDA)"
   ]
  },
  {
   "cell_type": "markdown",
   "id": "e99ab340-49ce-4ff7-8655-8a3b0b299e85",
   "metadata": {},
   "source": [
    "### Carga inicial de datos"
   ]
  },
  {
   "cell_type": "code",
   "execution_count": 53,
   "id": "9b54b8ed-3821-4414-8cf4-4282369cf95b",
   "metadata": {},
   "outputs": [],
   "source": [
    "cash_orig = pd.read_csv('./project_dataset/extract - cash request - data analyst.csv')"
   ]
  },
  {
   "cell_type": "code",
   "execution_count": 54,
   "id": "8b37ec82-27cb-4980-8695-0aeb10919bdc",
   "metadata": {},
   "outputs": [],
   "source": [
    "fees_orig = pd.read_csv('./project_dataset/extract - fees - data analyst - .csv')"
   ]
  },
  {
   "cell_type": "markdown",
   "id": "5d2b8d09",
   "metadata": {},
   "source": [
    "### Visión general de datos"
   ]
  },
  {
   "cell_type": "code",
   "execution_count": 55,
   "id": "9666fa34",
   "metadata": {},
   "outputs": [
    {
     "data": {
      "text/html": [
       "<div>\n",
       "<style scoped>\n",
       "    .dataframe tbody tr th:only-of-type {\n",
       "        vertical-align: middle;\n",
       "    }\n",
       "\n",
       "    .dataframe tbody tr th {\n",
       "        vertical-align: top;\n",
       "    }\n",
       "\n",
       "    .dataframe thead th {\n",
       "        text-align: right;\n",
       "    }\n",
       "</style>\n",
       "<table border=\"1\" class=\"dataframe\">\n",
       "  <thead>\n",
       "    <tr style=\"text-align: right;\">\n",
       "      <th></th>\n",
       "      <th>id</th>\n",
       "      <th>amount</th>\n",
       "      <th>status</th>\n",
       "      <th>created_at</th>\n",
       "      <th>updated_at</th>\n",
       "      <th>user_id</th>\n",
       "      <th>moderated_at</th>\n",
       "      <th>deleted_account_id</th>\n",
       "      <th>reimbursement_date</th>\n",
       "      <th>cash_request_received_date</th>\n",
       "      <th>money_back_date</th>\n",
       "      <th>transfer_type</th>\n",
       "      <th>send_at</th>\n",
       "      <th>recovery_status</th>\n",
       "      <th>reco_creation</th>\n",
       "      <th>reco_last_update</th>\n",
       "    </tr>\n",
       "  </thead>\n",
       "  <tbody>\n",
       "    <tr>\n",
       "      <th>0</th>\n",
       "      <td>5</td>\n",
       "      <td>100.0</td>\n",
       "      <td>rejected</td>\n",
       "      <td>2019-12-10 19:05:21.596873+00</td>\n",
       "      <td>2019-12-11 16:47:42.40783+00</td>\n",
       "      <td>804.0</td>\n",
       "      <td>2019-12-11 16:47:42.405646+00</td>\n",
       "      <td>NaN</td>\n",
       "      <td>2020-01-09 19:05:21.596363+00</td>\n",
       "      <td>NaN</td>\n",
       "      <td>NaN</td>\n",
       "      <td>regular</td>\n",
       "      <td>NaN</td>\n",
       "      <td>NaN</td>\n",
       "      <td>NaN</td>\n",
       "      <td>NaN</td>\n",
       "    </tr>\n",
       "    <tr>\n",
       "      <th>1</th>\n",
       "      <td>70</td>\n",
       "      <td>100.0</td>\n",
       "      <td>rejected</td>\n",
       "      <td>2019-12-10 19:50:12.34778+00</td>\n",
       "      <td>2019-12-11 14:24:22.900054+00</td>\n",
       "      <td>231.0</td>\n",
       "      <td>2019-12-11 14:24:22.897988+00</td>\n",
       "      <td>NaN</td>\n",
       "      <td>2020-01-09 19:50:12.34778+00</td>\n",
       "      <td>NaN</td>\n",
       "      <td>NaN</td>\n",
       "      <td>regular</td>\n",
       "      <td>NaN</td>\n",
       "      <td>NaN</td>\n",
       "      <td>NaN</td>\n",
       "      <td>NaN</td>\n",
       "    </tr>\n",
       "    <tr>\n",
       "      <th>2</th>\n",
       "      <td>7</td>\n",
       "      <td>100.0</td>\n",
       "      <td>rejected</td>\n",
       "      <td>2019-12-10 19:13:35.82546+00</td>\n",
       "      <td>2019-12-11 09:46:59.779773+00</td>\n",
       "      <td>191.0</td>\n",
       "      <td>2019-12-11 09:46:59.777728+00</td>\n",
       "      <td>NaN</td>\n",
       "      <td>2020-01-09 19:13:35.825041+00</td>\n",
       "      <td>NaN</td>\n",
       "      <td>NaN</td>\n",
       "      <td>regular</td>\n",
       "      <td>NaN</td>\n",
       "      <td>NaN</td>\n",
       "      <td>NaN</td>\n",
       "      <td>NaN</td>\n",
       "    </tr>\n",
       "    <tr>\n",
       "      <th>3</th>\n",
       "      <td>10</td>\n",
       "      <td>99.0</td>\n",
       "      <td>rejected</td>\n",
       "      <td>2019-12-10 19:16:10.880172+00</td>\n",
       "      <td>2019-12-18 14:26:18.136163+00</td>\n",
       "      <td>761.0</td>\n",
       "      <td>2019-12-18 14:26:18.128407+00</td>\n",
       "      <td>NaN</td>\n",
       "      <td>2020-01-09 19:16:10.879606+00</td>\n",
       "      <td>NaN</td>\n",
       "      <td>NaN</td>\n",
       "      <td>regular</td>\n",
       "      <td>NaN</td>\n",
       "      <td>NaN</td>\n",
       "      <td>NaN</td>\n",
       "      <td>NaN</td>\n",
       "    </tr>\n",
       "    <tr>\n",
       "      <th>4</th>\n",
       "      <td>1594</td>\n",
       "      <td>100.0</td>\n",
       "      <td>rejected</td>\n",
       "      <td>2020-05-06 09:59:38.877376+00</td>\n",
       "      <td>2020-05-07 09:21:55.34008+00</td>\n",
       "      <td>7686.0</td>\n",
       "      <td>2020-05-07 09:21:55.320193+00</td>\n",
       "      <td>NaN</td>\n",
       "      <td>2020-06-05 22:00:00+00</td>\n",
       "      <td>NaN</td>\n",
       "      <td>NaN</td>\n",
       "      <td>regular</td>\n",
       "      <td>NaN</td>\n",
       "      <td>NaN</td>\n",
       "      <td>NaN</td>\n",
       "      <td>NaN</td>\n",
       "    </tr>\n",
       "  </tbody>\n",
       "</table>\n",
       "</div>"
      ],
      "text/plain": [
       "     id  amount    status                     created_at  \\\n",
       "0     5   100.0  rejected  2019-12-10 19:05:21.596873+00   \n",
       "1    70   100.0  rejected   2019-12-10 19:50:12.34778+00   \n",
       "2     7   100.0  rejected   2019-12-10 19:13:35.82546+00   \n",
       "3    10    99.0  rejected  2019-12-10 19:16:10.880172+00   \n",
       "4  1594   100.0  rejected  2020-05-06 09:59:38.877376+00   \n",
       "\n",
       "                      updated_at  user_id                   moderated_at  \\\n",
       "0   2019-12-11 16:47:42.40783+00    804.0  2019-12-11 16:47:42.405646+00   \n",
       "1  2019-12-11 14:24:22.900054+00    231.0  2019-12-11 14:24:22.897988+00   \n",
       "2  2019-12-11 09:46:59.779773+00    191.0  2019-12-11 09:46:59.777728+00   \n",
       "3  2019-12-18 14:26:18.136163+00    761.0  2019-12-18 14:26:18.128407+00   \n",
       "4   2020-05-07 09:21:55.34008+00   7686.0  2020-05-07 09:21:55.320193+00   \n",
       "\n",
       "   deleted_account_id             reimbursement_date  \\\n",
       "0                 NaN  2020-01-09 19:05:21.596363+00   \n",
       "1                 NaN   2020-01-09 19:50:12.34778+00   \n",
       "2                 NaN  2020-01-09 19:13:35.825041+00   \n",
       "3                 NaN  2020-01-09 19:16:10.879606+00   \n",
       "4                 NaN         2020-06-05 22:00:00+00   \n",
       "\n",
       "  cash_request_received_date money_back_date transfer_type send_at  \\\n",
       "0                        NaN             NaN       regular     NaN   \n",
       "1                        NaN             NaN       regular     NaN   \n",
       "2                        NaN             NaN       regular     NaN   \n",
       "3                        NaN             NaN       regular     NaN   \n",
       "4                        NaN             NaN       regular     NaN   \n",
       "\n",
       "  recovery_status reco_creation reco_last_update  \n",
       "0             NaN           NaN              NaN  \n",
       "1             NaN           NaN              NaN  \n",
       "2             NaN           NaN              NaN  \n",
       "3             NaN           NaN              NaN  \n",
       "4             NaN           NaN              NaN  "
      ]
     },
     "execution_count": 55,
     "metadata": {},
     "output_type": "execute_result"
    }
   ],
   "source": [
    "cash_orig.head()"
   ]
  },
  {
   "cell_type": "code",
   "execution_count": 56,
   "id": "d03775b3",
   "metadata": {},
   "outputs": [
    {
     "data": {
      "text/html": [
       "<div>\n",
       "<style scoped>\n",
       "    .dataframe tbody tr th:only-of-type {\n",
       "        vertical-align: middle;\n",
       "    }\n",
       "\n",
       "    .dataframe tbody tr th {\n",
       "        vertical-align: top;\n",
       "    }\n",
       "\n",
       "    .dataframe thead th {\n",
       "        text-align: right;\n",
       "    }\n",
       "</style>\n",
       "<table border=\"1\" class=\"dataframe\">\n",
       "  <thead>\n",
       "    <tr style=\"text-align: right;\">\n",
       "      <th></th>\n",
       "      <th>id</th>\n",
       "      <th>cash_request_id</th>\n",
       "      <th>type</th>\n",
       "      <th>status</th>\n",
       "      <th>category</th>\n",
       "      <th>total_amount</th>\n",
       "      <th>reason</th>\n",
       "      <th>created_at</th>\n",
       "      <th>updated_at</th>\n",
       "      <th>paid_at</th>\n",
       "      <th>from_date</th>\n",
       "      <th>to_date</th>\n",
       "      <th>charge_moment</th>\n",
       "    </tr>\n",
       "  </thead>\n",
       "  <tbody>\n",
       "    <tr>\n",
       "      <th>0</th>\n",
       "      <td>6537</td>\n",
       "      <td>14941.0</td>\n",
       "      <td>instant_payment</td>\n",
       "      <td>rejected</td>\n",
       "      <td>NaN</td>\n",
       "      <td>5.0</td>\n",
       "      <td>Instant Payment Cash Request 14941</td>\n",
       "      <td>2020-09-07 10:47:27.42315+00</td>\n",
       "      <td>2020-10-13 14:25:09.396112+00</td>\n",
       "      <td>2020-12-17 14:50:07.47011+00</td>\n",
       "      <td>NaN</td>\n",
       "      <td>NaN</td>\n",
       "      <td>after</td>\n",
       "    </tr>\n",
       "    <tr>\n",
       "      <th>1</th>\n",
       "      <td>6961</td>\n",
       "      <td>11714.0</td>\n",
       "      <td>incident</td>\n",
       "      <td>accepted</td>\n",
       "      <td>rejected_direct_debit</td>\n",
       "      <td>5.0</td>\n",
       "      <td>rejected direct debit</td>\n",
       "      <td>2020-09-09 20:51:17.998653+00</td>\n",
       "      <td>2020-10-13 14:25:15.537063+00</td>\n",
       "      <td>2020-12-08 17:13:10.45908+00</td>\n",
       "      <td>NaN</td>\n",
       "      <td>NaN</td>\n",
       "      <td>after</td>\n",
       "    </tr>\n",
       "    <tr>\n",
       "      <th>2</th>\n",
       "      <td>16296</td>\n",
       "      <td>23371.0</td>\n",
       "      <td>instant_payment</td>\n",
       "      <td>accepted</td>\n",
       "      <td>NaN</td>\n",
       "      <td>5.0</td>\n",
       "      <td>Instant Payment Cash Request 23371</td>\n",
       "      <td>2020-10-23 10:10:58.352972+00</td>\n",
       "      <td>2020-10-23 10:10:58.352994+00</td>\n",
       "      <td>2020-11-04 19:34:37.43291+00</td>\n",
       "      <td>NaN</td>\n",
       "      <td>NaN</td>\n",
       "      <td>after</td>\n",
       "    </tr>\n",
       "    <tr>\n",
       "      <th>3</th>\n",
       "      <td>20775</td>\n",
       "      <td>26772.0</td>\n",
       "      <td>instant_payment</td>\n",
       "      <td>accepted</td>\n",
       "      <td>NaN</td>\n",
       "      <td>5.0</td>\n",
       "      <td>Instant Payment Cash Request 26772</td>\n",
       "      <td>2020-10-31 15:46:53.643958+00</td>\n",
       "      <td>2020-10-31 15:46:53.643982+00</td>\n",
       "      <td>2020-11-19 05:09:22.500223+00</td>\n",
       "      <td>NaN</td>\n",
       "      <td>NaN</td>\n",
       "      <td>after</td>\n",
       "    </tr>\n",
       "    <tr>\n",
       "      <th>4</th>\n",
       "      <td>11242</td>\n",
       "      <td>19350.0</td>\n",
       "      <td>instant_payment</td>\n",
       "      <td>accepted</td>\n",
       "      <td>NaN</td>\n",
       "      <td>5.0</td>\n",
       "      <td>Instant Payment Cash Request 19350</td>\n",
       "      <td>2020-10-06 08:20:17.170432+00</td>\n",
       "      <td>2020-10-13 14:25:03.267983+00</td>\n",
       "      <td>2020-11-02 14:45:20.355598+00</td>\n",
       "      <td>NaN</td>\n",
       "      <td>NaN</td>\n",
       "      <td>after</td>\n",
       "    </tr>\n",
       "  </tbody>\n",
       "</table>\n",
       "</div>"
      ],
      "text/plain": [
       "      id  cash_request_id             type    status               category  \\\n",
       "0   6537          14941.0  instant_payment  rejected                    NaN   \n",
       "1   6961          11714.0         incident  accepted  rejected_direct_debit   \n",
       "2  16296          23371.0  instant_payment  accepted                    NaN   \n",
       "3  20775          26772.0  instant_payment  accepted                    NaN   \n",
       "4  11242          19350.0  instant_payment  accepted                    NaN   \n",
       "\n",
       "   total_amount                              reason  \\\n",
       "0           5.0  Instant Payment Cash Request 14941   \n",
       "1           5.0               rejected direct debit   \n",
       "2           5.0  Instant Payment Cash Request 23371   \n",
       "3           5.0  Instant Payment Cash Request 26772   \n",
       "4           5.0  Instant Payment Cash Request 19350   \n",
       "\n",
       "                      created_at                     updated_at  \\\n",
       "0   2020-09-07 10:47:27.42315+00  2020-10-13 14:25:09.396112+00   \n",
       "1  2020-09-09 20:51:17.998653+00  2020-10-13 14:25:15.537063+00   \n",
       "2  2020-10-23 10:10:58.352972+00  2020-10-23 10:10:58.352994+00   \n",
       "3  2020-10-31 15:46:53.643958+00  2020-10-31 15:46:53.643982+00   \n",
       "4  2020-10-06 08:20:17.170432+00  2020-10-13 14:25:03.267983+00   \n",
       "\n",
       "                         paid_at from_date to_date charge_moment  \n",
       "0   2020-12-17 14:50:07.47011+00       NaN     NaN         after  \n",
       "1   2020-12-08 17:13:10.45908+00       NaN     NaN         after  \n",
       "2   2020-11-04 19:34:37.43291+00       NaN     NaN         after  \n",
       "3  2020-11-19 05:09:22.500223+00       NaN     NaN         after  \n",
       "4  2020-11-02 14:45:20.355598+00       NaN     NaN         after  "
      ]
     },
     "execution_count": 56,
     "metadata": {},
     "output_type": "execute_result"
    }
   ],
   "source": [
    "fees_orig.head()"
   ]
  },
  {
   "cell_type": "code",
   "execution_count": 57,
   "id": "0f4e065f",
   "metadata": {},
   "outputs": [
    {
     "data": {
      "text/plain": [
       "(23970, 16)"
      ]
     },
     "execution_count": 57,
     "metadata": {},
     "output_type": "execute_result"
    }
   ],
   "source": [
    "cash_orig.shape # 23970 peticiones de cash"
   ]
  },
  {
   "cell_type": "code",
   "execution_count": 58,
   "id": "fa59df25",
   "metadata": {},
   "outputs": [
    {
     "data": {
      "text/plain": [
       "(21061, 13)"
      ]
     },
     "execution_count": 58,
     "metadata": {},
     "output_type": "execute_result"
    }
   ],
   "source": [
    "fees_orig.shape # 21061 cobros de fees"
   ]
  },
  {
   "cell_type": "code",
   "execution_count": 59,
   "id": "3e59d681-7cf9-46c8-869d-7a94fd87f328",
   "metadata": {},
   "outputs": [
    {
     "name": "stdout",
     "output_type": "stream",
     "text": [
      "Column Names: Index(['id', 'amount', 'status', 'created_at', 'updated_at', 'user_id',\n",
      "       'moderated_at', 'deleted_account_id', 'reimbursement_date',\n",
      "       'cash_request_received_date', 'money_back_date', 'transfer_type',\n",
      "       'send_at', 'recovery_status', 'reco_creation', 'reco_last_update'],\n",
      "      dtype='object')\n",
      "Column Names: Index(['id', 'cash_request_id', 'type', 'status', 'category', 'total_amount',\n",
      "       'reason', 'created_at', 'updated_at', 'paid_at', 'from_date', 'to_date',\n",
      "       'charge_moment'],\n",
      "      dtype='object')\n"
     ]
    }
   ],
   "source": [
    "# Column names\n",
    "print(f\"Column Names: {cash_orig.columns}\")\n",
    "print(f\"Column Names: {fees_orig.columns}\")"
   ]
  },
  {
   "cell_type": "markdown",
   "id": "d5c8ff9d",
   "metadata": {},
   "source": [
    "### Subset de trabajo para el cálculo de cohortes"
   ]
  },
  {
   "cell_type": "code",
   "execution_count": 60,
   "id": "b412496b-5120-499d-a3e9-232cc2ab7b74",
   "metadata": {},
   "outputs": [],
   "source": [
    "fees = fees_orig.copy()\n",
    "cash = cash_orig.copy()"
   ]
  },
  {
   "cell_type": "code",
   "execution_count": 61,
   "id": "b08233ca",
   "metadata": {},
   "outputs": [],
   "source": [
    "# Renombrar 'id' a 'cash_request_id' para mayor claridad (y para el merge posterior con fees)\n",
    "cash = cash.rename(columns={'id': 'cash_request_id'})"
   ]
  },
  {
   "cell_type": "code",
   "execution_count": 62,
   "id": "0b692423-9488-4d26-9f4d-b91046f56e74",
   "metadata": {},
   "outputs": [
    {
     "data": {
      "text/html": [
       "<div>\n",
       "<style scoped>\n",
       "    .dataframe tbody tr th:only-of-type {\n",
       "        vertical-align: middle;\n",
       "    }\n",
       "\n",
       "    .dataframe tbody tr th {\n",
       "        vertical-align: top;\n",
       "    }\n",
       "\n",
       "    .dataframe thead th {\n",
       "        text-align: right;\n",
       "    }\n",
       "</style>\n",
       "<table border=\"1\" class=\"dataframe\">\n",
       "  <thead>\n",
       "    <tr style=\"text-align: right;\">\n",
       "      <th></th>\n",
       "      <th>cash_request_id</th>\n",
       "      <th>amount</th>\n",
       "      <th>status</th>\n",
       "      <th>created_at</th>\n",
       "      <th>user_id</th>\n",
       "      <th>deleted_account_id</th>\n",
       "    </tr>\n",
       "  </thead>\n",
       "  <tbody>\n",
       "    <tr>\n",
       "      <th>0</th>\n",
       "      <td>5</td>\n",
       "      <td>100.0</td>\n",
       "      <td>rejected</td>\n",
       "      <td>2019-12-10 19:05:21.596873+00</td>\n",
       "      <td>804.0</td>\n",
       "      <td>NaN</td>\n",
       "    </tr>\n",
       "    <tr>\n",
       "      <th>1</th>\n",
       "      <td>70</td>\n",
       "      <td>100.0</td>\n",
       "      <td>rejected</td>\n",
       "      <td>2019-12-10 19:50:12.34778+00</td>\n",
       "      <td>231.0</td>\n",
       "      <td>NaN</td>\n",
       "    </tr>\n",
       "    <tr>\n",
       "      <th>2</th>\n",
       "      <td>7</td>\n",
       "      <td>100.0</td>\n",
       "      <td>rejected</td>\n",
       "      <td>2019-12-10 19:13:35.82546+00</td>\n",
       "      <td>191.0</td>\n",
       "      <td>NaN</td>\n",
       "    </tr>\n",
       "    <tr>\n",
       "      <th>3</th>\n",
       "      <td>10</td>\n",
       "      <td>99.0</td>\n",
       "      <td>rejected</td>\n",
       "      <td>2019-12-10 19:16:10.880172+00</td>\n",
       "      <td>761.0</td>\n",
       "      <td>NaN</td>\n",
       "    </tr>\n",
       "    <tr>\n",
       "      <th>4</th>\n",
       "      <td>1594</td>\n",
       "      <td>100.0</td>\n",
       "      <td>rejected</td>\n",
       "      <td>2020-05-06 09:59:38.877376+00</td>\n",
       "      <td>7686.0</td>\n",
       "      <td>NaN</td>\n",
       "    </tr>\n",
       "  </tbody>\n",
       "</table>\n",
       "</div>"
      ],
      "text/plain": [
       "   cash_request_id  amount    status                     created_at  user_id  \\\n",
       "0                5   100.0  rejected  2019-12-10 19:05:21.596873+00    804.0   \n",
       "1               70   100.0  rejected   2019-12-10 19:50:12.34778+00    231.0   \n",
       "2                7   100.0  rejected   2019-12-10 19:13:35.82546+00    191.0   \n",
       "3               10    99.0  rejected  2019-12-10 19:16:10.880172+00    761.0   \n",
       "4             1594   100.0  rejected  2020-05-06 09:59:38.877376+00   7686.0   \n",
       "\n",
       "   deleted_account_id  \n",
       "0                 NaN  \n",
       "1                 NaN  \n",
       "2                 NaN  \n",
       "3                 NaN  \n",
       "4                 NaN  "
      ]
     },
     "execution_count": 62,
     "metadata": {},
     "output_type": "execute_result"
    }
   ],
   "source": [
    "cash = cash[['cash_request_id', 'amount', 'status', 'created_at', 'user_id', 'deleted_account_id']]\n",
    "cash.head()"
   ]
  },
  {
   "cell_type": "markdown",
   "id": "4c30e0a4",
   "metadata": {},
   "source": [
    "### Unificación de ID de usuario"
   ]
  },
  {
   "cell_type": "code",
   "execution_count": 63,
   "id": "3e1fa581",
   "metadata": {},
   "outputs": [],
   "source": [
    "# Ver NA en columna 'user_id'\n",
    "cash[cash['user_id'].isna()]\n",
    "\n",
    "# Comprobar que 'user_id' y 'deteled_account_id' son complementarios\n",
    "cash[cash['user_id'].isna() & cash['deleted_account_id'].isna()]\n",
    "\n",
    "# Nueva columna id_usuario a partir de user_id + deleted_account_id\n",
    "cash['id_usuario'] = cash['user_id'].fillna(cash['deleted_account_id'])\n",
    "# Conversión de float a int\n",
    "cash['id_usuario'] = cash['id_usuario'].astype(int)"
   ]
  },
  {
   "cell_type": "markdown",
   "id": "290f550a",
   "metadata": {},
   "source": [
    "### Obtener cohortes"
   ]
  },
  {
   "cell_type": "code",
   "execution_count": 65,
   "id": "5811a43b",
   "metadata": {},
   "outputs": [
    {
     "ename": "AttributeError",
     "evalue": "Can only use .dt accessor with datetimelike values",
     "output_type": "error",
     "traceback": [
      "\u001b[0;31m---------------------------------------------------------------------------\u001b[0m",
      "\u001b[0;31mAttributeError\u001b[0m                            Traceback (most recent call last)",
      "Cell \u001b[0;32mIn[65], line 6\u001b[0m\n\u001b[1;32m      1\u001b[0m grouped1st \u001b[38;5;241m=\u001b[39m cash\u001b[38;5;241m.\u001b[39mpivot_table(\n\u001b[1;32m      2\u001b[0m     values \u001b[38;5;241m=\u001b[39m \u001b[38;5;124m\"\u001b[39m\u001b[38;5;124mcreated_at\u001b[39m\u001b[38;5;124m\"\u001b[39m,\n\u001b[1;32m      3\u001b[0m     index \u001b[38;5;241m=\u001b[39m \u001b[38;5;124m\"\u001b[39m\u001b[38;5;124mid_usuario\u001b[39m\u001b[38;5;124m\"\u001b[39m,\n\u001b[1;32m      4\u001b[0m     aggfunc \u001b[38;5;241m=\u001b[39m \u001b[38;5;124m\"\u001b[39m\u001b[38;5;124mmin\u001b[39m\u001b[38;5;124m\"\u001b[39m\n\u001b[1;32m      5\u001b[0m )\n\u001b[0;32m----> 6\u001b[0m grouped1st[\u001b[38;5;124m'\u001b[39m\u001b[38;5;124mcohorte\u001b[39m\u001b[38;5;124m'\u001b[39m] \u001b[38;5;241m=\u001b[39m grouped1st[\u001b[38;5;124m'\u001b[39m\u001b[38;5;124mcreated_at\u001b[39m\u001b[38;5;124m'\u001b[39m]\u001b[38;5;241m.\u001b[39mdt\u001b[38;5;241m.\u001b[39mto_period(\u001b[38;5;124m'\u001b[39m\u001b[38;5;124mM\u001b[39m\u001b[38;5;124m'\u001b[39m)\n\u001b[1;32m      7\u001b[0m grouped1st\u001b[38;5;241m.\u001b[39mhead()\n",
      "File \u001b[0;32m/opt/anaconda3/lib/python3.12/site-packages/pandas/core/generic.py:6299\u001b[0m, in \u001b[0;36mNDFrame.__getattr__\u001b[0;34m(self, name)\u001b[0m\n\u001b[1;32m   6292\u001b[0m \u001b[38;5;28;01mif\u001b[39;00m (\n\u001b[1;32m   6293\u001b[0m     name \u001b[38;5;129;01mnot\u001b[39;00m \u001b[38;5;129;01min\u001b[39;00m \u001b[38;5;28mself\u001b[39m\u001b[38;5;241m.\u001b[39m_internal_names_set\n\u001b[1;32m   6294\u001b[0m     \u001b[38;5;129;01mand\u001b[39;00m name \u001b[38;5;129;01mnot\u001b[39;00m \u001b[38;5;129;01min\u001b[39;00m \u001b[38;5;28mself\u001b[39m\u001b[38;5;241m.\u001b[39m_metadata\n\u001b[1;32m   6295\u001b[0m     \u001b[38;5;129;01mand\u001b[39;00m name \u001b[38;5;129;01mnot\u001b[39;00m \u001b[38;5;129;01min\u001b[39;00m \u001b[38;5;28mself\u001b[39m\u001b[38;5;241m.\u001b[39m_accessors\n\u001b[1;32m   6296\u001b[0m     \u001b[38;5;129;01mand\u001b[39;00m \u001b[38;5;28mself\u001b[39m\u001b[38;5;241m.\u001b[39m_info_axis\u001b[38;5;241m.\u001b[39m_can_hold_identifiers_and_holds_name(name)\n\u001b[1;32m   6297\u001b[0m ):\n\u001b[1;32m   6298\u001b[0m     \u001b[38;5;28;01mreturn\u001b[39;00m \u001b[38;5;28mself\u001b[39m[name]\n\u001b[0;32m-> 6299\u001b[0m \u001b[38;5;28;01mreturn\u001b[39;00m \u001b[38;5;28mobject\u001b[39m\u001b[38;5;241m.\u001b[39m\u001b[38;5;21m__getattribute__\u001b[39m(\u001b[38;5;28mself\u001b[39m, name)\n",
      "File \u001b[0;32m/opt/anaconda3/lib/python3.12/site-packages/pandas/core/accessor.py:224\u001b[0m, in \u001b[0;36mCachedAccessor.__get__\u001b[0;34m(self, obj, cls)\u001b[0m\n\u001b[1;32m    221\u001b[0m \u001b[38;5;28;01mif\u001b[39;00m obj \u001b[38;5;129;01mis\u001b[39;00m \u001b[38;5;28;01mNone\u001b[39;00m:\n\u001b[1;32m    222\u001b[0m     \u001b[38;5;66;03m# we're accessing the attribute of the class, i.e., Dataset.geo\u001b[39;00m\n\u001b[1;32m    223\u001b[0m     \u001b[38;5;28;01mreturn\u001b[39;00m \u001b[38;5;28mself\u001b[39m\u001b[38;5;241m.\u001b[39m_accessor\n\u001b[0;32m--> 224\u001b[0m accessor_obj \u001b[38;5;241m=\u001b[39m \u001b[38;5;28mself\u001b[39m\u001b[38;5;241m.\u001b[39m_accessor(obj)\n\u001b[1;32m    225\u001b[0m \u001b[38;5;66;03m# Replace the property with the accessor object. Inspired by:\u001b[39;00m\n\u001b[1;32m    226\u001b[0m \u001b[38;5;66;03m# https://www.pydanny.com/cached-property.html\u001b[39;00m\n\u001b[1;32m    227\u001b[0m \u001b[38;5;66;03m# We need to use object.__setattr__ because we overwrite __setattr__ on\u001b[39;00m\n\u001b[1;32m    228\u001b[0m \u001b[38;5;66;03m# NDFrame\u001b[39;00m\n\u001b[1;32m    229\u001b[0m \u001b[38;5;28mobject\u001b[39m\u001b[38;5;241m.\u001b[39m\u001b[38;5;21m__setattr__\u001b[39m(obj, \u001b[38;5;28mself\u001b[39m\u001b[38;5;241m.\u001b[39m_name, accessor_obj)\n",
      "File \u001b[0;32m/opt/anaconda3/lib/python3.12/site-packages/pandas/core/indexes/accessors.py:643\u001b[0m, in \u001b[0;36mCombinedDatetimelikeProperties.__new__\u001b[0;34m(cls, data)\u001b[0m\n\u001b[1;32m    640\u001b[0m \u001b[38;5;28;01melif\u001b[39;00m \u001b[38;5;28misinstance\u001b[39m(data\u001b[38;5;241m.\u001b[39mdtype, PeriodDtype):\n\u001b[1;32m    641\u001b[0m     \u001b[38;5;28;01mreturn\u001b[39;00m PeriodProperties(data, orig)\n\u001b[0;32m--> 643\u001b[0m \u001b[38;5;28;01mraise\u001b[39;00m \u001b[38;5;167;01mAttributeError\u001b[39;00m(\u001b[38;5;124m\"\u001b[39m\u001b[38;5;124mCan only use .dt accessor with datetimelike values\u001b[39m\u001b[38;5;124m\"\u001b[39m)\n",
      "\u001b[0;31mAttributeError\u001b[0m: Can only use .dt accessor with datetimelike values"
     ]
    }
   ],
   "source": [
    "grouped1st = cash.pivot_table(\n",
    "    values = \"created_at\",\n",
    "    index = \"id_usuario\",\n",
    "    aggfunc = \"min\"\n",
    ")\n",
    "grouped1st['cohorte'] = grouped1st['created_at'].dt.to_period('M')\n",
    "grouped1st.head()"
   ]
  },
  {
   "cell_type": "code",
   "execution_count": 45,
   "id": "5c4ea08d",
   "metadata": {},
   "outputs": [
    {
     "data": {
      "text/plain": [
       "11793"
      ]
     },
     "execution_count": 45,
     "metadata": {},
     "output_type": "execute_result"
    }
   ],
   "source": [
    "# Dos maneras de calcular lo mismo:\n",
    "grouped1st.index.shape # (11793,) usuarios distintos\n",
    "grouped1st.value_counts().sum() # 11793 usuarios distintos"
   ]
  },
  {
   "cell_type": "code",
   "execution_count": 46,
   "id": "3f74ada6",
   "metadata": {},
   "outputs": [
    {
     "data": {
      "text/html": [
       "<div>\n",
       "<style scoped>\n",
       "    .dataframe tbody tr th:only-of-type {\n",
       "        vertical-align: middle;\n",
       "    }\n",
       "\n",
       "    .dataframe tbody tr th {\n",
       "        vertical-align: top;\n",
       "    }\n",
       "\n",
       "    .dataframe thead th {\n",
       "        text-align: right;\n",
       "    }\n",
       "</style>\n",
       "<table border=\"1\" class=\"dataframe\">\n",
       "  <thead>\n",
       "    <tr style=\"text-align: right;\">\n",
       "      <th></th>\n",
       "      <th>cash_request_id</th>\n",
       "      <th>amount</th>\n",
       "      <th>status</th>\n",
       "      <th>created_at</th>\n",
       "      <th>user_id</th>\n",
       "      <th>deleted_account_id</th>\n",
       "      <th>id_usuario</th>\n",
       "      <th>cohorte</th>\n",
       "    </tr>\n",
       "  </thead>\n",
       "  <tbody>\n",
       "    <tr>\n",
       "      <th>0</th>\n",
       "      <td>5</td>\n",
       "      <td>100.0</td>\n",
       "      <td>rejected</td>\n",
       "      <td>2019-12-10 19:05:21.596873+00:00</td>\n",
       "      <td>804.0</td>\n",
       "      <td>NaN</td>\n",
       "      <td>804</td>\n",
       "      <td>2019-12</td>\n",
       "    </tr>\n",
       "    <tr>\n",
       "      <th>1</th>\n",
       "      <td>70</td>\n",
       "      <td>100.0</td>\n",
       "      <td>rejected</td>\n",
       "      <td>2019-12-10 19:50:12.347780+00:00</td>\n",
       "      <td>231.0</td>\n",
       "      <td>NaN</td>\n",
       "      <td>231</td>\n",
       "      <td>2019-12</td>\n",
       "    </tr>\n",
       "    <tr>\n",
       "      <th>2</th>\n",
       "      <td>7</td>\n",
       "      <td>100.0</td>\n",
       "      <td>rejected</td>\n",
       "      <td>2019-12-10 19:13:35.825460+00:00</td>\n",
       "      <td>191.0</td>\n",
       "      <td>NaN</td>\n",
       "      <td>191</td>\n",
       "      <td>2019-12</td>\n",
       "    </tr>\n",
       "    <tr>\n",
       "      <th>3</th>\n",
       "      <td>10</td>\n",
       "      <td>99.0</td>\n",
       "      <td>rejected</td>\n",
       "      <td>2019-12-10 19:16:10.880172+00:00</td>\n",
       "      <td>761.0</td>\n",
       "      <td>NaN</td>\n",
       "      <td>761</td>\n",
       "      <td>2019-12</td>\n",
       "    </tr>\n",
       "    <tr>\n",
       "      <th>4</th>\n",
       "      <td>1594</td>\n",
       "      <td>100.0</td>\n",
       "      <td>rejected</td>\n",
       "      <td>2020-05-06 09:59:38.877376+00:00</td>\n",
       "      <td>7686.0</td>\n",
       "      <td>NaN</td>\n",
       "      <td>7686</td>\n",
       "      <td>2020-05</td>\n",
       "    </tr>\n",
       "  </tbody>\n",
       "</table>\n",
       "</div>"
      ],
      "text/plain": [
       "   cash_request_id  amount    status                       created_at  \\\n",
       "0                5   100.0  rejected 2019-12-10 19:05:21.596873+00:00   \n",
       "1               70   100.0  rejected 2019-12-10 19:50:12.347780+00:00   \n",
       "2                7   100.0  rejected 2019-12-10 19:13:35.825460+00:00   \n",
       "3               10    99.0  rejected 2019-12-10 19:16:10.880172+00:00   \n",
       "4             1594   100.0  rejected 2020-05-06 09:59:38.877376+00:00   \n",
       "\n",
       "   user_id  deleted_account_id  id_usuario  cohorte  \n",
       "0    804.0                 NaN         804  2019-12  \n",
       "1    231.0                 NaN         231  2019-12  \n",
       "2    191.0                 NaN         191  2019-12  \n",
       "3    761.0                 NaN         761  2019-12  \n",
       "4   7686.0                 NaN        7686  2020-05  "
      ]
     },
     "execution_count": 46,
     "metadata": {},
     "output_type": "execute_result"
    }
   ],
   "source": [
    "# Añadir dato 'cohorte' a tabla de trabajo\n",
    "cash_cohorts = pd.merge(cash, grouped1st[['cohorte']], on='id_usuario')\n",
    "cash_cohorts.head()\n"
   ]
  },
  {
   "cell_type": "code",
   "execution_count": 47,
   "id": "9a06f7f2",
   "metadata": {},
   "outputs": [
    {
     "name": "stdout",
     "output_type": "stream",
     "text": [
      "(23970, 7)\n",
      "(23970, 8)\n"
     ]
    }
   ],
   "source": [
    "# Comprobar que la diferencia es sólo 1 columna adicional\n",
    "print(cash.shape)\n",
    "print(cash_cohorts.shape)"
   ]
  },
  {
   "cell_type": "code",
   "execution_count": 48,
   "id": "442f0adc",
   "metadata": {},
   "outputs": [
    {
     "name": "stdout",
     "output_type": "stream",
     "text": [
      "<class 'pandas.core.frame.DataFrame'>\n",
      "RangeIndex: 23970 entries, 0 to 23969\n",
      "Data columns (total 8 columns):\n",
      " #   Column              Non-Null Count  Dtype              \n",
      "---  ------              --------------  -----              \n",
      " 0   cash_request_id     23970 non-null  int64              \n",
      " 1   amount              23970 non-null  float64            \n",
      " 2   status              23970 non-null  object             \n",
      " 3   created_at          23970 non-null  datetime64[ns, UTC]\n",
      " 4   user_id             21867 non-null  float64            \n",
      " 5   deleted_account_id  2104 non-null   float64            \n",
      " 6   id_usuario          23970 non-null  int64              \n",
      " 7   cohorte             23970 non-null  period[M]          \n",
      "dtypes: datetime64[ns, UTC](1), float64(3), int64(2), object(1), period[M](1)\n",
      "memory usage: 1.5+ MB\n"
     ]
    }
   ],
   "source": [
    "cash_cohorts.info()"
   ]
  },
  {
   "cell_type": "code",
   "execution_count": 49,
   "id": "a9a51004",
   "metadata": {},
   "outputs": [
    {
     "name": "stdout",
     "output_type": "stream",
     "text": [
      "<class 'pandas.core.frame.DataFrame'>\n",
      "RangeIndex: 23970 entries, 0 to 23969\n",
      "Data columns (total 8 columns):\n",
      " #   Column              Non-Null Count  Dtype              \n",
      "---  ------              --------------  -----              \n",
      " 0   cash_request_id     23970 non-null  int64              \n",
      " 1   amount              23970 non-null  float64            \n",
      " 2   status              23970 non-null  object             \n",
      " 3   created_at          23970 non-null  datetime64[ns, UTC]\n",
      " 4   user_id             21867 non-null  float64            \n",
      " 5   deleted_account_id  2104 non-null   float64            \n",
      " 6   id_usuario          23970 non-null  int64              \n",
      " 7   cohorte             23970 non-null  object             \n",
      "dtypes: datetime64[ns, UTC](1), float64(3), int64(2), object(2)\n",
      "memory usage: 1.5+ MB\n"
     ]
    }
   ],
   "source": [
    "# Convertir cohorte a tipo str para poder agrupar y graficar (el tipo de datos period[M] no lo permite)\n",
    "cash_cohorts['cohorte'] = cash_cohorts['cohorte'].astype(str)\n",
    "cash_cohorts.info()\n"
   ]
  },
  {
   "cell_type": "code",
   "execution_count": 34,
   "id": "687356ca",
   "metadata": {},
   "outputs": [
    {
     "ename": "NameError",
     "evalue": "name 'cash_cohorts' is not defined",
     "output_type": "error",
     "traceback": [
      "\u001b[0;31m---------------------------------------------------------------------------\u001b[0m",
      "\u001b[0;31mNameError\u001b[0m                                 Traceback (most recent call last)",
      "Cell \u001b[0;32mIn[34], line 2\u001b[0m\n\u001b[1;32m      1\u001b[0m \u001b[38;5;66;03m# Número de usuarios por cohorte\u001b[39;00m\n\u001b[0;32m----> 2\u001b[0m users_by_cohort \u001b[38;5;241m=\u001b[39m cash_cohorts\u001b[38;5;241m.\u001b[39mgroupby(\u001b[38;5;124m'\u001b[39m\u001b[38;5;124mcohorte\u001b[39m\u001b[38;5;124m'\u001b[39m)[\u001b[38;5;124m'\u001b[39m\u001b[38;5;124mid_usuario\u001b[39m\u001b[38;5;124m'\u001b[39m]\u001b[38;5;241m.\u001b[39mnunique()\u001b[38;5;241m.\u001b[39mreset_index()\n\u001b[1;32m      3\u001b[0m users_by_cohort\u001b[38;5;241m.\u001b[39mcolumns \u001b[38;5;241m=\u001b[39m [\u001b[38;5;124m'\u001b[39m\u001b[38;5;124mcohorte\u001b[39m\u001b[38;5;124m'\u001b[39m,\u001b[38;5;124m'\u001b[39m\u001b[38;5;124mnum_usuarios\u001b[39m\u001b[38;5;124m'\u001b[39m]\n\u001b[1;32m      4\u001b[0m \u001b[38;5;28mprint\u001b[39m(users_by_cohort)\n",
      "\u001b[0;31mNameError\u001b[0m: name 'cash_cohorts' is not defined"
     ]
    }
   ],
   "source": [
    "# Número de usuarios por cohorte\n",
    "users_by_cohort = cash_cohorts.groupby('cohorte')['id_usuario'].nunique().reset_index()\n",
    "users_by_cohort.columns = ['cohorte','num_usuarios']\n",
    "print(users_by_cohort)"
   ]
  },
  {
   "cell_type": "code",
   "execution_count": 33,
   "id": "011db23f",
   "metadata": {},
   "outputs": [
    {
     "ename": "NameError",
     "evalue": "name 'users_by_cohort' is not defined",
     "output_type": "error",
     "traceback": [
      "\u001b[0;31m---------------------------------------------------------------------------\u001b[0m",
      "\u001b[0;31mNameError\u001b[0m                                 Traceback (most recent call last)",
      "Cell \u001b[0;32mIn[33], line 1\u001b[0m\n\u001b[0;32m----> 1\u001b[0m users_by_cohort[\u001b[38;5;124m'\u001b[39m\u001b[38;5;124mnum_usuarios\u001b[39m\u001b[38;5;124m'\u001b[39m]\u001b[38;5;241m.\u001b[39msum()\n",
      "\u001b[0;31mNameError\u001b[0m: name 'users_by_cohort' is not defined"
     ]
    }
   ],
   "source": [
    "# Comprobación\n",
    "users_by_cohort['num_usuarios'].sum()"
   ]
  },
  {
   "cell_type": "code",
   "execution_count": 51,
   "id": "62b83669",
   "metadata": {},
   "outputs": [
    {
     "name": "stdout",
     "output_type": "stream",
     "text": [
      "Index(['2019-11', '2019-12', '2020-01', '2020-02', '2020-03', '2020-04',\n",
      "       '2020-05', '2020-06', '2020-07', '2020-08', '2020-09', '2020-10',\n",
      "       '2020-11'],\n",
      "      dtype='object', name='cohorte')\n"
     ]
    }
   ],
   "source": [
    "users_by_cohort.set_index('cohorte', inplace=True)\n",
    "print(users_by_cohort.index)"
   ]
  },
  {
   "cell_type": "code",
   "execution_count": 110,
   "id": "58012e84",
   "metadata": {},
   "outputs": [
    {
     "data": {
      "text/plain": [
       "<Figure size 1000x600 with 0 Axes>"
      ]
     },
     "metadata": {},
     "output_type": "display_data"
    },
    {
     "data": {
      "image/png": "[encoded data removed]",
      "text/plain": [
       "<Figure size 1200x600 with 1 Axes>"
      ]
     },
     "metadata": {},
     "output_type": "display_data"
    }
   ],
   "source": [
    "# Gràfico de barras para visualizar el número de usuarios por cohorte\n",
    "plt.figure(figsize=(10, 6))\n",
    "#users_by_cohort.plot(kind='line', marker='o')\n",
    "users_by_cohort.plot(kind='bar')\n",
    "plt.title('Número de Usuarios por Cohorte')\n",
    "plt.xlabel('Cohorte (Mes/Año)')\n",
    "plt.ylabel('Usuarios')\n",
    "plt.grid(True)\n",
    "plt.xticks(rotation=45)\n",
    "plt.legend([])\n",
    "plt.tight_layout()\n",
    "plt.show()"
   ]
  },
  {
   "cell_type": "markdown",
   "id": "613700a1",
   "metadata": {},
   "source": [
    "## 1. Frecuencia de uso del servicio"
   ]
  },
  {
   "cell_type": "markdown",
   "id": "90711179",
   "metadata": {},
   "source": [
    "### 1.1. Peticiones por cohorte"
   ]
  },
  {
   "cell_type": "code",
   "execution_count": 103,
   "id": "78d703d5",
   "metadata": {},
   "outputs": [
    {
     "name": "stdout",
     "output_type": "stream",
     "text": [
      "    cohorte  num_requests\n",
      "0   2019-11             8\n",
      "1   2019-12          1080\n",
      "2   2020-01           354\n",
      "3   2020-02           441\n",
      "4   2020-03           371\n",
      "5   2020-04           952\n",
      "6   2020-05          1660\n",
      "7   2020-06          5266\n",
      "8   2020-07          4147\n",
      "9   2020-08          1632\n",
      "10  2020-09          2925\n",
      "11  2020-10          5058\n",
      "12  2020-11            76\n"
     ]
    }
   ],
   "source": [
    "# Frecuencia de uso del servicio por cohorte\n",
    "requests_by_cohort = cash_cohorts.groupby('cohorte')['cash_request_id'].nunique().reset_index()\n",
    "requests_by_cohort.columns = ['cohorte','num_requests']\n",
    "print(requests_by_cohort)"
   ]
  },
  {
   "cell_type": "code",
   "execution_count": 104,
   "id": "fa0e5e4a",
   "metadata": {},
   "outputs": [
    {
     "name": "stdout",
     "output_type": "stream",
     "text": [
      "Index(['2019-11', '2019-12', '2020-01', '2020-02', '2020-03', '2020-04',\n",
      "       '2020-05', '2020-06', '2020-07', '2020-08', '2020-09', '2020-10',\n",
      "       '2020-11'],\n",
      "      dtype='object', name='cohorte')\n"
     ]
    }
   ],
   "source": [
    "# Cambiar índice para poder graficar\n",
    "requests_by_cohort.set_index('cohorte', inplace=True)\n",
    "print(requests_by_cohort.index)"
   ]
  },
  {
   "cell_type": "code",
   "execution_count": 105,
   "id": "48f29f39",
   "metadata": {},
   "outputs": [
    {
     "data": {
      "text/html": [
       "<div>\n",
       "<style scoped>\n",
       "    .dataframe tbody tr th:only-of-type {\n",
       "        vertical-align: middle;\n",
       "    }\n",
       "\n",
       "    .dataframe tbody tr th {\n",
       "        vertical-align: top;\n",
       "    }\n",
       "\n",
       "    .dataframe thead th {\n",
       "        text-align: right;\n",
       "    }\n",
       "</style>\n",
       "<table border=\"1\" class=\"dataframe\">\n",
       "  <thead>\n",
       "    <tr style=\"text-align: right;\">\n",
       "      <th></th>\n",
       "      <th>num_requests</th>\n",
       "    </tr>\n",
       "    <tr>\n",
       "      <th>cohorte</th>\n",
       "      <th></th>\n",
       "    </tr>\n",
       "  </thead>\n",
       "  <tbody>\n",
       "    <tr>\n",
       "      <th>2019-11</th>\n",
       "      <td>8</td>\n",
       "    </tr>\n",
       "    <tr>\n",
       "      <th>2019-12</th>\n",
       "      <td>1080</td>\n",
       "    </tr>\n",
       "    <tr>\n",
       "      <th>2020-01</th>\n",
       "      <td>354</td>\n",
       "    </tr>\n",
       "    <tr>\n",
       "      <th>2020-02</th>\n",
       "      <td>441</td>\n",
       "    </tr>\n",
       "    <tr>\n",
       "      <th>2020-03</th>\n",
       "      <td>371</td>\n",
       "    </tr>\n",
       "    <tr>\n",
       "      <th>2020-04</th>\n",
       "      <td>952</td>\n",
       "    </tr>\n",
       "    <tr>\n",
       "      <th>2020-05</th>\n",
       "      <td>1660</td>\n",
       "    </tr>\n",
       "    <tr>\n",
       "      <th>2020-06</th>\n",
       "      <td>5266</td>\n",
       "    </tr>\n",
       "    <tr>\n",
       "      <th>2020-07</th>\n",
       "      <td>4147</td>\n",
       "    </tr>\n",
       "    <tr>\n",
       "      <th>2020-08</th>\n",
       "      <td>1632</td>\n",
       "    </tr>\n",
       "    <tr>\n",
       "      <th>2020-09</th>\n",
       "      <td>2925</td>\n",
       "    </tr>\n",
       "    <tr>\n",
       "      <th>2020-10</th>\n",
       "      <td>5058</td>\n",
       "    </tr>\n",
       "    <tr>\n",
       "      <th>2020-11</th>\n",
       "      <td>76</td>\n",
       "    </tr>\n",
       "  </tbody>\n",
       "</table>\n",
       "</div>"
      ],
      "text/plain": [
       "         num_requests\n",
       "cohorte              \n",
       "2019-11             8\n",
       "2019-12          1080\n",
       "2020-01           354\n",
       "2020-02           441\n",
       "2020-03           371\n",
       "2020-04           952\n",
       "2020-05          1660\n",
       "2020-06          5266\n",
       "2020-07          4147\n",
       "2020-08          1632\n",
       "2020-09          2925\n",
       "2020-10          5058\n",
       "2020-11            76"
      ]
     },
     "execution_count": 105,
     "metadata": {},
     "output_type": "execute_result"
    }
   ],
   "source": [
    "requests_by_cohort"
   ]
  },
  {
   "cell_type": "code",
   "execution_count": 111,
   "id": "11aaba64",
   "metadata": {},
   "outputs": [
    {
     "data": {
      "text/plain": [
       "23970"
      ]
     },
     "execution_count": 111,
     "metadata": {},
     "output_type": "execute_result"
    }
   ],
   "source": [
    "# Comprobación\n",
    "requests_by_cohort['num_requests'].sum()"
   ]
  },
  {
   "cell_type": "code",
   "execution_count": 112,
   "id": "34d5deff",
   "metadata": {},
   "outputs": [
    {
     "data": {
      "text/plain": [
       "<Figure size 1000x600 with 0 Axes>"
      ]
     },
     "metadata": {},
     "output_type": "display_data"
    },
    {
     "data": {
      "image/png": "[encoded data removed]",
      "text/plain": [
       "<Figure size 1200x600 with 1 Axes>"
      ]
     },
     "metadata": {},
     "output_type": "display_data"
    }
   ],
   "source": [
    "# Crear un gráfico de barras para visualizar el número de requests por cohorte\n",
    "plt.figure(figsize=(10, 6))\n",
    "#requests_by_cohort.plot(kind='line', marker='o')\n",
    "requests_by_cohort.plot(kind='bar', color='navy')\n",
    "plt.title('Número de peticiones por Cohorte')\n",
    "plt.xlabel('Cohorte (Mes/Año)')\n",
    "plt.ylabel('Peticiones')\n",
    "plt.grid(True)\n",
    "plt.xticks(rotation=45)\n",
    "plt.legend([])\n",
    "plt.show()"
   ]
  },
  {
   "cell_type": "markdown",
   "id": "9d1cb620",
   "metadata": {},
   "source": [
    "### 1.2. Frecuencia de uso"
   ]
  },
  {
   "cell_type": "code",
   "execution_count": 113,
   "id": "a93cd780",
   "metadata": {},
   "outputs": [
    {
     "name": "stderr",
     "output_type": "stream",
     "text": [
      "/var/folders/3h/d4zpwm_x4qg78bc5337r4q240000gq/T/ipykernel_52331/294293259.py:2: UserWarning: Converting to PeriodArray/Index representation will drop timezone information.\n",
      "  cash_cohorts['created_at_month'] = cash_cohorts['created_at'].dt.to_period('M')\n"
     ]
    },
    {
     "data": {
      "text/html": [
       "<div>\n",
       "<style scoped>\n",
       "    .dataframe tbody tr th:only-of-type {\n",
       "        vertical-align: middle;\n",
       "    }\n",
       "\n",
       "    .dataframe tbody tr th {\n",
       "        vertical-align: top;\n",
       "    }\n",
       "\n",
       "    .dataframe thead th {\n",
       "        text-align: right;\n",
       "    }\n",
       "</style>\n",
       "<table border=\"1\" class=\"dataframe\">\n",
       "  <thead>\n",
       "    <tr style=\"text-align: right;\">\n",
       "      <th></th>\n",
       "      <th>cash_request_id</th>\n",
       "      <th>created_at_month</th>\n",
       "      <th>cohorte</th>\n",
       "      <th>id_usuario</th>\n",
       "    </tr>\n",
       "  </thead>\n",
       "  <tbody>\n",
       "    <tr>\n",
       "      <th>0</th>\n",
       "      <td>5</td>\n",
       "      <td>2019-12</td>\n",
       "      <td>2019-12</td>\n",
       "      <td>804</td>\n",
       "    </tr>\n",
       "    <tr>\n",
       "      <th>1</th>\n",
       "      <td>70</td>\n",
       "      <td>2019-12</td>\n",
       "      <td>2019-12</td>\n",
       "      <td>231</td>\n",
       "    </tr>\n",
       "    <tr>\n",
       "      <th>2</th>\n",
       "      <td>7</td>\n",
       "      <td>2019-12</td>\n",
       "      <td>2019-12</td>\n",
       "      <td>191</td>\n",
       "    </tr>\n",
       "    <tr>\n",
       "      <th>3</th>\n",
       "      <td>10</td>\n",
       "      <td>2019-12</td>\n",
       "      <td>2019-12</td>\n",
       "      <td>761</td>\n",
       "    </tr>\n",
       "    <tr>\n",
       "      <th>4</th>\n",
       "      <td>1594</td>\n",
       "      <td>2020-05</td>\n",
       "      <td>2020-05</td>\n",
       "      <td>7686</td>\n",
       "    </tr>\n",
       "    <tr>\n",
       "      <th>...</th>\n",
       "      <td>...</td>\n",
       "      <td>...</td>\n",
       "      <td>...</td>\n",
       "      <td>...</td>\n",
       "    </tr>\n",
       "    <tr>\n",
       "      <th>23965</th>\n",
       "      <td>20616</td>\n",
       "      <td>2020-10</td>\n",
       "      <td>2020-06</td>\n",
       "      <td>13681</td>\n",
       "    </tr>\n",
       "    <tr>\n",
       "      <th>23966</th>\n",
       "      <td>25243</td>\n",
       "      <td>2020-10</td>\n",
       "      <td>2020-10</td>\n",
       "      <td>30367</td>\n",
       "    </tr>\n",
       "    <tr>\n",
       "      <th>23967</th>\n",
       "      <td>22357</td>\n",
       "      <td>2020-10</td>\n",
       "      <td>2020-10</td>\n",
       "      <td>82122</td>\n",
       "    </tr>\n",
       "    <tr>\n",
       "      <th>23968</th>\n",
       "      <td>20256</td>\n",
       "      <td>2020-10</td>\n",
       "      <td>2020-10</td>\n",
       "      <td>64517</td>\n",
       "    </tr>\n",
       "    <tr>\n",
       "      <th>23969</th>\n",
       "      <td>19886</td>\n",
       "      <td>2020-10</td>\n",
       "      <td>2020-09</td>\n",
       "      <td>44867</td>\n",
       "    </tr>\n",
       "  </tbody>\n",
       "</table>\n",
       "<p>23970 rows × 4 columns</p>\n",
       "</div>"
      ],
      "text/plain": [
       "       cash_request_id created_at_month  cohorte  id_usuario\n",
       "0                    5          2019-12  2019-12         804\n",
       "1                   70          2019-12  2019-12         231\n",
       "2                    7          2019-12  2019-12         191\n",
       "3                   10          2019-12  2019-12         761\n",
       "4                 1594          2020-05  2020-05        7686\n",
       "...                ...              ...      ...         ...\n",
       "23965            20616          2020-10  2020-06       13681\n",
       "23966            25243          2020-10  2020-10       30367\n",
       "23967            22357          2020-10  2020-10       82122\n",
       "23968            20256          2020-10  2020-10       64517\n",
       "23969            19886          2020-10  2020-09       44867\n",
       "\n",
       "[23970 rows x 4 columns]"
      ]
     },
     "execution_count": 113,
     "metadata": {},
     "output_type": "execute_result"
    }
   ],
   "source": [
    "# Añadir columna 'created_at_month' para determinar el mes de creación de cada petición\n",
    "cash_cohorts['created_at_month'] = cash_cohorts['created_at'].dt.to_period('M')\n",
    "subset = ['cash_request_id','created_at_month','cohorte','id_usuario']\n",
    "cash_cohorts[subset]"
   ]
  },
  {
   "cell_type": "code",
   "execution_count": 145,
   "id": "ad1537c3",
   "metadata": {},
   "outputs": [
    {
     "data": {
      "text/html": [
       "<div>\n",
       "<style scoped>\n",
       "    .dataframe tbody tr th:only-of-type {\n",
       "        vertical-align: middle;\n",
       "    }\n",
       "\n",
       "    .dataframe tbody tr th {\n",
       "        vertical-align: top;\n",
       "    }\n",
       "\n",
       "    .dataframe thead th {\n",
       "        text-align: right;\n",
       "    }\n",
       "</style>\n",
       "<table border=\"1\" class=\"dataframe\">\n",
       "  <thead>\n",
       "    <tr style=\"text-align: right;\">\n",
       "      <th></th>\n",
       "      <th></th>\n",
       "      <th>num_requests</th>\n",
       "    </tr>\n",
       "    <tr>\n",
       "      <th>created_at_month</th>\n",
       "      <th>cohorte</th>\n",
       "      <th></th>\n",
       "    </tr>\n",
       "  </thead>\n",
       "  <tbody>\n",
       "    <tr>\n",
       "      <th>2019-11</th>\n",
       "      <th>2019-11</th>\n",
       "      <td>1</td>\n",
       "    </tr>\n",
       "    <tr>\n",
       "      <th rowspan=\"2\" valign=\"top\">2019-12</th>\n",
       "      <th>2019-11</th>\n",
       "      <td>1</td>\n",
       "    </tr>\n",
       "    <tr>\n",
       "      <th>2019-12</th>\n",
       "      <td>288</td>\n",
       "    </tr>\n",
       "    <tr>\n",
       "      <th rowspan=\"2\" valign=\"top\">2020-01</th>\n",
       "      <th>2019-12</th>\n",
       "      <td>106</td>\n",
       "    </tr>\n",
       "    <tr>\n",
       "      <th>2020-01</th>\n",
       "      <td>117</td>\n",
       "    </tr>\n",
       "    <tr>\n",
       "      <th rowspan=\"3\" valign=\"top\">2020-02</th>\n",
       "      <th>2019-12</th>\n",
       "      <td>63</td>\n",
       "    </tr>\n",
       "    <tr>\n",
       "      <th>2020-01</th>\n",
       "      <td>24</td>\n",
       "    </tr>\n",
       "    <tr>\n",
       "      <th>2020-02</th>\n",
       "      <td>97</td>\n",
       "    </tr>\n",
       "    <tr>\n",
       "      <th rowspan=\"4\" valign=\"top\">2020-03</th>\n",
       "      <th>2019-12</th>\n",
       "      <td>79</td>\n",
       "    </tr>\n",
       "    <tr>\n",
       "      <th>2020-01</th>\n",
       "      <td>17</td>\n",
       "    </tr>\n",
       "    <tr>\n",
       "      <th>2020-02</th>\n",
       "      <td>49</td>\n",
       "    </tr>\n",
       "    <tr>\n",
       "      <th>2020-03</th>\n",
       "      <td>99</td>\n",
       "    </tr>\n",
       "    <tr>\n",
       "      <th rowspan=\"6\" valign=\"top\">2020-04</th>\n",
       "      <th>2019-11</th>\n",
       "      <td>1</td>\n",
       "    </tr>\n",
       "    <tr>\n",
       "      <th>2019-12</th>\n",
       "      <td>82</td>\n",
       "    </tr>\n",
       "    <tr>\n",
       "      <th>2020-01</th>\n",
       "      <td>35</td>\n",
       "    </tr>\n",
       "    <tr>\n",
       "      <th>2020-02</th>\n",
       "      <td>49</td>\n",
       "    </tr>\n",
       "    <tr>\n",
       "      <th>2020-03</th>\n",
       "      <td>42</td>\n",
       "    </tr>\n",
       "    <tr>\n",
       "      <th>2020-04</th>\n",
       "      <td>264</td>\n",
       "    </tr>\n",
       "    <tr>\n",
       "      <th rowspan=\"7\" valign=\"top\">2020-05</th>\n",
       "      <th>2019-11</th>\n",
       "      <td>1</td>\n",
       "    </tr>\n",
       "    <tr>\n",
       "      <th>2019-12</th>\n",
       "      <td>86</td>\n",
       "    </tr>\n",
       "    <tr>\n",
       "      <th>2020-01</th>\n",
       "      <td>31</td>\n",
       "    </tr>\n",
       "    <tr>\n",
       "      <th>2020-02</th>\n",
       "      <td>45</td>\n",
       "    </tr>\n",
       "    <tr>\n",
       "      <th>2020-03</th>\n",
       "      <td>46</td>\n",
       "    </tr>\n",
       "    <tr>\n",
       "      <th>2020-04</th>\n",
       "      <td>150</td>\n",
       "    </tr>\n",
       "    <tr>\n",
       "      <th>2020-05</th>\n",
       "      <td>478</td>\n",
       "    </tr>\n",
       "    <tr>\n",
       "      <th rowspan=\"7\" valign=\"top\">2020-06</th>\n",
       "      <th>2019-12</th>\n",
       "      <td>91</td>\n",
       "    </tr>\n",
       "    <tr>\n",
       "      <th>2020-01</th>\n",
       "      <td>29</td>\n",
       "    </tr>\n",
       "    <tr>\n",
       "      <th>2020-02</th>\n",
       "      <td>45</td>\n",
       "    </tr>\n",
       "    <tr>\n",
       "      <th>2020-03</th>\n",
       "      <td>47</td>\n",
       "    </tr>\n",
       "    <tr>\n",
       "      <th>2020-04</th>\n",
       "      <td>151</td>\n",
       "    </tr>\n",
       "    <tr>\n",
       "      <th>2020-05</th>\n",
       "      <td>318</td>\n",
       "    </tr>\n",
       "    <tr>\n",
       "      <th>2020-06</th>\n",
       "      <td>1934</td>\n",
       "    </tr>\n",
       "    <tr>\n",
       "      <th rowspan=\"8\" valign=\"top\">2020-07</th>\n",
       "      <th>2019-12</th>\n",
       "      <td>72</td>\n",
       "    </tr>\n",
       "    <tr>\n",
       "      <th>2020-01</th>\n",
       "      <td>31</td>\n",
       "    </tr>\n",
       "    <tr>\n",
       "      <th>2020-02</th>\n",
       "      <td>45</td>\n",
       "    </tr>\n",
       "    <tr>\n",
       "      <th>2020-03</th>\n",
       "      <td>40</td>\n",
       "    </tr>\n",
       "    <tr>\n",
       "      <th>2020-04</th>\n",
       "      <td>116</td>\n",
       "    </tr>\n",
       "    <tr>\n",
       "      <th>2020-05</th>\n",
       "      <td>274</td>\n",
       "    </tr>\n",
       "    <tr>\n",
       "      <th>2020-06</th>\n",
       "      <td>1027</td>\n",
       "    </tr>\n",
       "    <tr>\n",
       "      <th>2020-07</th>\n",
       "      <td>1996</td>\n",
       "    </tr>\n",
       "    <tr>\n",
       "      <th rowspan=\"10\" valign=\"top\">2020-08</th>\n",
       "      <th>2019-11</th>\n",
       "      <td>1</td>\n",
       "    </tr>\n",
       "    <tr>\n",
       "      <th>2019-12</th>\n",
       "      <td>84</td>\n",
       "    </tr>\n",
       "    <tr>\n",
       "      <th>2020-01</th>\n",
       "      <td>22</td>\n",
       "    </tr>\n",
       "    <tr>\n",
       "      <th>2020-02</th>\n",
       "      <td>44</td>\n",
       "    </tr>\n",
       "    <tr>\n",
       "      <th>2020-03</th>\n",
       "      <td>36</td>\n",
       "    </tr>\n",
       "    <tr>\n",
       "      <th>2020-04</th>\n",
       "      <td>107</td>\n",
       "    </tr>\n",
       "    <tr>\n",
       "      <th>2020-05</th>\n",
       "      <td>232</td>\n",
       "    </tr>\n",
       "    <tr>\n",
       "      <th>2020-06</th>\n",
       "      <td>957</td>\n",
       "    </tr>\n",
       "    <tr>\n",
       "      <th>2020-07</th>\n",
       "      <td>941</td>\n",
       "    </tr>\n",
       "    <tr>\n",
       "      <th>2020-08</th>\n",
       "      <td>993</td>\n",
       "    </tr>\n",
       "  </tbody>\n",
       "</table>\n",
       "</div>"
      ],
      "text/plain": [
       "                          num_requests\n",
       "created_at_month cohorte              \n",
       "2019-11          2019-11             1\n",
       "2019-12          2019-11             1\n",
       "                 2019-12           288\n",
       "2020-01          2019-12           106\n",
       "                 2020-01           117\n",
       "2020-02          2019-12            63\n",
       "                 2020-01            24\n",
       "                 2020-02            97\n",
       "2020-03          2019-12            79\n",
       "                 2020-01            17\n",
       "                 2020-02            49\n",
       "                 2020-03            99\n",
       "2020-04          2019-11             1\n",
       "                 2019-12            82\n",
       "                 2020-01            35\n",
       "                 2020-02            49\n",
       "                 2020-03            42\n",
       "                 2020-04           264\n",
       "2020-05          2019-11             1\n",
       "                 2019-12            86\n",
       "                 2020-01            31\n",
       "                 2020-02            45\n",
       "                 2020-03            46\n",
       "                 2020-04           150\n",
       "                 2020-05           478\n",
       "2020-06          2019-12            91\n",
       "                 2020-01            29\n",
       "                 2020-02            45\n",
       "                 2020-03            47\n",
       "                 2020-04           151\n",
       "                 2020-05           318\n",
       "                 2020-06          1934\n",
       "2020-07          2019-12            72\n",
       "                 2020-01            31\n",
       "                 2020-02            45\n",
       "                 2020-03            40\n",
       "                 2020-04           116\n",
       "                 2020-05           274\n",
       "                 2020-06          1027\n",
       "                 2020-07          1996\n",
       "2020-08          2019-11             1\n",
       "                 2019-12            84\n",
       "                 2020-01            22\n",
       "                 2020-02            44\n",
       "                 2020-03            36\n",
       "                 2020-04           107\n",
       "                 2020-05           232\n",
       "                 2020-06           957\n",
       "                 2020-07           941\n",
       "                 2020-08           993"
      ]
     },
     "execution_count": 145,
     "metadata": {},
     "output_type": "execute_result"
    }
   ],
   "source": [
    "# Frecuencia de uso del servicio por cohorte\n",
    "# frequency_by_cohort = cash_cohorts[subset].groupby(['created_at_month','cohorte'])['cash_request_id'].count().reset_index()\n",
    "# frequency_by_cohort.set_index('created_at_month', inplace=True)\n",
    "# frequency_by_cohort.columns = ['cohorte','num_transactions']\n",
    "# print(frequency_by_cohort)\n",
    "\n",
    "frequency_by_cohort = cash_cohorts[subset].groupby(['created_at_month','cohorte'])['cash_request_id'].count().reset_index()\n",
    "frequency_by_cohort.sort_values(by=['created_at_month','cohorte'])\n",
    "frequency_by_cohort.set_index(['created_at_month','cohorte'], inplace=True)\n",
    "#frequency_by_cohort.columns = ['created_at_month','cohorte','num_requests']\n",
    "frequency_by_cohort.rename(columns={'cash_request_id': 'num_requests'}, inplace=True)\n",
    "frequency_by_cohort.iloc[0:50]"
   ]
  },
  {
   "cell_type": "code",
   "execution_count": 146,
   "id": "af3ca1e0",
   "metadata": {},
   "outputs": [
    {
     "data": {
      "text/plain": [
       "23970"
      ]
     },
     "execution_count": 146,
     "metadata": {},
     "output_type": "execute_result"
    }
   ],
   "source": [
    "# Comprobación: la suma debe dar el número total de peticiones, o sea 23970\n",
    "frequency_by_cohort['num_requests'].sum()"
   ]
  },
  {
   "cell_type": "code",
   "execution_count": 159,
   "id": "f47e4147",
   "metadata": {},
   "outputs": [
    {
     "data": {
      "image/png": "[encoded data removed]",
      "text/plain": [
       "<Figure size 1200x600 with 1 Axes>"
      ]
     },
     "metadata": {},
     "output_type": "display_data"
    }
   ],
   "source": [
    "# Unstack multi-index\n",
    "requests_for_plot = frequency_by_cohort.unstack()\n",
    "# Crear gráfico!!!\n",
    "requests_for_plot.plot(kind=\"bar\")\n",
    "plt.xlabel(\"Months\", fontsize=15)\n",
    "plt.ylabel(\"Number of requests\", fontsize=15)\n",
    "plt.title(\"Number of requests by cohort\", fontsize=20)\n",
    "plt.show()"
   ]
  },
  {
   "cell_type": "markdown",
   "id": "70f5cbe4",
   "metadata": {},
   "source": [
    "## 2. Tasa de incidentes"
   ]
  },
  {
   "cell_type": "code",
   "execution_count": null,
   "id": "2aed6f85",
   "metadata": {},
   "outputs": [],
   "source": []
  },
  {
   "cell_type": "code",
   "execution_count": null,
   "id": "43456480",
   "metadata": {},
   "outputs": [],
   "source": []
  },
  {
   "cell_type": "code",
   "execution_count": null,
   "id": "63e9b333",
   "metadata": {},
   "outputs": [],
   "source": []
  },
  {
   "cell_type": "code",
   "execution_count": null,
   "id": "9d9301a0",
   "metadata": {},
   "outputs": [],
   "source": []
  },
  {
   "cell_type": "code",
   "execution_count": null,
   "id": "72711024",
   "metadata": {},
   "outputs": [],
   "source": []
  },
  {
   "cell_type": "code",
   "execution_count": null,
   "id": "33a59147",
   "metadata": {},
   "outputs": [],
   "source": []
  },
  {
   "cell_type": "code",
   "execution_count": null,
   "id": "4207592c",
   "metadata": {},
   "outputs": [],
   "source": []
  },
  {
   "cell_type": "code",
   "execution_count": null,
   "id": "af40c846",
   "metadata": {},
   "outputs": [],
   "source": []
  },
  {
   "cell_type": "code",
   "execution_count": 9,
   "id": "13b59ad0-9fe3-49e3-ae98-e1b46a05f574",
   "metadata": {},
   "outputs": [],
   "source": [
    "fees = fees.drop(['category','reason','paid_at','from_date','to_date','charge_moment'], axis=1)"
   ]
  },
  {
   "cell_type": "code",
   "execution_count": 10,
   "id": "34e67e6d-658d-447a-a2cf-7afc6743d8dd",
   "metadata": {},
   "outputs": [
    {
     "data": {
      "text/html": [
       "<div>\n",
       "<style scoped>\n",
       "    .dataframe tbody tr th:only-of-type {\n",
       "        vertical-align: middle;\n",
       "    }\n",
       "\n",
       "    .dataframe tbody tr th {\n",
       "        vertical-align: top;\n",
       "    }\n",
       "\n",
       "    .dataframe thead th {\n",
       "        text-align: right;\n",
       "    }\n",
       "</style>\n",
       "<table border=\"1\" class=\"dataframe\">\n",
       "  <thead>\n",
       "    <tr style=\"text-align: right;\">\n",
       "      <th></th>\n",
       "      <th>id</th>\n",
       "      <th>cash_request_id</th>\n",
       "      <th>type</th>\n",
       "      <th>status</th>\n",
       "      <th>total_amount</th>\n",
       "      <th>created_at</th>\n",
       "      <th>updated_at</th>\n",
       "    </tr>\n",
       "  </thead>\n",
       "  <tbody>\n",
       "    <tr>\n",
       "      <th>0</th>\n",
       "      <td>6537</td>\n",
       "      <td>14941.0</td>\n",
       "      <td>instant_payment</td>\n",
       "      <td>rejected</td>\n",
       "      <td>5.0</td>\n",
       "      <td>2020-09-07 10:47:27.42315+00</td>\n",
       "      <td>2020-10-13 14:25:09.396112+00</td>\n",
       "    </tr>\n",
       "    <tr>\n",
       "      <th>1</th>\n",
       "      <td>6961</td>\n",
       "      <td>11714.0</td>\n",
       "      <td>incident</td>\n",
       "      <td>accepted</td>\n",
       "      <td>5.0</td>\n",
       "      <td>2020-09-09 20:51:17.998653+00</td>\n",
       "      <td>2020-10-13 14:25:15.537063+00</td>\n",
       "    </tr>\n",
       "    <tr>\n",
       "      <th>2</th>\n",
       "      <td>16296</td>\n",
       "      <td>23371.0</td>\n",
       "      <td>instant_payment</td>\n",
       "      <td>accepted</td>\n",
       "      <td>5.0</td>\n",
       "      <td>2020-10-23 10:10:58.352972+00</td>\n",
       "      <td>2020-10-23 10:10:58.352994+00</td>\n",
       "    </tr>\n",
       "    <tr>\n",
       "      <th>3</th>\n",
       "      <td>20775</td>\n",
       "      <td>26772.0</td>\n",
       "      <td>instant_payment</td>\n",
       "      <td>accepted</td>\n",
       "      <td>5.0</td>\n",
       "      <td>2020-10-31 15:46:53.643958+00</td>\n",
       "      <td>2020-10-31 15:46:53.643982+00</td>\n",
       "    </tr>\n",
       "    <tr>\n",
       "      <th>4</th>\n",
       "      <td>11242</td>\n",
       "      <td>19350.0</td>\n",
       "      <td>instant_payment</td>\n",
       "      <td>accepted</td>\n",
       "      <td>5.0</td>\n",
       "      <td>2020-10-06 08:20:17.170432+00</td>\n",
       "      <td>2020-10-13 14:25:03.267983+00</td>\n",
       "    </tr>\n",
       "  </tbody>\n",
       "</table>\n",
       "</div>"
      ],
      "text/plain": [
       "      id  cash_request_id             type    status  total_amount  \\\n",
       "0   6537          14941.0  instant_payment  rejected           5.0   \n",
       "1   6961          11714.0         incident  accepted           5.0   \n",
       "2  16296          23371.0  instant_payment  accepted           5.0   \n",
       "3  20775          26772.0  instant_payment  accepted           5.0   \n",
       "4  11242          19350.0  instant_payment  accepted           5.0   \n",
       "\n",
       "                      created_at                     updated_at  \n",
       "0   2020-09-07 10:47:27.42315+00  2020-10-13 14:25:09.396112+00  \n",
       "1  2020-09-09 20:51:17.998653+00  2020-10-13 14:25:15.537063+00  \n",
       "2  2020-10-23 10:10:58.352972+00  2020-10-23 10:10:58.352994+00  \n",
       "3  2020-10-31 15:46:53.643958+00  2020-10-31 15:46:53.643982+00  \n",
       "4  2020-10-06 08:20:17.170432+00  2020-10-13 14:25:03.267983+00  "
      ]
     },
     "execution_count": 10,
     "metadata": {},
     "output_type": "execute_result"
    }
   ],
   "source": [
    "# Comprobar eliminación de columnas\n",
    "fees.head()"
   ]
  },
  {
   "cell_type": "code",
   "execution_count": 10,
   "id": "464a71dc-4a78-426e-969b-03b645687eaf",
   "metadata": {},
   "outputs": [
    {
     "name": "stdout",
     "output_type": "stream",
     "text": [
      "object\n",
      "datetime64[ns, UTC]\n"
     ]
    }
   ],
   "source": [
    "# Convertir 'created_at' en fecha\n",
    "print(cash['created_at'].dtypes)\n",
    "cash['created_at'] = pd.to_datetime(cash['created_at'])\n",
    "print(cash['created_at'].dtypes)"
   ]
  },
  {
   "cell_type": "code",
   "execution_count": 12,
   "id": "9912e651-e365-4c29-aa41-ea3e8e0c4127",
   "metadata": {},
   "outputs": [
    {
     "name": "stdout",
     "output_type": "stream",
     "text": [
      "<class 'str'> \t 2020-01-09 19:05:21.596363+00\n",
      "<class 'str'> \t 2020-06-05 22:00:00+00\n"
     ]
    }
   ],
   "source": [
    "# # Limpiar fechas cash['reimbursement_date']\n",
    "\n",
    "print(type(cash['reimbursement_date'][0]),'\\t',cash['reimbursement_date'][0])\n",
    "print(type(cash['reimbursement_date'][4]),'\\t',cash['reimbursement_date'][4])\n",
    "\n",
    "def corregir_formato(fecha):\n",
    "    # Si no tiene microsegundos, agregar '.000000' antes de la zona horaria\n",
    "    if '.' not in fecha.split('+')[0]:\n",
    "        return fecha.replace('+', '.000000+')\n",
    "    return fecha\n",
    "    \n",
    "cash['reimbursement_date'] = cash['reimbursement_date'].apply(corregir_formato)\n",
    "cash['reimbursement_date'] = pd.to_datetime(cash['reimbursement_date'])\n",
    "cash['reimbursement_date'] = cash['reimbursement_date'].dt.date"
   ]
  },
  {
   "cell_type": "code",
   "execution_count": 13,
   "id": "11d0134d-8e8f-40a7-ae75-fca5621f37d7",
   "metadata": {},
   "outputs": [],
   "source": [
    "# Limpiar fechas fees['created_at']\n",
    "fees['created_at'] = pd.to_datetime(fees['created_at'])\n",
    "fees['created_at'] = fees['created_at'].dt.date"
   ]
  },
  {
   "cell_type": "code",
   "execution_count": 14,
   "id": "11d6d2ea-9ced-4967-b67f-fb7a5ab01726",
   "metadata": {},
   "outputs": [],
   "source": [
    "# Limpiar fechas fees['updated_at']\n",
    "fees['updated_at'] = pd.to_datetime(fees['updated_at'])\n",
    "fees['updated_at'] = fees['updated_at'].dt.date"
   ]
  },
  {
   "cell_type": "code",
   "execution_count": 15,
   "id": "9edb2dcb-c5b6-43d4-a8de-65fd91828906",
   "metadata": {},
   "outputs": [],
   "source": [
    "#print(cash.shape[0])\n",
    "#print(len(cash['user_id'].value_counts()))\n",
    "#print(len(cash['user_id'].unique()))\n",
    "#print(cash['user_id'].isnull().sum())\n",
    "#cash.info()\n",
    "#user_id_cash['user_id'].isnull()\n",
    "# Check for missing values in the DataFrame\n",
    "#missing_values = pd.isnull(cash)\n",
    "#missing_values.sample(frac=0.1)\n",
    "#display(missing_values)"
   ]
  },
  {
   "cell_type": "code",
   "execution_count": 16,
   "id": "cca1ac55-a1cb-4b78-aed7-863a5ba2177b",
   "metadata": {},
   "outputs": [
    {
     "name": "stdout",
     "output_type": "stream",
     "text": [
      "<class 'pandas.core.series.Series'>\n"
     ]
    }
   ],
   "source": [
    "# Seleccionar una columnna (Series)\n",
    "s = cash['user_id']\n",
    "print(type(s))"
   ]
  },
  {
   "cell_type": "code",
   "execution_count": 17,
   "id": "1df5329f-7c63-4bdc-865a-3d12c06a1c11",
   "metadata": {},
   "outputs": [
    {
     "name": "stdout",
     "output_type": "stream",
     "text": [
      "<class 'pandas.core.frame.DataFrame'>\n"
     ]
    }
   ],
   "source": [
    "# Seleccionar columna como dataframe (DataFrame)\n",
    "df = cash[['user_id','deleted_account_id']]\n",
    "print(type(df))"
   ]
  },
  {
   "cell_type": "code",
   "execution_count": 22,
   "id": "42d0ce22-e9cd-4ff1-a1be-6c39de087dc6",
   "metadata": {},
   "outputs": [
    {
     "name": "stdout",
     "output_type": "stream",
     "text": [
      "<class 'pandas.core.frame.DataFrame'>\n",
      "RangeIndex: 21061 entries, 0 to 21060\n",
      "Data columns (total 7 columns):\n",
      " #   Column           Non-Null Count  Dtype  \n",
      "---  ------           --------------  -----  \n",
      " 0   id               21061 non-null  int64  \n",
      " 1   cash_request_id  21057 non-null  float64\n",
      " 2   type             21061 non-null  object \n",
      " 3   status           21061 non-null  object \n",
      " 4   total_amount     21061 non-null  float64\n",
      " 5   created_at       21061 non-null  object \n",
      " 6   updated_at       21061 non-null  object \n",
      "dtypes: float64(2), int64(1), object(4)\n",
      "memory usage: 1.1+ MB\n"
     ]
    },
    {
     "data": {
      "text/html": [
       "<div>\n",
       "<style scoped>\n",
       "    .dataframe tbody tr th:only-of-type {\n",
       "        vertical-align: middle;\n",
       "    }\n",
       "\n",
       "    .dataframe tbody tr th {\n",
       "        vertical-align: top;\n",
       "    }\n",
       "\n",
       "    .dataframe thead th {\n",
       "        text-align: right;\n",
       "    }\n",
       "</style>\n",
       "<table border=\"1\" class=\"dataframe\">\n",
       "  <thead>\n",
       "    <tr style=\"text-align: right;\">\n",
       "      <th></th>\n",
       "      <th>id</th>\n",
       "      <th>cash_request_id</th>\n",
       "      <th>type</th>\n",
       "      <th>status</th>\n",
       "      <th>total_amount</th>\n",
       "      <th>created_at</th>\n",
       "      <th>updated_at</th>\n",
       "    </tr>\n",
       "  </thead>\n",
       "  <tbody>\n",
       "    <tr>\n",
       "      <th>1911</th>\n",
       "      <td>2990</td>\n",
       "      <td>NaN</td>\n",
       "      <td>instant_payment</td>\n",
       "      <td>cancelled</td>\n",
       "      <td>5.0</td>\n",
       "      <td>2020-08-06</td>\n",
       "      <td>2020-11-04</td>\n",
       "    </tr>\n",
       "    <tr>\n",
       "      <th>1960</th>\n",
       "      <td>3124</td>\n",
       "      <td>NaN</td>\n",
       "      <td>instant_payment</td>\n",
       "      <td>cancelled</td>\n",
       "      <td>5.0</td>\n",
       "      <td>2020-08-08</td>\n",
       "      <td>2020-11-04</td>\n",
       "    </tr>\n",
       "    <tr>\n",
       "      <th>4605</th>\n",
       "      <td>5185</td>\n",
       "      <td>NaN</td>\n",
       "      <td>instant_payment</td>\n",
       "      <td>cancelled</td>\n",
       "      <td>5.0</td>\n",
       "      <td>2020-08-26</td>\n",
       "      <td>2020-11-04</td>\n",
       "    </tr>\n",
       "    <tr>\n",
       "      <th>11870</th>\n",
       "      <td>3590</td>\n",
       "      <td>NaN</td>\n",
       "      <td>instant_payment</td>\n",
       "      <td>cancelled</td>\n",
       "      <td>5.0</td>\n",
       "      <td>2020-08-12</td>\n",
       "      <td>2020-11-04</td>\n",
       "    </tr>\n",
       "  </tbody>\n",
       "</table>\n",
       "</div>"
      ],
      "text/plain": [
       "         id  cash_request_id             type     status  total_amount  \\\n",
       "1911   2990              NaN  instant_payment  cancelled           5.0   \n",
       "1960   3124              NaN  instant_payment  cancelled           5.0   \n",
       "4605   5185              NaN  instant_payment  cancelled           5.0   \n",
       "11870  3590              NaN  instant_payment  cancelled           5.0   \n",
       "\n",
       "       created_at  updated_at  \n",
       "1911   2020-08-06  2020-11-04  \n",
       "1960   2020-08-08  2020-11-04  \n",
       "4605   2020-08-26  2020-11-04  \n",
       "11870  2020-08-12  2020-11-04  "
      ]
     },
     "execution_count": 22,
     "metadata": {},
     "output_type": "execute_result"
    }
   ],
   "source": [
    "# Averiguar filas con Null en cash_request_id\n",
    "fees.info()\n",
    "fees[fees['cash_request_id'].isna()]"
   ]
  },
  {
   "cell_type": "code",
   "execution_count": 23,
   "id": "c53ad3c4",
   "metadata": {},
   "outputs": [
    {
     "name": "stdout",
     "output_type": "stream",
     "text": [
      "<class 'pandas.core.frame.DataFrame'>\n",
      "RangeIndex: 21061 entries, 0 to 21060\n",
      "Data columns (total 7 columns):\n",
      " #   Column           Non-Null Count  Dtype  \n",
      "---  ------           --------------  -----  \n",
      " 0   id               21061 non-null  int64  \n",
      " 1   cash_request_id  21057 non-null  float64\n",
      " 2   type             21061 non-null  object \n",
      " 3   status           21061 non-null  object \n",
      " 4   total_amount     21061 non-null  float64\n",
      " 5   created_at       21061 non-null  object \n",
      " 6   updated_at       21061 non-null  object \n",
      "dtypes: float64(2), int64(1), object(4)\n",
      "memory usage: 1.1+ MB\n"
     ]
    },
    {
     "data": {
      "text/html": [
       "<div>\n",
       "<style scoped>\n",
       "    .dataframe tbody tr th:only-of-type {\n",
       "        vertical-align: middle;\n",
       "    }\n",
       "\n",
       "    .dataframe tbody tr th {\n",
       "        vertical-align: top;\n",
       "    }\n",
       "\n",
       "    .dataframe thead th {\n",
       "        text-align: right;\n",
       "    }\n",
       "</style>\n",
       "<table border=\"1\" class=\"dataframe\">\n",
       "  <thead>\n",
       "    <tr style=\"text-align: right;\">\n",
       "      <th></th>\n",
       "      <th>id</th>\n",
       "      <th>cash_request_id</th>\n",
       "      <th>type</th>\n",
       "      <th>status</th>\n",
       "      <th>total_amount</th>\n",
       "      <th>created_at</th>\n",
       "      <th>updated_at</th>\n",
       "    </tr>\n",
       "  </thead>\n",
       "  <tbody>\n",
       "    <tr>\n",
       "      <th>1911</th>\n",
       "      <td>2990</td>\n",
       "      <td>NaN</td>\n",
       "      <td>instant_payment</td>\n",
       "      <td>cancelled</td>\n",
       "      <td>5.0</td>\n",
       "      <td>2020-08-06</td>\n",
       "      <td>2020-11-04</td>\n",
       "    </tr>\n",
       "    <tr>\n",
       "      <th>1960</th>\n",
       "      <td>3124</td>\n",
       "      <td>NaN</td>\n",
       "      <td>instant_payment</td>\n",
       "      <td>cancelled</td>\n",
       "      <td>5.0</td>\n",
       "      <td>2020-08-08</td>\n",
       "      <td>2020-11-04</td>\n",
       "    </tr>\n",
       "    <tr>\n",
       "      <th>4605</th>\n",
       "      <td>5185</td>\n",
       "      <td>NaN</td>\n",
       "      <td>instant_payment</td>\n",
       "      <td>cancelled</td>\n",
       "      <td>5.0</td>\n",
       "      <td>2020-08-26</td>\n",
       "      <td>2020-11-04</td>\n",
       "    </tr>\n",
       "    <tr>\n",
       "      <th>11870</th>\n",
       "      <td>3590</td>\n",
       "      <td>NaN</td>\n",
       "      <td>instant_payment</td>\n",
       "      <td>cancelled</td>\n",
       "      <td>5.0</td>\n",
       "      <td>2020-08-12</td>\n",
       "      <td>2020-11-04</td>\n",
       "    </tr>\n",
       "  </tbody>\n",
       "</table>\n",
       "</div>"
      ],
      "text/plain": [
       "         id  cash_request_id             type     status  total_amount  \\\n",
       "1911   2990              NaN  instant_payment  cancelled           5.0   \n",
       "1960   3124              NaN  instant_payment  cancelled           5.0   \n",
       "4605   5185              NaN  instant_payment  cancelled           5.0   \n",
       "11870  3590              NaN  instant_payment  cancelled           5.0   \n",
       "\n",
       "       created_at  updated_at  \n",
       "1911   2020-08-06  2020-11-04  \n",
       "1960   2020-08-08  2020-11-04  \n",
       "4605   2020-08-26  2020-11-04  \n",
       "11870  2020-08-12  2020-11-04  "
      ]
     },
     "execution_count": 23,
     "metadata": {},
     "output_type": "execute_result"
    }
   ],
   "source": [
    "# cash_request_id ya no tiene NaN!!!\n",
    "fees.info()\n",
    "fees[fees['cash_request_id'].isna()]"
   ]
  },
  {
   "cell_type": "markdown",
   "id": "2153fde5",
   "metadata": {},
   "source": [
    "### 1.? Cambio de cabecera 'id' <-> 'cash_request_id'"
   ]
  },
  {
   "cell_type": "markdown",
   "id": "955fce3c",
   "metadata": {},
   "source": [
    "# TO-DO: Justificar cambio de cabeceras"
   ]
  },
  {
   "cell_type": "code",
   "execution_count": 24,
   "id": "c050c38a-d2fd-447a-abd6-114cfb99d062",
   "metadata": {},
   "outputs": [
    {
     "data": {
      "text/html": [
       "<div>\n",
       "<style scoped>\n",
       "    .dataframe tbody tr th:only-of-type {\n",
       "        vertical-align: middle;\n",
       "    }\n",
       "\n",
       "    .dataframe tbody tr th {\n",
       "        vertical-align: top;\n",
       "    }\n",
       "\n",
       "    .dataframe thead th {\n",
       "        text-align: right;\n",
       "    }\n",
       "</style>\n",
       "<table border=\"1\" class=\"dataframe\">\n",
       "  <thead>\n",
       "    <tr style=\"text-align: right;\">\n",
       "      <th></th>\n",
       "      <th>id</th>\n",
       "      <th>cash_request_id</th>\n",
       "      <th>type</th>\n",
       "      <th>status</th>\n",
       "      <th>total_amount</th>\n",
       "      <th>created_at</th>\n",
       "      <th>updated_at</th>\n",
       "    </tr>\n",
       "  </thead>\n",
       "  <tbody>\n",
       "    <tr>\n",
       "      <th>0</th>\n",
       "      <td>6537</td>\n",
       "      <td>14941.0</td>\n",
       "      <td>instant_payment</td>\n",
       "      <td>rejected</td>\n",
       "      <td>5.0</td>\n",
       "      <td>2020-09-07</td>\n",
       "      <td>2020-10-13</td>\n",
       "    </tr>\n",
       "    <tr>\n",
       "      <th>1</th>\n",
       "      <td>6961</td>\n",
       "      <td>11714.0</td>\n",
       "      <td>incident</td>\n",
       "      <td>accepted</td>\n",
       "      <td>5.0</td>\n",
       "      <td>2020-09-09</td>\n",
       "      <td>2020-10-13</td>\n",
       "    </tr>\n",
       "    <tr>\n",
       "      <th>2</th>\n",
       "      <td>16296</td>\n",
       "      <td>23371.0</td>\n",
       "      <td>instant_payment</td>\n",
       "      <td>accepted</td>\n",
       "      <td>5.0</td>\n",
       "      <td>2020-10-23</td>\n",
       "      <td>2020-10-23</td>\n",
       "    </tr>\n",
       "    <tr>\n",
       "      <th>3</th>\n",
       "      <td>20775</td>\n",
       "      <td>26772.0</td>\n",
       "      <td>instant_payment</td>\n",
       "      <td>accepted</td>\n",
       "      <td>5.0</td>\n",
       "      <td>2020-10-31</td>\n",
       "      <td>2020-10-31</td>\n",
       "    </tr>\n",
       "    <tr>\n",
       "      <th>4</th>\n",
       "      <td>11242</td>\n",
       "      <td>19350.0</td>\n",
       "      <td>instant_payment</td>\n",
       "      <td>accepted</td>\n",
       "      <td>5.0</td>\n",
       "      <td>2020-10-06</td>\n",
       "      <td>2020-10-13</td>\n",
       "    </tr>\n",
       "  </tbody>\n",
       "</table>\n",
       "</div>"
      ],
      "text/plain": [
       "      id  cash_request_id             type    status  total_amount  \\\n",
       "0   6537          14941.0  instant_payment  rejected           5.0   \n",
       "1   6961          11714.0         incident  accepted           5.0   \n",
       "2  16296          23371.0  instant_payment  accepted           5.0   \n",
       "3  20775          26772.0  instant_payment  accepted           5.0   \n",
       "4  11242          19350.0  instant_payment  accepted           5.0   \n",
       "\n",
       "   created_at  updated_at  \n",
       "0  2020-09-07  2020-10-13  \n",
       "1  2020-09-09  2020-10-13  \n",
       "2  2020-10-23  2020-10-23  \n",
       "3  2020-10-31  2020-10-31  \n",
       "4  2020-10-06  2020-10-13  "
      ]
     },
     "execution_count": 24,
     "metadata": {},
     "output_type": "execute_result"
    }
   ],
   "source": [
    "# Previo al cambio de cabeceras\n",
    "fees.head()"
   ]
  },
  {
   "cell_type": "code",
   "execution_count": 25,
   "id": "9ec0b5f5-53b4-4b1e-b3f6-7ac72c1ad0d9",
   "metadata": {},
   "outputs": [],
   "source": [
    "# Intercambiar nombre de las columnas 'id' y 'cash_request_id' en la tabla fees\n",
    "fees = fees.rename(columns={'id': 'cash_request_id', 'cash_request_id': 'id'})"
   ]
  },
  {
   "cell_type": "code",
   "execution_count": 26,
   "id": "33d6c9a1-df81-444d-87e9-80b637aaf725",
   "metadata": {},
   "outputs": [
    {
     "data": {
      "text/html": [
       "<div>\n",
       "<style scoped>\n",
       "    .dataframe tbody tr th:only-of-type {\n",
       "        vertical-align: middle;\n",
       "    }\n",
       "\n",
       "    .dataframe tbody tr th {\n",
       "        vertical-align: top;\n",
       "    }\n",
       "\n",
       "    .dataframe thead th {\n",
       "        text-align: right;\n",
       "    }\n",
       "</style>\n",
       "<table border=\"1\" class=\"dataframe\">\n",
       "  <thead>\n",
       "    <tr style=\"text-align: right;\">\n",
       "      <th></th>\n",
       "      <th>cash_request_id</th>\n",
       "      <th>id</th>\n",
       "      <th>type</th>\n",
       "      <th>status</th>\n",
       "      <th>total_amount</th>\n",
       "      <th>created_at</th>\n",
       "      <th>updated_at</th>\n",
       "    </tr>\n",
       "  </thead>\n",
       "  <tbody>\n",
       "    <tr>\n",
       "      <th>0</th>\n",
       "      <td>6537</td>\n",
       "      <td>14941.0</td>\n",
       "      <td>instant_payment</td>\n",
       "      <td>rejected</td>\n",
       "      <td>5.0</td>\n",
       "      <td>2020-09-07</td>\n",
       "      <td>2020-10-13</td>\n",
       "    </tr>\n",
       "    <tr>\n",
       "      <th>1</th>\n",
       "      <td>6961</td>\n",
       "      <td>11714.0</td>\n",
       "      <td>incident</td>\n",
       "      <td>accepted</td>\n",
       "      <td>5.0</td>\n",
       "      <td>2020-09-09</td>\n",
       "      <td>2020-10-13</td>\n",
       "    </tr>\n",
       "    <tr>\n",
       "      <th>2</th>\n",
       "      <td>16296</td>\n",
       "      <td>23371.0</td>\n",
       "      <td>instant_payment</td>\n",
       "      <td>accepted</td>\n",
       "      <td>5.0</td>\n",
       "      <td>2020-10-23</td>\n",
       "      <td>2020-10-23</td>\n",
       "    </tr>\n",
       "    <tr>\n",
       "      <th>3</th>\n",
       "      <td>20775</td>\n",
       "      <td>26772.0</td>\n",
       "      <td>instant_payment</td>\n",
       "      <td>accepted</td>\n",
       "      <td>5.0</td>\n",
       "      <td>2020-10-31</td>\n",
       "      <td>2020-10-31</td>\n",
       "    </tr>\n",
       "    <tr>\n",
       "      <th>4</th>\n",
       "      <td>11242</td>\n",
       "      <td>19350.0</td>\n",
       "      <td>instant_payment</td>\n",
       "      <td>accepted</td>\n",
       "      <td>5.0</td>\n",
       "      <td>2020-10-06</td>\n",
       "      <td>2020-10-13</td>\n",
       "    </tr>\n",
       "  </tbody>\n",
       "</table>\n",
       "</div>"
      ],
      "text/plain": [
       "   cash_request_id       id             type    status  total_amount  \\\n",
       "0             6537  14941.0  instant_payment  rejected           5.0   \n",
       "1             6961  11714.0         incident  accepted           5.0   \n",
       "2            16296  23371.0  instant_payment  accepted           5.0   \n",
       "3            20775  26772.0  instant_payment  accepted           5.0   \n",
       "4            11242  19350.0  instant_payment  accepted           5.0   \n",
       "\n",
       "   created_at  updated_at  \n",
       "0  2020-09-07  2020-10-13  \n",
       "1  2020-09-09  2020-10-13  \n",
       "2  2020-10-23  2020-10-23  \n",
       "3  2020-10-31  2020-10-31  \n",
       "4  2020-10-06  2020-10-13  "
      ]
     },
     "execution_count": 26,
     "metadata": {},
     "output_type": "execute_result"
    }
   ],
   "source": [
    "# Después del cambio de cabeceras\n",
    "fees.head()"
   ]
  },
  {
   "cell_type": "markdown",
   "id": "56fc727f",
   "metadata": {},
   "source": [
    "### 1.? Obtener cohortes"
   ]
  },
  {
   "cell_type": "code",
   "execution_count": 27,
   "id": "37fa718f",
   "metadata": {},
   "outputs": [
    {
     "name": "stderr",
     "output_type": "stream",
     "text": [
      "/var/folders/3h/d4zpwm_x4qg78bc5337r4q240000gq/T/ipykernel_27776/1781315634.py:13: UserWarning: Converting to PeriodArray/Index representation will drop timezone information.\n",
      "  grouped1st['cohorte'] = grouped1st['created_at'].dt.to_period('M')\n"
     ]
    }
   ],
   "source": [
    "#cash.sample(5)\n",
    "#cash[cash['cash_request_id'].isna()]\n",
    "#grouped1st = cash[['id_usuario', 'created_at']].groupby('id_usuario').min().reset_index()\n",
    "#grouped1st['cohorte'] = grouped1st['created_at'].to_period('M')\n",
    "#print(grouped1st)\n",
    "\n",
    "#grouped1st = cash[['id_usuario', 'created_at']].groupby('id_usuario').min().reset_index()\n",
    "grouped1st = cash.pivot_table(\n",
    "    values = \"created_at\",\n",
    "    index = \"id_usuario\",\n",
    "    aggfunc = \"min\"\n",
    ")\n",
    "grouped1st['cohorte'] = grouped1st['created_at'].dt.to_period('M')\n",
    "#grouped1st.sample(10)\n",
    "\n",
    "#cash.sample(3)\n",
    "# for name, group in min_fecha:\n",
    "#     print(f\"Grupo: {name}\")\n",
    "#     print(group)\n",
    "#     print()\n",
    "\n",
    "# # Podriamos crear una columna extra, añadiencdo df_tips['zscore'] = df_tips.groupby('sex')['tip'].transform(zscore)\n",
    "# zscore = lambda x: (x - x.mean()) / x.std()\n",
    "# df_tips.groupby('sex')['tip'].transform(zscore)\n",
    "#cash[cash['id_usuario'] == min_fecha['id_usuario']]['cohorte'] = min_fecha[min_fecha['id_usuario'] == cash['id_usuario']].created_at.to_period('M')\n",
    "#cash['cohorte'] = cash['id_usuario'].copy()\n",
    "# print(min_fecha)\n",
    "\n"
   ]
  },
  {
   "cell_type": "code",
   "execution_count": 49,
   "id": "b31dc95a",
   "metadata": {},
   "outputs": [
    {
     "data": {
      "text/plain": [
       "(23970, 8)"
      ]
     },
     "execution_count": 49,
     "metadata": {},
     "output_type": "execute_result"
    }
   ],
   "source": [
    "cash.shape"
   ]
  },
  {
   "cell_type": "code",
   "execution_count": 52,
   "id": "f770dc61",
   "metadata": {},
   "outputs": [
    {
     "data": {
      "text/plain": [
       "id_usuario\n",
       "2142          21\n",
       "6334          19\n",
       "3377          19\n",
       "13851         18\n",
       "2530          17\n",
       "              ..\n",
       "44488          1\n",
       "44484          1\n",
       "44445          1\n",
       "44436          1\n",
       "103719         1\n",
       "Name: count, Length: 11793, dtype: int64"
      ]
     },
     "execution_count": 52,
     "metadata": {},
     "output_type": "execute_result"
    }
   ],
   "source": [
    "# 11793 usuarios distintos\n",
    "cash[['id_usuario']].value_counts()"
   ]
  },
  {
   "cell_type": "code",
   "execution_count": 50,
   "id": "9f28f973",
   "metadata": {},
   "outputs": [
    {
     "data": {
      "text/plain": [
       "(11793, 2)"
      ]
     },
     "execution_count": 50,
     "metadata": {},
     "output_type": "execute_result"
    }
   ],
   "source": [
    "grouped1st.shape"
   ]
  },
  {
   "cell_type": "code",
   "execution_count": 53,
   "id": "6072da28",
   "metadata": {},
   "outputs": [
    {
     "data": {
      "text/plain": [
       "11793"
      ]
     },
     "execution_count": 53,
     "metadata": {},
     "output_type": "execute_result"
    }
   ],
   "source": [
    "# Suma de todos los usuarios en todas las cohortes\n",
    "grouped1st.value_counts().sum()"
   ]
  },
  {
   "cell_type": "code",
   "execution_count": 30,
   "id": "be7cb7ff",
   "metadata": {},
   "outputs": [
    {
     "data": {
      "text/html": [
       "<div>\n",
       "<style scoped>\n",
       "    .dataframe tbody tr th:only-of-type {\n",
       "        vertical-align: middle;\n",
       "    }\n",
       "\n",
       "    .dataframe tbody tr th {\n",
       "        vertical-align: top;\n",
       "    }\n",
       "\n",
       "    .dataframe thead th {\n",
       "        text-align: right;\n",
       "    }\n",
       "</style>\n",
       "<table border=\"1\" class=\"dataframe\">\n",
       "  <thead>\n",
       "    <tr style=\"text-align: right;\">\n",
       "      <th></th>\n",
       "      <th>id</th>\n",
       "      <th>amount</th>\n",
       "      <th>status</th>\n",
       "      <th>created_at</th>\n",
       "      <th>user_id</th>\n",
       "      <th>deleted_account_id</th>\n",
       "      <th>reimbursement_date</th>\n",
       "      <th>id_usuario</th>\n",
       "      <th>cohorte</th>\n",
       "    </tr>\n",
       "  </thead>\n",
       "  <tbody>\n",
       "    <tr>\n",
       "      <th>0</th>\n",
       "      <td>5</td>\n",
       "      <td>100.0</td>\n",
       "      <td>rejected</td>\n",
       "      <td>2019-12-10 19:05:21.596873+00:00</td>\n",
       "      <td>804.0</td>\n",
       "      <td>NaN</td>\n",
       "      <td>2020-01-09</td>\n",
       "      <td>804</td>\n",
       "      <td>2019-12</td>\n",
       "    </tr>\n",
       "    <tr>\n",
       "      <th>1</th>\n",
       "      <td>70</td>\n",
       "      <td>100.0</td>\n",
       "      <td>rejected</td>\n",
       "      <td>2019-12-10 19:50:12.347780+00:00</td>\n",
       "      <td>231.0</td>\n",
       "      <td>NaN</td>\n",
       "      <td>2020-01-09</td>\n",
       "      <td>231</td>\n",
       "      <td>2019-12</td>\n",
       "    </tr>\n",
       "    <tr>\n",
       "      <th>2</th>\n",
       "      <td>7</td>\n",
       "      <td>100.0</td>\n",
       "      <td>rejected</td>\n",
       "      <td>2019-12-10 19:13:35.825460+00:00</td>\n",
       "      <td>191.0</td>\n",
       "      <td>NaN</td>\n",
       "      <td>2020-01-09</td>\n",
       "      <td>191</td>\n",
       "      <td>2019-12</td>\n",
       "    </tr>\n",
       "    <tr>\n",
       "      <th>3</th>\n",
       "      <td>10</td>\n",
       "      <td>99.0</td>\n",
       "      <td>rejected</td>\n",
       "      <td>2019-12-10 19:16:10.880172+00:00</td>\n",
       "      <td>761.0</td>\n",
       "      <td>NaN</td>\n",
       "      <td>2020-01-09</td>\n",
       "      <td>761</td>\n",
       "      <td>2019-12</td>\n",
       "    </tr>\n",
       "    <tr>\n",
       "      <th>4</th>\n",
       "      <td>1594</td>\n",
       "      <td>100.0</td>\n",
       "      <td>rejected</td>\n",
       "      <td>2020-05-06 09:59:38.877376+00:00</td>\n",
       "      <td>7686.0</td>\n",
       "      <td>NaN</td>\n",
       "      <td>2020-06-05</td>\n",
       "      <td>7686</td>\n",
       "      <td>2020-05</td>\n",
       "    </tr>\n",
       "  </tbody>\n",
       "</table>\n",
       "</div>"
      ],
      "text/plain": [
       "     id  amount    status                       created_at  user_id  \\\n",
       "0     5   100.0  rejected 2019-12-10 19:05:21.596873+00:00    804.0   \n",
       "1    70   100.0  rejected 2019-12-10 19:50:12.347780+00:00    231.0   \n",
       "2     7   100.0  rejected 2019-12-10 19:13:35.825460+00:00    191.0   \n",
       "3    10    99.0  rejected 2019-12-10 19:16:10.880172+00:00    761.0   \n",
       "4  1594   100.0  rejected 2020-05-06 09:59:38.877376+00:00   7686.0   \n",
       "\n",
       "   deleted_account_id reimbursement_date  id_usuario  cohorte  \n",
       "0                 NaN         2020-01-09         804  2019-12  \n",
       "1                 NaN         2020-01-09         231  2019-12  \n",
       "2                 NaN         2020-01-09         191  2019-12  \n",
       "3                 NaN         2020-01-09         761  2019-12  \n",
       "4                 NaN         2020-06-05        7686  2020-05  "
      ]
     },
     "execution_count": 30,
     "metadata": {},
     "output_type": "execute_result"
    }
   ],
   "source": [
    "cash_cohorts = pd.merge(cash, grouped1st[['cohorte']], on='id_usuario')\n",
    "cash_cohorts.head()\n"
   ]
  },
  {
   "cell_type": "code",
   "execution_count": 33,
   "id": "eec9d850",
   "metadata": {},
   "outputs": [
    {
     "name": "stdout",
     "output_type": "stream",
     "text": [
      "(23970, 8)\n",
      "(23970, 9)\n"
     ]
    }
   ],
   "source": [
    "print(cash.shape)\n",
    "print(cash_cohorts.shape)"
   ]
  },
  {
   "cell_type": "code",
   "execution_count": 126,
   "id": "24dff74a",
   "metadata": {},
   "outputs": [
    {
     "name": "stdout",
     "output_type": "stream",
     "text": [
      "<class 'pandas.core.frame.DataFrame'>\n",
      "RangeIndex: 23970 entries, 0 to 23969\n",
      "Data columns (total 10 columns):\n",
      " #   Column              Non-Null Count  Dtype              \n",
      "---  ------              --------------  -----              \n",
      " 0   id                  23970 non-null  int64              \n",
      " 1   amount              23970 non-null  float64            \n",
      " 2   status              23970 non-null  object             \n",
      " 3   created_at_x        23970 non-null  datetime64[ns, UTC]\n",
      " 4   user_id             21867 non-null  float64            \n",
      " 5   deleted_account_id  2104 non-null   float64            \n",
      " 6   reimbursement_date  23970 non-null  object             \n",
      " 7   id_usuario          23970 non-null  int64              \n",
      " 8   created_at_y        23970 non-null  datetime64[ns, UTC]\n",
      " 9   cohorte             23970 non-null  period[M]          \n",
      "dtypes: datetime64[ns, UTC](2), float64(3), int64(2), object(2), period[M](1)\n",
      "memory usage: 1.8+ MB\n"
     ]
    }
   ],
   "source": [
    "cash_cohorts.info()"
   ]
  },
  {
   "cell_type": "code",
   "execution_count": 69,
   "id": "46cafaa3",
   "metadata": {},
   "outputs": [
    {
     "name": "stdout",
     "output_type": "stream",
     "text": [
      "<class 'pandas.core.frame.DataFrame'>\n",
      "RangeIndex: 23970 entries, 0 to 23969\n",
      "Data columns (total 10 columns):\n",
      " #   Column              Non-Null Count  Dtype              \n",
      "---  ------              --------------  -----              \n",
      " 0   cash_request_id     23970 non-null  int64              \n",
      " 1   amount              23970 non-null  float64            \n",
      " 2   status              23970 non-null  object             \n",
      " 3   created_at          23970 non-null  datetime64[ns, UTC]\n",
      " 4   user_id             21867 non-null  float64            \n",
      " 5   deleted_account_id  2104 non-null   float64            \n",
      " 6   reimbursement_date  23970 non-null  object             \n",
      " 7   id_usuario          23970 non-null  int64              \n",
      " 8   cohorte             23970 non-null  object             \n",
      " 9   cohort_month        23970 non-null  period[M]          \n",
      "dtypes: datetime64[ns, UTC](1), float64(3), int64(2), object(3), period[M](1)\n",
      "memory usage: 1.8+ MB\n"
     ]
    }
   ],
   "source": [
    "#grouped_temp = cash_cohorts.groupby('id_usuario')['cohorte'].transform(lambda x : str(x))\n",
    "#print(grouped_temp.sum())\n",
    "#cash_cohorts.groupby('cohorte')['id_usuario'].count().reset_index(name='requests')\n",
    "    #cash_cohorts['cohort_month'] = cash_cohorts.groupby('id_usuario')['created_at'].transform('min').dt.to_period('M')\n",
    "#cash_cohorts = cash_cohorts.drop(['cohorte_str'], axis=1)\n",
    "    #cash_cohorts[['cash_request_id','id_usuario','cohorte','cohort_month']].sample(20)\n",
    "\n",
    "cash_cohorts['cohorte'] = cash_cohorts['cohorte'].astype(str)\n",
    "cash_cohorts.info()\n"
   ]
  },
  {
   "cell_type": "code",
   "execution_count": 96,
   "id": "25ff49a8",
   "metadata": {},
   "outputs": [
    {
     "name": "stdout",
     "output_type": "stream",
     "text": [
      "    cohorte  num_usuarios\n",
      "0   2019-11             1\n",
      "1   2019-12           254\n",
      "2   2020-01           106\n",
      "3   2020-02            90\n",
      "4   2020-03            86\n",
      "5   2020-04           246\n",
      "6   2020-05           432\n",
      "7   2020-06          1540\n",
      "8   2020-07          1482\n",
      "9   2020-08           728\n",
      "10  2020-09          1950\n",
      "11  2020-10          4802\n",
      "12  2020-11            76\n"
     ]
    }
   ],
   "source": [
    "# Número de usuarios por cohorte\n",
    "users_by_cohort = cash_cohorts.groupby('cohorte')['id_usuario'].nunique().reset_index()\n",
    "users_by_cohort.columns = ['cohorte','num_usuarios']\n",
    "print(users_by_cohort)"
   ]
  },
  {
   "cell_type": "code",
   "execution_count": 129,
   "id": "1964858d",
   "metadata": {},
   "outputs": [
    {
     "name": "stdout",
     "output_type": "stream",
     "text": [
      "Index(['2019-11', '2019-12', '2020-01', '2020-02', '2020-03', '2020-04',\n",
      "       '2020-05', '2020-06', '2020-07', '2020-08', '2020-09', '2020-10',\n",
      "       '2020-11'],\n",
      "      dtype='object', name='cohorte')\n"
     ]
    }
   ],
   "source": [
    "users_by_cohort.set_index('cohorte', inplace=True)\n",
    "print(users_by_cohort.index)"
   ]
  },
  {
   "cell_type": "code",
   "execution_count": 130,
   "id": "30741903",
   "metadata": {},
   "outputs": [
    {
     "data": {
      "text/plain": [
       "<Figure size 1000x600 with 0 Axes>"
      ]
     },
     "metadata": {},
     "output_type": "display_data"
    },
    {
     "data": {
      "image/png": "[encoded data removed]",
      "text/plain": [
       "<Figure size 640x480 with 1 Axes>"
      ]
     },
     "metadata": {},
     "output_type": "display_data"
    }
   ],
   "source": [
    "# Crear un gráfico de líneas para visualizar la frecuencia de uso por cohorte\n",
    "plt.figure(figsize=(10, 6))\n",
    "users_by_cohort.plot(kind='line', marker='o')\n",
    "plt.title('Frecuencia de Uso del Servicio por Cohorte')\n",
    "plt.xlabel('Cohorte (Mes/Año)')\n",
    "plt.ylabel('Frecuencia de Uso')\n",
    "plt.grid(True)\n",
    "plt.xticks(rotation=45)\n",
    "plt.tight_layout()\n",
    "plt.show()"
   ]
  },
  {
   "cell_type": "code",
   "execution_count": 116,
   "id": "ebbc0c93",
   "metadata": {},
   "outputs": [
    {
     "name": "stdout",
     "output_type": "stream",
     "text": [
      "    cohorte  num_transactions\n",
      "0   2019-11                 8\n",
      "1   2019-12              1080\n",
      "2   2020-01               354\n",
      "3   2020-02               441\n",
      "4   2020-03               371\n",
      "5   2020-04               952\n",
      "6   2020-05              1660\n",
      "7   2020-06              5266\n",
      "8   2020-07              4147\n",
      "9   2020-08              1632\n",
      "10  2020-09              2925\n",
      "11  2020-10              5058\n",
      "12  2020-11                76\n"
     ]
    }
   ],
   "source": [
    "# Frecuencia de uso del servicio por cohorte\n",
    "transactions_by_cohort = cash_cohorts.groupby('cohorte')['cash_request_id'].nunique().reset_index()\n",
    "transactions_by_cohort.columns = ['cohorte','num_transactions']\n",
    "print(transactions_by_cohort)"
   ]
  },
  {
   "cell_type": "code",
   "execution_count": 123,
   "id": "ba7e2fa0",
   "metadata": {},
   "outputs": [
    {
     "name": "stdout",
     "output_type": "stream",
     "text": [
      "Index(['2019-11', '2019-12', '2020-01', '2020-02', '2020-03', '2020-04',\n",
      "       '2020-05', '2020-06', '2020-07', '2020-08', '2020-09', '2020-10',\n",
      "       '2020-11'],\n",
      "      dtype='object', name='cohorte')\n"
     ]
    }
   ],
   "source": [
    "transactions_by_cohort.set_index('cohorte', inplace=True)\n",
    "print(transactions_by_cohort.index)"
   ]
  },
  {
   "cell_type": "code",
   "execution_count": 124,
   "id": "78d88436",
   "metadata": {},
   "outputs": [
    {
     "data": {
      "text/html": [
       "<div>\n",
       "<style scoped>\n",
       "    .dataframe tbody tr th:only-of-type {\n",
       "        vertical-align: middle;\n",
       "    }\n",
       "\n",
       "    .dataframe tbody tr th {\n",
       "        vertical-align: top;\n",
       "    }\n",
       "\n",
       "    .dataframe thead th {\n",
       "        text-align: right;\n",
       "    }\n",
       "</style>\n",
       "<table border=\"1\" class=\"dataframe\">\n",
       "  <thead>\n",
       "    <tr style=\"text-align: right;\">\n",
       "      <th></th>\n",
       "      <th>num_transactions</th>\n",
       "    </tr>\n",
       "    <tr>\n",
       "      <th>cohorte</th>\n",
       "      <th></th>\n",
       "    </tr>\n",
       "  </thead>\n",
       "  <tbody>\n",
       "    <tr>\n",
       "      <th>2019-11</th>\n",
       "      <td>8</td>\n",
       "    </tr>\n",
       "    <tr>\n",
       "      <th>2019-12</th>\n",
       "      <td>1080</td>\n",
       "    </tr>\n",
       "    <tr>\n",
       "      <th>2020-01</th>\n",
       "      <td>354</td>\n",
       "    </tr>\n",
       "    <tr>\n",
       "      <th>2020-02</th>\n",
       "      <td>441</td>\n",
       "    </tr>\n",
       "    <tr>\n",
       "      <th>2020-03</th>\n",
       "      <td>371</td>\n",
       "    </tr>\n",
       "    <tr>\n",
       "      <th>2020-04</th>\n",
       "      <td>952</td>\n",
       "    </tr>\n",
       "    <tr>\n",
       "      <th>2020-05</th>\n",
       "      <td>1660</td>\n",
       "    </tr>\n",
       "    <tr>\n",
       "      <th>2020-06</th>\n",
       "      <td>5266</td>\n",
       "    </tr>\n",
       "    <tr>\n",
       "      <th>2020-07</th>\n",
       "      <td>4147</td>\n",
       "    </tr>\n",
       "    <tr>\n",
       "      <th>2020-08</th>\n",
       "      <td>1632</td>\n",
       "    </tr>\n",
       "    <tr>\n",
       "      <th>2020-09</th>\n",
       "      <td>2925</td>\n",
       "    </tr>\n",
       "    <tr>\n",
       "      <th>2020-10</th>\n",
       "      <td>5058</td>\n",
       "    </tr>\n",
       "    <tr>\n",
       "      <th>2020-11</th>\n",
       "      <td>76</td>\n",
       "    </tr>\n",
       "  </tbody>\n",
       "</table>\n",
       "</div>"
      ],
      "text/plain": [
       "         num_transactions\n",
       "cohorte                  \n",
       "2019-11                 8\n",
       "2019-12              1080\n",
       "2020-01               354\n",
       "2020-02               441\n",
       "2020-03               371\n",
       "2020-04               952\n",
       "2020-05              1660\n",
       "2020-06              5266\n",
       "2020-07              4147\n",
       "2020-08              1632\n",
       "2020-09              2925\n",
       "2020-10              5058\n",
       "2020-11                76"
      ]
     },
     "execution_count": 124,
     "metadata": {},
     "output_type": "execute_result"
    }
   ],
   "source": [
    "transactions_by_cohort"
   ]
  },
  {
   "cell_type": "code",
   "execution_count": 128,
   "id": "6be319c9",
   "metadata": {},
   "outputs": [
    {
     "data": {
      "text/plain": [
       "<Figure size 1000x600 with 0 Axes>"
      ]
     },
     "metadata": {},
     "output_type": "display_data"
    },
    {
     "data": {
      "image/png": "[encoded data removed]",
      "text/plain": [
       "<Figure size 640x480 with 1 Axes>"
      ]
     },
     "metadata": {},
     "output_type": "display_data"
    }
   ],
   "source": [
    "# Crear un gráfico de líneas para visualizar la frecuencia de uso por cohorte\n",
    "plt.figure(figsize=(10, 6))\n",
    "transactions_by_cohort.plot(kind='line', marker='o')\n",
    "plt.title('Frecuencia de Uso del Servicio por Cohorte')\n",
    "plt.xlabel('Cohorte (Mes/Año)')\n",
    "plt.ylabel('Frecuencia de Uso')\n",
    "plt.grid(True)\n",
    "plt.xticks(rotation=45)\n",
    "plt.show()"
   ]
  },
  {
   "cell_type": "code",
   "execution_count": 131,
   "id": "eed5f27a",
   "metadata": {},
   "outputs": [
    {
     "name": "stderr",
     "output_type": "stream",
     "text": [
      "/var/folders/3h/d4zpwm_x4qg78bc5337r4q240000gq/T/ipykernel_27776/1513153265.py:1: UserWarning: Converting to PeriodArray/Index representation will drop timezone information.\n",
      "  cash_cohorts['created_at_month'] = cash_cohorts['created_at'].dt.to_period('M')\n"
     ]
    },
    {
     "data": {
      "text/html": [
       "<div>\n",
       "<style scoped>\n",
       "    .dataframe tbody tr th:only-of-type {\n",
       "        vertical-align: middle;\n",
       "    }\n",
       "\n",
       "    .dataframe tbody tr th {\n",
       "        vertical-align: top;\n",
       "    }\n",
       "\n",
       "    .dataframe thead th {\n",
       "        text-align: right;\n",
       "    }\n",
       "</style>\n",
       "<table border=\"1\" class=\"dataframe\">\n",
       "  <thead>\n",
       "    <tr style=\"text-align: right;\">\n",
       "      <th></th>\n",
       "      <th>cash_request_id</th>\n",
       "      <th>created_at_month</th>\n",
       "      <th>cohorte</th>\n",
       "      <th>id_usuario</th>\n",
       "    </tr>\n",
       "  </thead>\n",
       "  <tbody>\n",
       "    <tr>\n",
       "      <th>0</th>\n",
       "      <td>5</td>\n",
       "      <td>2019-12</td>\n",
       "      <td>2019-12</td>\n",
       "      <td>804</td>\n",
       "    </tr>\n",
       "    <tr>\n",
       "      <th>1</th>\n",
       "      <td>70</td>\n",
       "      <td>2019-12</td>\n",
       "      <td>2019-12</td>\n",
       "      <td>231</td>\n",
       "    </tr>\n",
       "    <tr>\n",
       "      <th>2</th>\n",
       "      <td>7</td>\n",
       "      <td>2019-12</td>\n",
       "      <td>2019-12</td>\n",
       "      <td>191</td>\n",
       "    </tr>\n",
       "    <tr>\n",
       "      <th>3</th>\n",
       "      <td>10</td>\n",
       "      <td>2019-12</td>\n",
       "      <td>2019-12</td>\n",
       "      <td>761</td>\n",
       "    </tr>\n",
       "    <tr>\n",
       "      <th>4</th>\n",
       "      <td>1594</td>\n",
       "      <td>2020-05</td>\n",
       "      <td>2020-05</td>\n",
       "      <td>7686</td>\n",
       "    </tr>\n",
       "    <tr>\n",
       "      <th>...</th>\n",
       "      <td>...</td>\n",
       "      <td>...</td>\n",
       "      <td>...</td>\n",
       "      <td>...</td>\n",
       "    </tr>\n",
       "    <tr>\n",
       "      <th>23965</th>\n",
       "      <td>20616</td>\n",
       "      <td>2020-10</td>\n",
       "      <td>2020-06</td>\n",
       "      <td>13681</td>\n",
       "    </tr>\n",
       "    <tr>\n",
       "      <th>23966</th>\n",
       "      <td>25243</td>\n",
       "      <td>2020-10</td>\n",
       "      <td>2020-10</td>\n",
       "      <td>30367</td>\n",
       "    </tr>\n",
       "    <tr>\n",
       "      <th>23967</th>\n",
       "      <td>22357</td>\n",
       "      <td>2020-10</td>\n",
       "      <td>2020-10</td>\n",
       "      <td>82122</td>\n",
       "    </tr>\n",
       "    <tr>\n",
       "      <th>23968</th>\n",
       "      <td>20256</td>\n",
       "      <td>2020-10</td>\n",
       "      <td>2020-10</td>\n",
       "      <td>64517</td>\n",
       "    </tr>\n",
       "    <tr>\n",
       "      <th>23969</th>\n",
       "      <td>19886</td>\n",
       "      <td>2020-10</td>\n",
       "      <td>2020-09</td>\n",
       "      <td>44867</td>\n",
       "    </tr>\n",
       "  </tbody>\n",
       "</table>\n",
       "<p>23970 rows × 4 columns</p>\n",
       "</div>"
      ],
      "text/plain": [
       "       cash_request_id created_at_month  cohorte  id_usuario\n",
       "0                    5          2019-12  2019-12         804\n",
       "1                   70          2019-12  2019-12         231\n",
       "2                    7          2019-12  2019-12         191\n",
       "3                   10          2019-12  2019-12         761\n",
       "4                 1594          2020-05  2020-05        7686\n",
       "...                ...              ...      ...         ...\n",
       "23965            20616          2020-10  2020-06       13681\n",
       "23966            25243          2020-10  2020-10       30367\n",
       "23967            22357          2020-10  2020-10       82122\n",
       "23968            20256          2020-10  2020-10       64517\n",
       "23969            19886          2020-10  2020-09       44867\n",
       "\n",
       "[23970 rows x 4 columns]"
      ]
     },
     "execution_count": 131,
     "metadata": {},
     "output_type": "execute_result"
    }
   ],
   "source": [
    "cash_cohorts['created_at_month'] = cash_cohorts['created_at'].dt.to_period('M')\n",
    "subset = ['cash_request_id','created_at_month','cohorte','id_usuario']\n",
    "cash_cohorts[subset]"
   ]
  },
  {
   "cell_type": "code",
   "execution_count": 148,
   "id": "c9c2d6cd",
   "metadata": {},
   "outputs": [
    {
     "name": "stdout",
     "output_type": "stream",
     "text": [
      "                  cohorte  num_transactions\n",
      "created_at_month                           \n",
      "2019-11           2019-11                 1\n",
      "2019-12           2019-11                 1\n",
      "2019-12           2019-12               288\n",
      "2020-01           2019-12               106\n",
      "2020-01           2020-01               117\n",
      "...                   ...               ...\n",
      "2020-11           2020-07                 7\n",
      "2020-11           2020-08                10\n",
      "2020-11           2020-09                20\n",
      "2020-11           2020-10                15\n",
      "2020-11           2020-11                76\n",
      "\n",
      "[83 rows x 2 columns]\n"
     ]
    }
   ],
   "source": [
    "# Frecuencia de uso del servicio por cohorte\n",
    "frequency_by_cohort = cash_cohorts[subset].groupby(['created_at_month','cohorte'])['cash_request_id'].count().reset_index()\n",
    "frequency_by_cohort.set_index('created_at_month', inplace=True)\n",
    "frequency_by_cohort.columns = ['cohorte','num_transactions']\n",
    "print(frequency_by_cohort)"
   ]
  },
  {
   "cell_type": "code",
   "execution_count": 150,
   "id": "286d91fb",
   "metadata": {},
   "outputs": [
    {
     "data": {
      "text/plain": [
       "23970"
      ]
     },
     "execution_count": 150,
     "metadata": {},
     "output_type": "execute_result"
    }
   ],
   "source": [
    "# Comprobación\n",
    "frequency_by_cohort['num_transactions'].sum()"
   ]
  },
  {
   "cell_type": "code",
   "execution_count": 151,
   "id": "f7c5af9a",
   "metadata": {},
   "outputs": [
    {
     "data": {
      "image/png": "[encoded data removed]",
      "text/plain": [
       "<Figure size 640x480 with 1 Axes>"
      ]
     },
     "metadata": {},
     "output_type": "display_data"
    }
   ],
   "source": [
    "# Crear gráfico!!!\n",
    "frequency_by_cohort.plot(kind=\"bar\")\n",
    "plt.xlabel(\"Months\", fontsize=15)\n",
    "plt.ylabel(\"Number of requests\", fontsize=15)\n",
    "plt.title(\"Number of requests by cohort\", fontsize=20)\n",
    "plt.show()"
   ]
  },
  {
   "cell_type": "markdown",
   "id": "2e72e3af",
   "metadata": {},
   "source": [
    "# Unir tablas cash y fees"
   ]
  },
  {
   "cell_type": "code",
   "execution_count": 35,
   "id": "e3a5698a",
   "metadata": {},
   "outputs": [
    {
     "data": {
      "text/plain": [
       "(23970, 9)"
      ]
     },
     "execution_count": 35,
     "metadata": {},
     "output_type": "execute_result"
    }
   ],
   "source": [
    "cash_cohorts.shape"
   ]
  },
  {
   "cell_type": "code",
   "execution_count": 36,
   "id": "7278f61f",
   "metadata": {},
   "outputs": [
    {
     "data": {
      "text/plain": [
       "(21061, 7)"
      ]
     },
     "execution_count": 36,
     "metadata": {},
     "output_type": "execute_result"
    }
   ],
   "source": [
    "fees.shape"
   ]
  },
  {
   "cell_type": "code",
   "execution_count": 38,
   "id": "86db94c2",
   "metadata": {},
   "outputs": [],
   "source": [
    "# Renombrar cash_cohorts['id'] como cash_cohorts['cash_request_id'] para poder hacer el merge con fees\n",
    "cash_cohorts = cash_cohorts.rename(columns={'id': 'cash_request_id'})"
   ]
  },
  {
   "cell_type": "code",
   "execution_count": null,
   "id": "7c742d60",
   "metadata": {},
   "outputs": [
    {
     "data": {
      "text/html": [
       "<div>\n",
       "<style scoped>\n",
       "    .dataframe tbody tr th:only-of-type {\n",
       "        vertical-align: middle;\n",
       "    }\n",
       "\n",
       "    .dataframe tbody tr th {\n",
       "        vertical-align: top;\n",
       "    }\n",
       "\n",
       "    .dataframe thead th {\n",
       "        text-align: right;\n",
       "    }\n",
       "</style>\n",
       "<table border=\"1\" class=\"dataframe\">\n",
       "  <thead>\n",
       "    <tr style=\"text-align: right;\">\n",
       "      <th></th>\n",
       "      <th>cash_request_id</th>\n",
       "      <th>amount</th>\n",
       "      <th>status_x</th>\n",
       "      <th>created_at_x</th>\n",
       "      <th>user_id</th>\n",
       "      <th>deleted_account_id</th>\n",
       "      <th>reimbursement_date</th>\n",
       "      <th>id_usuario</th>\n",
       "      <th>created_at_y</th>\n",
       "      <th>cohorte</th>\n",
       "      <th>id</th>\n",
       "      <th>type</th>\n",
       "      <th>status_y</th>\n",
       "      <th>total_amount</th>\n",
       "      <th>created_at</th>\n",
       "      <th>updated_at</th>\n",
       "    </tr>\n",
       "  </thead>\n",
       "  <tbody>\n",
       "    <tr>\n",
       "      <th>0</th>\n",
       "      <td>5</td>\n",
       "      <td>100.0</td>\n",
       "      <td>rejected</td>\n",
       "      <td>2019-12-10 19:05:21.596873+00:00</td>\n",
       "      <td>804.0</td>\n",
       "      <td>NaN</td>\n",
       "      <td>2020-01-09</td>\n",
       "      <td>804</td>\n",
       "      <td>2019-12-10 19:05:21.596873+00:00</td>\n",
       "      <td>2019-12</td>\n",
       "      <td>2568.0</td>\n",
       "      <td>postpone</td>\n",
       "      <td>accepted</td>\n",
       "      <td>5.0</td>\n",
       "      <td>2020-06-09</td>\n",
       "      <td>2020-10-13</td>\n",
       "    </tr>\n",
       "    <tr>\n",
       "      <th>1</th>\n",
       "      <td>70</td>\n",
       "      <td>100.0</td>\n",
       "      <td>rejected</td>\n",
       "      <td>2019-12-10 19:50:12.347780+00:00</td>\n",
       "      <td>231.0</td>\n",
       "      <td>NaN</td>\n",
       "      <td>2020-01-09</td>\n",
       "      <td>231</td>\n",
       "      <td>2019-12-10 19:50:12.347780+00:00</td>\n",
       "      <td>2019-12</td>\n",
       "      <td>1796.0</td>\n",
       "      <td>postpone</td>\n",
       "      <td>cancelled</td>\n",
       "      <td>5.0</td>\n",
       "      <td>2020-06-23</td>\n",
       "      <td>2020-10-13</td>\n",
       "    </tr>\n",
       "    <tr>\n",
       "      <th>2</th>\n",
       "      <td>7</td>\n",
       "      <td>100.0</td>\n",
       "      <td>rejected</td>\n",
       "      <td>2019-12-10 19:13:35.825460+00:00</td>\n",
       "      <td>191.0</td>\n",
       "      <td>NaN</td>\n",
       "      <td>2020-01-09</td>\n",
       "      <td>191</td>\n",
       "      <td>2019-12-10 19:13:35.825460+00:00</td>\n",
       "      <td>2019-12</td>\n",
       "      <td>1518.0</td>\n",
       "      <td>postpone</td>\n",
       "      <td>cancelled</td>\n",
       "      <td>5.0</td>\n",
       "      <td>2020-06-23</td>\n",
       "      <td>2020-10-13</td>\n",
       "    </tr>\n",
       "    <tr>\n",
       "      <th>3</th>\n",
       "      <td>10</td>\n",
       "      <td>99.0</td>\n",
       "      <td>rejected</td>\n",
       "      <td>2019-12-10 19:16:10.880172+00:00</td>\n",
       "      <td>761.0</td>\n",
       "      <td>NaN</td>\n",
       "      <td>2020-01-09</td>\n",
       "      <td>761</td>\n",
       "      <td>2019-12-10 19:16:10.880172+00:00</td>\n",
       "      <td>2019-12</td>\n",
       "      <td>2278.0</td>\n",
       "      <td>postpone</td>\n",
       "      <td>accepted</td>\n",
       "      <td>5.0</td>\n",
       "      <td>2020-05-30</td>\n",
       "      <td>2020-10-13</td>\n",
       "    </tr>\n",
       "    <tr>\n",
       "      <th>4</th>\n",
       "      <td>1594</td>\n",
       "      <td>100.0</td>\n",
       "      <td>rejected</td>\n",
       "      <td>2020-05-06 09:59:38.877376+00:00</td>\n",
       "      <td>7686.0</td>\n",
       "      <td>NaN</td>\n",
       "      <td>2020-06-05</td>\n",
       "      <td>7686</td>\n",
       "      <td>2020-05-06 09:59:38.877376+00:00</td>\n",
       "      <td>2020-05</td>\n",
       "      <td>4065.0</td>\n",
       "      <td>incident</td>\n",
       "      <td>accepted</td>\n",
       "      <td>5.0</td>\n",
       "      <td>2020-07-18</td>\n",
       "      <td>2020-10-13</td>\n",
       "    </tr>\n",
       "  </tbody>\n",
       "</table>\n",
       "</div>"
      ],
      "text/plain": [
       "   cash_request_id  amount  status_x                     created_at_x  \\\n",
       "0                5   100.0  rejected 2019-12-10 19:05:21.596873+00:00   \n",
       "1               70   100.0  rejected 2019-12-10 19:50:12.347780+00:00   \n",
       "2                7   100.0  rejected 2019-12-10 19:13:35.825460+00:00   \n",
       "3               10    99.0  rejected 2019-12-10 19:16:10.880172+00:00   \n",
       "4             1594   100.0  rejected 2020-05-06 09:59:38.877376+00:00   \n",
       "\n",
       "   user_id  deleted_account_id reimbursement_date  id_usuario  \\\n",
       "0    804.0                 NaN         2020-01-09         804   \n",
       "1    231.0                 NaN         2020-01-09         231   \n",
       "2    191.0                 NaN         2020-01-09         191   \n",
       "3    761.0                 NaN         2020-01-09         761   \n",
       "4   7686.0                 NaN         2020-06-05        7686   \n",
       "\n",
       "                      created_at_y  cohorte      id      type   status_y  \\\n",
       "0 2019-12-10 19:05:21.596873+00:00  2019-12  2568.0  postpone   accepted   \n",
       "1 2019-12-10 19:50:12.347780+00:00  2019-12  1796.0  postpone  cancelled   \n",
       "2 2019-12-10 19:13:35.825460+00:00  2019-12  1518.0  postpone  cancelled   \n",
       "3 2019-12-10 19:16:10.880172+00:00  2019-12  2278.0  postpone   accepted   \n",
       "4 2020-05-06 09:59:38.877376+00:00  2020-05  4065.0  incident   accepted   \n",
       "\n",
       "   total_amount  created_at  updated_at  \n",
       "0           5.0  2020-06-09  2020-10-13  \n",
       "1           5.0  2020-06-23  2020-10-13  \n",
       "2           5.0  2020-06-23  2020-10-13  \n",
       "3           5.0  2020-05-30  2020-10-13  \n",
       "4           5.0  2020-07-18  2020-10-13  "
      ]
     },
     "metadata": {},
     "output_type": "display_data"
    }
   ],
   "source": [
    "all = pd.merge(cash_cohorts, fees, on='cash_request_id')\n",
    "all.head()\n"
   ]
  },
  {
   "cell_type": "code",
   "execution_count": 149,
   "id": "9114dd75",
   "metadata": {},
   "outputs": [
    {
     "data": {
      "text/html": [
       "<div>\n",
       "<style scoped>\n",
       "    .dataframe tbody tr th:only-of-type {\n",
       "        vertical-align: middle;\n",
       "    }\n",
       "\n",
       "    .dataframe tbody tr th {\n",
       "        vertical-align: top;\n",
       "    }\n",
       "\n",
       "    .dataframe thead th {\n",
       "        text-align: right;\n",
       "    }\n",
       "</style>\n",
       "<table border=\"1\" class=\"dataframe\">\n",
       "  <thead>\n",
       "    <tr style=\"text-align: right;\">\n",
       "      <th></th>\n",
       "      <th>cash_request_id</th>\n",
       "      <th>amount</th>\n",
       "      <th>status_x</th>\n",
       "      <th>created_at_x</th>\n",
       "      <th>user_id</th>\n",
       "      <th>deleted_account_id</th>\n",
       "      <th>reimbursement_date</th>\n",
       "      <th>id_usuario</th>\n",
       "      <th>created_at_y</th>\n",
       "      <th>cohorte</th>\n",
       "      <th>id</th>\n",
       "      <th>type</th>\n",
       "      <th>status_y</th>\n",
       "      <th>total_amount</th>\n",
       "      <th>created_at</th>\n",
       "      <th>updated_at</th>\n",
       "    </tr>\n",
       "  </thead>\n",
       "  <tbody>\n",
       "    <tr>\n",
       "      <th>32</th>\n",
       "      <td>118</td>\n",
       "      <td>100.0</td>\n",
       "      <td>rejected</td>\n",
       "      <td>2019-12-12 14:14:14.131479+00:00</td>\n",
       "      <td>47.0</td>\n",
       "      <td>NaN</td>\n",
       "      <td>2019-12-19</td>\n",
       "      <td>47</td>\n",
       "      <td>2019-11-19 13:57:53.511561+00:00</td>\n",
       "      <td>2019-11</td>\n",
       "      <td>2362.0</td>\n",
       "      <td>postpone</td>\n",
       "      <td>accepted</td>\n",
       "      <td>5.0</td>\n",
       "      <td>2020-06-04</td>\n",
       "      <td>2020-10-13</td>\n",
       "    </tr>\n",
       "    <tr>\n",
       "      <th>403</th>\n",
       "      <td>1218</td>\n",
       "      <td>100.0</td>\n",
       "      <td>money_back</td>\n",
       "      <td>2020-04-16 08:42:15.429083+00:00</td>\n",
       "      <td>47.0</td>\n",
       "      <td>NaN</td>\n",
       "      <td>2020-04-30</td>\n",
       "      <td>47</td>\n",
       "      <td>2019-11-19 13:57:53.511561+00:00</td>\n",
       "      <td>2019-11</td>\n",
       "      <td>4047.0</td>\n",
       "      <td>incident</td>\n",
       "      <td>rejected</td>\n",
       "      <td>5.0</td>\n",
       "      <td>2020-07-08</td>\n",
       "      <td>2020-10-13</td>\n",
       "    </tr>\n",
       "    <tr>\n",
       "      <th>993</th>\n",
       "      <td>10942</td>\n",
       "      <td>10.0</td>\n",
       "      <td>money_back</td>\n",
       "      <td>2020-08-05 09:34:16.818322+00:00</td>\n",
       "      <td>47.0</td>\n",
       "      <td>NaN</td>\n",
       "      <td>2020-09-29</td>\n",
       "      <td>47</td>\n",
       "      <td>2019-11-19 13:57:53.511561+00:00</td>\n",
       "      <td>2019-11</td>\n",
       "      <td>18732.0</td>\n",
       "      <td>postpone</td>\n",
       "      <td>accepted</td>\n",
       "      <td>5.0</td>\n",
       "      <td>2020-10-05</td>\n",
       "      <td>2020-10-13</td>\n",
       "    </tr>\n",
       "    <tr>\n",
       "      <th>2580</th>\n",
       "      <td>1832</td>\n",
       "      <td>10.0</td>\n",
       "      <td>money_back</td>\n",
       "      <td>2020-05-15 16:04:10.449840+00:00</td>\n",
       "      <td>47.0</td>\n",
       "      <td>NaN</td>\n",
       "      <td>2020-09-17</td>\n",
       "      <td>47</td>\n",
       "      <td>2019-11-19 13:57:53.511561+00:00</td>\n",
       "      <td>2019-11</td>\n",
       "      <td>3555.0</td>\n",
       "      <td>postpone</td>\n",
       "      <td>cancelled</td>\n",
       "      <td>5.0</td>\n",
       "      <td>2020-07-23</td>\n",
       "      <td>2020-10-13</td>\n",
       "    </tr>\n",
       "    <tr>\n",
       "      <th>7696</th>\n",
       "      <td>3</td>\n",
       "      <td>1.0</td>\n",
       "      <td>canceled</td>\n",
       "      <td>2019-11-19 13:57:53.511561+00:00</td>\n",
       "      <td>47.0</td>\n",
       "      <td>NaN</td>\n",
       "      <td>2019-12-05</td>\n",
       "      <td>47</td>\n",
       "      <td>2019-11-19 13:57:53.511561+00:00</td>\n",
       "      <td>2019-11</td>\n",
       "      <td>2069.0</td>\n",
       "      <td>postpone</td>\n",
       "      <td>accepted</td>\n",
       "      <td>5.0</td>\n",
       "      <td>2020-06-23</td>\n",
       "      <td>2020-10-13</td>\n",
       "    </tr>\n",
       "    <tr>\n",
       "      <th>15377</th>\n",
       "      <td>17314</td>\n",
       "      <td>5.0</td>\n",
       "      <td>money_back</td>\n",
       "      <td>2020-09-22 16:03:24.612340+00:00</td>\n",
       "      <td>47.0</td>\n",
       "      <td>NaN</td>\n",
       "      <td>2020-10-16</td>\n",
       "      <td>47</td>\n",
       "      <td>2019-11-19 13:57:53.511561+00:00</td>\n",
       "      <td>2019-11</td>\n",
       "      <td>24266.0</td>\n",
       "      <td>instant_payment</td>\n",
       "      <td>accepted</td>\n",
       "      <td>5.0</td>\n",
       "      <td>2020-10-25</td>\n",
       "      <td>2020-10-25</td>\n",
       "    </tr>\n",
       "    <tr>\n",
       "      <th>17036</th>\n",
       "      <td>21042</td>\n",
       "      <td>5.0</td>\n",
       "      <td>money_back</td>\n",
       "      <td>2020-10-14 10:56:52.227355+00:00</td>\n",
       "      <td>47.0</td>\n",
       "      <td>NaN</td>\n",
       "      <td>2020-11-06</td>\n",
       "      <td>47</td>\n",
       "      <td>2019-11-19 13:57:53.511561+00:00</td>\n",
       "      <td>2019-11</td>\n",
       "      <td>26934.0</td>\n",
       "      <td>instant_payment</td>\n",
       "      <td>accepted</td>\n",
       "      <td>5.0</td>\n",
       "      <td>2020-11-01</td>\n",
       "      <td>2020-11-01</td>\n",
       "    </tr>\n",
       "  </tbody>\n",
       "</table>\n",
       "</div>"
      ],
      "text/plain": [
       "       cash_request_id  amount    status_x                     created_at_x  \\\n",
       "32                 118   100.0    rejected 2019-12-12 14:14:14.131479+00:00   \n",
       "403               1218   100.0  money_back 2020-04-16 08:42:15.429083+00:00   \n",
       "993              10942    10.0  money_back 2020-08-05 09:34:16.818322+00:00   \n",
       "2580              1832    10.0  money_back 2020-05-15 16:04:10.449840+00:00   \n",
       "7696                 3     1.0    canceled 2019-11-19 13:57:53.511561+00:00   \n",
       "15377            17314     5.0  money_back 2020-09-22 16:03:24.612340+00:00   \n",
       "17036            21042     5.0  money_back 2020-10-14 10:56:52.227355+00:00   \n",
       "\n",
       "       user_id  deleted_account_id reimbursement_date  id_usuario  \\\n",
       "32        47.0                 NaN         2019-12-19          47   \n",
       "403       47.0                 NaN         2020-04-30          47   \n",
       "993       47.0                 NaN         2020-09-29          47   \n",
       "2580      47.0                 NaN         2020-09-17          47   \n",
       "7696      47.0                 NaN         2019-12-05          47   \n",
       "15377     47.0                 NaN         2020-10-16          47   \n",
       "17036     47.0                 NaN         2020-11-06          47   \n",
       "\n",
       "                          created_at_y  cohorte       id             type  \\\n",
       "32    2019-11-19 13:57:53.511561+00:00  2019-11   2362.0         postpone   \n",
       "403   2019-11-19 13:57:53.511561+00:00  2019-11   4047.0         incident   \n",
       "993   2019-11-19 13:57:53.511561+00:00  2019-11  18732.0         postpone   \n",
       "2580  2019-11-19 13:57:53.511561+00:00  2019-11   3555.0         postpone   \n",
       "7696  2019-11-19 13:57:53.511561+00:00  2019-11   2069.0         postpone   \n",
       "15377 2019-11-19 13:57:53.511561+00:00  2019-11  24266.0  instant_payment   \n",
       "17036 2019-11-19 13:57:53.511561+00:00  2019-11  26934.0  instant_payment   \n",
       "\n",
       "        status_y  total_amount  created_at  updated_at  \n",
       "32      accepted           5.0  2020-06-04  2020-10-13  \n",
       "403     rejected           5.0  2020-07-08  2020-10-13  \n",
       "993     accepted           5.0  2020-10-05  2020-10-13  \n",
       "2580   cancelled           5.0  2020-07-23  2020-10-13  \n",
       "7696    accepted           5.0  2020-06-23  2020-10-13  \n",
       "15377   accepted           5.0  2020-10-25  2020-10-25  \n",
       "17036   accepted           5.0  2020-11-01  2020-11-01  "
      ]
     },
     "execution_count": 149,
     "metadata": {},
     "output_type": "execute_result"
    }
   ],
   "source": [
    "all.groupby('cohorte')['id_usuario'].count().reset_index(name='requests')\n",
    "all[all['cohorte'] == '2019-11']"
   ]
  },
  {
   "cell_type": "code",
   "execution_count": 144,
   "id": "5f284c9c",
   "metadata": {},
   "outputs": [
    {
     "data": {
      "text/html": [
       "<div>\n",
       "<style scoped>\n",
       "    .dataframe tbody tr th:only-of-type {\n",
       "        vertical-align: middle;\n",
       "    }\n",
       "\n",
       "    .dataframe tbody tr th {\n",
       "        vertical-align: top;\n",
       "    }\n",
       "\n",
       "    .dataframe thead th {\n",
       "        text-align: right;\n",
       "    }\n",
       "</style>\n",
       "<table border=\"1\" class=\"dataframe\">\n",
       "  <thead>\n",
       "    <tr style=\"text-align: right;\">\n",
       "      <th></th>\n",
       "      <th>cohorte</th>\n",
       "      <th>requests</th>\n",
       "    </tr>\n",
       "  </thead>\n",
       "  <tbody>\n",
       "    <tr>\n",
       "      <th>0</th>\n",
       "      <td>2019-11</td>\n",
       "      <td>8</td>\n",
       "    </tr>\n",
       "    <tr>\n",
       "      <th>1</th>\n",
       "      <td>2019-12</td>\n",
       "      <td>1080</td>\n",
       "    </tr>\n",
       "    <tr>\n",
       "      <th>2</th>\n",
       "      <td>2020-01</td>\n",
       "      <td>354</td>\n",
       "    </tr>\n",
       "    <tr>\n",
       "      <th>3</th>\n",
       "      <td>2020-02</td>\n",
       "      <td>441</td>\n",
       "    </tr>\n",
       "    <tr>\n",
       "      <th>4</th>\n",
       "      <td>2020-03</td>\n",
       "      <td>371</td>\n",
       "    </tr>\n",
       "    <tr>\n",
       "      <th>5</th>\n",
       "      <td>2020-04</td>\n",
       "      <td>952</td>\n",
       "    </tr>\n",
       "    <tr>\n",
       "      <th>6</th>\n",
       "      <td>2020-05</td>\n",
       "      <td>1660</td>\n",
       "    </tr>\n",
       "    <tr>\n",
       "      <th>7</th>\n",
       "      <td>2020-06</td>\n",
       "      <td>5266</td>\n",
       "    </tr>\n",
       "    <tr>\n",
       "      <th>8</th>\n",
       "      <td>2020-07</td>\n",
       "      <td>4147</td>\n",
       "    </tr>\n",
       "    <tr>\n",
       "      <th>9</th>\n",
       "      <td>2020-08</td>\n",
       "      <td>1632</td>\n",
       "    </tr>\n",
       "    <tr>\n",
       "      <th>10</th>\n",
       "      <td>2020-09</td>\n",
       "      <td>2925</td>\n",
       "    </tr>\n",
       "    <tr>\n",
       "      <th>11</th>\n",
       "      <td>2020-10</td>\n",
       "      <td>5058</td>\n",
       "    </tr>\n",
       "    <tr>\n",
       "      <th>12</th>\n",
       "      <td>2020-11</td>\n",
       "      <td>76</td>\n",
       "    </tr>\n",
       "  </tbody>\n",
       "</table>\n",
       "</div>"
      ],
      "text/plain": [
       "    cohorte  requests\n",
       "0   2019-11         8\n",
       "1   2019-12      1080\n",
       "2   2020-01       354\n",
       "3   2020-02       441\n",
       "4   2020-03       371\n",
       "5   2020-04       952\n",
       "6   2020-05      1660\n",
       "7   2020-06      5266\n",
       "8   2020-07      4147\n",
       "9   2020-08      1632\n",
       "10  2020-09      2925\n",
       "11  2020-10      5058\n",
       "12  2020-11        76"
      ]
     },
     "execution_count": 144,
     "metadata": {},
     "output_type": "execute_result"
    }
   ],
   "source": [
    "cash_cohorts.groupby('cohorte')['cash_request_id'].count().reset_index(name='requests')"
   ]
  },
  {
   "cell_type": "markdown",
   "id": "8135249b",
   "metadata": {},
   "source": [
    "### 1.?  Frecuencia de uso del servicio"
   ]
  },
  {
   "cell_type": "code",
   "execution_count": 142,
   "id": "5f837b81",
   "metadata": {},
   "outputs": [
    {
     "data": {
      "text/plain": [
       "cohorte\n",
       "2019-11       8\n",
       "2019-12    1080\n",
       "2020-01     354\n",
       "2020-02     441\n",
       "2020-03     371\n",
       "Freq: M, Name: frecuencia, dtype: int64"
      ]
     },
     "execution_count": 142,
     "metadata": {},
     "output_type": "execute_result"
    }
   ],
   "source": [
    "#frecuencia_uso = cash_cohorts.groupby(['cohorte'])['id_usuario'].count().reset_index(name='frecuencia')\n",
    "frecuencia_uso = cash_cohorts.groupby(['cohorte','id_usuario'])['created_at_x'].count().reset_index(name='frecuencia')\n",
    "frecuencia_uso = frecuencia_uso.groupby('cohorte')['frecuencia'].sum()\n",
    "frecuencia_uso.head()"
   ]
  },
  {
   "cell_type": "code",
   "execution_count": 131,
   "id": "644d3501",
   "metadata": {},
   "outputs": [
    {
     "data": {
      "text/html": [
       "<div>\n",
       "<style scoped>\n",
       "    .dataframe tbody tr th:only-of-type {\n",
       "        vertical-align: middle;\n",
       "    }\n",
       "\n",
       "    .dataframe tbody tr th {\n",
       "        vertical-align: top;\n",
       "    }\n",
       "\n",
       "    .dataframe thead th {\n",
       "        text-align: right;\n",
       "    }\n",
       "</style>\n",
       "<table border=\"1\" class=\"dataframe\">\n",
       "  <thead>\n",
       "    <tr style=\"text-align: right;\">\n",
       "      <th></th>\n",
       "      <th>cohorte</th>\n",
       "      <th>frecuencia</th>\n",
       "    </tr>\n",
       "  </thead>\n",
       "  <tbody>\n",
       "    <tr>\n",
       "      <th>0</th>\n",
       "      <td>2019-11</td>\n",
       "      <td>8</td>\n",
       "    </tr>\n",
       "    <tr>\n",
       "      <th>1</th>\n",
       "      <td>2019-12</td>\n",
       "      <td>1080</td>\n",
       "    </tr>\n",
       "    <tr>\n",
       "      <th>2</th>\n",
       "      <td>2020-01</td>\n",
       "      <td>354</td>\n",
       "    </tr>\n",
       "    <tr>\n",
       "      <th>3</th>\n",
       "      <td>2020-02</td>\n",
       "      <td>441</td>\n",
       "    </tr>\n",
       "    <tr>\n",
       "      <th>4</th>\n",
       "      <td>2020-03</td>\n",
       "      <td>371</td>\n",
       "    </tr>\n",
       "    <tr>\n",
       "      <th>5</th>\n",
       "      <td>2020-04</td>\n",
       "      <td>952</td>\n",
       "    </tr>\n",
       "    <tr>\n",
       "      <th>6</th>\n",
       "      <td>2020-05</td>\n",
       "      <td>1660</td>\n",
       "    </tr>\n",
       "    <tr>\n",
       "      <th>7</th>\n",
       "      <td>2020-06</td>\n",
       "      <td>5266</td>\n",
       "    </tr>\n",
       "    <tr>\n",
       "      <th>8</th>\n",
       "      <td>2020-07</td>\n",
       "      <td>4147</td>\n",
       "    </tr>\n",
       "    <tr>\n",
       "      <th>9</th>\n",
       "      <td>2020-08</td>\n",
       "      <td>1632</td>\n",
       "    </tr>\n",
       "    <tr>\n",
       "      <th>10</th>\n",
       "      <td>2020-09</td>\n",
       "      <td>2925</td>\n",
       "    </tr>\n",
       "    <tr>\n",
       "      <th>11</th>\n",
       "      <td>2020-10</td>\n",
       "      <td>5058</td>\n",
       "    </tr>\n",
       "    <tr>\n",
       "      <th>12</th>\n",
       "      <td>2020-11</td>\n",
       "      <td>76</td>\n",
       "    </tr>\n",
       "  </tbody>\n",
       "</table>\n",
       "</div>"
      ],
      "text/plain": [
       "    cohorte  frecuencia\n",
       "0   2019-11           8\n",
       "1   2019-12        1080\n",
       "2   2020-01         354\n",
       "3   2020-02         441\n",
       "4   2020-03         371\n",
       "5   2020-04         952\n",
       "6   2020-05        1660\n",
       "7   2020-06        5266\n",
       "8   2020-07        4147\n",
       "9   2020-08        1632\n",
       "10  2020-09        2925\n",
       "11  2020-10        5058\n",
       "12  2020-11          76"
      ]
     },
     "execution_count": 131,
     "metadata": {},
     "output_type": "execute_result"
    }
   ],
   "source": [
    "frecuencia_uso"
   ]
  },
  {
   "cell_type": "code",
   "execution_count": null,
   "metadata": {},
   "outputs": [
    {
     "name": "stdout",
     "output_type": "stream",
     "text": [
      "<class 'pandas.core.frame.DataFrame'>\n",
      "RangeIndex: 21061 entries, 0 to 21060\n",
      "Data columns (total 7 columns):\n",
      " #   Column           Non-Null Count  Dtype  \n",
      "---  ------           --------------  -----  \n",
      " 0   id               21061 non-null  int64  \n",
      " 1   cash_request_id  21057 non-null  float64\n",
      " 2   type             21061 non-null  object \n",
      " 3   status           21061 non-null  object \n",
      " 4   total_amount     21061 non-null  float64\n",
      " 5   created_at       21061 non-null  object \n",
      " 6   updated_at       21061 non-null  object \n",
      "dtypes: float64(2), int64(1), object(4)\n",
      "memory usage: 1.1+ MB\n"
     ]
    },
    {
     "data": {
      "text/html": [
       "<div>\n",
       "<style scoped>\n",
       "    .dataframe tbody tr th:only-of-type {\n",
       "        vertical-align: middle;\n",
       "    }\n",
       "\n",
       "    .dataframe tbody tr th {\n",
       "        vertical-align: top;\n",
       "    }\n",
       "\n",
       "    .dataframe thead th {\n",
       "        text-align: right;\n",
       "    }\n",
       "</style>\n",
       "<table border=\"1\" class=\"dataframe\">\n",
       "  <thead>\n",
       "    <tr style=\"text-align: right;\">\n",
       "      <th></th>\n",
       "      <th>id</th>\n",
       "      <th>cash_request_id</th>\n",
       "      <th>type</th>\n",
       "      <th>status</th>\n",
       "      <th>total_amount</th>\n",
       "      <th>created_at</th>\n",
       "      <th>updated_at</th>\n",
       "    </tr>\n",
       "  </thead>\n",
       "  <tbody>\n",
       "    <tr>\n",
       "      <th>1911</th>\n",
       "      <td>2990</td>\n",
       "      <td>NaN</td>\n",
       "      <td>instant_payment</td>\n",
       "      <td>cancelled</td>\n",
       "      <td>5.0</td>\n",
       "      <td>2020-08-06</td>\n",
       "      <td>2020-11-04</td>\n",
       "    </tr>\n",
       "    <tr>\n",
       "      <th>1960</th>\n",
       "      <td>3124</td>\n",
       "      <td>NaN</td>\n",
       "      <td>instant_payment</td>\n",
       "      <td>cancelled</td>\n",
       "      <td>5.0</td>\n",
       "      <td>2020-08-08</td>\n",
       "      <td>2020-11-04</td>\n",
       "    </tr>\n",
       "    <tr>\n",
       "      <th>4605</th>\n",
       "      <td>5185</td>\n",
       "      <td>NaN</td>\n",
       "      <td>instant_payment</td>\n",
       "      <td>cancelled</td>\n",
       "      <td>5.0</td>\n",
       "      <td>2020-08-26</td>\n",
       "      <td>2020-11-04</td>\n",
       "    </tr>\n",
       "    <tr>\n",
       "      <th>11870</th>\n",
       "      <td>3590</td>\n",
       "      <td>NaN</td>\n",
       "      <td>instant_payment</td>\n",
       "      <td>cancelled</td>\n",
       "      <td>5.0</td>\n",
       "      <td>2020-08-12</td>\n",
       "      <td>2020-11-04</td>\n",
       "    </tr>\n",
       "  </tbody>\n",
       "</table>\n",
       "</div>"
      ],
      "text/plain": [
       "         id  cash_request_id             type     status  total_amount  \\\n",
       "1911   2990              NaN  instant_payment  cancelled           5.0   \n",
       "1960   3124              NaN  instant_payment  cancelled           5.0   \n",
       "4605   5185              NaN  instant_payment  cancelled           5.0   \n",
       "11870  3590              NaN  instant_payment  cancelled           5.0   \n",
       "\n",
       "       created_at  updated_at  \n",
       "1911   2020-08-06  2020-11-04  \n",
       "1960   2020-08-08  2020-11-04  \n",
       "4605   2020-08-26  2020-11-04  \n",
       "11870  2020-08-12  2020-11-04  "
      ]
     },
     "metadata": {},
     "output_type": "display_data"
    }
   ],
   "source": [
    "# Averiguar filas con Null en cash_request_id\n",
    "fees.info()\n",
    "fees[fees['cash_request_id'].isna()]"
   ]
  },
  {
   "cell_type": "code",
   "execution_count": 47,
   "id": "82769a70",
   "metadata": {},
   "outputs": [
    {
     "data": {
      "text/html": [
       "<div>\n",
       "<style scoped>\n",
       "    .dataframe tbody tr th:only-of-type {\n",
       "        vertical-align: middle;\n",
       "    }\n",
       "\n",
       "    .dataframe tbody tr th {\n",
       "        vertical-align: top;\n",
       "    }\n",
       "\n",
       "    .dataframe thead th {\n",
       "        text-align: right;\n",
       "    }\n",
       "</style>\n",
       "<table border=\"1\" class=\"dataframe\">\n",
       "  <thead>\n",
       "    <tr style=\"text-align: right;\">\n",
       "      <th></th>\n",
       "      <th>cash_request_id</th>\n",
       "      <th>id</th>\n",
       "      <th>type</th>\n",
       "      <th>status</th>\n",
       "      <th>total_amount</th>\n",
       "      <th>created_at</th>\n",
       "      <th>updated_at</th>\n",
       "    </tr>\n",
       "  </thead>\n",
       "  <tbody>\n",
       "    <tr>\n",
       "      <th>9340</th>\n",
       "      <td>2355</td>\n",
       "      <td>9385.0</td>\n",
       "      <td>postpone</td>\n",
       "      <td>accepted</td>\n",
       "      <td>5.0</td>\n",
       "      <td>2020-07-30</td>\n",
       "      <td>2020-10-13</td>\n",
       "    </tr>\n",
       "    <tr>\n",
       "      <th>2851</th>\n",
       "      <td>9821</td>\n",
       "      <td>10177.0</td>\n",
       "      <td>postpone</td>\n",
       "      <td>accepted</td>\n",
       "      <td>5.0</td>\n",
       "      <td>2020-09-29</td>\n",
       "      <td>2020-10-13</td>\n",
       "    </tr>\n",
       "    <tr>\n",
       "      <th>7383</th>\n",
       "      <td>16835</td>\n",
       "      <td>20005.0</td>\n",
       "      <td>postpone</td>\n",
       "      <td>cancelled</td>\n",
       "      <td>5.0</td>\n",
       "      <td>2020-10-24</td>\n",
       "      <td>2020-10-24</td>\n",
       "    </tr>\n",
       "    <tr>\n",
       "      <th>7956</th>\n",
       "      <td>14410</td>\n",
       "      <td>21865.0</td>\n",
       "      <td>instant_payment</td>\n",
       "      <td>accepted</td>\n",
       "      <td>5.0</td>\n",
       "      <td>2020-10-17</td>\n",
       "      <td>2020-10-17</td>\n",
       "    </tr>\n",
       "    <tr>\n",
       "      <th>19918</th>\n",
       "      <td>13886</td>\n",
       "      <td>21454.0</td>\n",
       "      <td>instant_payment</td>\n",
       "      <td>accepted</td>\n",
       "      <td>5.0</td>\n",
       "      <td>2020-10-16</td>\n",
       "      <td>2020-10-16</td>\n",
       "    </tr>\n",
       "  </tbody>\n",
       "</table>\n",
       "</div>"
      ],
      "text/plain": [
       "       cash_request_id       id             type     status  total_amount  \\\n",
       "9340              2355   9385.0         postpone   accepted           5.0   \n",
       "2851              9821  10177.0         postpone   accepted           5.0   \n",
       "7383             16835  20005.0         postpone  cancelled           5.0   \n",
       "7956             14410  21865.0  instant_payment   accepted           5.0   \n",
       "19918            13886  21454.0  instant_payment   accepted           5.0   \n",
       "\n",
       "       created_at  updated_at  \n",
       "9340   2020-07-30  2020-10-13  \n",
       "2851   2020-09-29  2020-10-13  \n",
       "7383   2020-10-24  2020-10-24  \n",
       "7956   2020-10-17  2020-10-17  \n",
       "19918  2020-10-16  2020-10-16  "
      ]
     },
     "execution_count": 47,
     "metadata": {},
     "output_type": "execute_result"
    }
   ],
   "source": [
    "fees.sample(5)"
   ]
  },
  {
   "cell_type": "code",
   "execution_count": 76,
   "id": "f9bea362-09b6-49dc-bbdf-6964b8c299db",
   "metadata": {},
   "outputs": [],
   "source": [
    "# Cambiar tipo de datos de columna fees.id???\n",
    "# fees_ok['id'] = fees_ok['id'].astype(int)\n",
    "# cash['user_id'] = cash['user_id'].astype(int)\n",
    "# cash['deleted_account_id'] = cash['deleted_account_id'].astype(int)\n",
    "# cash.info()\n",
    "\n",
    "# CONCLUSION: IntCastingNaNError: Cannot convert non-finite values (NA or inf) to integer"
   ]
  },
  {
   "cell_type": "code",
   "execution_count": 40,
   "id": "8b22cbf1-19c8-4a7f-83d8-4638dbd39ad7",
   "metadata": {},
   "outputs": [
    {
     "data": {
      "image/png": "[encoded data removed]",
      "text/plain": [
       "<Figure size 800x600 with 1 Axes>"
      ]
     },
     "metadata": {},
     "output_type": "display_data"
    }
   ],
   "source": [
    "import matplotlib.pyplot as plt\n",
    "import seaborn as sns\n",
    "\n",
    "# Para la columna 'amount', por ejemplo:\n",
    "Q1 = cash['amount'].quantile(0.25)\n",
    "Q3 = cash['amount'].quantile(0.75)\n",
    "IQR = Q3 - Q1\n",
    "# Definir el rango para detectar outliers\n",
    "lower_bound = Q1 - 1.5 * IQR\n",
    "upper_bound = Q3 + 1.5 * IQR\n",
    "# Filtrar los datos sin outliers\n",
    "filtered_cash = cash[(cash['amount'] >= lower_bound) & (cash['amount'] <= upper_bound)]\n",
    "\n",
    "plt.figure(figsize=(8, 6))\n",
    "sns.boxplot(x=cash['amount'])\n",
    "plt.title('Boxplot de Amount para detectar Outliers')\n",
    "plt.show()"
   ]
  },
  {
   "cell_type": "code",
   "execution_count": null,
   "id": "4993f245-f1e3-4032-941d-b4df7ce9babf",
   "metadata": {},
   "outputs": [],
   "source": []
  }
 ],
 "metadata": {
  "kernelspec": {
   "display_name": "base",
   "language": "python",
   "name": "python3"
  },
  "language_info": {
   "codemirror_mode": {
    "name": "ipython",
    "version": 3
   },
   "file_extension": ".py",
   "mimetype": "text/x-python",
   "name": "python",
   "nbconvert_exporter": "python",
   "pygments_lexer": "ipython3",
   "version": "3.12.4"
  }
 },
 "nbformat": 4,
 "nbformat_minor": 5
}
