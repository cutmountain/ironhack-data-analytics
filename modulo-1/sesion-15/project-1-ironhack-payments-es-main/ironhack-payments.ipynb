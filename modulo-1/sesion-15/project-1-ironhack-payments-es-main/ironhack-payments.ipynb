{
 "cells": [
  {
   "cell_type": "markdown",
   "id": "b9f3c1b8-c8cd-4d38-927a-d3314d61296d",
   "metadata": {},
   "source": [
    "# Desafío Empresarial: Análisis de Cohortes para los Pagos de Ironhack (Proyecto 1)"
   ]
  },
  {
   "cell_type": "markdown",
   "id": "9acc1c8e",
   "metadata": {},
   "source": [
    "##### Setup: cargar librerías necesarias"
   ]
  },
  {
   "cell_type": "code",
   "execution_count": 122,
   "id": "ab976745-143e-4fd8-bd5b-575f2f85d831",
   "metadata": {},
   "outputs": [],
   "source": [
    "# Importing the NumPy library for numerical operations (as np)\n",
    "import numpy as np\n",
    "# Importing the Pandas library for data manipulation and analysis (as pd)\n",
    "import pandas as pd\n",
    "\n",
    "# Importing the Seaborn library for advanced data visualization (as sns)\n",
    "import seaborn as sns\n",
    "# Importing the Matplotlib library for basic plotting functionalities (as plt)\n",
    "import matplotlib.pyplot as plt"
   ]
  },
  {
   "cell_type": "markdown",
   "id": "fba1f78f",
   "metadata": {},
   "source": [
    "#####  Setup: ajustes de visualización para los gráficos"
   ]
  },
  {
   "cell_type": "code",
   "execution_count": 123,
   "id": "c70bff6d",
   "metadata": {},
   "outputs": [],
   "source": [
    "# Matplotlib inline to visualize Matplotlib graphs\n",
    "%matplotlib inline\n",
    "\n",
    "# Configuration to set so that all the Seaborn figures come out with this size\n",
    "%config Inlinebackend.figure_format= 'retina'"
   ]
  },
  {
   "cell_type": "code",
   "execution_count": 124,
   "id": "91203301",
   "metadata": {},
   "outputs": [],
   "source": [
    "# Set the Seaborn context to \"poster\" for larger text and figures\n",
    "sns.set_context(\"poster\")\n",
    "\n",
    "# Set the default figure size for Seaborn plots\n",
    "sns.set(rc={\"figure.figsize\": (12., 6.)})\n",
    "\n",
    "# Set the Seaborn style to \"whitegrid\" for a white background with gridlines\n",
    "sns.set_style(\"whitegrid\")"
   ]
  },
  {
   "cell_type": "markdown",
   "id": "cf15dc49-d2fb-4da3-acff-3d0d82814b60",
   "metadata": {},
   "source": [
    "## Análisis Exploratorio de Datos (EDA)"
   ]
  },
  {
   "cell_type": "markdown",
   "id": "e99ab340-49ce-4ff7-8655-8a3b0b299e85",
   "metadata": {},
   "source": [
    "### Carga inicial de datos"
   ]
  },
  {
   "cell_type": "code",
   "execution_count": 125,
   "id": "9b54b8ed-3821-4414-8cf4-4282369cf95b",
   "metadata": {},
   "outputs": [],
   "source": [
    "cash_orig = pd.read_csv('./project_dataset/extract - cash request - data analyst.csv')"
   ]
  },
  {
   "cell_type": "code",
   "execution_count": 258,
   "id": "8b37ec82-27cb-4980-8695-0aeb10919bdc",
   "metadata": {},
   "outputs": [],
   "source": [
    "fees_orig = pd.read_csv('./project_dataset/extract - fees - data analyst - .csv')"
   ]
  },
  {
   "cell_type": "markdown",
   "id": "5d2b8d09",
   "metadata": {},
   "source": [
    "### Visión general de datos"
   ]
  },
  {
   "cell_type": "code",
   "execution_count": 127,
   "id": "9666fa34",
   "metadata": {},
   "outputs": [
    {
     "data": {
      "text/html": [
       "<div>\n",
       "<style scoped>\n",
       "    .dataframe tbody tr th:only-of-type {\n",
       "        vertical-align: middle;\n",
       "    }\n",
       "\n",
       "    .dataframe tbody tr th {\n",
       "        vertical-align: top;\n",
       "    }\n",
       "\n",
       "    .dataframe thead th {\n",
       "        text-align: right;\n",
       "    }\n",
       "</style>\n",
       "<table border=\"1\" class=\"dataframe\">\n",
       "  <thead>\n",
       "    <tr style=\"text-align: right;\">\n",
       "      <th></th>\n",
       "      <th>id</th>\n",
       "      <th>amount</th>\n",
       "      <th>status</th>\n",
       "      <th>created_at</th>\n",
       "      <th>updated_at</th>\n",
       "      <th>user_id</th>\n",
       "      <th>moderated_at</th>\n",
       "      <th>deleted_account_id</th>\n",
       "      <th>reimbursement_date</th>\n",
       "      <th>cash_request_received_date</th>\n",
       "      <th>money_back_date</th>\n",
       "      <th>transfer_type</th>\n",
       "      <th>send_at</th>\n",
       "      <th>recovery_status</th>\n",
       "      <th>reco_creation</th>\n",
       "      <th>reco_last_update</th>\n",
       "    </tr>\n",
       "  </thead>\n",
       "  <tbody>\n",
       "    <tr>\n",
       "      <th>0</th>\n",
       "      <td>5</td>\n",
       "      <td>100.0</td>\n",
       "      <td>rejected</td>\n",
       "      <td>2019-12-10 19:05:21.596873+00</td>\n",
       "      <td>2019-12-11 16:47:42.40783+00</td>\n",
       "      <td>804.0</td>\n",
       "      <td>2019-12-11 16:47:42.405646+00</td>\n",
       "      <td>NaN</td>\n",
       "      <td>2020-01-09 19:05:21.596363+00</td>\n",
       "      <td>NaN</td>\n",
       "      <td>NaN</td>\n",
       "      <td>regular</td>\n",
       "      <td>NaN</td>\n",
       "      <td>NaN</td>\n",
       "      <td>NaN</td>\n",
       "      <td>NaN</td>\n",
       "    </tr>\n",
       "    <tr>\n",
       "      <th>1</th>\n",
       "      <td>70</td>\n",
       "      <td>100.0</td>\n",
       "      <td>rejected</td>\n",
       "      <td>2019-12-10 19:50:12.34778+00</td>\n",
       "      <td>2019-12-11 14:24:22.900054+00</td>\n",
       "      <td>231.0</td>\n",
       "      <td>2019-12-11 14:24:22.897988+00</td>\n",
       "      <td>NaN</td>\n",
       "      <td>2020-01-09 19:50:12.34778+00</td>\n",
       "      <td>NaN</td>\n",
       "      <td>NaN</td>\n",
       "      <td>regular</td>\n",
       "      <td>NaN</td>\n",
       "      <td>NaN</td>\n",
       "      <td>NaN</td>\n",
       "      <td>NaN</td>\n",
       "    </tr>\n",
       "    <tr>\n",
       "      <th>2</th>\n",
       "      <td>7</td>\n",
       "      <td>100.0</td>\n",
       "      <td>rejected</td>\n",
       "      <td>2019-12-10 19:13:35.82546+00</td>\n",
       "      <td>2019-12-11 09:46:59.779773+00</td>\n",
       "      <td>191.0</td>\n",
       "      <td>2019-12-11 09:46:59.777728+00</td>\n",
       "      <td>NaN</td>\n",
       "      <td>2020-01-09 19:13:35.825041+00</td>\n",
       "      <td>NaN</td>\n",
       "      <td>NaN</td>\n",
       "      <td>regular</td>\n",
       "      <td>NaN</td>\n",
       "      <td>NaN</td>\n",
       "      <td>NaN</td>\n",
       "      <td>NaN</td>\n",
       "    </tr>\n",
       "    <tr>\n",
       "      <th>3</th>\n",
       "      <td>10</td>\n",
       "      <td>99.0</td>\n",
       "      <td>rejected</td>\n",
       "      <td>2019-12-10 19:16:10.880172+00</td>\n",
       "      <td>2019-12-18 14:26:18.136163+00</td>\n",
       "      <td>761.0</td>\n",
       "      <td>2019-12-18 14:26:18.128407+00</td>\n",
       "      <td>NaN</td>\n",
       "      <td>2020-01-09 19:16:10.879606+00</td>\n",
       "      <td>NaN</td>\n",
       "      <td>NaN</td>\n",
       "      <td>regular</td>\n",
       "      <td>NaN</td>\n",
       "      <td>NaN</td>\n",
       "      <td>NaN</td>\n",
       "      <td>NaN</td>\n",
       "    </tr>\n",
       "    <tr>\n",
       "      <th>4</th>\n",
       "      <td>1594</td>\n",
       "      <td>100.0</td>\n",
       "      <td>rejected</td>\n",
       "      <td>2020-05-06 09:59:38.877376+00</td>\n",
       "      <td>2020-05-07 09:21:55.34008+00</td>\n",
       "      <td>7686.0</td>\n",
       "      <td>2020-05-07 09:21:55.320193+00</td>\n",
       "      <td>NaN</td>\n",
       "      <td>2020-06-05 22:00:00+00</td>\n",
       "      <td>NaN</td>\n",
       "      <td>NaN</td>\n",
       "      <td>regular</td>\n",
       "      <td>NaN</td>\n",
       "      <td>NaN</td>\n",
       "      <td>NaN</td>\n",
       "      <td>NaN</td>\n",
       "    </tr>\n",
       "  </tbody>\n",
       "</table>\n",
       "</div>"
      ],
      "text/plain": [
       "     id  amount    status                     created_at  \\\n",
       "0     5   100.0  rejected  2019-12-10 19:05:21.596873+00   \n",
       "1    70   100.0  rejected   2019-12-10 19:50:12.34778+00   \n",
       "2     7   100.0  rejected   2019-12-10 19:13:35.82546+00   \n",
       "3    10    99.0  rejected  2019-12-10 19:16:10.880172+00   \n",
       "4  1594   100.0  rejected  2020-05-06 09:59:38.877376+00   \n",
       "\n",
       "                      updated_at  user_id                   moderated_at  \\\n",
       "0   2019-12-11 16:47:42.40783+00    804.0  2019-12-11 16:47:42.405646+00   \n",
       "1  2019-12-11 14:24:22.900054+00    231.0  2019-12-11 14:24:22.897988+00   \n",
       "2  2019-12-11 09:46:59.779773+00    191.0  2019-12-11 09:46:59.777728+00   \n",
       "3  2019-12-18 14:26:18.136163+00    761.0  2019-12-18 14:26:18.128407+00   \n",
       "4   2020-05-07 09:21:55.34008+00   7686.0  2020-05-07 09:21:55.320193+00   \n",
       "\n",
       "   deleted_account_id             reimbursement_date  \\\n",
       "0                 NaN  2020-01-09 19:05:21.596363+00   \n",
       "1                 NaN   2020-01-09 19:50:12.34778+00   \n",
       "2                 NaN  2020-01-09 19:13:35.825041+00   \n",
       "3                 NaN  2020-01-09 19:16:10.879606+00   \n",
       "4                 NaN         2020-06-05 22:00:00+00   \n",
       "\n",
       "  cash_request_received_date money_back_date transfer_type send_at  \\\n",
       "0                        NaN             NaN       regular     NaN   \n",
       "1                        NaN             NaN       regular     NaN   \n",
       "2                        NaN             NaN       regular     NaN   \n",
       "3                        NaN             NaN       regular     NaN   \n",
       "4                        NaN             NaN       regular     NaN   \n",
       "\n",
       "  recovery_status reco_creation reco_last_update  \n",
       "0             NaN           NaN              NaN  \n",
       "1             NaN           NaN              NaN  \n",
       "2             NaN           NaN              NaN  \n",
       "3             NaN           NaN              NaN  \n",
       "4             NaN           NaN              NaN  "
      ]
     },
     "execution_count": 127,
     "metadata": {},
     "output_type": "execute_result"
    }
   ],
   "source": [
    "cash_orig.head()"
   ]
  },
  {
   "cell_type": "code",
   "execution_count": 128,
   "id": "d03775b3",
   "metadata": {},
   "outputs": [
    {
     "data": {
      "text/html": [
       "<div>\n",
       "<style scoped>\n",
       "    .dataframe tbody tr th:only-of-type {\n",
       "        vertical-align: middle;\n",
       "    }\n",
       "\n",
       "    .dataframe tbody tr th {\n",
       "        vertical-align: top;\n",
       "    }\n",
       "\n",
       "    .dataframe thead th {\n",
       "        text-align: right;\n",
       "    }\n",
       "</style>\n",
       "<table border=\"1\" class=\"dataframe\">\n",
       "  <thead>\n",
       "    <tr style=\"text-align: right;\">\n",
       "      <th></th>\n",
       "      <th>id</th>\n",
       "      <th>cash_request_id</th>\n",
       "      <th>type</th>\n",
       "      <th>status</th>\n",
       "      <th>category</th>\n",
       "      <th>total_amount</th>\n",
       "      <th>reason</th>\n",
       "      <th>created_at</th>\n",
       "      <th>updated_at</th>\n",
       "      <th>paid_at</th>\n",
       "      <th>from_date</th>\n",
       "      <th>to_date</th>\n",
       "      <th>charge_moment</th>\n",
       "    </tr>\n",
       "  </thead>\n",
       "  <tbody>\n",
       "    <tr>\n",
       "      <th>0</th>\n",
       "      <td>6537</td>\n",
       "      <td>14941.0</td>\n",
       "      <td>instant_payment</td>\n",
       "      <td>rejected</td>\n",
       "      <td>NaN</td>\n",
       "      <td>5.0</td>\n",
       "      <td>Instant Payment Cash Request 14941</td>\n",
       "      <td>2020-09-07 10:47:27.42315+00</td>\n",
       "      <td>2020-10-13 14:25:09.396112+00</td>\n",
       "      <td>2020-12-17 14:50:07.47011+00</td>\n",
       "      <td>NaN</td>\n",
       "      <td>NaN</td>\n",
       "      <td>after</td>\n",
       "    </tr>\n",
       "    <tr>\n",
       "      <th>1</th>\n",
       "      <td>6961</td>\n",
       "      <td>11714.0</td>\n",
       "      <td>incident</td>\n",
       "      <td>accepted</td>\n",
       "      <td>rejected_direct_debit</td>\n",
       "      <td>5.0</td>\n",
       "      <td>rejected direct debit</td>\n",
       "      <td>2020-09-09 20:51:17.998653+00</td>\n",
       "      <td>2020-10-13 14:25:15.537063+00</td>\n",
       "      <td>2020-12-08 17:13:10.45908+00</td>\n",
       "      <td>NaN</td>\n",
       "      <td>NaN</td>\n",
       "      <td>after</td>\n",
       "    </tr>\n",
       "    <tr>\n",
       "      <th>2</th>\n",
       "      <td>16296</td>\n",
       "      <td>23371.0</td>\n",
       "      <td>instant_payment</td>\n",
       "      <td>accepted</td>\n",
       "      <td>NaN</td>\n",
       "      <td>5.0</td>\n",
       "      <td>Instant Payment Cash Request 23371</td>\n",
       "      <td>2020-10-23 10:10:58.352972+00</td>\n",
       "      <td>2020-10-23 10:10:58.352994+00</td>\n",
       "      <td>2020-11-04 19:34:37.43291+00</td>\n",
       "      <td>NaN</td>\n",
       "      <td>NaN</td>\n",
       "      <td>after</td>\n",
       "    </tr>\n",
       "    <tr>\n",
       "      <th>3</th>\n",
       "      <td>20775</td>\n",
       "      <td>26772.0</td>\n",
       "      <td>instant_payment</td>\n",
       "      <td>accepted</td>\n",
       "      <td>NaN</td>\n",
       "      <td>5.0</td>\n",
       "      <td>Instant Payment Cash Request 26772</td>\n",
       "      <td>2020-10-31 15:46:53.643958+00</td>\n",
       "      <td>2020-10-31 15:46:53.643982+00</td>\n",
       "      <td>2020-11-19 05:09:22.500223+00</td>\n",
       "      <td>NaN</td>\n",
       "      <td>NaN</td>\n",
       "      <td>after</td>\n",
       "    </tr>\n",
       "    <tr>\n",
       "      <th>4</th>\n",
       "      <td>11242</td>\n",
       "      <td>19350.0</td>\n",
       "      <td>instant_payment</td>\n",
       "      <td>accepted</td>\n",
       "      <td>NaN</td>\n",
       "      <td>5.0</td>\n",
       "      <td>Instant Payment Cash Request 19350</td>\n",
       "      <td>2020-10-06 08:20:17.170432+00</td>\n",
       "      <td>2020-10-13 14:25:03.267983+00</td>\n",
       "      <td>2020-11-02 14:45:20.355598+00</td>\n",
       "      <td>NaN</td>\n",
       "      <td>NaN</td>\n",
       "      <td>after</td>\n",
       "    </tr>\n",
       "  </tbody>\n",
       "</table>\n",
       "</div>"
      ],
      "text/plain": [
       "      id  cash_request_id             type    status               category  \\\n",
       "0   6537          14941.0  instant_payment  rejected                    NaN   \n",
       "1   6961          11714.0         incident  accepted  rejected_direct_debit   \n",
       "2  16296          23371.0  instant_payment  accepted                    NaN   \n",
       "3  20775          26772.0  instant_payment  accepted                    NaN   \n",
       "4  11242          19350.0  instant_payment  accepted                    NaN   \n",
       "\n",
       "   total_amount                              reason  \\\n",
       "0           5.0  Instant Payment Cash Request 14941   \n",
       "1           5.0               rejected direct debit   \n",
       "2           5.0  Instant Payment Cash Request 23371   \n",
       "3           5.0  Instant Payment Cash Request 26772   \n",
       "4           5.0  Instant Payment Cash Request 19350   \n",
       "\n",
       "                      created_at                     updated_at  \\\n",
       "0   2020-09-07 10:47:27.42315+00  2020-10-13 14:25:09.396112+00   \n",
       "1  2020-09-09 20:51:17.998653+00  2020-10-13 14:25:15.537063+00   \n",
       "2  2020-10-23 10:10:58.352972+00  2020-10-23 10:10:58.352994+00   \n",
       "3  2020-10-31 15:46:53.643958+00  2020-10-31 15:46:53.643982+00   \n",
       "4  2020-10-06 08:20:17.170432+00  2020-10-13 14:25:03.267983+00   \n",
       "\n",
       "                         paid_at from_date to_date charge_moment  \n",
       "0   2020-12-17 14:50:07.47011+00       NaN     NaN         after  \n",
       "1   2020-12-08 17:13:10.45908+00       NaN     NaN         after  \n",
       "2   2020-11-04 19:34:37.43291+00       NaN     NaN         after  \n",
       "3  2020-11-19 05:09:22.500223+00       NaN     NaN         after  \n",
       "4  2020-11-02 14:45:20.355598+00       NaN     NaN         after  "
      ]
     },
     "execution_count": 128,
     "metadata": {},
     "output_type": "execute_result"
    }
   ],
   "source": [
    "fees_orig.head()"
   ]
  },
  {
   "cell_type": "code",
   "execution_count": 129,
   "id": "0f4e065f",
   "metadata": {},
   "outputs": [
    {
     "data": {
      "text/plain": [
       "(23970, 16)"
      ]
     },
     "execution_count": 129,
     "metadata": {},
     "output_type": "execute_result"
    }
   ],
   "source": [
    "cash_orig.shape # 23970 peticiones de cash"
   ]
  },
  {
   "cell_type": "code",
   "execution_count": 130,
   "id": "fa59df25",
   "metadata": {},
   "outputs": [
    {
     "data": {
      "text/plain": [
       "(21061, 13)"
      ]
     },
     "execution_count": 130,
     "metadata": {},
     "output_type": "execute_result"
    }
   ],
   "source": [
    "fees_orig.shape # 21061 cobros de fees"
   ]
  },
  {
   "cell_type": "code",
   "execution_count": 131,
   "id": "3e59d681-7cf9-46c8-869d-7a94fd87f328",
   "metadata": {},
   "outputs": [
    {
     "name": "stdout",
     "output_type": "stream",
     "text": [
      "Column Names: Index(['id', 'amount', 'status', 'created_at', 'updated_at', 'user_id',\n",
      "       'moderated_at', 'deleted_account_id', 'reimbursement_date',\n",
      "       'cash_request_received_date', 'money_back_date', 'transfer_type',\n",
      "       'send_at', 'recovery_status', 'reco_creation', 'reco_last_update'],\n",
      "      dtype='object')\n",
      "Column Names: Index(['id', 'cash_request_id', 'type', 'status', 'category', 'total_amount',\n",
      "       'reason', 'created_at', 'updated_at', 'paid_at', 'from_date', 'to_date',\n",
      "       'charge_moment'],\n",
      "      dtype='object')\n"
     ]
    }
   ],
   "source": [
    "# Column names\n",
    "print(f\"Column Names: {cash_orig.columns}\")\n",
    "print(f\"Column Names: {fees_orig.columns}\")"
   ]
  },
  {
   "cell_type": "markdown",
   "id": "d5c8ff9d",
   "metadata": {},
   "source": [
    "### Subset de trabajo para el cálculo de cohortes"
   ]
  },
  {
   "cell_type": "code",
   "execution_count": 259,
   "id": "b412496b-5120-499d-a3e9-232cc2ab7b74",
   "metadata": {},
   "outputs": [],
   "source": [
    "fees = fees_orig.copy()\n",
    "cash = cash_orig.copy()"
   ]
  },
  {
   "cell_type": "code",
   "execution_count": 133,
   "id": "b08233ca",
   "metadata": {},
   "outputs": [],
   "source": [
    "# Renombrar 'id' a 'cash_request_id' para mayor claridad (y para el merge posterior con fees)\n",
    "cash = cash.rename(columns={'id': 'cash_request_id'})"
   ]
  },
  {
   "cell_type": "code",
   "execution_count": 134,
   "id": "0b692423-9488-4d26-9f4d-b91046f56e74",
   "metadata": {},
   "outputs": [
    {
     "data": {
      "text/html": [
       "<div>\n",
       "<style scoped>\n",
       "    .dataframe tbody tr th:only-of-type {\n",
       "        vertical-align: middle;\n",
       "    }\n",
       "\n",
       "    .dataframe tbody tr th {\n",
       "        vertical-align: top;\n",
       "    }\n",
       "\n",
       "    .dataframe thead th {\n",
       "        text-align: right;\n",
       "    }\n",
       "</style>\n",
       "<table border=\"1\" class=\"dataframe\">\n",
       "  <thead>\n",
       "    <tr style=\"text-align: right;\">\n",
       "      <th></th>\n",
       "      <th>cash_request_id</th>\n",
       "      <th>amount</th>\n",
       "      <th>status</th>\n",
       "      <th>created_at</th>\n",
       "      <th>user_id</th>\n",
       "      <th>deleted_account_id</th>\n",
       "    </tr>\n",
       "  </thead>\n",
       "  <tbody>\n",
       "    <tr>\n",
       "      <th>0</th>\n",
       "      <td>5</td>\n",
       "      <td>100.0</td>\n",
       "      <td>rejected</td>\n",
       "      <td>2019-12-10 19:05:21.596873+00</td>\n",
       "      <td>804.0</td>\n",
       "      <td>NaN</td>\n",
       "    </tr>\n",
       "    <tr>\n",
       "      <th>1</th>\n",
       "      <td>70</td>\n",
       "      <td>100.0</td>\n",
       "      <td>rejected</td>\n",
       "      <td>2019-12-10 19:50:12.34778+00</td>\n",
       "      <td>231.0</td>\n",
       "      <td>NaN</td>\n",
       "    </tr>\n",
       "    <tr>\n",
       "      <th>2</th>\n",
       "      <td>7</td>\n",
       "      <td>100.0</td>\n",
       "      <td>rejected</td>\n",
       "      <td>2019-12-10 19:13:35.82546+00</td>\n",
       "      <td>191.0</td>\n",
       "      <td>NaN</td>\n",
       "    </tr>\n",
       "    <tr>\n",
       "      <th>3</th>\n",
       "      <td>10</td>\n",
       "      <td>99.0</td>\n",
       "      <td>rejected</td>\n",
       "      <td>2019-12-10 19:16:10.880172+00</td>\n",
       "      <td>761.0</td>\n",
       "      <td>NaN</td>\n",
       "    </tr>\n",
       "    <tr>\n",
       "      <th>4</th>\n",
       "      <td>1594</td>\n",
       "      <td>100.0</td>\n",
       "      <td>rejected</td>\n",
       "      <td>2020-05-06 09:59:38.877376+00</td>\n",
       "      <td>7686.0</td>\n",
       "      <td>NaN</td>\n",
       "    </tr>\n",
       "  </tbody>\n",
       "</table>\n",
       "</div>"
      ],
      "text/plain": [
       "   cash_request_id  amount    status                     created_at  user_id  \\\n",
       "0                5   100.0  rejected  2019-12-10 19:05:21.596873+00    804.0   \n",
       "1               70   100.0  rejected   2019-12-10 19:50:12.34778+00    231.0   \n",
       "2                7   100.0  rejected   2019-12-10 19:13:35.82546+00    191.0   \n",
       "3               10    99.0  rejected  2019-12-10 19:16:10.880172+00    761.0   \n",
       "4             1594   100.0  rejected  2020-05-06 09:59:38.877376+00   7686.0   \n",
       "\n",
       "   deleted_account_id  \n",
       "0                 NaN  \n",
       "1                 NaN  \n",
       "2                 NaN  \n",
       "3                 NaN  \n",
       "4                 NaN  "
      ]
     },
     "execution_count": 134,
     "metadata": {},
     "output_type": "execute_result"
    }
   ],
   "source": [
    "cash = cash[['cash_request_id', 'amount', 'status', 'created_at', 'user_id', 'deleted_account_id']]\n",
    "cash.head()"
   ]
  },
  {
   "cell_type": "markdown",
   "id": "4c30e0a4",
   "metadata": {},
   "source": [
    "### Unificación de ID de usuario"
   ]
  },
  {
   "cell_type": "code",
   "execution_count": 135,
   "id": "3e1fa581",
   "metadata": {},
   "outputs": [],
   "source": [
    "# Ver NA en columna 'user_id'\n",
    "cash[cash['user_id'].isna()]\n",
    "\n",
    "# Comprobar que 'user_id' y 'deteled_account_id' son complementarios\n",
    "cash[cash['user_id'].isna() & cash['deleted_account_id'].isna()]\n",
    "\n",
    "# Nueva columna id_usuario a partir de user_id + deleted_account_id\n",
    "cash['id_usuario'] = cash['user_id'].fillna(cash['deleted_account_id'])\n",
    "# Conversión de float a int\n",
    "cash['id_usuario'] = cash['id_usuario'].astype(int)"
   ]
  },
  {
   "cell_type": "markdown",
   "id": "dc993f4d",
   "metadata": {},
   "source": [
    "### Tratamiento de fechas"
   ]
  },
  {
   "cell_type": "code",
   "execution_count": 136,
   "id": "258e5fcb",
   "metadata": {},
   "outputs": [
    {
     "name": "stdout",
     "output_type": "stream",
     "text": [
      "object\n",
      "datetime64[ns, UTC]\n"
     ]
    }
   ],
   "source": [
    "# Convertir 'created_at' a tipo datetime\n",
    "print(cash['created_at'].dtypes)\n",
    "cash['created_at'] = pd.to_datetime(cash['created_at'])\n",
    "print(cash['created_at'].dtypes)"
   ]
  },
  {
   "cell_type": "markdown",
   "id": "290f550a",
   "metadata": {},
   "source": [
    "### Obtener cohortes"
   ]
  },
  {
   "cell_type": "code",
   "execution_count": 137,
   "id": "5811a43b",
   "metadata": {},
   "outputs": [
    {
     "name": "stderr",
     "output_type": "stream",
     "text": [
      "/var/folders/3h/d4zpwm_x4qg78bc5337r4q240000gq/T/ipykernel_5761/501297056.py:6: UserWarning: Converting to PeriodArray/Index representation will drop timezone information.\n",
      "  grouped1st['cohorte'] = grouped1st['created_at'].dt.to_period('M')\n"
     ]
    },
    {
     "data": {
      "text/html": [
       "<div>\n",
       "<style scoped>\n",
       "    .dataframe tbody tr th:only-of-type {\n",
       "        vertical-align: middle;\n",
       "    }\n",
       "\n",
       "    .dataframe tbody tr th {\n",
       "        vertical-align: top;\n",
       "    }\n",
       "\n",
       "    .dataframe thead th {\n",
       "        text-align: right;\n",
       "    }\n",
       "</style>\n",
       "<table border=\"1\" class=\"dataframe\">\n",
       "  <thead>\n",
       "    <tr style=\"text-align: right;\">\n",
       "      <th></th>\n",
       "      <th>created_at</th>\n",
       "      <th>cohorte</th>\n",
       "    </tr>\n",
       "    <tr>\n",
       "      <th>id_usuario</th>\n",
       "      <th></th>\n",
       "      <th></th>\n",
       "    </tr>\n",
       "  </thead>\n",
       "  <tbody>\n",
       "    <tr>\n",
       "      <th>34</th>\n",
       "      <td>2020-04-20 15:50:21.187257+00:00</td>\n",
       "      <td>2020-04</td>\n",
       "    </tr>\n",
       "    <tr>\n",
       "      <th>35</th>\n",
       "      <td>2019-12-13 20:27:38.106778+00:00</td>\n",
       "      <td>2019-12</td>\n",
       "    </tr>\n",
       "    <tr>\n",
       "      <th>47</th>\n",
       "      <td>2019-11-19 13:57:53.511561+00:00</td>\n",
       "      <td>2019-11</td>\n",
       "    </tr>\n",
       "    <tr>\n",
       "      <th>52</th>\n",
       "      <td>2019-12-17 09:01:12.584634+00:00</td>\n",
       "      <td>2019-12</td>\n",
       "    </tr>\n",
       "    <tr>\n",
       "      <th>53</th>\n",
       "      <td>2019-12-21 11:39:03.844436+00:00</td>\n",
       "      <td>2019-12</td>\n",
       "    </tr>\n",
       "  </tbody>\n",
       "</table>\n",
       "</div>"
      ],
      "text/plain": [
       "                                 created_at  cohorte\n",
       "id_usuario                                          \n",
       "34         2020-04-20 15:50:21.187257+00:00  2020-04\n",
       "35         2019-12-13 20:27:38.106778+00:00  2019-12\n",
       "47         2019-11-19 13:57:53.511561+00:00  2019-11\n",
       "52         2019-12-17 09:01:12.584634+00:00  2019-12\n",
       "53         2019-12-21 11:39:03.844436+00:00  2019-12"
      ]
     },
     "execution_count": 137,
     "metadata": {},
     "output_type": "execute_result"
    }
   ],
   "source": [
    "grouped1st = cash.pivot_table(\n",
    "    values = \"created_at\",\n",
    "    index = \"id_usuario\",\n",
    "    aggfunc = \"min\"\n",
    ")\n",
    "grouped1st['cohorte'] = grouped1st['created_at'].dt.to_period('M')\n",
    "grouped1st.head()"
   ]
  },
  {
   "cell_type": "code",
   "execution_count": 138,
   "id": "5c4ea08d",
   "metadata": {},
   "outputs": [
    {
     "data": {
      "text/plain": [
       "11793"
      ]
     },
     "execution_count": 138,
     "metadata": {},
     "output_type": "execute_result"
    }
   ],
   "source": [
    "# Dos maneras de calcular lo mismo:\n",
    "grouped1st.index.shape # (11793,) usuarios distintos\n",
    "grouped1st.value_counts().sum() # 11793 usuarios distintos"
   ]
  },
  {
   "cell_type": "code",
   "execution_count": 139,
   "id": "3f74ada6",
   "metadata": {},
   "outputs": [
    {
     "data": {
      "text/html": [
       "<div>\n",
       "<style scoped>\n",
       "    .dataframe tbody tr th:only-of-type {\n",
       "        vertical-align: middle;\n",
       "    }\n",
       "\n",
       "    .dataframe tbody tr th {\n",
       "        vertical-align: top;\n",
       "    }\n",
       "\n",
       "    .dataframe thead th {\n",
       "        text-align: right;\n",
       "    }\n",
       "</style>\n",
       "<table border=\"1\" class=\"dataframe\">\n",
       "  <thead>\n",
       "    <tr style=\"text-align: right;\">\n",
       "      <th></th>\n",
       "      <th>cash_request_id</th>\n",
       "      <th>amount</th>\n",
       "      <th>status</th>\n",
       "      <th>created_at</th>\n",
       "      <th>user_id</th>\n",
       "      <th>deleted_account_id</th>\n",
       "      <th>id_usuario</th>\n",
       "      <th>cohorte</th>\n",
       "    </tr>\n",
       "  </thead>\n",
       "  <tbody>\n",
       "    <tr>\n",
       "      <th>0</th>\n",
       "      <td>5</td>\n",
       "      <td>100.0</td>\n",
       "      <td>rejected</td>\n",
       "      <td>2019-12-10 19:05:21.596873+00:00</td>\n",
       "      <td>804.0</td>\n",
       "      <td>NaN</td>\n",
       "      <td>804</td>\n",
       "      <td>2019-12</td>\n",
       "    </tr>\n",
       "    <tr>\n",
       "      <th>1</th>\n",
       "      <td>70</td>\n",
       "      <td>100.0</td>\n",
       "      <td>rejected</td>\n",
       "      <td>2019-12-10 19:50:12.347780+00:00</td>\n",
       "      <td>231.0</td>\n",
       "      <td>NaN</td>\n",
       "      <td>231</td>\n",
       "      <td>2019-12</td>\n",
       "    </tr>\n",
       "    <tr>\n",
       "      <th>2</th>\n",
       "      <td>7</td>\n",
       "      <td>100.0</td>\n",
       "      <td>rejected</td>\n",
       "      <td>2019-12-10 19:13:35.825460+00:00</td>\n",
       "      <td>191.0</td>\n",
       "      <td>NaN</td>\n",
       "      <td>191</td>\n",
       "      <td>2019-12</td>\n",
       "    </tr>\n",
       "    <tr>\n",
       "      <th>3</th>\n",
       "      <td>10</td>\n",
       "      <td>99.0</td>\n",
       "      <td>rejected</td>\n",
       "      <td>2019-12-10 19:16:10.880172+00:00</td>\n",
       "      <td>761.0</td>\n",
       "      <td>NaN</td>\n",
       "      <td>761</td>\n",
       "      <td>2019-12</td>\n",
       "    </tr>\n",
       "    <tr>\n",
       "      <th>4</th>\n",
       "      <td>1594</td>\n",
       "      <td>100.0</td>\n",
       "      <td>rejected</td>\n",
       "      <td>2020-05-06 09:59:38.877376+00:00</td>\n",
       "      <td>7686.0</td>\n",
       "      <td>NaN</td>\n",
       "      <td>7686</td>\n",
       "      <td>2020-05</td>\n",
       "    </tr>\n",
       "  </tbody>\n",
       "</table>\n",
       "</div>"
      ],
      "text/plain": [
       "   cash_request_id  amount    status                       created_at  \\\n",
       "0                5   100.0  rejected 2019-12-10 19:05:21.596873+00:00   \n",
       "1               70   100.0  rejected 2019-12-10 19:50:12.347780+00:00   \n",
       "2                7   100.0  rejected 2019-12-10 19:13:35.825460+00:00   \n",
       "3               10    99.0  rejected 2019-12-10 19:16:10.880172+00:00   \n",
       "4             1594   100.0  rejected 2020-05-06 09:59:38.877376+00:00   \n",
       "\n",
       "   user_id  deleted_account_id  id_usuario  cohorte  \n",
       "0    804.0                 NaN         804  2019-12  \n",
       "1    231.0                 NaN         231  2019-12  \n",
       "2    191.0                 NaN         191  2019-12  \n",
       "3    761.0                 NaN         761  2019-12  \n",
       "4   7686.0                 NaN        7686  2020-05  "
      ]
     },
     "execution_count": 139,
     "metadata": {},
     "output_type": "execute_result"
    }
   ],
   "source": [
    "# Añadir dato 'cohorte' a tabla de trabajo\n",
    "cash_cohorts = pd.merge(cash, grouped1st[['cohorte']], on='id_usuario')\n",
    "cash_cohorts.head()\n"
   ]
  },
  {
   "cell_type": "code",
   "execution_count": 140,
   "id": "9a06f7f2",
   "metadata": {},
   "outputs": [
    {
     "name": "stdout",
     "output_type": "stream",
     "text": [
      "(23970, 7)\n",
      "(23970, 8)\n"
     ]
    }
   ],
   "source": [
    "# Comprobar que la diferencia es sólo 1 columna adicional\n",
    "print(cash.shape)\n",
    "print(cash_cohorts.shape)"
   ]
  },
  {
   "cell_type": "code",
   "execution_count": 141,
   "id": "442f0adc",
   "metadata": {},
   "outputs": [
    {
     "name": "stdout",
     "output_type": "stream",
     "text": [
      "<class 'pandas.core.frame.DataFrame'>\n",
      "RangeIndex: 23970 entries, 0 to 23969\n",
      "Data columns (total 8 columns):\n",
      " #   Column              Non-Null Count  Dtype              \n",
      "---  ------              --------------  -----              \n",
      " 0   cash_request_id     23970 non-null  int64              \n",
      " 1   amount              23970 non-null  float64            \n",
      " 2   status              23970 non-null  object             \n",
      " 3   created_at          23970 non-null  datetime64[ns, UTC]\n",
      " 4   user_id             21867 non-null  float64            \n",
      " 5   deleted_account_id  2104 non-null   float64            \n",
      " 6   id_usuario          23970 non-null  int64              \n",
      " 7   cohorte             23970 non-null  period[M]          \n",
      "dtypes: datetime64[ns, UTC](1), float64(3), int64(2), object(1), period[M](1)\n",
      "memory usage: 1.5+ MB\n"
     ]
    }
   ],
   "source": [
    "cash_cohorts.info()"
   ]
  },
  {
   "cell_type": "code",
   "execution_count": 142,
   "id": "a9a51004",
   "metadata": {},
   "outputs": [
    {
     "name": "stdout",
     "output_type": "stream",
     "text": [
      "<class 'pandas.core.frame.DataFrame'>\n",
      "RangeIndex: 23970 entries, 0 to 23969\n",
      "Data columns (total 8 columns):\n",
      " #   Column              Non-Null Count  Dtype              \n",
      "---  ------              --------------  -----              \n",
      " 0   cash_request_id     23970 non-null  int64              \n",
      " 1   amount              23970 non-null  float64            \n",
      " 2   status              23970 non-null  object             \n",
      " 3   created_at          23970 non-null  datetime64[ns, UTC]\n",
      " 4   user_id             21867 non-null  float64            \n",
      " 5   deleted_account_id  2104 non-null   float64            \n",
      " 6   id_usuario          23970 non-null  int64              \n",
      " 7   cohorte             23970 non-null  object             \n",
      "dtypes: datetime64[ns, UTC](1), float64(3), int64(2), object(2)\n",
      "memory usage: 1.5+ MB\n"
     ]
    }
   ],
   "source": [
    "# Convertir cohorte a tipo str para poder agrupar y graficar (el tipo de datos period[M] no lo permite)\n",
    "cash_cohorts['cohorte'] = cash_cohorts['cohorte'].astype(str)\n",
    "cash_cohorts.info()\n"
   ]
  },
  {
   "cell_type": "code",
   "execution_count": 143,
   "id": "687356ca",
   "metadata": {},
   "outputs": [
    {
     "name": "stdout",
     "output_type": "stream",
     "text": [
      "    cohorte  num_usuarios\n",
      "0   2019-11             1\n",
      "1   2019-12           254\n",
      "2   2020-01           106\n",
      "3   2020-02            90\n",
      "4   2020-03            86\n",
      "5   2020-04           246\n",
      "6   2020-05           432\n",
      "7   2020-06          1540\n",
      "8   2020-07          1482\n",
      "9   2020-08           728\n",
      "10  2020-09          1950\n",
      "11  2020-10          4802\n",
      "12  2020-11            76\n"
     ]
    }
   ],
   "source": [
    "# Número de usuarios por cohorte\n",
    "users_by_cohort = cash_cohorts.groupby('cohorte')['id_usuario'].nunique().reset_index()\n",
    "users_by_cohort.columns = ['cohorte','num_usuarios']\n",
    "print(users_by_cohort)"
   ]
  },
  {
   "cell_type": "code",
   "execution_count": 144,
   "id": "011db23f",
   "metadata": {},
   "outputs": [
    {
     "data": {
      "text/plain": [
       "11793"
      ]
     },
     "execution_count": 144,
     "metadata": {},
     "output_type": "execute_result"
    }
   ],
   "source": [
    "# Comprobación\n",
    "users_by_cohort['num_usuarios'].sum() # 11793 total usuarios"
   ]
  },
  {
   "cell_type": "code",
   "execution_count": 145,
   "id": "62b83669",
   "metadata": {},
   "outputs": [
    {
     "name": "stdout",
     "output_type": "stream",
     "text": [
      "Index(['2019-11', '2019-12', '2020-01', '2020-02', '2020-03', '2020-04',\n",
      "       '2020-05', '2020-06', '2020-07', '2020-08', '2020-09', '2020-10',\n",
      "       '2020-11'],\n",
      "      dtype='object', name='cohorte')\n"
     ]
    }
   ],
   "source": [
    "users_by_cohort.set_index('cohorte', inplace=True)\n",
    "print(users_by_cohort.index)"
   ]
  },
  {
   "cell_type": "code",
   "execution_count": 146,
   "id": "58012e84",
   "metadata": {},
   "outputs": [
    {
     "data": {
      "text/plain": [
       "<Figure size 1000x600 with 0 Axes>"
      ]
     },
     "metadata": {},
     "output_type": "display_data"
    },
    {
     "data": {
      "image/png": "[encoded data removed]",
      "text/plain": [
       "<Figure size 1200x600 with 1 Axes>"
      ]
     },
     "metadata": {},
     "output_type": "display_data"
    }
   ],
   "source": [
    "# Gràfico de barras para visualizar el número de usuarios por cohorte\n",
    "plt.figure(figsize=(10, 6))\n",
    "#users_by_cohort.plot(kind='line', marker='o')\n",
    "users_by_cohort.plot(kind='bar')\n",
    "plt.title('Número de Usuarios por Cohorte')\n",
    "plt.xlabel('Cohorte (Mes/Año)')\n",
    "plt.ylabel('Usuarios')\n",
    "plt.grid(True)\n",
    "plt.xticks(rotation=45)\n",
    "plt.legend([])\n",
    "plt.tight_layout()\n",
    "plt.show()"
   ]
  },
  {
   "cell_type": "markdown",
   "id": "613700a1",
   "metadata": {},
   "source": [
    "## 1. Frecuencia de uso del servicio"
   ]
  },
  {
   "cell_type": "markdown",
   "id": "90711179",
   "metadata": {},
   "source": [
    "### 1.1. Peticiones por cohorte"
   ]
  },
  {
   "cell_type": "code",
   "execution_count": 147,
   "id": "78d703d5",
   "metadata": {},
   "outputs": [
    {
     "name": "stdout",
     "output_type": "stream",
     "text": [
      "    cohorte  num_requests\n",
      "0   2019-11             8\n",
      "1   2019-12          1080\n",
      "2   2020-01           354\n",
      "3   2020-02           441\n",
      "4   2020-03           371\n",
      "5   2020-04           952\n",
      "6   2020-05          1660\n",
      "7   2020-06          5266\n",
      "8   2020-07          4147\n",
      "9   2020-08          1632\n",
      "10  2020-09          2925\n",
      "11  2020-10          5058\n",
      "12  2020-11            76\n"
     ]
    }
   ],
   "source": [
    "# Frecuencia de uso del servicio por cohorte\n",
    "requests_by_cohort = cash_cohorts.groupby('cohorte')['cash_request_id'].nunique().reset_index()\n",
    "requests_by_cohort.columns = ['cohorte','num_requests']\n",
    "print(requests_by_cohort)"
   ]
  },
  {
   "cell_type": "code",
   "execution_count": 148,
   "id": "fa0e5e4a",
   "metadata": {},
   "outputs": [
    {
     "name": "stdout",
     "output_type": "stream",
     "text": [
      "Index(['2019-11', '2019-12', '2020-01', '2020-02', '2020-03', '2020-04',\n",
      "       '2020-05', '2020-06', '2020-07', '2020-08', '2020-09', '2020-10',\n",
      "       '2020-11'],\n",
      "      dtype='object', name='cohorte')\n"
     ]
    }
   ],
   "source": [
    "# Cambiar índice para poder graficar\n",
    "requests_by_cohort.set_index('cohorte', inplace=True)\n",
    "print(requests_by_cohort.index)"
   ]
  },
  {
   "cell_type": "code",
   "execution_count": 149,
   "id": "48f29f39",
   "metadata": {},
   "outputs": [
    {
     "data": {
      "text/html": [
       "<div>\n",
       "<style scoped>\n",
       "    .dataframe tbody tr th:only-of-type {\n",
       "        vertical-align: middle;\n",
       "    }\n",
       "\n",
       "    .dataframe tbody tr th {\n",
       "        vertical-align: top;\n",
       "    }\n",
       "\n",
       "    .dataframe thead th {\n",
       "        text-align: right;\n",
       "    }\n",
       "</style>\n",
       "<table border=\"1\" class=\"dataframe\">\n",
       "  <thead>\n",
       "    <tr style=\"text-align: right;\">\n",
       "      <th></th>\n",
       "      <th>num_requests</th>\n",
       "    </tr>\n",
       "    <tr>\n",
       "      <th>cohorte</th>\n",
       "      <th></th>\n",
       "    </tr>\n",
       "  </thead>\n",
       "  <tbody>\n",
       "    <tr>\n",
       "      <th>2019-11</th>\n",
       "      <td>8</td>\n",
       "    </tr>\n",
       "    <tr>\n",
       "      <th>2019-12</th>\n",
       "      <td>1080</td>\n",
       "    </tr>\n",
       "    <tr>\n",
       "      <th>2020-01</th>\n",
       "      <td>354</td>\n",
       "    </tr>\n",
       "    <tr>\n",
       "      <th>2020-02</th>\n",
       "      <td>441</td>\n",
       "    </tr>\n",
       "    <tr>\n",
       "      <th>2020-03</th>\n",
       "      <td>371</td>\n",
       "    </tr>\n",
       "    <tr>\n",
       "      <th>2020-04</th>\n",
       "      <td>952</td>\n",
       "    </tr>\n",
       "    <tr>\n",
       "      <th>2020-05</th>\n",
       "      <td>1660</td>\n",
       "    </tr>\n",
       "    <tr>\n",
       "      <th>2020-06</th>\n",
       "      <td>5266</td>\n",
       "    </tr>\n",
       "    <tr>\n",
       "      <th>2020-07</th>\n",
       "      <td>4147</td>\n",
       "    </tr>\n",
       "    <tr>\n",
       "      <th>2020-08</th>\n",
       "      <td>1632</td>\n",
       "    </tr>\n",
       "    <tr>\n",
       "      <th>2020-09</th>\n",
       "      <td>2925</td>\n",
       "    </tr>\n",
       "    <tr>\n",
       "      <th>2020-10</th>\n",
       "      <td>5058</td>\n",
       "    </tr>\n",
       "    <tr>\n",
       "      <th>2020-11</th>\n",
       "      <td>76</td>\n",
       "    </tr>\n",
       "  </tbody>\n",
       "</table>\n",
       "</div>"
      ],
      "text/plain": [
       "         num_requests\n",
       "cohorte              \n",
       "2019-11             8\n",
       "2019-12          1080\n",
       "2020-01           354\n",
       "2020-02           441\n",
       "2020-03           371\n",
       "2020-04           952\n",
       "2020-05          1660\n",
       "2020-06          5266\n",
       "2020-07          4147\n",
       "2020-08          1632\n",
       "2020-09          2925\n",
       "2020-10          5058\n",
       "2020-11            76"
      ]
     },
     "execution_count": 149,
     "metadata": {},
     "output_type": "execute_result"
    }
   ],
   "source": [
    "requests_by_cohort"
   ]
  },
  {
   "cell_type": "code",
   "execution_count": 150,
   "id": "11aaba64",
   "metadata": {},
   "outputs": [
    {
     "data": {
      "text/plain": [
       "23970"
      ]
     },
     "execution_count": 150,
     "metadata": {},
     "output_type": "execute_result"
    }
   ],
   "source": [
    "# Comprobación\n",
    "requests_by_cohort['num_requests'].sum()"
   ]
  },
  {
   "cell_type": "code",
   "execution_count": 151,
   "id": "34d5deff",
   "metadata": {},
   "outputs": [
    {
     "data": {
      "text/plain": [
       "<Figure size 1000x600 with 0 Axes>"
      ]
     },
     "metadata": {},
     "output_type": "display_data"
    },
    {
     "data": {
      "image/png": "[encoded data removed]",
      "text/plain": [
       "<Figure size 1200x600 with 1 Axes>"
      ]
     },
     "metadata": {},
     "output_type": "display_data"
    }
   ],
   "source": [
    "# Crear un gráfico de barras para visualizar el número de requests por cohorte\n",
    "plt.figure(figsize=(10, 6))\n",
    "#requests_by_cohort.plot(kind='line', marker='o')\n",
    "requests_by_cohort.plot(kind='bar', color='navy')\n",
    "plt.title('Número de peticiones por Cohorte')\n",
    "plt.xlabel('Cohorte (Mes/Año)')\n",
    "plt.ylabel('Peticiones')\n",
    "plt.grid(True)\n",
    "plt.xticks(rotation=45)\n",
    "plt.legend([])\n",
    "plt.show()"
   ]
  },
  {
   "cell_type": "markdown",
   "id": "9d1cb620",
   "metadata": {},
   "source": [
    "### 1.2. Frecuencia de uso"
   ]
  },
  {
   "cell_type": "code",
   "execution_count": 152,
   "id": "a93cd780",
   "metadata": {},
   "outputs": [
    {
     "name": "stderr",
     "output_type": "stream",
     "text": [
      "/var/folders/3h/d4zpwm_x4qg78bc5337r4q240000gq/T/ipykernel_5761/294293259.py:2: UserWarning: Converting to PeriodArray/Index representation will drop timezone information.\n",
      "  cash_cohorts['created_at_month'] = cash_cohorts['created_at'].dt.to_period('M')\n"
     ]
    },
    {
     "data": {
      "text/html": [
       "<div>\n",
       "<style scoped>\n",
       "    .dataframe tbody tr th:only-of-type {\n",
       "        vertical-align: middle;\n",
       "    }\n",
       "\n",
       "    .dataframe tbody tr th {\n",
       "        vertical-align: top;\n",
       "    }\n",
       "\n",
       "    .dataframe thead th {\n",
       "        text-align: right;\n",
       "    }\n",
       "</style>\n",
       "<table border=\"1\" class=\"dataframe\">\n",
       "  <thead>\n",
       "    <tr style=\"text-align: right;\">\n",
       "      <th></th>\n",
       "      <th>cash_request_id</th>\n",
       "      <th>created_at_month</th>\n",
       "      <th>cohorte</th>\n",
       "      <th>id_usuario</th>\n",
       "    </tr>\n",
       "  </thead>\n",
       "  <tbody>\n",
       "    <tr>\n",
       "      <th>0</th>\n",
       "      <td>5</td>\n",
       "      <td>2019-12</td>\n",
       "      <td>2019-12</td>\n",
       "      <td>804</td>\n",
       "    </tr>\n",
       "    <tr>\n",
       "      <th>1</th>\n",
       "      <td>70</td>\n",
       "      <td>2019-12</td>\n",
       "      <td>2019-12</td>\n",
       "      <td>231</td>\n",
       "    </tr>\n",
       "    <tr>\n",
       "      <th>2</th>\n",
       "      <td>7</td>\n",
       "      <td>2019-12</td>\n",
       "      <td>2019-12</td>\n",
       "      <td>191</td>\n",
       "    </tr>\n",
       "    <tr>\n",
       "      <th>3</th>\n",
       "      <td>10</td>\n",
       "      <td>2019-12</td>\n",
       "      <td>2019-12</td>\n",
       "      <td>761</td>\n",
       "    </tr>\n",
       "    <tr>\n",
       "      <th>4</th>\n",
       "      <td>1594</td>\n",
       "      <td>2020-05</td>\n",
       "      <td>2020-05</td>\n",
       "      <td>7686</td>\n",
       "    </tr>\n",
       "    <tr>\n",
       "      <th>...</th>\n",
       "      <td>...</td>\n",
       "      <td>...</td>\n",
       "      <td>...</td>\n",
       "      <td>...</td>\n",
       "    </tr>\n",
       "    <tr>\n",
       "      <th>23965</th>\n",
       "      <td>20616</td>\n",
       "      <td>2020-10</td>\n",
       "      <td>2020-06</td>\n",
       "      <td>13681</td>\n",
       "    </tr>\n",
       "    <tr>\n",
       "      <th>23966</th>\n",
       "      <td>25243</td>\n",
       "      <td>2020-10</td>\n",
       "      <td>2020-10</td>\n",
       "      <td>30367</td>\n",
       "    </tr>\n",
       "    <tr>\n",
       "      <th>23967</th>\n",
       "      <td>22357</td>\n",
       "      <td>2020-10</td>\n",
       "      <td>2020-10</td>\n",
       "      <td>82122</td>\n",
       "    </tr>\n",
       "    <tr>\n",
       "      <th>23968</th>\n",
       "      <td>20256</td>\n",
       "      <td>2020-10</td>\n",
       "      <td>2020-10</td>\n",
       "      <td>64517</td>\n",
       "    </tr>\n",
       "    <tr>\n",
       "      <th>23969</th>\n",
       "      <td>19886</td>\n",
       "      <td>2020-10</td>\n",
       "      <td>2020-09</td>\n",
       "      <td>44867</td>\n",
       "    </tr>\n",
       "  </tbody>\n",
       "</table>\n",
       "<p>23970 rows × 4 columns</p>\n",
       "</div>"
      ],
      "text/plain": [
       "       cash_request_id created_at_month  cohorte  id_usuario\n",
       "0                    5          2019-12  2019-12         804\n",
       "1                   70          2019-12  2019-12         231\n",
       "2                    7          2019-12  2019-12         191\n",
       "3                   10          2019-12  2019-12         761\n",
       "4                 1594          2020-05  2020-05        7686\n",
       "...                ...              ...      ...         ...\n",
       "23965            20616          2020-10  2020-06       13681\n",
       "23966            25243          2020-10  2020-10       30367\n",
       "23967            22357          2020-10  2020-10       82122\n",
       "23968            20256          2020-10  2020-10       64517\n",
       "23969            19886          2020-10  2020-09       44867\n",
       "\n",
       "[23970 rows x 4 columns]"
      ]
     },
     "execution_count": 152,
     "metadata": {},
     "output_type": "execute_result"
    }
   ],
   "source": [
    "# Añadir columna 'created_at_month' para determinar el mes de creación de cada petición\n",
    "cash_cohorts['created_at_month'] = cash_cohorts['created_at'].dt.to_period('M')\n",
    "subset = ['cash_request_id','created_at_month','cohorte','id_usuario']\n",
    "cash_cohorts[subset]"
   ]
  },
  {
   "cell_type": "code",
   "execution_count": 153,
   "id": "ad1537c3",
   "metadata": {},
   "outputs": [
    {
     "data": {
      "text/html": [
       "<div>\n",
       "<style scoped>\n",
       "    .dataframe tbody tr th:only-of-type {\n",
       "        vertical-align: middle;\n",
       "    }\n",
       "\n",
       "    .dataframe tbody tr th {\n",
       "        vertical-align: top;\n",
       "    }\n",
       "\n",
       "    .dataframe thead th {\n",
       "        text-align: right;\n",
       "    }\n",
       "</style>\n",
       "<table border=\"1\" class=\"dataframe\">\n",
       "  <thead>\n",
       "    <tr style=\"text-align: right;\">\n",
       "      <th></th>\n",
       "      <th></th>\n",
       "      <th>num_requests</th>\n",
       "    </tr>\n",
       "    <tr>\n",
       "      <th>created_at_month</th>\n",
       "      <th>cohorte</th>\n",
       "      <th></th>\n",
       "    </tr>\n",
       "  </thead>\n",
       "  <tbody>\n",
       "    <tr>\n",
       "      <th>2019-11</th>\n",
       "      <th>2019-11</th>\n",
       "      <td>1</td>\n",
       "    </tr>\n",
       "    <tr>\n",
       "      <th rowspan=\"2\" valign=\"top\">2019-12</th>\n",
       "      <th>2019-11</th>\n",
       "      <td>1</td>\n",
       "    </tr>\n",
       "    <tr>\n",
       "      <th>2019-12</th>\n",
       "      <td>288</td>\n",
       "    </tr>\n",
       "    <tr>\n",
       "      <th rowspan=\"2\" valign=\"top\">2020-01</th>\n",
       "      <th>2019-12</th>\n",
       "      <td>106</td>\n",
       "    </tr>\n",
       "    <tr>\n",
       "      <th>2020-01</th>\n",
       "      <td>117</td>\n",
       "    </tr>\n",
       "    <tr>\n",
       "      <th rowspan=\"3\" valign=\"top\">2020-02</th>\n",
       "      <th>2019-12</th>\n",
       "      <td>63</td>\n",
       "    </tr>\n",
       "    <tr>\n",
       "      <th>2020-01</th>\n",
       "      <td>24</td>\n",
       "    </tr>\n",
       "    <tr>\n",
       "      <th>2020-02</th>\n",
       "      <td>97</td>\n",
       "    </tr>\n",
       "    <tr>\n",
       "      <th rowspan=\"4\" valign=\"top\">2020-03</th>\n",
       "      <th>2019-12</th>\n",
       "      <td>79</td>\n",
       "    </tr>\n",
       "    <tr>\n",
       "      <th>2020-01</th>\n",
       "      <td>17</td>\n",
       "    </tr>\n",
       "    <tr>\n",
       "      <th>2020-02</th>\n",
       "      <td>49</td>\n",
       "    </tr>\n",
       "    <tr>\n",
       "      <th>2020-03</th>\n",
       "      <td>99</td>\n",
       "    </tr>\n",
       "    <tr>\n",
       "      <th rowspan=\"6\" valign=\"top\">2020-04</th>\n",
       "      <th>2019-11</th>\n",
       "      <td>1</td>\n",
       "    </tr>\n",
       "    <tr>\n",
       "      <th>2019-12</th>\n",
       "      <td>82</td>\n",
       "    </tr>\n",
       "    <tr>\n",
       "      <th>2020-01</th>\n",
       "      <td>35</td>\n",
       "    </tr>\n",
       "    <tr>\n",
       "      <th>2020-02</th>\n",
       "      <td>49</td>\n",
       "    </tr>\n",
       "    <tr>\n",
       "      <th>2020-03</th>\n",
       "      <td>42</td>\n",
       "    </tr>\n",
       "    <tr>\n",
       "      <th>2020-04</th>\n",
       "      <td>264</td>\n",
       "    </tr>\n",
       "    <tr>\n",
       "      <th rowspan=\"7\" valign=\"top\">2020-05</th>\n",
       "      <th>2019-11</th>\n",
       "      <td>1</td>\n",
       "    </tr>\n",
       "    <tr>\n",
       "      <th>2019-12</th>\n",
       "      <td>86</td>\n",
       "    </tr>\n",
       "    <tr>\n",
       "      <th>2020-01</th>\n",
       "      <td>31</td>\n",
       "    </tr>\n",
       "    <tr>\n",
       "      <th>2020-02</th>\n",
       "      <td>45</td>\n",
       "    </tr>\n",
       "    <tr>\n",
       "      <th>2020-03</th>\n",
       "      <td>46</td>\n",
       "    </tr>\n",
       "    <tr>\n",
       "      <th>2020-04</th>\n",
       "      <td>150</td>\n",
       "    </tr>\n",
       "    <tr>\n",
       "      <th>2020-05</th>\n",
       "      <td>478</td>\n",
       "    </tr>\n",
       "    <tr>\n",
       "      <th rowspan=\"7\" valign=\"top\">2020-06</th>\n",
       "      <th>2019-12</th>\n",
       "      <td>91</td>\n",
       "    </tr>\n",
       "    <tr>\n",
       "      <th>2020-01</th>\n",
       "      <td>29</td>\n",
       "    </tr>\n",
       "    <tr>\n",
       "      <th>2020-02</th>\n",
       "      <td>45</td>\n",
       "    </tr>\n",
       "    <tr>\n",
       "      <th>2020-03</th>\n",
       "      <td>47</td>\n",
       "    </tr>\n",
       "    <tr>\n",
       "      <th>2020-04</th>\n",
       "      <td>151</td>\n",
       "    </tr>\n",
       "    <tr>\n",
       "      <th>2020-05</th>\n",
       "      <td>318</td>\n",
       "    </tr>\n",
       "    <tr>\n",
       "      <th>2020-06</th>\n",
       "      <td>1934</td>\n",
       "    </tr>\n",
       "    <tr>\n",
       "      <th rowspan=\"8\" valign=\"top\">2020-07</th>\n",
       "      <th>2019-12</th>\n",
       "      <td>72</td>\n",
       "    </tr>\n",
       "    <tr>\n",
       "      <th>2020-01</th>\n",
       "      <td>31</td>\n",
       "    </tr>\n",
       "    <tr>\n",
       "      <th>2020-02</th>\n",
       "      <td>45</td>\n",
       "    </tr>\n",
       "    <tr>\n",
       "      <th>2020-03</th>\n",
       "      <td>40</td>\n",
       "    </tr>\n",
       "    <tr>\n",
       "      <th>2020-04</th>\n",
       "      <td>116</td>\n",
       "    </tr>\n",
       "    <tr>\n",
       "      <th>2020-05</th>\n",
       "      <td>274</td>\n",
       "    </tr>\n",
       "    <tr>\n",
       "      <th>2020-06</th>\n",
       "      <td>1027</td>\n",
       "    </tr>\n",
       "    <tr>\n",
       "      <th>2020-07</th>\n",
       "      <td>1996</td>\n",
       "    </tr>\n",
       "    <tr>\n",
       "      <th rowspan=\"10\" valign=\"top\">2020-08</th>\n",
       "      <th>2019-11</th>\n",
       "      <td>1</td>\n",
       "    </tr>\n",
       "    <tr>\n",
       "      <th>2019-12</th>\n",
       "      <td>84</td>\n",
       "    </tr>\n",
       "    <tr>\n",
       "      <th>2020-01</th>\n",
       "      <td>22</td>\n",
       "    </tr>\n",
       "    <tr>\n",
       "      <th>2020-02</th>\n",
       "      <td>44</td>\n",
       "    </tr>\n",
       "    <tr>\n",
       "      <th>2020-03</th>\n",
       "      <td>36</td>\n",
       "    </tr>\n",
       "    <tr>\n",
       "      <th>2020-04</th>\n",
       "      <td>107</td>\n",
       "    </tr>\n",
       "    <tr>\n",
       "      <th>2020-05</th>\n",
       "      <td>232</td>\n",
       "    </tr>\n",
       "    <tr>\n",
       "      <th>2020-06</th>\n",
       "      <td>957</td>\n",
       "    </tr>\n",
       "    <tr>\n",
       "      <th>2020-07</th>\n",
       "      <td>941</td>\n",
       "    </tr>\n",
       "    <tr>\n",
       "      <th>2020-08</th>\n",
       "      <td>993</td>\n",
       "    </tr>\n",
       "  </tbody>\n",
       "</table>\n",
       "</div>"
      ],
      "text/plain": [
       "                          num_requests\n",
       "created_at_month cohorte              \n",
       "2019-11          2019-11             1\n",
       "2019-12          2019-11             1\n",
       "                 2019-12           288\n",
       "2020-01          2019-12           106\n",
       "                 2020-01           117\n",
       "2020-02          2019-12            63\n",
       "                 2020-01            24\n",
       "                 2020-02            97\n",
       "2020-03          2019-12            79\n",
       "                 2020-01            17\n",
       "                 2020-02            49\n",
       "                 2020-03            99\n",
       "2020-04          2019-11             1\n",
       "                 2019-12            82\n",
       "                 2020-01            35\n",
       "                 2020-02            49\n",
       "                 2020-03            42\n",
       "                 2020-04           264\n",
       "2020-05          2019-11             1\n",
       "                 2019-12            86\n",
       "                 2020-01            31\n",
       "                 2020-02            45\n",
       "                 2020-03            46\n",
       "                 2020-04           150\n",
       "                 2020-05           478\n",
       "2020-06          2019-12            91\n",
       "                 2020-01            29\n",
       "                 2020-02            45\n",
       "                 2020-03            47\n",
       "                 2020-04           151\n",
       "                 2020-05           318\n",
       "                 2020-06          1934\n",
       "2020-07          2019-12            72\n",
       "                 2020-01            31\n",
       "                 2020-02            45\n",
       "                 2020-03            40\n",
       "                 2020-04           116\n",
       "                 2020-05           274\n",
       "                 2020-06          1027\n",
       "                 2020-07          1996\n",
       "2020-08          2019-11             1\n",
       "                 2019-12            84\n",
       "                 2020-01            22\n",
       "                 2020-02            44\n",
       "                 2020-03            36\n",
       "                 2020-04           107\n",
       "                 2020-05           232\n",
       "                 2020-06           957\n",
       "                 2020-07           941\n",
       "                 2020-08           993"
      ]
     },
     "execution_count": 153,
     "metadata": {},
     "output_type": "execute_result"
    }
   ],
   "source": [
    "# Frecuencia de uso del servicio por cohorte\n",
    "# frequency_by_cohort = cash_cohorts[subset].groupby(['created_at_month','cohorte'])['cash_request_id'].count().reset_index()\n",
    "# frequency_by_cohort.set_index('created_at_month', inplace=True)\n",
    "# frequency_by_cohort.columns = ['cohorte','num_transactions']\n",
    "# print(frequency_by_cohort)\n",
    "\n",
    "frequency_by_cohort = cash_cohorts[subset].groupby(['created_at_month','cohorte'])['cash_request_id'].count().reset_index()\n",
    "frequency_by_cohort.sort_values(by=['created_at_month','cohorte'])\n",
    "frequency_by_cohort.set_index(['created_at_month','cohorte'], inplace=True)\n",
    "#frequency_by_cohort.columns = ['created_at_month','cohorte','num_requests']\n",
    "frequency_by_cohort.rename(columns={'cash_request_id': 'num_requests'}, inplace=True)\n",
    "frequency_by_cohort.iloc[0:50]"
   ]
  },
  {
   "cell_type": "code",
   "execution_count": 154,
   "id": "af3ca1e0",
   "metadata": {},
   "outputs": [
    {
     "data": {
      "text/plain": [
       "23970"
      ]
     },
     "execution_count": 154,
     "metadata": {},
     "output_type": "execute_result"
    }
   ],
   "source": [
    "# Comprobación: la suma debe dar el número total de peticiones, o sea 23970\n",
    "frequency_by_cohort['num_requests'].sum()"
   ]
  },
  {
   "cell_type": "code",
   "execution_count": 155,
   "id": "f47e4147",
   "metadata": {},
   "outputs": [
    {
     "data": {
      "image/png": "[encoded data removed]",
      "text/plain": [
       "<Figure size 1200x600 with 1 Axes>"
      ]
     },
     "metadata": {},
     "output_type": "display_data"
    }
   ],
   "source": [
    "# Unstack multi-index\n",
    "requests_for_plot = frequency_by_cohort.unstack()\n",
    "# Crear gráfico!!!\n",
    "requests_for_plot.plot(kind=\"bar\")\n",
    "plt.xlabel(\"Months\", fontsize=15)\n",
    "plt.ylabel(\"Number of requests\", fontsize=15)\n",
    "plt.title(\"Number of requests by cohort\", fontsize=20)\n",
    "plt.show()"
   ]
  },
  {
   "cell_type": "markdown",
   "id": "70f5cbe4",
   "metadata": {},
   "source": [
    "## 2. Tasa de incidentes"
   ]
  },
  {
   "cell_type": "markdown",
   "id": "2aed6f85",
   "metadata": {},
   "source": [
    "### Explorar tabla fees"
   ]
  },
  {
   "cell_type": "code",
   "execution_count": 167,
   "id": "43456480",
   "metadata": {},
   "outputs": [
    {
     "data": {
      "text/html": [
       "<div>\n",
       "<style scoped>\n",
       "    .dataframe tbody tr th:only-of-type {\n",
       "        vertical-align: middle;\n",
       "    }\n",
       "\n",
       "    .dataframe tbody tr th {\n",
       "        vertical-align: top;\n",
       "    }\n",
       "\n",
       "    .dataframe thead th {\n",
       "        text-align: right;\n",
       "    }\n",
       "</style>\n",
       "<table border=\"1\" class=\"dataframe\">\n",
       "  <thead>\n",
       "    <tr style=\"text-align: right;\">\n",
       "      <th></th>\n",
       "      <th>id</th>\n",
       "      <th>cash_request_id</th>\n",
       "      <th>type</th>\n",
       "      <th>status</th>\n",
       "      <th>category</th>\n",
       "      <th>total_amount</th>\n",
       "      <th>reason</th>\n",
       "      <th>created_at</th>\n",
       "      <th>updated_at</th>\n",
       "      <th>paid_at</th>\n",
       "      <th>from_date</th>\n",
       "      <th>to_date</th>\n",
       "      <th>charge_moment</th>\n",
       "    </tr>\n",
       "  </thead>\n",
       "  <tbody>\n",
       "    <tr>\n",
       "      <th>0</th>\n",
       "      <td>6537</td>\n",
       "      <td>14941.0</td>\n",
       "      <td>instant_payment</td>\n",
       "      <td>rejected</td>\n",
       "      <td>NaN</td>\n",
       "      <td>5.0</td>\n",
       "      <td>Instant Payment Cash Request 14941</td>\n",
       "      <td>2020-09-07 10:47:27.42315+00</td>\n",
       "      <td>2020-10-13 14:25:09.396112+00</td>\n",
       "      <td>2020-12-17 14:50:07.47011+00</td>\n",
       "      <td>NaN</td>\n",
       "      <td>NaN</td>\n",
       "      <td>after</td>\n",
       "    </tr>\n",
       "    <tr>\n",
       "      <th>1</th>\n",
       "      <td>6961</td>\n",
       "      <td>11714.0</td>\n",
       "      <td>incident</td>\n",
       "      <td>accepted</td>\n",
       "      <td>rejected_direct_debit</td>\n",
       "      <td>5.0</td>\n",
       "      <td>rejected direct debit</td>\n",
       "      <td>2020-09-09 20:51:17.998653+00</td>\n",
       "      <td>2020-10-13 14:25:15.537063+00</td>\n",
       "      <td>2020-12-08 17:13:10.45908+00</td>\n",
       "      <td>NaN</td>\n",
       "      <td>NaN</td>\n",
       "      <td>after</td>\n",
       "    </tr>\n",
       "    <tr>\n",
       "      <th>2</th>\n",
       "      <td>16296</td>\n",
       "      <td>23371.0</td>\n",
       "      <td>instant_payment</td>\n",
       "      <td>accepted</td>\n",
       "      <td>NaN</td>\n",
       "      <td>5.0</td>\n",
       "      <td>Instant Payment Cash Request 23371</td>\n",
       "      <td>2020-10-23 10:10:58.352972+00</td>\n",
       "      <td>2020-10-23 10:10:58.352994+00</td>\n",
       "      <td>2020-11-04 19:34:37.43291+00</td>\n",
       "      <td>NaN</td>\n",
       "      <td>NaN</td>\n",
       "      <td>after</td>\n",
       "    </tr>\n",
       "    <tr>\n",
       "      <th>3</th>\n",
       "      <td>20775</td>\n",
       "      <td>26772.0</td>\n",
       "      <td>instant_payment</td>\n",
       "      <td>accepted</td>\n",
       "      <td>NaN</td>\n",
       "      <td>5.0</td>\n",
       "      <td>Instant Payment Cash Request 26772</td>\n",
       "      <td>2020-10-31 15:46:53.643958+00</td>\n",
       "      <td>2020-10-31 15:46:53.643982+00</td>\n",
       "      <td>2020-11-19 05:09:22.500223+00</td>\n",
       "      <td>NaN</td>\n",
       "      <td>NaN</td>\n",
       "      <td>after</td>\n",
       "    </tr>\n",
       "    <tr>\n",
       "      <th>4</th>\n",
       "      <td>11242</td>\n",
       "      <td>19350.0</td>\n",
       "      <td>instant_payment</td>\n",
       "      <td>accepted</td>\n",
       "      <td>NaN</td>\n",
       "      <td>5.0</td>\n",
       "      <td>Instant Payment Cash Request 19350</td>\n",
       "      <td>2020-10-06 08:20:17.170432+00</td>\n",
       "      <td>2020-10-13 14:25:03.267983+00</td>\n",
       "      <td>2020-11-02 14:45:20.355598+00</td>\n",
       "      <td>NaN</td>\n",
       "      <td>NaN</td>\n",
       "      <td>after</td>\n",
       "    </tr>\n",
       "  </tbody>\n",
       "</table>\n",
       "</div>"
      ],
      "text/plain": [
       "      id  cash_request_id             type    status               category  \\\n",
       "0   6537          14941.0  instant_payment  rejected                    NaN   \n",
       "1   6961          11714.0         incident  accepted  rejected_direct_debit   \n",
       "2  16296          23371.0  instant_payment  accepted                    NaN   \n",
       "3  20775          26772.0  instant_payment  accepted                    NaN   \n",
       "4  11242          19350.0  instant_payment  accepted                    NaN   \n",
       "\n",
       "   total_amount                              reason  \\\n",
       "0           5.0  Instant Payment Cash Request 14941   \n",
       "1           5.0               rejected direct debit   \n",
       "2           5.0  Instant Payment Cash Request 23371   \n",
       "3           5.0  Instant Payment Cash Request 26772   \n",
       "4           5.0  Instant Payment Cash Request 19350   \n",
       "\n",
       "                      created_at                     updated_at  \\\n",
       "0   2020-09-07 10:47:27.42315+00  2020-10-13 14:25:09.396112+00   \n",
       "1  2020-09-09 20:51:17.998653+00  2020-10-13 14:25:15.537063+00   \n",
       "2  2020-10-23 10:10:58.352972+00  2020-10-23 10:10:58.352994+00   \n",
       "3  2020-10-31 15:46:53.643958+00  2020-10-31 15:46:53.643982+00   \n",
       "4  2020-10-06 08:20:17.170432+00  2020-10-13 14:25:03.267983+00   \n",
       "\n",
       "                         paid_at from_date to_date charge_moment  \n",
       "0   2020-12-17 14:50:07.47011+00       NaN     NaN         after  \n",
       "1   2020-12-08 17:13:10.45908+00       NaN     NaN         after  \n",
       "2   2020-11-04 19:34:37.43291+00       NaN     NaN         after  \n",
       "3  2020-11-19 05:09:22.500223+00       NaN     NaN         after  \n",
       "4  2020-11-02 14:45:20.355598+00       NaN     NaN         after  "
      ]
     },
     "execution_count": 167,
     "metadata": {},
     "output_type": "execute_result"
    }
   ],
   "source": [
    "fees.head()"
   ]
  },
  {
   "cell_type": "code",
   "execution_count": null,
   "id": "b824076f",
   "metadata": {},
   "outputs": [
    {
     "data": {
      "text/plain": [
       "(21061, 13)"
      ]
     },
     "metadata": {},
     "output_type": "display_data"
    }
   ],
   "source": [
    "fees.shape"
   ]
  },
  {
   "cell_type": "code",
   "execution_count": 205,
   "id": "715a8875",
   "metadata": {},
   "outputs": [
    {
     "name": "stdout",
     "output_type": "stream",
     "text": [
      "<class 'pandas.core.frame.DataFrame'>\n",
      "RangeIndex: 21061 entries, 0 to 21060\n",
      "Data columns (total 13 columns):\n",
      " #   Column           Non-Null Count  Dtype  \n",
      "---  ------           --------------  -----  \n",
      " 0   id               21061 non-null  int64  \n",
      " 1   cash_request_id  21057 non-null  float64\n",
      " 2   type             21061 non-null  object \n",
      " 3   status           21061 non-null  object \n",
      " 4   category         2196 non-null   object \n",
      " 5   total_amount     21061 non-null  float64\n",
      " 6   reason           21061 non-null  object \n",
      " 7   created_at       21061 non-null  object \n",
      " 8   updated_at       21061 non-null  object \n",
      " 9   paid_at          15531 non-null  object \n",
      " 10  from_date        7766 non-null   object \n",
      " 11  to_date          7766 non-null   object \n",
      " 12  charge_moment    21061 non-null  object \n",
      "dtypes: float64(2), int64(1), object(10)\n",
      "memory usage: 2.1+ MB\n"
     ]
    }
   ],
   "source": [
    "fees.info() # cash_request_id  21057 non-null  float64 \n"
   ]
  },
  {
   "cell_type": "code",
   "execution_count": 206,
   "id": "3d73e4e2",
   "metadata": {},
   "outputs": [
    {
     "data": {
      "text/html": [
       "<div>\n",
       "<style scoped>\n",
       "    .dataframe tbody tr th:only-of-type {\n",
       "        vertical-align: middle;\n",
       "    }\n",
       "\n",
       "    .dataframe tbody tr th {\n",
       "        vertical-align: top;\n",
       "    }\n",
       "\n",
       "    .dataframe thead th {\n",
       "        text-align: right;\n",
       "    }\n",
       "</style>\n",
       "<table border=\"1\" class=\"dataframe\">\n",
       "  <thead>\n",
       "    <tr style=\"text-align: right;\">\n",
       "      <th></th>\n",
       "      <th>id</th>\n",
       "      <th>cash_request_id</th>\n",
       "      <th>type</th>\n",
       "      <th>status</th>\n",
       "      <th>category</th>\n",
       "      <th>total_amount</th>\n",
       "      <th>reason</th>\n",
       "      <th>created_at</th>\n",
       "      <th>updated_at</th>\n",
       "      <th>paid_at</th>\n",
       "      <th>from_date</th>\n",
       "      <th>to_date</th>\n",
       "      <th>charge_moment</th>\n",
       "    </tr>\n",
       "  </thead>\n",
       "  <tbody>\n",
       "    <tr>\n",
       "      <th>1911</th>\n",
       "      <td>2990</td>\n",
       "      <td>NaN</td>\n",
       "      <td>instant_payment</td>\n",
       "      <td>cancelled</td>\n",
       "      <td>NaN</td>\n",
       "      <td>5.0</td>\n",
       "      <td>Instant Payment Cash Request 11164</td>\n",
       "      <td>2020-08-06 22:42:34.525373+00</td>\n",
       "      <td>2020-11-04 16:01:17.296048+00</td>\n",
       "      <td>NaN</td>\n",
       "      <td>NaN</td>\n",
       "      <td>NaN</td>\n",
       "      <td>after</td>\n",
       "    </tr>\n",
       "    <tr>\n",
       "      <th>1960</th>\n",
       "      <td>3124</td>\n",
       "      <td>NaN</td>\n",
       "      <td>instant_payment</td>\n",
       "      <td>cancelled</td>\n",
       "      <td>NaN</td>\n",
       "      <td>5.0</td>\n",
       "      <td>Instant Payment Cash Request 11444</td>\n",
       "      <td>2020-08-08 06:33:06.244651+00</td>\n",
       "      <td>2020-11-04 16:01:08.332978+00</td>\n",
       "      <td>NaN</td>\n",
       "      <td>NaN</td>\n",
       "      <td>NaN</td>\n",
       "      <td>after</td>\n",
       "    </tr>\n",
       "    <tr>\n",
       "      <th>4605</th>\n",
       "      <td>5185</td>\n",
       "      <td>NaN</td>\n",
       "      <td>instant_payment</td>\n",
       "      <td>cancelled</td>\n",
       "      <td>NaN</td>\n",
       "      <td>5.0</td>\n",
       "      <td>Instant Payment Cash Request 11788</td>\n",
       "      <td>2020-08-26 09:39:37.362933+00</td>\n",
       "      <td>2020-11-04 16:01:36.492576+00</td>\n",
       "      <td>NaN</td>\n",
       "      <td>NaN</td>\n",
       "      <td>NaN</td>\n",
       "      <td>after</td>\n",
       "    </tr>\n",
       "    <tr>\n",
       "      <th>11870</th>\n",
       "      <td>3590</td>\n",
       "      <td>NaN</td>\n",
       "      <td>instant_payment</td>\n",
       "      <td>cancelled</td>\n",
       "      <td>NaN</td>\n",
       "      <td>5.0</td>\n",
       "      <td>Instant Payment Cash Request 12212</td>\n",
       "      <td>2020-08-12 14:20:06.657075+00</td>\n",
       "      <td>2020-11-04 16:01:53.106416+00</td>\n",
       "      <td>NaN</td>\n",
       "      <td>NaN</td>\n",
       "      <td>NaN</td>\n",
       "      <td>after</td>\n",
       "    </tr>\n",
       "  </tbody>\n",
       "</table>\n",
       "</div>"
      ],
      "text/plain": [
       "         id  cash_request_id             type     status category  \\\n",
       "1911   2990              NaN  instant_payment  cancelled      NaN   \n",
       "1960   3124              NaN  instant_payment  cancelled      NaN   \n",
       "4605   5185              NaN  instant_payment  cancelled      NaN   \n",
       "11870  3590              NaN  instant_payment  cancelled      NaN   \n",
       "\n",
       "       total_amount                              reason  \\\n",
       "1911            5.0  Instant Payment Cash Request 11164   \n",
       "1960            5.0  Instant Payment Cash Request 11444   \n",
       "4605            5.0  Instant Payment Cash Request 11788   \n",
       "11870           5.0  Instant Payment Cash Request 12212   \n",
       "\n",
       "                          created_at                     updated_at paid_at  \\\n",
       "1911   2020-08-06 22:42:34.525373+00  2020-11-04 16:01:17.296048+00     NaN   \n",
       "1960   2020-08-08 06:33:06.244651+00  2020-11-04 16:01:08.332978+00     NaN   \n",
       "4605   2020-08-26 09:39:37.362933+00  2020-11-04 16:01:36.492576+00     NaN   \n",
       "11870  2020-08-12 14:20:06.657075+00  2020-11-04 16:01:53.106416+00     NaN   \n",
       "\n",
       "      from_date to_date charge_moment  \n",
       "1911        NaN     NaN         after  \n",
       "1960        NaN     NaN         after  \n",
       "4605        NaN     NaN         after  \n",
       "11870       NaN     NaN         after  "
      ]
     },
     "execution_count": 206,
     "metadata": {},
     "output_type": "execute_result"
    }
   ],
   "source": [
    "fees[fees['cash_request_id'].isna()] # Hay 4 valores NaN en columna 'cash_request_id'!!!"
   ]
  },
  {
   "cell_type": "code",
   "execution_count": 288,
   "id": "fd2498ba",
   "metadata": {},
   "outputs": [
    {
     "data": {
      "text/html": [
       "<div>\n",
       "<style scoped>\n",
       "    .dataframe tbody tr th:only-of-type {\n",
       "        vertical-align: middle;\n",
       "    }\n",
       "\n",
       "    .dataframe tbody tr th {\n",
       "        vertical-align: top;\n",
       "    }\n",
       "\n",
       "    .dataframe thead th {\n",
       "        text-align: right;\n",
       "    }\n",
       "</style>\n",
       "<table border=\"1\" class=\"dataframe\">\n",
       "  <thead>\n",
       "    <tr style=\"text-align: right;\">\n",
       "      <th></th>\n",
       "      <th>id</th>\n",
       "      <th>cash_request_id</th>\n",
       "      <th>type</th>\n",
       "      <th>status</th>\n",
       "      <th>category</th>\n",
       "      <th>total_amount</th>\n",
       "      <th>reason</th>\n",
       "      <th>created_at</th>\n",
       "      <th>updated_at</th>\n",
       "      <th>paid_at</th>\n",
       "      <th>from_date</th>\n",
       "      <th>to_date</th>\n",
       "      <th>charge_moment</th>\n",
       "    </tr>\n",
       "  </thead>\n",
       "  <tbody>\n",
       "    <tr>\n",
       "      <th>1911</th>\n",
       "      <td>2990</td>\n",
       "      <td>11164.0</td>\n",
       "      <td>instant_payment</td>\n",
       "      <td>cancelled</td>\n",
       "      <td>NaN</td>\n",
       "      <td>5.0</td>\n",
       "      <td>Instant Payment Cash Request 11164</td>\n",
       "      <td>2020-08-06 22:42:34.525373+00</td>\n",
       "      <td>2020-11-04 16:01:17.296048+00</td>\n",
       "      <td>NaN</td>\n",
       "      <td>NaN</td>\n",
       "      <td>NaN</td>\n",
       "      <td>after</td>\n",
       "    </tr>\n",
       "    <tr>\n",
       "      <th>1960</th>\n",
       "      <td>3124</td>\n",
       "      <td>11444.0</td>\n",
       "      <td>instant_payment</td>\n",
       "      <td>cancelled</td>\n",
       "      <td>NaN</td>\n",
       "      <td>5.0</td>\n",
       "      <td>Instant Payment Cash Request 11444</td>\n",
       "      <td>2020-08-08 06:33:06.244651+00</td>\n",
       "      <td>2020-11-04 16:01:08.332978+00</td>\n",
       "      <td>NaN</td>\n",
       "      <td>NaN</td>\n",
       "      <td>NaN</td>\n",
       "      <td>after</td>\n",
       "    </tr>\n",
       "    <tr>\n",
       "      <th>4605</th>\n",
       "      <td>5185</td>\n",
       "      <td>11788.0</td>\n",
       "      <td>instant_payment</td>\n",
       "      <td>cancelled</td>\n",
       "      <td>NaN</td>\n",
       "      <td>5.0</td>\n",
       "      <td>Instant Payment Cash Request 11788</td>\n",
       "      <td>2020-08-26 09:39:37.362933+00</td>\n",
       "      <td>2020-11-04 16:01:36.492576+00</td>\n",
       "      <td>NaN</td>\n",
       "      <td>NaN</td>\n",
       "      <td>NaN</td>\n",
       "      <td>after</td>\n",
       "    </tr>\n",
       "    <tr>\n",
       "      <th>11870</th>\n",
       "      <td>3590</td>\n",
       "      <td>12212.0</td>\n",
       "      <td>instant_payment</td>\n",
       "      <td>cancelled</td>\n",
       "      <td>NaN</td>\n",
       "      <td>5.0</td>\n",
       "      <td>Instant Payment Cash Request 12212</td>\n",
       "      <td>2020-08-12 14:20:06.657075+00</td>\n",
       "      <td>2020-11-04 16:01:53.106416+00</td>\n",
       "      <td>NaN</td>\n",
       "      <td>NaN</td>\n",
       "      <td>NaN</td>\n",
       "      <td>after</td>\n",
       "    </tr>\n",
       "  </tbody>\n",
       "</table>\n",
       "</div>"
      ],
      "text/plain": [
       "         id  cash_request_id             type     status category  \\\n",
       "1911   2990          11164.0  instant_payment  cancelled      NaN   \n",
       "1960   3124          11444.0  instant_payment  cancelled      NaN   \n",
       "4605   5185          11788.0  instant_payment  cancelled      NaN   \n",
       "11870  3590          12212.0  instant_payment  cancelled      NaN   \n",
       "\n",
       "       total_amount                              reason  \\\n",
       "1911            5.0  Instant Payment Cash Request 11164   \n",
       "1960            5.0  Instant Payment Cash Request 11444   \n",
       "4605            5.0  Instant Payment Cash Request 11788   \n",
       "11870           5.0  Instant Payment Cash Request 12212   \n",
       "\n",
       "                          created_at                     updated_at paid_at  \\\n",
       "1911   2020-08-06 22:42:34.525373+00  2020-11-04 16:01:17.296048+00     NaN   \n",
       "1960   2020-08-08 06:33:06.244651+00  2020-11-04 16:01:08.332978+00     NaN   \n",
       "4605   2020-08-26 09:39:37.362933+00  2020-11-04 16:01:36.492576+00     NaN   \n",
       "11870  2020-08-12 14:20:06.657075+00  2020-11-04 16:01:53.106416+00     NaN   \n",
       "\n",
       "      from_date to_date charge_moment  \n",
       "1911        NaN     NaN         after  \n",
       "1960        NaN     NaN         after  \n",
       "4605        NaN     NaN         after  \n",
       "11870       NaN     NaN         after  "
      ]
     },
     "execution_count": 288,
     "metadata": {},
     "output_type": "execute_result"
    }
   ],
   "source": [
    "# Recuperar el valor de 'cash_request_id' a partir de 'reason', para esas 4 filas\n",
    "valores_id = fees[fees['cash_request_id'].isna()]['id'] # 'id' = [2990,3124,5185,3590]\n",
    "valores_id\n",
    "fees[fees['id'].isin(valores_id)]\n",
    "\n",
    "extract_crid = lambda x: float(x.split(\" \")[-1])\n",
    "crid_values = fees[fees['cash_request_id'].isna()]['reason'].transform(extract_crid)\n",
    "crid_values\n",
    "\n",
    "reason_dic = { 'cash_request_id' : crid_values}\n",
    "\n",
    "fees.fillna(reason_dic, inplace=True)\n",
    "\n",
    "# Comprobación\n",
    "fees[fees['id'].isin(valores_id)]"
   ]
  },
  {
   "cell_type": "code",
   "execution_count": 306,
   "id": "2541c0f5",
   "metadata": {},
   "outputs": [],
   "source": [
    "# Conversión de float a int, para poder enlazarlo con la tabla cash\n",
    "fees['cash_request_id'] = fees['cash_request_id'].astype(int)"
   ]
  },
  {
   "cell_type": "code",
   "execution_count": 307,
   "id": "8fdeaa0f",
   "metadata": {},
   "outputs": [
    {
     "data": {
      "text/plain": [
       "type\n",
       "instant_payment    11099\n",
       "postpone            7766\n",
       "incident            2196\n",
       "Name: count, dtype: int64"
      ]
     },
     "execution_count": 307,
     "metadata": {},
     "output_type": "execute_result"
    }
   ],
   "source": [
    "fees['type'].value_counts()"
   ]
  },
  {
   "cell_type": "markdown",
   "id": "8c5819cd",
   "metadata": {},
   "source": [
    "### Comprobar relación entre tablas cash y fees"
   ]
  },
  {
   "cell_type": "code",
   "execution_count": 313,
   "id": "9cf5c8ac",
   "metadata": {},
   "outputs": [
    {
     "data": {
      "text/plain": [
       "status\n",
       "rejected                 6568\n",
       "money_back               4352\n",
       "direct_debit_rejected      83\n",
       "canceled                   29\n",
       "active                      3\n",
       "direct_debit_sent           2\n",
       "Name: count, dtype: int64"
      ]
     },
     "execution_count": 313,
     "metadata": {},
     "output_type": "execute_result"
    }
   ],
   "source": [
    "# Comprobar relación entre ambas tablas, que debería ser a través de la columna 'cash_request_id'\n",
    "#fees[fees['cash_request_id']==1594] # Primeras cinco filas de cash: 5 70 7 10 1594\n",
    "#fees[fees['cash_request_id'].isin([5,70,7,10,1594])]\n",
    "#cash_cohorts['cash_request_id'].values[0:100]\n",
    "#fees[fees['cash_request_id'].isin(cash_cohorts['cash_request_id'].values)].shape\n",
    "cash_cohorts[~cash_cohorts['cash_request_id'].isin(fees['cash_request_id'].values)].shape # 11037 entradas en tabla cash NO tienen su correspondiente en la tabla fees, basándonos en 'cash_request_id'\n",
    "cash_cohorts[~cash_cohorts['cash_request_id'].isin(fees['cash_request_id'].values)].sample(50)\n",
    "cash_cohorts[~cash_cohorts['cash_request_id'].isin(fees['cash_request_id'].values)]['status'].value_counts()"
   ]
  },
  {
   "cell_type": "code",
   "execution_count": 181,
   "id": "f06aa9dd",
   "metadata": {},
   "outputs": [
    {
     "data": {
      "text/plain": [
       "Index(['cash_request_id', 'amount', 'status', 'created_at', 'user_id',\n",
       "       'deleted_account_id', 'id_usuario', 'cohorte', 'created_at_month'],\n",
       "      dtype='object')"
      ]
     },
     "execution_count": 181,
     "metadata": {},
     "output_type": "execute_result"
    }
   ],
   "source": [
    "cash_cohorts.columns"
   ]
  },
  {
   "cell_type": "code",
   "execution_count": 182,
   "id": "23f83bab",
   "metadata": {},
   "outputs": [
    {
     "data": {
      "text/plain": [
       "Index(['id', 'cash_request_id', 'type', 'status', 'category', 'total_amount',\n",
       "       'reason', 'created_at', 'updated_at', 'paid_at', 'from_date', 'to_date',\n",
       "       'charge_moment'],\n",
       "      dtype='object')"
      ]
     },
     "execution_count": 182,
     "metadata": {},
     "output_type": "execute_result"
    }
   ],
   "source": [
    "fees.columns"
   ]
  },
  {
   "cell_type": "code",
   "execution_count": 321,
   "id": "63e9b333",
   "metadata": {},
   "outputs": [],
   "source": [
    "# Seleccionar sólo columnas que interesan para la tasa de incidencias\n",
    "# fees = fees[['id', 'cash_request_id', 'type', 'status', 'total_amount',\n",
    "#        'created_at', 'updated_at']]\n",
    "fees = fees[['id', 'cash_request_id', 'type', 'status', 'total_amount']]"
   ]
  },
  {
   "cell_type": "markdown",
   "id": "9d9301a0",
   "metadata": {},
   "source": [
    "### Unir tablas cash y fees"
   ]
  },
  {
   "cell_type": "code",
   "execution_count": 322,
   "id": "bdd8ba6a",
   "metadata": {},
   "outputs": [
    {
     "name": "stdout",
     "output_type": "stream",
     "text": [
      "(23970, 9)\n",
      "(21061, 5)\n"
     ]
    }
   ],
   "source": [
    "print(cash_cohorts.shape)\n",
    "print(fees.shape)"
   ]
  },
  {
   "cell_type": "code",
   "execution_count": 323,
   "id": "fc481d4f",
   "metadata": {},
   "outputs": [
    {
     "name": "stdout",
     "output_type": "stream",
     "text": [
      "(21057, 13)\n"
     ]
    },
    {
     "data": {
      "text/html": [
       "<div>\n",
       "<style scoped>\n",
       "    .dataframe tbody tr th:only-of-type {\n",
       "        vertical-align: middle;\n",
       "    }\n",
       "\n",
       "    .dataframe tbody tr th {\n",
       "        vertical-align: top;\n",
       "    }\n",
       "\n",
       "    .dataframe thead th {\n",
       "        text-align: right;\n",
       "    }\n",
       "</style>\n",
       "<table border=\"1\" class=\"dataframe\">\n",
       "  <thead>\n",
       "    <tr style=\"text-align: right;\">\n",
       "      <th></th>\n",
       "      <th>cash_request_id</th>\n",
       "      <th>amount</th>\n",
       "      <th>status_x</th>\n",
       "      <th>created_at</th>\n",
       "      <th>user_id</th>\n",
       "      <th>deleted_account_id</th>\n",
       "      <th>id_usuario</th>\n",
       "      <th>cohorte</th>\n",
       "      <th>created_at_month</th>\n",
       "      <th>id</th>\n",
       "      <th>type</th>\n",
       "      <th>status_y</th>\n",
       "      <th>total_amount</th>\n",
       "    </tr>\n",
       "  </thead>\n",
       "  <tbody>\n",
       "    <tr>\n",
       "      <th>0</th>\n",
       "      <td>23534</td>\n",
       "      <td>25.0</td>\n",
       "      <td>money_back</td>\n",
       "      <td>2020-10-23 15:20:26.163927+00:00</td>\n",
       "      <td>21465.0</td>\n",
       "      <td>NaN</td>\n",
       "      <td>21465</td>\n",
       "      <td>2020-09</td>\n",
       "      <td>2020-10</td>\n",
       "      <td>16460</td>\n",
       "      <td>instant_payment</td>\n",
       "      <td>accepted</td>\n",
       "      <td>5.0</td>\n",
       "    </tr>\n",
       "    <tr>\n",
       "      <th>1</th>\n",
       "      <td>2203</td>\n",
       "      <td>100.0</td>\n",
       "      <td>money_back</td>\n",
       "      <td>2020-05-27 02:26:27.615190+00:00</td>\n",
       "      <td>2109.0</td>\n",
       "      <td>NaN</td>\n",
       "      <td>2109</td>\n",
       "      <td>2019-12</td>\n",
       "      <td>2020-05</td>\n",
       "      <td>100</td>\n",
       "      <td>postpone</td>\n",
       "      <td>accepted</td>\n",
       "      <td>5.0</td>\n",
       "    </tr>\n",
       "    <tr>\n",
       "      <th>2</th>\n",
       "      <td>6098</td>\n",
       "      <td>100.0</td>\n",
       "      <td>active</td>\n",
       "      <td>2020-07-01 09:30:03.145410+00:00</td>\n",
       "      <td>23328.0</td>\n",
       "      <td>NaN</td>\n",
       "      <td>23328</td>\n",
       "      <td>2020-07</td>\n",
       "      <td>2020-07</td>\n",
       "      <td>3733</td>\n",
       "      <td>postpone</td>\n",
       "      <td>cancelled</td>\n",
       "      <td>5.0</td>\n",
       "    </tr>\n",
       "    <tr>\n",
       "      <th>3</th>\n",
       "      <td>6098</td>\n",
       "      <td>100.0</td>\n",
       "      <td>active</td>\n",
       "      <td>2020-07-01 09:30:03.145410+00:00</td>\n",
       "      <td>23328.0</td>\n",
       "      <td>NaN</td>\n",
       "      <td>23328</td>\n",
       "      <td>2020-07</td>\n",
       "      <td>2020-07</td>\n",
       "      <td>3734</td>\n",
       "      <td>postpone</td>\n",
       "      <td>cancelled</td>\n",
       "      <td>5.0</td>\n",
       "    </tr>\n",
       "    <tr>\n",
       "      <th>4</th>\n",
       "      <td>6098</td>\n",
       "      <td>100.0</td>\n",
       "      <td>active</td>\n",
       "      <td>2020-07-01 09:30:03.145410+00:00</td>\n",
       "      <td>23328.0</td>\n",
       "      <td>NaN</td>\n",
       "      <td>23328</td>\n",
       "      <td>2020-07</td>\n",
       "      <td>2020-07</td>\n",
       "      <td>3735</td>\n",
       "      <td>postpone</td>\n",
       "      <td>cancelled</td>\n",
       "      <td>5.0</td>\n",
       "    </tr>\n",
       "  </tbody>\n",
       "</table>\n",
       "</div>"
      ],
      "text/plain": [
       "   cash_request_id  amount    status_x                       created_at  \\\n",
       "0            23534    25.0  money_back 2020-10-23 15:20:26.163927+00:00   \n",
       "1             2203   100.0  money_back 2020-05-27 02:26:27.615190+00:00   \n",
       "2             6098   100.0      active 2020-07-01 09:30:03.145410+00:00   \n",
       "3             6098   100.0      active 2020-07-01 09:30:03.145410+00:00   \n",
       "4             6098   100.0      active 2020-07-01 09:30:03.145410+00:00   \n",
       "\n",
       "   user_id  deleted_account_id  id_usuario  cohorte created_at_month     id  \\\n",
       "0  21465.0                 NaN       21465  2020-09          2020-10  16460   \n",
       "1   2109.0                 NaN        2109  2019-12          2020-05    100   \n",
       "2  23328.0                 NaN       23328  2020-07          2020-07   3733   \n",
       "3  23328.0                 NaN       23328  2020-07          2020-07   3734   \n",
       "4  23328.0                 NaN       23328  2020-07          2020-07   3735   \n",
       "\n",
       "              type   status_y  total_amount  \n",
       "0  instant_payment   accepted           5.0  \n",
       "1         postpone   accepted           5.0  \n",
       "2         postpone  cancelled           5.0  \n",
       "3         postpone  cancelled           5.0  \n",
       "4         postpone  cancelled           5.0  "
      ]
     },
     "execution_count": 323,
     "metadata": {},
     "output_type": "execute_result"
    }
   ],
   "source": [
    "merged = pd.merge(cash_cohorts, fees, on='cash_request_id')\n",
    "print(merged.shape)\n",
    "merged.head()"
   ]
  },
  {
   "cell_type": "code",
   "execution_count": null,
   "id": "9013981d",
   "metadata": {},
   "outputs": [],
   "source": []
  },
  {
   "cell_type": "code",
   "execution_count": null,
   "id": "9403ba4e",
   "metadata": {},
   "outputs": [],
   "source": []
  },
  {
   "cell_type": "code",
   "execution_count": null,
   "id": "72711024",
   "metadata": {},
   "outputs": [],
   "source": []
  },
  {
   "cell_type": "code",
   "execution_count": null,
   "id": "33a59147",
   "metadata": {},
   "outputs": [],
   "source": []
  },
  {
   "cell_type": "code",
   "execution_count": null,
   "id": "4207592c",
   "metadata": {},
   "outputs": [],
   "source": []
  },
  {
   "cell_type": "code",
   "execution_count": null,
   "id": "4993f245-f1e3-4032-941d-b4df7ce9babf",
   "metadata": {},
   "outputs": [],
   "source": []
  }
 ],
 "metadata": {
  "kernelspec": {
   "display_name": "base",
   "language": "python",
   "name": "python3"
  },
  "language_info": {
   "codemirror_mode": {
    "name": "ipython",
    "version": 3
   },
   "file_extension": ".py",
   "mimetype": "text/x-python",
   "name": "python",
   "nbconvert_exporter": "python",
   "pygments_lexer": "ipython3",
   "version": "3.12.4"
  }
 },
 "nbformat": 4,
 "nbformat_minor": 5
}
