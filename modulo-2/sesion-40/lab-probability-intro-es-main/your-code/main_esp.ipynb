{
 "cells": [
  {
   "cell_type": "markdown",
   "metadata": {},
   "source": [
    "# Probability"
   ]
  },
  {
   "cell_type": "markdown",
   "metadata": {},
   "source": [
    "## Reto 1\n",
    "Hay una caja con 10 bolas blancas, 12 bolas rojas y 8 bolas negras. Calcula la probabilidad de:\n",
    "* Sacar una bola blanca.\n",
    "* Sacar una bola blanca en la primera extracción y una bola negra en la segunda extracción sin reemplazar la primera.\n",
    "* Sacar una bola blanca en la primera extracción y una bola negra en la segunda extracción reemplazando la primera.\n",
    "* Sacar 3 bolas y que sean todas de diferentes colores."
   ]
  },
  {
   "cell_type": "code",
   "execution_count": 10,
   "metadata": {},
   "outputs": [
    {
     "name": "stdout",
     "output_type": "stream",
     "text": [
      "PROBABILIDAD de...\n",
      "Sacar una bola blanca:\n",
      "33.33%\n",
      "Sacar una bola blanca en la primera extracción y una bola negra en la segunda extracción sin reemplazar la primera.\n",
      "9.2%\n",
      "Sacar una bola blanca en la primera extracción y una bola negra en la segunda extracción reemplazando la primera.\n",
      "8.89%\n",
      "Sacar 3 bolas y que sean todas de diferentes colores.\n",
      "3.94%\n"
     ]
    }
   ],
   "source": [
    "def printout(p):\n",
    "    print(f'{round(p*100, 2)}%')\n",
    "    return \n",
    "\n",
    "# Reto 1: Sacar una bola blanca.\n",
    "print('PROBABILIDAD de...')\n",
    "print('Sacar una bola blanca:')\n",
    "p = 10/30\n",
    "printout(p)\n",
    "# Reto 1: Sacar una bola blanca en la primera extracción y una bola negra en la segunda extracción sin reemplazar la primera.\n",
    "print('Sacar una bola blanca en la primera extracción y una bola negra en la segunda extracción sin reemplazar la primera.')\n",
    "p = (10/30)*(8/29)\n",
    "printout(p)\n",
    "# Reto 1: Sacar una bola blanca en la primera extracción y una bola negra en la segunda extracción reemplazando la primera.\n",
    "print('Sacar una bola blanca en la primera extracción y una bola negra en la segunda extracción reemplazando la primera.')\n",
    "p = (10/30)*(8/30)\n",
    "printout(p)\n",
    "# Reto 1: Sacar 3 bolas y que sean todas de diferentes colores.\n",
    "print('Sacar 3 bolas y que sean todas de diferentes colores.')\n",
    "p = (10/30)*(12/29)*(8/28)\n",
    "printout(p)"
   ]
  },
  {
   "cell_type": "markdown",
   "metadata": {},
   "source": [
    "## Reto 2\n",
    "\n",
    "Quieres ir de picnic el sábado. Odias la lluvia y quieres planificar tu fin de semana. Para ayudarte a tomar una decisión, recopilas los siguientes datos sobre los días lluviosos:\n",
    "\n",
    "* El 40% de todos los días están nublados.\n",
    "* Aproximadamente el 50% de los días nublados son lluviosos.\n",
    "* Aproximadamente el 20% de los días no nublados son lluviosos.\n",
    "\n",
    "¿Cuál es la probabilidad de que llueva el próximo sábado?"
   ]
  },
  {
   "cell_type": "code",
   "execution_count": 11,
   "metadata": {},
   "outputs": [
    {
     "name": "stdout",
     "output_type": "stream",
     "text": [
      "Probabilidad de que llueva el próximo sábado:\n",
      "32.0%\n"
     ]
    }
   ],
   "source": [
    "# Probabilidad de que llueva el próximo sábado\n",
    "print('Probabilidad de que llueva el próximo sábado:')\n",
    "p = ((40/100)*(50/100)) + ((60/100)*(20/100))\n",
    "printout(p)"
   ]
  },
  {
   "cell_type": "markdown",
   "metadata": {},
   "source": [
    "## Reto 3\n",
    "\n",
    "A y B son eventos de una probabilidad tal que \\(P(A) = 0.3\\), \\(P(B) = 0.6\\) y \\(P(A \\cap B) = 0.1\\)\n",
    "\n",
    "¿Cuáles de las siguientes afirmaciones son verdaderas?\n",
    "**SUGERENCIA: dibuja un gran diagrama de Venn a tu lado**\n",
    "* \\(P(\\overline{A}) = 0.7\\)\n",
    "* \\(P(A \\cup B) = 0.6\\)\n",
    "* \\(P(A \\cap \\overline{B}) = 0.2\\)\n",
    "* \\(P(A \\cup \\overline{A}) = 1\\)  \n",
    "* \\(P(A \\cap (B \\cup \\overline{B})) = 0.4\\)\n",
    "* \\(P(\\overline{A} \\cap \\overline{B}) = 0.3\\)\n",
    "* \\(P(\\overline{A \\cap B}) = 0.9\\)"
   ]
  },
  {
   "cell_type": "markdown",
   "metadata": {},
   "source": [
    "###  SOLUCIÓN:\n",
    "\n",
    "$P(A) = 0.3$\n",
    "\n",
    "$P(B) = 0.6$\n",
    "\n",
    "$P(A \\cap B) = 0.1$\n",
    "\n",
    "- - - - - - - - \n",
    "\n",
    "Teniendo en cuenta que...\n",
    "\n",
    "... $P(A \\cap B) = P(A) * P(B)$\n",
    "\n",
    "... $P(A \\cup B) = P(A) + P(B) - P(A \\cap B)$\n",
    "\n",
    "... $P(A \\cap \\overline{B}) = P(A) - P(A \\cap B)$\n",
    "\n",
    "... $P(\\overline{A \\cap B}) = 1 - P(A \\cap B)$\n",
    "\n",
    "- - - - - - - - \n",
    "\n",
    "$P(\\overline{A}) = 0.7$ es **VERDADERO**, ya que $P(\\overline{A}) = 1 - P({A}) = 1 - 0.3  = 0.7$\n",
    "\n",
    "$P(A \\cup B) = 0.6$ es **FALSO**, ya que $P(A \\cup B) = P(A) + P(B) - P(A \\cap B) = 0.3 + 0.6 - 0.1 = 0.8$\n",
    "\n",
    "$P(A \\cap \\overline{B}) = 0.2$ es **VERDADERO**, ya que $P(A \\cap \\overline{B}) = P(A) - P(A \\cap B) = 0.3 - 0.1 = 0.2$\n",
    "\n",
    "$P(A \\cup \\overline{A}) = 1$ es **VERDADERO**, ya que $P(A \\cup \\overline{A}) = P(A) + P(\\overline{A}) = 0.3 + (1 - 0.3) = 1$\n",
    "\n",
    "$P(A \\cap (B \\cup \\overline{B})) = 0.4$ es **FALSO**, ya que $P(A \\cap (B \\cup \\overline{B})) = P(A) * P((B \\cup \\overline{B})) = P(A) * ( P(B) + P(\\overline{B}) ) = 0.3 * (1) = 0.3$\n",
    "\n",
    "$P(\\overline{A} \\cap \\overline{B}) = 0.3$ es **FALSO**, ya que $P(\\overline{A} \\cap \\overline{B}) = P(\\overline{A}) * P(\\overline{B}) = (1 - 0.3) * (1 - 0.6) = 0.7 * 0.4 = 0.28$\n",
    "\n",
    "$P(\\overline{A \\cap B}) = 0.9$ es **VERDADERO**, ya que $P(\\overline{A \\cap B}) = 1 - P(A \\cap B) = 1 - 0.1 = 0.9$"
   ]
  },
  {
   "cell_type": "markdown",
   "metadata": {},
   "source": [
    "## Reto 4\n",
    "\n",
    "* Si alguien viaja a China, la probabilidad de contraer Covid es del 1%\n",
    "* Si alguien viaja a Italia, la probabilidad de contraer Covid es del 20%\n",
    "\n",
    "Lanzo un dado con números 1, 2, 3, 4, 5, 6:\n",
    "* Si sale 1: Vuelo a Italia\n",
    "* Si no sale 1: Vuelo a China\n",
    "\n",
    "Durante mi viaje, contraje Covid. ¿Cuál es la probabilidad de que haya volado a China?"
   ]
  },
  {
   "cell_type": "code",
   "execution_count": 22,
   "metadata": {},
   "outputs": [
    {
     "name": "stdout",
     "output_type": "stream",
     "text": [
      "covid_china: 0.008333333333333333\n",
      "covid_italia: 0.03333333333333333\n",
      "La probabilidad de haber viajado a China es:\n",
      "20.0%\n"
     ]
    }
   ],
   "source": [
    "prob_covid_china = 1/100\n",
    "prob_covid_italia = 20/100\n",
    "\n",
    "viaje_italia = 1/6\n",
    "viaje_china = 5/6\n",
    "\n",
    "covid_china = viaje_china * prob_covid_china\n",
    "covid_italia = viaje_italia * prob_covid_italia\n",
    "\n",
    "print('covid_china:',covid_china)\n",
    "print('covid_italia:',covid_italia)\n",
    "\n",
    "p = covid_china / (covid_china + covid_italia)\n",
    "print('La probabilidad de haber viajado a China es:')\n",
    "printout(p)\n",
    "\n"
   ]
  },
  {
   "cell_type": "markdown",
   "metadata": {},
   "source": [
    "## BONUS\n",
    "\n",
    "Lanzas 2 dados. ¿Cuál es la probabilidad de que la suma de los números sea 7? ¿Y 8? ¿Y 9? Luego simula 10000 veces y dibuja un gráfico de conteo.\n",
    "\n",
    "tu explicación aquí"
   ]
  },
  {
   "cell_type": "code",
   "execution_count": null,
   "metadata": {},
   "outputs": [],
   "source": [
    "# YOUR CODE HERE"
   ]
  }
 ],
 "metadata": {
  "kernelspec": {
   "display_name": "base",
   "language": "python",
   "name": "python3"
  },
  "language_info": {
   "codemirror_mode": {
    "name": "ipython",
    "version": 3
   },
   "file_extension": ".py",
   "mimetype": "text/x-python",
   "name": "python",
   "nbconvert_exporter": "python",
   "pygments_lexer": "ipython3",
   "version": "3.12.4"
  },
  "toc": {
   "base_numbering": 1,
   "nav_menu": {},
   "number_sections": false,
   "sideBar": true,
   "skip_h1_title": false,
   "title_cell": "Table of Contents",
   "title_sidebar": "Contents",
   "toc_cell": false,
   "toc_position": {
    "height": "calc(100% - 180px)",
    "left": "10px",
    "top": "150px",
    "width": "296.475px"
   },
   "toc_section_display": true,
   "toc_window_display": false
  },
  "varInspector": {
   "cols": {
    "lenName": 16,
    "lenType": 16,
    "lenVar": 40
   },
   "kernels_config": {
    "python": {
     "delete_cmd_postfix": "",
     "delete_cmd_prefix": "del ",
     "library": "var_list.py",
     "varRefreshCmd": "print(var_dic_list())"
    },
    "r": {
     "delete_cmd_postfix": ") ",
     "delete_cmd_prefix": "rm(",
     "library": "var_list.r",
     "varRefreshCmd": "cat(var_dic_list()) "
    }
   },
   "types_to_exclude": [
    "module",
    "function",
    "builtin_function_or_method",
    "instance",
    "_Feature"
   ],
   "window_display": false
  }
 },
 "nbformat": 4,
 "nbformat_minor": 2
}
