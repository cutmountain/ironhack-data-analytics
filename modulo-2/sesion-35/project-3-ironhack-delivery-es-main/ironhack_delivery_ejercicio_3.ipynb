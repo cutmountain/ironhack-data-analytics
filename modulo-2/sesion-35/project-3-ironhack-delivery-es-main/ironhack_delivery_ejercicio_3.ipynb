{
 "cells": [
  {
   "cell_type": "markdown",
   "metadata": {},
   "source": [
    "# Ironhack Delivery project\n",
    "\n",
    "## Ejercicio #3: Experimento\n",
    "\n",
    "### ¿Qué tipo de prueba requeriría esto?\n",
    "Un experimento controlado A/B. Donde habría dos grupos:\n",
    "- Grupo de control a 1,9€\n",
    "- Grupo de tratamiento a 2,1€\n",
    "\n",
    "### ¿Probarías esto solo en nuevos usuarios o en todos los usuarios activos? ¿Por qué?\n",
    "Todos los usuarios ya que aseguras que la muestra sea de usuarios recurrentes y de nuevos.\n",
    "\n",
    "### ¿Qué suposiciones harías y cómo probarías si estas suposiciones son correctas?\n",
    "Que ambos grupos (de control y tratamiento) sean iguales (en cuanto a características).\n",
    "Que la sensibilidad al precio no varía por otros factores que no tienen que ver con la prueba.\n",
    "\n",
    "Pruebas: Hacer un análisis de equilibro para asegurarnos que las muestras son homogéneas.\n",
    "\n",
    "### ¿Qué enfoque usarías para determinar la duración del experimento?\n",
    "El objetivo es tener un nivel de significancia de aprox 95% y un poder estadístico de alrededor de 80%, por lo que hay que usar una fórmula para calcular el tamaño de la muestra y determinar la duración necesaria para alcanzar estos niveles. Hay que tener en cuenta la tasa de conversión y el efecto esperado por esta subida de tarifa.\n",
    "\n",
    "### ¿Qué KPIs/métricas elegirías para evaluar el éxito de la prueba?\n",
    "Principales KPIs/métricas para evaluar el éxito de la prueba:\n",
    "- Tasa de completación de pedidos, \n",
    "- Valor promedio de cada pedido, \n",
    "- La retención de usuarios y la satisfacción de los clientes.\n",
    "- Otros: Abandono de la compra a medias, Cancelación de pedidos.\n",
    "\n",
    "### ¿Qué pasos tomarías para analizar los resultados de la prueba?\n",
    "Como método, primero análisis de cuán diferentes sean los grupos. Pruebas estadísiticas (como el t-test para comparar los KPis). Y Regresiones para ajustar variables de control y verificar la consistencia de los resultados.\n",
    "\n",
    "Para ver los resultados seguramente diagramas de barras, de puntos o incluso de cajas para ver las diferencias entre los dos grupos.\n",
    "\n",
    "### ¿Cuáles serían tus recomendaciones según los resultados de la prueba?\n",
    "Si el grupo nuevo mejora, o se queda igual, haría el cambio a la nueva tarifa para todos.\n",
    "Si el grupo nuevo empeora, mantendría los precios antiguos."
   ]
  },
  {
   "cell_type": "markdown",
   "metadata": {},
   "source": [
    "## Experimento A/B y Optimización"
   ]
  },
  {
   "cell_type": "code",
   "execution_count": 60,
   "metadata": {},
   "outputs": [],
   "source": [
    "# Library\n",
    "import random\n",
    "import pandas as pd\n",
    "import numpy as np\n",
    "import statsmodels.api as sm\n",
    "import matplotlib.pyplot as plt\n",
    "from sklearn.model_selection import train_test_split\n",
    "from scipy.stats import ttest_ind, norm, ks_2samp\n",
    "from statsmodels.stats.power import TTestIndPower"
   ]
  },
  {
   "cell_type": "code",
   "execution_count": 61,
   "metadata": {},
   "outputs": [],
   "source": [
    "headers = [\n",
    "    'order_id', 'activation_time_local', 'country_code', 'store_address', 'final_status', 'payment_status', 'products', 'products_total', 'purchase_total_price'\n",
    "]\n",
    "\n",
    "dataold = pd.read_csv('./project_dataset/python_raw_data/fake_orders_test.csv', header=None, names=headers)\n",
    "dataold.to_csv('./project_dataset/python_raw_data/fake_orders_test_headers.csv', index=False)"
   ]
  },
  {
   "cell_type": "code",
   "execution_count": 62,
   "metadata": {},
   "outputs": [
    {
     "data": {
      "text/html": [
       "<div>\n",
       "<style scoped>\n",
       "    .dataframe tbody tr th:only-of-type {\n",
       "        vertical-align: middle;\n",
       "    }\n",
       "\n",
       "    .dataframe tbody tr th {\n",
       "        vertical-align: top;\n",
       "    }\n",
       "\n",
       "    .dataframe thead th {\n",
       "        text-align: right;\n",
       "    }\n",
       "</style>\n",
       "<table border=\"1\" class=\"dataframe\">\n",
       "  <thead>\n",
       "    <tr style=\"text-align: right;\">\n",
       "      <th></th>\n",
       "      <th>order_id</th>\n",
       "      <th>activation_time_local</th>\n",
       "      <th>country_code</th>\n",
       "      <th>store_address</th>\n",
       "      <th>final_status</th>\n",
       "      <th>payment_status</th>\n",
       "      <th>products</th>\n",
       "      <th>products_total</th>\n",
       "      <th>purchase_total_price</th>\n",
       "    </tr>\n",
       "  </thead>\n",
       "  <tbody>\n",
       "    <tr>\n",
       "      <th>0</th>\n",
       "      <td>33557880</td>\n",
       "      <td>2019-03-10 23:59:59.000000</td>\n",
       "      <td>AR</td>\n",
       "      <td>14200</td>\n",
       "      <td>DeliveredStatus</td>\n",
       "      <td>PAID</td>\n",
       "      <td>1</td>\n",
       "      <td>4.54</td>\n",
       "      <td>8.64</td>\n",
       "    </tr>\n",
       "    <tr>\n",
       "      <th>1</th>\n",
       "      <td>33512615</td>\n",
       "      <td>2019-03-10 23:58:32.000000</td>\n",
       "      <td>TR</td>\n",
       "      <td>28725</td>\n",
       "      <td>DeliveredStatus</td>\n",
       "      <td>PAID</td>\n",
       "      <td>1</td>\n",
       "      <td>3.76</td>\n",
       "      <td>3.76</td>\n",
       "    </tr>\n",
       "    <tr>\n",
       "      <th>2</th>\n",
       "      <td>33512451</td>\n",
       "      <td>2019-03-10 23:57:56.000000</td>\n",
       "      <td>TR</td>\n",
       "      <td>28725</td>\n",
       "      <td>DeliveredStatus</td>\n",
       "      <td>PAID</td>\n",
       "      <td>1</td>\n",
       "      <td>2.86</td>\n",
       "      <td>2.86</td>\n",
       "    </tr>\n",
       "    <tr>\n",
       "      <th>3</th>\n",
       "      <td>33530892</td>\n",
       "      <td>2019-03-10 23:57:33.000000</td>\n",
       "      <td>ES</td>\n",
       "      <td>19777</td>\n",
       "      <td>CanceledStatus</td>\n",
       "      <td>PAID</td>\n",
       "      <td>1</td>\n",
       "      <td>12.95</td>\n",
       "      <td>0.00</td>\n",
       "    </tr>\n",
       "    <tr>\n",
       "      <th>4</th>\n",
       "      <td>33557765</td>\n",
       "      <td>2019-03-10 23:57:21.000000</td>\n",
       "      <td>AR</td>\n",
       "      <td>34565</td>\n",
       "      <td>DeliveredStatus</td>\n",
       "      <td>PAID</td>\n",
       "      <td>2</td>\n",
       "      <td>2.86</td>\n",
       "      <td>6.48</td>\n",
       "    </tr>\n",
       "  </tbody>\n",
       "</table>\n",
       "</div>"
      ],
      "text/plain": [
       "   order_id       activation_time_local country_code  store_address  \\\n",
       "0  33557880  2019-03-10 23:59:59.000000           AR          14200   \n",
       "1  33512615  2019-03-10 23:58:32.000000           TR          28725   \n",
       "2  33512451  2019-03-10 23:57:56.000000           TR          28725   \n",
       "3  33530892  2019-03-10 23:57:33.000000           ES          19777   \n",
       "4  33557765  2019-03-10 23:57:21.000000           AR          34565   \n",
       "\n",
       "      final_status payment_status  products  products_total  \\\n",
       "0  DeliveredStatus           PAID         1            4.54   \n",
       "1  DeliveredStatus           PAID         1            3.76   \n",
       "2  DeliveredStatus           PAID         1            2.86   \n",
       "3   CanceledStatus           PAID         1           12.95   \n",
       "4  DeliveredStatus           PAID         2            2.86   \n",
       "\n",
       "   purchase_total_price  \n",
       "0                  8.64  \n",
       "1                  3.76  \n",
       "2                  2.86  \n",
       "3                  0.00  \n",
       "4                  6.48  "
      ]
     },
     "execution_count": 62,
     "metadata": {},
     "output_type": "execute_result"
    }
   ],
   "source": [
    "data = pd.read_csv('./project_dataset/python_raw_data/fake_orders_test_headers.csv')\n",
    "data.head()"
   ]
  },
  {
   "cell_type": "code",
   "execution_count": 63,
   "metadata": {},
   "outputs": [
    {
     "data": {
      "text/html": [
       "<div>\n",
       "<style scoped>\n",
       "    .dataframe tbody tr th:only-of-type {\n",
       "        vertical-align: middle;\n",
       "    }\n",
       "\n",
       "    .dataframe tbody tr th {\n",
       "        vertical-align: top;\n",
       "    }\n",
       "\n",
       "    .dataframe thead th {\n",
       "        text-align: right;\n",
       "    }\n",
       "</style>\n",
       "<table border=\"1\" class=\"dataframe\">\n",
       "  <thead>\n",
       "    <tr style=\"text-align: right;\">\n",
       "      <th></th>\n",
       "      <th>products_total</th>\n",
       "    </tr>\n",
       "  </thead>\n",
       "  <tbody>\n",
       "    <tr>\n",
       "      <th>0</th>\n",
       "      <td>4.54</td>\n",
       "    </tr>\n",
       "    <tr>\n",
       "      <th>1</th>\n",
       "      <td>3.76</td>\n",
       "    </tr>\n",
       "    <tr>\n",
       "      <th>2</th>\n",
       "      <td>2.86</td>\n",
       "    </tr>\n",
       "    <tr>\n",
       "      <th>3</th>\n",
       "      <td>12.95</td>\n",
       "    </tr>\n",
       "    <tr>\n",
       "      <th>4</th>\n",
       "      <td>2.86</td>\n",
       "    </tr>\n",
       "  </tbody>\n",
       "</table>\n",
       "</div>"
      ],
      "text/plain": [
       "   products_total\n",
       "0            4.54\n",
       "1            3.76\n",
       "2            2.86\n",
       "3           12.95\n",
       "4            2.86"
      ]
     },
     "execution_count": 63,
     "metadata": {},
     "output_type": "execute_result"
    }
   ],
   "source": [
    "# Generate a list of 100000 random fake users between 1 and 100000\n",
    "#population = 1000000\n",
    "\n",
    "# Create the synthetic data for the ab testing example\n",
    "#population_data = [random.randint(1, 100) for _ in range(population)]\n",
    "population_data = data['products_total']\n",
    "\n",
    "# Convert it into \n",
    "df = pd.DataFrame({'products_total':population_data})\n",
    "df.head()"
   ]
  },
  {
   "cell_type": "markdown",
   "metadata": {},
   "source": [
    "### 1. Calcular el Efecto Mínimo Detectable (EMD) para Definir el Tamaño de la Muestra"
   ]
  },
  {
   "cell_type": "code",
   "execution_count": 64,
   "metadata": {},
   "outputs": [],
   "source": [
    "# Initialize variables\n",
    "contador = 0  # This will track the fraction of the dataset allocated to the test group\n",
    "data = {}  # To store results\n",
    "\n",
    "# Loop to calculate MDE for splits ranging from 5% to 50% of the dataset\n",
    "while contador <= 0.45:\n",
    "    contador += 0.05  # Increment the fraction for each iteration\n",
    "    mde_list = []  # To store MDE values for each iteration\n",
    "    avg_list = []  # To store average values for the control group\n",
    "    \n",
    "    # Perform 30 simulations for each split to average the MDE\n",
    "    for i in range(1, 31):\n",
    "        # Randomly split the dataset into test and control groups based on the current fraction\n",
    "        test_df, control_df = train_test_split(df, test_size=contador)\n",
    "        \n",
    "        # Define the parameters for the MDE calculation\n",
    "        alpha = 0.05  # Significance level\n",
    "        beta = 0.8    # Desired statistical power\n",
    "        \n",
    "        # Calculate standard deviations for both groups\n",
    "        std_dev_test = np.std(test_df['products_total'])\n",
    "        std_dev_control = np.std(control_df['products_total'])\n",
    "        \n",
    "        # Calculate sample sizes\n",
    "        sample_size_control = len(control_df)\n",
    "        sample_size_test = len(test_df)\n",
    "        \n",
    "        # Calculate critical values for the two-tailed test\n",
    "        z_alpha = norm.ppf(1 - alpha/2)\n",
    "        z_beta = norm.ppf(beta)\n",
    "        \n",
    "        # Calculate pooled standard deviation\n",
    "        pooled_std_dev = np.sqrt(((sample_size_control - 1) * std_dev_control**2 + \n",
    "                                  (sample_size_test - 1) * std_dev_test**2) / \n",
    "                                 (sample_size_control + sample_size_test - 2))\n",
    "        \n",
    "        # Calculate the MDE\n",
    "        mde = (z_alpha + z_beta) * pooled_std_dev * np.sqrt(2 / sample_size_control)\n",
    "        \n",
    "        # Append the MDE and average control group price to their respective lists\n",
    "        mde_list.append(mde)\n",
    "        avg = np.mean(control_df['products_total'])\n",
    "        avg_list.append(avg)\n",
    "    \n",
    "    # Calculate and store the average MDE, average price, and MDE percentage for the current split\n",
    "    data[(round(contador, 2))] = {'mde': round(np.mean(mde_list), 4),\n",
    "                                  'avg': round(np.mean(avg_list), 4),\n",
    "                                  'mde_%': round(np.mean(mde_list) / np.mean(avg_list) * 100, 2)}"
   ]
  },
  {
   "cell_type": "code",
   "execution_count": 65,
   "metadata": {},
   "outputs": [
    {
     "data": {
      "text/plain": [
       "{0.05: {'mde': 0.6688, 'avg': 9.8003, 'mde_%': 6.82},\n",
       " 0.1: {'mde': 0.4729, 'avg': 9.7847, 'mde_%': 4.83},\n",
       " 0.15: {'mde': 0.3861, 'avg': 9.8672, 'mde_%': 3.91},\n",
       " 0.2: {'mde': 0.3344, 'avg': 9.8468, 'mde_%': 3.4},\n",
       " 0.25: {'mde': 0.2991, 'avg': 9.8363, 'mde_%': 3.04},\n",
       " 0.3: {'mde': 0.273, 'avg': 9.8205, 'mde_%': 2.78},\n",
       " 0.35: {'mde': 0.2528, 'avg': 9.8482, 'mde_%': 2.57},\n",
       " 0.4: {'mde': 0.2365, 'avg': 9.835, 'mde_%': 2.4},\n",
       " 0.45: {'mde': 0.2229, 'avg': 9.8332, 'mde_%': 2.27},\n",
       " 0.5: {'mde': 0.2115, 'avg': 9.8455, 'mde_%': 2.15}}"
      ]
     },
     "execution_count": 65,
     "metadata": {},
     "output_type": "execute_result"
    }
   ],
   "source": [
    "# Computed value for the sample selected\n",
    "data"
   ]
  },
  {
   "cell_type": "code",
   "execution_count": 66,
   "metadata": {},
   "outputs": [
    {
     "data": {
      "image/png": "[encoded data removed]",
      "text/plain": [
       "<Figure size 640x480 with 1 Axes>"
      ]
     },
     "metadata": {},
     "output_type": "display_data"
    }
   ],
   "source": [
    "# Prepare data for plotting\n",
    "percentage_split = [float(key)*100 for key in data.keys()]  # Convert keys to float and multiply by 100 to get percentages\n",
    "mde_percentage_list_hist = [value['mde_%'] for value in data.values()]  # Extract MDE percentages\n",
    "\n",
    "# Plotting\n",
    "plt.plot(percentage_split, mde_percentage_list_hist, marker='o')  # 'o' adds markers to the line plot\n",
    "plt.title('Line Plot of MDE Percentages')\n",
    "plt.xlabel('Sample Percentage (%)')  # Updated to display counter percentage of the sample\n",
    "plt.ylabel('MDE Percentage')\n",
    "\n",
    "# Show the plot\n",
    "plt.show()"
   ]
  },
  {
   "cell_type": "markdown",
   "metadata": {},
   "source": [
    "### 2. División Aleatoria para Pruebas A/B"
   ]
  },
  {
   "cell_type": "code",
   "execution_count": 67,
   "metadata": {},
   "outputs": [],
   "source": [
    "# We run the split with 30% in test, as per the MDE curve we think it is the most optimal business<>statistical\n",
    "test_df, control_df = train_test_split(df, test_size=0.3)"
   ]
  },
  {
   "cell_type": "code",
   "execution_count": 68,
   "metadata": {},
   "outputs": [
    {
     "data": {
      "text/html": [
       "<div>\n",
       "<style scoped>\n",
       "    .dataframe tbody tr th:only-of-type {\n",
       "        vertical-align: middle;\n",
       "    }\n",
       "\n",
       "    .dataframe tbody tr th {\n",
       "        vertical-align: top;\n",
       "    }\n",
       "\n",
       "    .dataframe thead th {\n",
       "        text-align: right;\n",
       "    }\n",
       "</style>\n",
       "<table border=\"1\" class=\"dataframe\">\n",
       "  <thead>\n",
       "    <tr style=\"text-align: right;\">\n",
       "      <th></th>\n",
       "      <th>products_total</th>\n",
       "    </tr>\n",
       "  </thead>\n",
       "  <tbody>\n",
       "    <tr>\n",
       "      <th>28777</th>\n",
       "      <td>11.93</td>\n",
       "    </tr>\n",
       "    <tr>\n",
       "      <th>11200</th>\n",
       "      <td>9.57</td>\n",
       "    </tr>\n",
       "    <tr>\n",
       "      <th>18003</th>\n",
       "      <td>8.85</td>\n",
       "    </tr>\n",
       "    <tr>\n",
       "      <th>2322</th>\n",
       "      <td>6.32</td>\n",
       "    </tr>\n",
       "    <tr>\n",
       "      <th>57321</th>\n",
       "      <td>3.85</td>\n",
       "    </tr>\n",
       "    <tr>\n",
       "      <th>...</th>\n",
       "      <td>...</td>\n",
       "    </tr>\n",
       "    <tr>\n",
       "      <th>44424</th>\n",
       "      <td>15.00</td>\n",
       "    </tr>\n",
       "    <tr>\n",
       "      <th>17910</th>\n",
       "      <td>6.00</td>\n",
       "    </tr>\n",
       "    <tr>\n",
       "      <th>8568</th>\n",
       "      <td>6.45</td>\n",
       "    </tr>\n",
       "    <tr>\n",
       "      <th>27730</th>\n",
       "      <td>0.66</td>\n",
       "    </tr>\n",
       "    <tr>\n",
       "      <th>33374</th>\n",
       "      <td>11.70</td>\n",
       "    </tr>\n",
       "  </tbody>\n",
       "</table>\n",
       "<p>42280 rows × 1 columns</p>\n",
       "</div>"
      ],
      "text/plain": [
       "       products_total\n",
       "28777           11.93\n",
       "11200            9.57\n",
       "18003            8.85\n",
       "2322             6.32\n",
       "57321            3.85\n",
       "...               ...\n",
       "44424           15.00\n",
       "17910            6.00\n",
       "8568             6.45\n",
       "27730            0.66\n",
       "33374           11.70\n",
       "\n",
       "[42280 rows x 1 columns]"
      ]
     },
     "execution_count": 68,
     "metadata": {},
     "output_type": "execute_result"
    }
   ],
   "source": [
    "test_df"
   ]
  },
  {
   "cell_type": "code",
   "execution_count": 69,
   "metadata": {},
   "outputs": [
    {
     "data": {
      "text/html": [
       "<div>\n",
       "<style scoped>\n",
       "    .dataframe tbody tr th:only-of-type {\n",
       "        vertical-align: middle;\n",
       "    }\n",
       "\n",
       "    .dataframe tbody tr th {\n",
       "        vertical-align: top;\n",
       "    }\n",
       "\n",
       "    .dataframe thead th {\n",
       "        text-align: right;\n",
       "    }\n",
       "</style>\n",
       "<table border=\"1\" class=\"dataframe\">\n",
       "  <thead>\n",
       "    <tr style=\"text-align: right;\">\n",
       "      <th></th>\n",
       "      <th>products_total</th>\n",
       "    </tr>\n",
       "  </thead>\n",
       "  <tbody>\n",
       "    <tr>\n",
       "      <th>44007</th>\n",
       "      <td>10.67</td>\n",
       "    </tr>\n",
       "    <tr>\n",
       "      <th>38048</th>\n",
       "      <td>5.90</td>\n",
       "    </tr>\n",
       "    <tr>\n",
       "      <th>1506</th>\n",
       "      <td>4.10</td>\n",
       "    </tr>\n",
       "    <tr>\n",
       "      <th>44943</th>\n",
       "      <td>22.89</td>\n",
       "    </tr>\n",
       "    <tr>\n",
       "      <th>2327</th>\n",
       "      <td>6.50</td>\n",
       "    </tr>\n",
       "    <tr>\n",
       "      <th>...</th>\n",
       "      <td>...</td>\n",
       "    </tr>\n",
       "    <tr>\n",
       "      <th>42463</th>\n",
       "      <td>4.86</td>\n",
       "    </tr>\n",
       "    <tr>\n",
       "      <th>50920</th>\n",
       "      <td>11.44</td>\n",
       "    </tr>\n",
       "    <tr>\n",
       "      <th>42517</th>\n",
       "      <td>2.19</td>\n",
       "    </tr>\n",
       "    <tr>\n",
       "      <th>18497</th>\n",
       "      <td>8.46</td>\n",
       "    </tr>\n",
       "    <tr>\n",
       "      <th>19879</th>\n",
       "      <td>2.61</td>\n",
       "    </tr>\n",
       "  </tbody>\n",
       "</table>\n",
       "<p>18120 rows × 1 columns</p>\n",
       "</div>"
      ],
      "text/plain": [
       "       products_total\n",
       "44007           10.67\n",
       "38048            5.90\n",
       "1506             4.10\n",
       "44943           22.89\n",
       "2327             6.50\n",
       "...               ...\n",
       "42463            4.86\n",
       "50920           11.44\n",
       "42517            2.19\n",
       "18497            8.46\n",
       "19879            2.61\n",
       "\n",
       "[18120 rows x 1 columns]"
      ]
     },
     "execution_count": 69,
     "metadata": {},
     "output_type": "execute_result"
    }
   ],
   "source": [
    "control_df"
   ]
  },
  {
   "cell_type": "markdown",
   "metadata": {},
   "source": [
    "### 3. Realizar una Prueba KS y una Prueba de Equivalencia"
   ]
  },
  {
   "cell_type": "code",
   "execution_count": 70,
   "metadata": {},
   "outputs": [
    {
     "name": "stdout",
     "output_type": "stream",
     "text": [
      "KS statistic: [0.00776569]\n",
      "P-value: [0.42659964]\n"
     ]
    }
   ],
   "source": [
    "# Selecting the data from each DataFrame\n",
    "# data1 = control_df['price']  # We select the column price from our df\n",
    "# data2 = test_df['price']  # We select the column price from our df\n",
    "data1 = control_df\n",
    "data2 = test_df\n",
    "\n",
    "# Perform the KS test\n",
    "statistic, p_value = ks_2samp(data1, data2)\n",
    "\n",
    "print(f\"KS statistic: {statistic}\")\n",
    "print(f\"P-value: {p_value}\")"
   ]
  },
  {
   "cell_type": "code",
   "execution_count": 73,
   "metadata": {},
   "outputs": [
    {
     "name": "stdout",
     "output_type": "stream",
     "text": [
      "Global p-value of TOST: [0.09469012]\n",
      "Inferiority test (difference > lower margin): Statistic = [3.54368454], p-value = [0.00019744]\n",
      "Superiority test (difference < upper margin): Statistic = [-1.31242953], p-value = [0.09469012]\n",
      "There is not enough evidence to claim that the two groups will behave equally with a raise in the delivery fee.\n"
     ]
    }
   ],
   "source": [
    "# Define the equivalence limits\n",
    "low, upp = -0.2, 0.2 \n",
    "\n",
    "# Unpacking the results\n",
    "p_value_global, result_lower, result_upper = sm.stats.ttost_ind(data1, data2, low, upp)\n",
    "\n",
    "# Print the results\n",
    "print(f\"Global p-value of TOST: {p_value_global}\")\n",
    "print(f\"Inferiority test (difference > lower margin): Statistic = {result_lower[0]}, p-value = {result_lower[1]}\")\n",
    "print(f\"Superiority test (difference < upper margin): Statistic = {result_upper[0]}, p-value = {result_upper[1]}\")\n",
    "\n",
    "# Interpretation based on p-values\n",
    "if p_value_global < 0.05:\n",
    "    print(\"There is enough statistical evidence to claim that the two groups are equivalent within the specified equivalence margin.\")\n",
    "else:\n",
    "    print(\"There is not enough evidence to claim that the two groups will behave equally with a raise in the delivery fee.\")"
   ]
  },
  {
   "cell_type": "code",
   "execution_count": 74,
   "metadata": {},
   "outputs": [
    {
     "name": "stdout",
     "output_type": "stream",
     "text": [
      "T-statistic: [1.11562751]\n",
      "P-value: [0.26458605]\n",
      "There is no significant difference between the two groups.\n"
     ]
    }
   ],
   "source": [
    "# Perform the t-test\n",
    "t_stat, p_value = ttest_ind(data1, data2)\n",
    "\n",
    "# Print the results\n",
    "print(f\"T-statistic: {t_stat}\")\n",
    "print(f\"P-value: {p_value}\")\n",
    "\n",
    "# Interpretation\n",
    "if p_value < 0.05:\n",
    "    print(\"There is a significant difference between the two groups.\")\n",
    "else:\n",
    "    print(\"There is no significant difference between the two groups.\")"
   ]
  },
  {
   "cell_type": "code",
   "execution_count": null,
   "metadata": {},
   "outputs": [],
   "source": []
  }
 ],
 "metadata": {
  "kernelspec": {
   "display_name": "base",
   "language": "python",
   "name": "python3"
  },
  "language_info": {
   "codemirror_mode": {
    "name": "ipython",
    "version": 3
   },
   "file_extension": ".py",
   "mimetype": "text/x-python",
   "name": "python",
   "nbconvert_exporter": "python",
   "pygments_lexer": "ipython3",
   "version": "3.12.4"
  }
 },
 "nbformat": 4,
 "nbformat_minor": 2
}
