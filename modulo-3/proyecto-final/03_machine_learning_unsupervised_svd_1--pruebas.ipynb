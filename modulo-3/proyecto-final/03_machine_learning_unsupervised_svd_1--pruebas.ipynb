{
 "cells": [
  {
   "cell_type": "markdown",
   "metadata": {
    "colab_type": "text",
    "id": "5V7cToZQqjCX"
   },
   "source": [
    "# Sistemas de Recomendación - Netflix Prize Challenge\n",
    "\n",
    "En este notebook vamos a implementar un sistema de recomendación a través de un filtro colaborativo.\n",
    "\n",
    "Algunas referencias útiles, además de las mencionadas en la presentación:\n",
    "* https://www.kaggle.com/ibtesama/getting-started-with-a-movie-recommendation-system\n",
    "* https://www.kaggle.com/gspmoreira/recommender-systems-in-python-101"
   ]
  },
  {
   "cell_type": "markdown",
   "metadata": {
    "colab_type": "text",
    "id": "oqxc9eRUqjCx"
   },
   "source": [
    "## 1. Carga de Datos y preparación del Dataset\n",
    "\n",
    "Vamos a empezar cargando uno de los archivos con calificaciones para explorarlo. Como son archivos grandes y van a ocupar bastante lugar en memoria, no vamos a cargar la última columna con fechas."
   ]
  },
  {
   "cell_type": "code",
   "execution_count": 1,
   "metadata": {
    "colab": {},
    "colab_type": "code",
    "id": "NAbRXadnqjCy"
   },
   "outputs": [],
   "source": [
    "import numpy as np\n",
    "import matplotlib.pyplot as plt\n",
    "import seaborn as sns\n",
    "sns.set()\n",
    "\n",
    "import pandas as pd\n",
    "\n",
    "import gc #garbage collector"
   ]
  },
  {
   "cell_type": "code",
   "execution_count": 2,
   "metadata": {},
   "outputs": [
    {
     "data": {
      "text/html": [
       "<div>\n",
       "<style scoped>\n",
       "    .dataframe tbody tr th:only-of-type {\n",
       "        vertical-align: middle;\n",
       "    }\n",
       "\n",
       "    .dataframe tbody tr th {\n",
       "        vertical-align: top;\n",
       "    }\n",
       "\n",
       "    .dataframe thead th {\n",
       "        text-align: right;\n",
       "    }\n",
       "</style>\n",
       "<table border=\"1\" class=\"dataframe\">\n",
       "  <thead>\n",
       "    <tr style=\"text-align: right;\">\n",
       "      <th></th>\n",
       "      <th></th>\n",
       "      <th>1:</th>\n",
       "    </tr>\n",
       "  </thead>\n",
       "  <tbody>\n",
       "    <tr>\n",
       "      <th>1488844</th>\n",
       "      <th>3</th>\n",
       "      <td>2005-09-06</td>\n",
       "    </tr>\n",
       "    <tr>\n",
       "      <th>822109</th>\n",
       "      <th>5</th>\n",
       "      <td>2005-05-13</td>\n",
       "    </tr>\n",
       "    <tr>\n",
       "      <th>885013</th>\n",
       "      <th>4</th>\n",
       "      <td>2005-10-19</td>\n",
       "    </tr>\n",
       "    <tr>\n",
       "      <th>30878</th>\n",
       "      <th>4</th>\n",
       "      <td>2005-12-26</td>\n",
       "    </tr>\n",
       "    <tr>\n",
       "      <th>823519</th>\n",
       "      <th>3</th>\n",
       "      <td>2004-05-03</td>\n",
       "    </tr>\n",
       "    <tr>\n",
       "      <th>893988</th>\n",
       "      <th>3</th>\n",
       "      <td>2005-11-17</td>\n",
       "    </tr>\n",
       "    <tr>\n",
       "      <th>124105</th>\n",
       "      <th>4</th>\n",
       "      <td>2004-08-05</td>\n",
       "    </tr>\n",
       "    <tr>\n",
       "      <th>1248029</th>\n",
       "      <th>3</th>\n",
       "      <td>2004-04-22</td>\n",
       "    </tr>\n",
       "    <tr>\n",
       "      <th>1842128</th>\n",
       "      <th>4</th>\n",
       "      <td>2004-05-09</td>\n",
       "    </tr>\n",
       "    <tr>\n",
       "      <th>2238063</th>\n",
       "      <th>3</th>\n",
       "      <td>2005-05-11</td>\n",
       "    </tr>\n",
       "    <tr>\n",
       "      <th>1503895</th>\n",
       "      <th>4</th>\n",
       "      <td>2005-05-19</td>\n",
       "    </tr>\n",
       "    <tr>\n",
       "      <th>2207774</th>\n",
       "      <th>5</th>\n",
       "      <td>2005-06-06</td>\n",
       "    </tr>\n",
       "    <tr>\n",
       "      <th>2590061</th>\n",
       "      <th>3</th>\n",
       "      <td>2004-08-12</td>\n",
       "    </tr>\n",
       "    <tr>\n",
       "      <th>2442</th>\n",
       "      <th>3</th>\n",
       "      <td>2004-04-14</td>\n",
       "    </tr>\n",
       "    <tr>\n",
       "      <th>543865</th>\n",
       "      <th>4</th>\n",
       "      <td>2004-05-28</td>\n",
       "    </tr>\n",
       "    <tr>\n",
       "      <th>1209119</th>\n",
       "      <th>4</th>\n",
       "      <td>2004-03-23</td>\n",
       "    </tr>\n",
       "    <tr>\n",
       "      <th>804919</th>\n",
       "      <th>4</th>\n",
       "      <td>2004-06-10</td>\n",
       "    </tr>\n",
       "    <tr>\n",
       "      <th>1086807</th>\n",
       "      <th>3</th>\n",
       "      <td>2004-12-28</td>\n",
       "    </tr>\n",
       "    <tr>\n",
       "      <th>1711859</th>\n",
       "      <th>4</th>\n",
       "      <td>2005-05-08</td>\n",
       "    </tr>\n",
       "    <tr>\n",
       "      <th>372233</th>\n",
       "      <th>5</th>\n",
       "      <td>2005-11-23</td>\n",
       "    </tr>\n",
       "  </tbody>\n",
       "</table>\n",
       "</div>"
      ],
      "text/plain": [
       "                   1:\n",
       "1488844 3  2005-09-06\n",
       "822109  5  2005-05-13\n",
       "885013  4  2005-10-19\n",
       "30878   4  2005-12-26\n",
       "823519  3  2004-05-03\n",
       "893988  3  2005-11-17\n",
       "124105  4  2004-08-05\n",
       "1248029 3  2004-04-22\n",
       "1842128 4  2004-05-09\n",
       "2238063 3  2005-05-11\n",
       "1503895 4  2005-05-19\n",
       "2207774 5  2005-06-06\n",
       "2590061 3  2004-08-12\n",
       "2442    3  2004-04-14\n",
       "543865  4  2004-05-28\n",
       "1209119 4  2004-03-23\n",
       "804919  4  2004-06-10\n",
       "1086807 3  2004-12-28\n",
       "1711859 4  2005-05-08\n",
       "372233  5  2005-11-23"
      ]
     },
     "execution_count": 2,
     "metadata": {},
     "output_type": "execute_result"
    }
   ],
   "source": [
    "# Load the dataset\n",
    "df1_20first = pd.read_csv('./datasets/kaggle/recsys/netflix-prize-data/combined_data_1.txt', nrows=20)\n",
    "df1_20first"
   ]
  },
  {
   "cell_type": "code",
   "execution_count": 3,
   "metadata": {
    "colab": {},
    "colab_type": "code",
    "id": "c_9Zj1FdqjC2"
   },
   "outputs": [
    {
     "name": "stdout",
     "output_type": "stream",
     "text": [
      "(24058263, 2)\n"
     ]
    }
   ],
   "source": [
    "def load_data(name):\n",
    "    df = pd.read_csv(name, header = None, names = ['User','Rating'], usecols = [0,1])\n",
    "    \n",
    "    # A veces forzar un tipo de dato hace que se ahorre mucho lugar en memoria.\n",
    "    df['Rating'] = df['Rating'].astype(float) \n",
    "    return df\n",
    "\n",
    "\n",
    "df1 = load_data('./datasets/kaggle/recsys/netflix-prize-data/combined_data_1.txt')\n",
    "print(df1.shape)"
   ]
  },
  {
   "cell_type": "code",
   "execution_count": 4,
   "metadata": {
    "colab": {},
    "colab_type": "code",
    "id": "eXag4o90qjC5"
   },
   "outputs": [
    {
     "data": {
      "text/html": [
       "<div>\n",
       "<style scoped>\n",
       "    .dataframe tbody tr th:only-of-type {\n",
       "        vertical-align: middle;\n",
       "    }\n",
       "\n",
       "    .dataframe tbody tr th {\n",
       "        vertical-align: top;\n",
       "    }\n",
       "\n",
       "    .dataframe thead th {\n",
       "        text-align: right;\n",
       "    }\n",
       "</style>\n",
       "<table border=\"1\" class=\"dataframe\">\n",
       "  <thead>\n",
       "    <tr style=\"text-align: right;\">\n",
       "      <th></th>\n",
       "      <th>User</th>\n",
       "      <th>Rating</th>\n",
       "    </tr>\n",
       "  </thead>\n",
       "  <tbody>\n",
       "    <tr>\n",
       "      <th>0</th>\n",
       "      <td>1:</td>\n",
       "      <td>NaN</td>\n",
       "    </tr>\n",
       "    <tr>\n",
       "      <th>1</th>\n",
       "      <td>1488844</td>\n",
       "      <td>3.0</td>\n",
       "    </tr>\n",
       "    <tr>\n",
       "      <th>2</th>\n",
       "      <td>822109</td>\n",
       "      <td>5.0</td>\n",
       "    </tr>\n",
       "    <tr>\n",
       "      <th>3</th>\n",
       "      <td>885013</td>\n",
       "      <td>4.0</td>\n",
       "    </tr>\n",
       "    <tr>\n",
       "      <th>4</th>\n",
       "      <td>30878</td>\n",
       "      <td>4.0</td>\n",
       "    </tr>\n",
       "  </tbody>\n",
       "</table>\n",
       "</div>"
      ],
      "text/plain": [
       "      User  Rating\n",
       "0       1:     NaN\n",
       "1  1488844     3.0\n",
       "2   822109     5.0\n",
       "3   885013     4.0\n",
       "4    30878     4.0"
      ]
     },
     "execution_count": 4,
     "metadata": {},
     "output_type": "execute_result"
    }
   ],
   "source": [
    "df1.head()"
   ]
  },
  {
   "cell_type": "markdown",
   "metadata": {
    "colab_type": "text",
    "id": "SbE8EMrzqjC8"
   },
   "source": [
    "¿Cómo sabemos a qué película corresponde cada calificación? Contar cuántas películas hay en `df1` e identificarlas. Para ello, cargamos `movie_titles.csv`. Como no nos interesa el año, no lo traemos."
   ]
  },
  {
   "cell_type": "code",
   "execution_count": 5,
   "metadata": {
    "colab": {},
    "colab_type": "code",
    "id": "L4izz6zLqjC9"
   },
   "outputs": [
    {
     "data": {
      "text/html": [
       "<div>\n",
       "<style scoped>\n",
       "    .dataframe tbody tr th:only-of-type {\n",
       "        vertical-align: middle;\n",
       "    }\n",
       "\n",
       "    .dataframe tbody tr th {\n",
       "        vertical-align: top;\n",
       "    }\n",
       "\n",
       "    .dataframe thead th {\n",
       "        text-align: right;\n",
       "    }\n",
       "</style>\n",
       "<table border=\"1\" class=\"dataframe\">\n",
       "  <thead>\n",
       "    <tr style=\"text-align: right;\">\n",
       "      <th></th>\n",
       "      <th>Name</th>\n",
       "    </tr>\n",
       "    <tr>\n",
       "      <th>Movie_Id</th>\n",
       "      <th></th>\n",
       "    </tr>\n",
       "  </thead>\n",
       "  <tbody>\n",
       "    <tr>\n",
       "      <th>1</th>\n",
       "      <td>Dinosaur Planet</td>\n",
       "    </tr>\n",
       "    <tr>\n",
       "      <th>2</th>\n",
       "      <td>Isle of Man TT 2004 Review</td>\n",
       "    </tr>\n",
       "    <tr>\n",
       "      <th>3</th>\n",
       "      <td>Character</td>\n",
       "    </tr>\n",
       "    <tr>\n",
       "      <th>4</th>\n",
       "      <td>Paula Abdul's Get Up &amp; Dance</td>\n",
       "    </tr>\n",
       "    <tr>\n",
       "      <th>5</th>\n",
       "      <td>The Rise and Fall of ECW</td>\n",
       "    </tr>\n",
       "  </tbody>\n",
       "</table>\n",
       "</div>"
      ],
      "text/plain": [
       "                                  Name\n",
       "Movie_Id                              \n",
       "1                      Dinosaur Planet\n",
       "2           Isle of Man TT 2004 Review\n",
       "3                            Character\n",
       "4         Paula Abdul's Get Up & Dance\n",
       "5             The Rise and Fall of ECW"
      ]
     },
     "execution_count": 5,
     "metadata": {},
     "output_type": "execute_result"
    }
   ],
   "source": [
    "df_title = pd.read_csv('./datasets/kaggle/recsys/netflix-prize-data/movie_titles.csv', encoding = \"ISO-8859-1\",index_col = 0, header = None, usecols = [0,2], names = ['Movie_Id', 'Name'])\n",
    "df_title.head()"
   ]
  },
  {
   "cell_type": "markdown",
   "metadata": {
    "colab_type": "text",
    "id": "EglaMV-8qjDA"
   },
   "source": [
    "De esta forma, podemos obtener el nombre de una película dado su Id"
   ]
  },
  {
   "cell_type": "code",
   "execution_count": 25,
   "metadata": {
    "colab": {},
    "colab_type": "code",
    "id": "lQz9pscFqjDA"
   },
   "outputs": [
    {
     "name": "stdout",
     "output_type": "stream",
     "text": [
      "Dinosaur Planet\n"
     ]
    }
   ],
   "source": [
    "movie_id = 1\n",
    "print(df_title.loc[movie_id].Name)"
   ]
  },
  {
   "cell_type": "markdown",
   "metadata": {
    "colab_type": "text",
    "id": "JqTNbIyGqjDD"
   },
   "source": [
    "Para contar cuántos identificadores hay, vamos a usar la siguiente información: al lado del identificador de la película, la columna `Rating` de `df1` tiene un `NaN`."
   ]
  },
  {
   "cell_type": "code",
   "execution_count": 26,
   "metadata": {
    "colab": {},
    "colab_type": "code",
    "id": "FJaUqyHWqjDE"
   },
   "outputs": [
    {
     "name": "stdout",
     "output_type": "stream",
     "text": [
      "['1:' '2:' '3:' ... '4497:' '4498:' '4499:']\n",
      "4499\n"
     ]
    }
   ],
   "source": [
    "movies_ids_df1 = df1.User[df1.Rating.isna()].values\n",
    "print(movies_ids_df1)\n",
    "print(len(movies_ids_df1))"
   ]
  },
  {
   "cell_type": "markdown",
   "metadata": {
    "colab_type": "text",
    "id": "EDjZhMaIqjDG"
   },
   "source": [
    "¿En qué formato está? Si queremos usarlo para pasar de identificador al nombre, debemos llevarlo a enteros. Asumimos que no hay ningun repetido:"
   ]
  },
  {
   "cell_type": "code",
   "execution_count": 27,
   "metadata": {
    "colab": {},
    "colab_type": "code",
    "id": "fetC49p9qjDH"
   },
   "outputs": [
    {
     "name": "stdout",
     "output_type": "stream",
     "text": [
      "[   1    2    3 ... 4497 4498 4499]\n"
     ]
    }
   ],
   "source": [
    "movies_ids_df1 = np.arange(1,len(movies_ids_df1) + 1)\n",
    "print(movies_ids_df1)"
   ]
  },
  {
   "cell_type": "markdown",
   "metadata": {
    "colab_type": "text",
    "id": "fhTZ8L6hqjDK"
   },
   "source": [
    "### Movie Id\n",
    "\n",
    "Intentaremos agregar una columna al Dataframe con el Id de la película a la que corresponde la calificación. Para ello, vamos a necesitar saber dónde están ubicados los identificadores.\n",
    "\n",
    "Primero, seleccionamos los índices donde aparecen los movies_ids"
   ]
  },
  {
   "cell_type": "code",
   "execution_count": 28,
   "metadata": {
    "colab": {},
    "colab_type": "code",
    "id": "mck6NtnVqjDK"
   },
   "outputs": [
    {
     "name": "stdout",
     "output_type": "stream",
     "text": [
      "[       0      548      694 ... 24056849 24057564 24057834]\n"
     ]
    }
   ],
   "source": [
    "df1_nan = pd.DataFrame(pd.isnull(df1.Rating))\n",
    "df1_nan = df1_nan[df1_nan['Rating'] == True]\n",
    "idx_movies_ids = df1_nan.index.values\n",
    "print(idx_movies_ids)"
   ]
  },
  {
   "cell_type": "markdown",
   "metadata": {
    "colab_type": "text",
    "id": "O3thJQW8qjDP"
   },
   "source": [
    "Queremos crear un vector de tantas instancias como df1, donde en cada lugar esté movie_id a cual corresponde la calificación. Como tenemos los índices donde está cada movie_id, podemos obtener cuántas calificaciones hay de cada película."
   ]
  },
  {
   "cell_type": "code",
   "execution_count": 29,
   "metadata": {
    "colab": {},
    "colab_type": "code",
    "id": "n_bCdjtFqjDP"
   },
   "outputs": [
    {
     "data": {
      "text/plain": [
       "array([ 548,  146, 2013, ...,  715,  270,  429])"
      ]
     },
     "execution_count": 29,
     "metadata": {},
     "output_type": "execute_result"
    }
   ],
   "source": [
    "# Agregamos el indice de la ultima instancia del dataframe\n",
    "idx_movies_ids = np.append(idx_movies_ids,df1.shape[0])\n",
    "cantidad_criticas = np.diff(idx_movies_ids)\n",
    "cantidad_criticas"
   ]
  },
  {
   "cell_type": "code",
   "execution_count": 30,
   "metadata": {
    "colab": {},
    "colab_type": "code",
    "id": "qGVsIArNqjDT"
   },
   "outputs": [],
   "source": [
    "columna_movie_id = np.array([])\n",
    "for i in range(cantidad_criticas.size):\n",
    "    aux = np.full(cantidad_criticas[i], movies_ids_df1[i])\n",
    "    columna_movie_id = np.concatenate((columna_movie_id, aux))"
   ]
  },
  {
   "cell_type": "markdown",
   "metadata": {
    "colab_type": "text",
    "id": "HKya9XOsqjDW"
   },
   "source": [
    "Agregamos esa columna al dataset"
   ]
  },
  {
   "cell_type": "code",
   "execution_count": 31,
   "metadata": {
    "colab": {},
    "colab_type": "code",
    "id": "_t70ImpmqjDX"
   },
   "outputs": [
    {
     "data": {
      "text/plain": [
       "165"
      ]
     },
     "execution_count": 31,
     "metadata": {},
     "output_type": "execute_result"
    }
   ],
   "source": [
    "df1['movie_id'] = columna_movie_id\n",
    "del columna_movie_id\n",
    "\n",
    "df1.dropna(inplace = True)\n",
    "df1['User'] = df1['User'].astype(int)\n",
    "df1['movie_id'] = df1['movie_id'].astype(np.int16)\n",
    "df1['Rating'] = df1['Rating'].astype(np.int8)\n",
    "\n",
    "gc.collect()"
   ]
  },
  {
   "cell_type": "code",
   "execution_count": 32,
   "metadata": {
    "colab": {},
    "colab_type": "code",
    "id": "W3u5QRRAqjDZ"
   },
   "outputs": [
    {
     "data": {
      "text/html": [
       "<div>\n",
       "<style scoped>\n",
       "    .dataframe tbody tr th:only-of-type {\n",
       "        vertical-align: middle;\n",
       "    }\n",
       "\n",
       "    .dataframe tbody tr th {\n",
       "        vertical-align: top;\n",
       "    }\n",
       "\n",
       "    .dataframe thead th {\n",
       "        text-align: right;\n",
       "    }\n",
       "</style>\n",
       "<table border=\"1\" class=\"dataframe\">\n",
       "  <thead>\n",
       "    <tr style=\"text-align: right;\">\n",
       "      <th></th>\n",
       "      <th>User</th>\n",
       "      <th>Rating</th>\n",
       "      <th>movie_id</th>\n",
       "    </tr>\n",
       "  </thead>\n",
       "  <tbody>\n",
       "    <tr>\n",
       "      <th>1</th>\n",
       "      <td>1488844</td>\n",
       "      <td>3</td>\n",
       "      <td>1</td>\n",
       "    </tr>\n",
       "    <tr>\n",
       "      <th>2</th>\n",
       "      <td>822109</td>\n",
       "      <td>5</td>\n",
       "      <td>1</td>\n",
       "    </tr>\n",
       "    <tr>\n",
       "      <th>3</th>\n",
       "      <td>885013</td>\n",
       "      <td>4</td>\n",
       "      <td>1</td>\n",
       "    </tr>\n",
       "    <tr>\n",
       "      <th>4</th>\n",
       "      <td>30878</td>\n",
       "      <td>4</td>\n",
       "      <td>1</td>\n",
       "    </tr>\n",
       "    <tr>\n",
       "      <th>5</th>\n",
       "      <td>823519</td>\n",
       "      <td>3</td>\n",
       "      <td>1</td>\n",
       "    </tr>\n",
       "    <tr>\n",
       "      <th>...</th>\n",
       "      <td>...</td>\n",
       "      <td>...</td>\n",
       "      <td>...</td>\n",
       "    </tr>\n",
       "    <tr>\n",
       "      <th>24058258</th>\n",
       "      <td>2591364</td>\n",
       "      <td>2</td>\n",
       "      <td>4499</td>\n",
       "    </tr>\n",
       "    <tr>\n",
       "      <th>24058259</th>\n",
       "      <td>1791000</td>\n",
       "      <td>2</td>\n",
       "      <td>4499</td>\n",
       "    </tr>\n",
       "    <tr>\n",
       "      <th>24058260</th>\n",
       "      <td>512536</td>\n",
       "      <td>5</td>\n",
       "      <td>4499</td>\n",
       "    </tr>\n",
       "    <tr>\n",
       "      <th>24058261</th>\n",
       "      <td>988963</td>\n",
       "      <td>3</td>\n",
       "      <td>4499</td>\n",
       "    </tr>\n",
       "    <tr>\n",
       "      <th>24058262</th>\n",
       "      <td>1704416</td>\n",
       "      <td>3</td>\n",
       "      <td>4499</td>\n",
       "    </tr>\n",
       "  </tbody>\n",
       "</table>\n",
       "<p>24053764 rows × 3 columns</p>\n",
       "</div>"
      ],
      "text/plain": [
       "             User  Rating  movie_id\n",
       "1         1488844       3         1\n",
       "2          822109       5         1\n",
       "3          885013       4         1\n",
       "4           30878       4         1\n",
       "5          823519       3         1\n",
       "...           ...     ...       ...\n",
       "24058258  2591364       2      4499\n",
       "24058259  1791000       2      4499\n",
       "24058260   512536       5      4499\n",
       "24058261   988963       3      4499\n",
       "24058262  1704416       3      4499\n",
       "\n",
       "[24053764 rows x 3 columns]"
      ]
     },
     "execution_count": 32,
     "metadata": {},
     "output_type": "execute_result"
    }
   ],
   "source": [
    "df1"
   ]
  },
  {
   "cell_type": "code",
   "execution_count": 33,
   "metadata": {},
   "outputs": [
    {
     "data": {
      "text/html": [
       "<div>\n",
       "<style scoped>\n",
       "    .dataframe tbody tr th:only-of-type {\n",
       "        vertical-align: middle;\n",
       "    }\n",
       "\n",
       "    .dataframe tbody tr th {\n",
       "        vertical-align: top;\n",
       "    }\n",
       "\n",
       "    .dataframe thead th {\n",
       "        text-align: right;\n",
       "    }\n",
       "</style>\n",
       "<table border=\"1\" class=\"dataframe\">\n",
       "  <thead>\n",
       "    <tr style=\"text-align: right;\">\n",
       "      <th></th>\n",
       "      <th>User</th>\n",
       "      <th>Rating</th>\n",
       "      <th>movie_id</th>\n",
       "    </tr>\n",
       "  </thead>\n",
       "  <tbody>\n",
       "  </tbody>\n",
       "</table>\n",
       "</div>"
      ],
      "text/plain": [
       "Empty DataFrame\n",
       "Columns: [User, Rating, movie_id]\n",
       "Index: []"
      ]
     },
     "execution_count": 33,
     "metadata": {},
     "output_type": "execute_result"
    }
   ],
   "source": [
    "df1[df1['Rating'].isna()]"
   ]
  },
  {
   "cell_type": "markdown",
   "metadata": {
    "colab_type": "text",
    "id": "DN5URo97qjDc"
   },
   "source": [
    "Ya contamos con un dataframe con calificaciones de usuarios a películas.\n",
    "\n",
    "Una opción es guardar el dataset modificado en nuevo archivo y, a partir de ahora, trabajar con esa versión. Esto hará que no tengamos que hacer el preprocesamiento cada vez que empecemos a trabajar y, además, ahorrarnos toda la \"basura\" que Python pueda ir dejando en la RAM.\n",
    "\n",
    "**Ejercicio**: guardar el dataset modificado en un nuevo archivo."
   ]
  },
  {
   "cell_type": "code",
   "execution_count": null,
   "metadata": {
    "colab": {},
    "colab_type": "code",
    "id": "g6UVXSYZqjDc"
   },
   "outputs": [],
   "source": [
    "if False:\n",
    "    pass\n",
    "    #completar"
   ]
  },
  {
   "cell_type": "code",
   "execution_count": 20,
   "metadata": {},
   "outputs": [],
   "source": [
    "df1.to_csv('./datasets/kaggle/recsys/netflix-prize-data/out.csv', index=False)"
   ]
  },
  {
   "cell_type": "markdown",
   "metadata": {
    "colab_type": "text",
    "id": "6BC0-h3KqjDf"
   },
   "source": [
    "## 2. Exploración del Dataset\n",
    "\n",
    "Responder las siguientes preguntas, siempre que se pueda con un lindo gráfico (¡pensar bien cómo!):\n",
    "\n",
    "1. ¿Cuántos usuarios únicos hay?\n",
    "2. ¿Cuántas películas calificó cada usuario?\n",
    "3. ¿Cómo es la distribución de las calificaciones?¿Pueden concluir algo de ese gráfico?\n",
    "4. ¿Cuál es la película con más calificaciones?¿Cuántas tiene?¿Y la que menos calificaciones tiene?"
   ]
  },
  {
   "cell_type": "code",
   "execution_count": null,
   "metadata": {
    "colab": {},
    "colab_type": "code",
    "id": "hwxdgCHuqjDg"
   },
   "outputs": [],
   "source": [
    "# COMPLETAR"
   ]
  },
  {
   "cell_type": "markdown",
   "metadata": {
    "colab_type": "text",
    "id": "kwdcRcZyqjDk"
   },
   "source": [
    "### Opcional: filtrar películas con pocos ratings"
   ]
  },
  {
   "cell_type": "code",
   "execution_count": null,
   "metadata": {
    "colab": {},
    "colab_type": "code",
    "id": "HMKgT66mqjDk"
   },
   "outputs": [],
   "source": [
    "# COMPLETAR"
   ]
  },
  {
   "cell_type": "markdown",
   "metadata": {
    "colab_type": "text",
    "id": "ikCuA7YxqjDn"
   },
   "source": [
    "## 3. Entrenamiento\n",
    "\n",
    "Para entrenar el sistema de recomendación vamos a usar la biblioteca Surprise. Recomendamos tener abierta la [documentación](https://surprise.readthedocs.io/en/stable/getting_started.html) a medida que van a través de este notebook.\n",
    "\n",
    "### 3.1 Dataset y Train/test split\n",
    "\n",
    "Primero, llevamos el dataset al formato que le gusta a la biblioteca. ¿En qué orden tienen que estar los atributos?. Investigar qué hace la clase `Reader` y cuáles son sus parámetros."
   ]
  },
  {
   "cell_type": "code",
   "execution_count": 22,
   "metadata": {},
   "outputs": [
    {
     "name": "stdout",
     "output_type": "stream",
     "text": [
      "Collecting scikit-surprise\n",
      "  Downloading scikit_surprise-1.1.4.tar.gz (154 kB)\n",
      "\u001b[2K     \u001b[90m━━━━━━━━━━━━━━━━━━━━━━━━━━━━━━━━━━━━━━━\u001b[0m \u001b[32m154.4/154.4 kB\u001b[0m \u001b[31m5.8 MB/s\u001b[0m eta \u001b[36m0:00:00\u001b[0m\n",
      "\u001b[?25h  Installing build dependencies ... \u001b[?25ldone\n",
      "\u001b[?25h  Getting requirements to build wheel ... \u001b[?25ldone\n",
      "\u001b[?25h  Preparing metadata (pyproject.toml) ... \u001b[?25ldone\n",
      "\u001b[?25hRequirement already satisfied: joblib>=1.2.0 in /opt/anaconda3/lib/python3.12/site-packages (from scikit-surprise) (1.4.2)\n",
      "Requirement already satisfied: numpy>=1.19.5 in /opt/anaconda3/lib/python3.12/site-packages (from scikit-surprise) (1.26.4)\n",
      "Requirement already satisfied: scipy>=1.6.0 in /opt/anaconda3/lib/python3.12/site-packages (from scikit-surprise) (1.13.1)\n",
      "Building wheels for collected packages: scikit-surprise\n",
      "  Building wheel for scikit-surprise (pyproject.toml) ... \u001b[?25ldone\n",
      "\u001b[?25h  Created wheel for scikit-surprise: filename=scikit_surprise-1.1.4-cp312-cp312-macosx_11_0_arm64.whl size=485277 sha256=7ce38ab0ce7989a2f441281dc96d1cf457d70c0feb71ba349a6ae8851867d517\n",
      "  Stored in directory: /Users/montse/Library/Caches/pip/wheels/75/fa/bc/739bc2cb1fbaab6061854e6cfbb81a0ae52c92a502a7fa454b\n",
      "Successfully built scikit-surprise\n",
      "Installing collected packages: scikit-surprise\n",
      "Successfully installed scikit-surprise-1.1.4\n"
     ]
    }
   ],
   "source": [
    "!pip install scikit-surprise"
   ]
  },
  {
   "cell_type": "code",
   "execution_count": 23,
   "metadata": {
    "colab": {},
    "colab_type": "code",
    "id": "MqeXBxG5qjDn"
   },
   "outputs": [],
   "source": [
    "from surprise import Dataset\n",
    "from surprise import Reader\n",
    "from surprise.model_selection import train_test_split"
   ]
  },
  {
   "cell_type": "code",
   "execution_count": 24,
   "metadata": {
    "colab": {},
    "colab_type": "code",
    "id": "aO0n4EVyqjDq"
   },
   "outputs": [],
   "source": [
    "reader = Reader()"
   ]
  },
  {
   "cell_type": "markdown",
   "metadata": {
    "colab_type": "text",
    "id": "B70ic_ivqjDu"
   },
   "source": [
    "Luego, creamos el `Dataset` de Surprise usando `Dataset.load_from_df`"
   ]
  },
  {
   "cell_type": "code",
   "execution_count": 25,
   "metadata": {
    "colab": {},
    "colab_type": "code",
    "id": "swkHpTNRqjDv"
   },
   "outputs": [],
   "source": [
    "N_filas = 1000000 # Limitamos el dataset a N_filas\n",
    "\n",
    "data = Dataset.load_from_df(df1[['User','movie_id','Rating'][:N_filas]], reader)"
   ]
  },
  {
   "cell_type": "markdown",
   "metadata": {
    "colab_type": "text",
    "id": "JRCoG6fLqjD0"
   },
   "source": [
    "¿Cómo les parece que es mejor hacer el split?¿Dejando películas en test, usuarios o combinaciones?"
   ]
  },
  {
   "cell_type": "code",
   "execution_count": 26,
   "metadata": {
    "colab": {},
    "colab_type": "code",
    "id": "WhyaTvA-qjD0"
   },
   "outputs": [],
   "source": [
    "trainset, testset = train_test_split(data, test_size=0.25)"
   ]
  },
  {
   "cell_type": "markdown",
   "metadata": {
    "colab_type": "text",
    "id": "s3Em68WyqjD3"
   },
   "source": [
    "### 3.2 Entrenamiento\n",
    "\n",
    "Vamos a entrenar un algoritmo SVD. Explorar sus parámetros y su funcionamiento."
   ]
  },
  {
   "cell_type": "code",
   "execution_count": 27,
   "metadata": {
    "colab": {},
    "colab_type": "code",
    "id": "Sm0W5EktqjD3"
   },
   "outputs": [],
   "source": [
    "from surprise import SVD\n",
    "algo = SVD()"
   ]
  },
  {
   "cell_type": "markdown",
   "metadata": {
    "colab_type": "text",
    "id": "2UWqJ9lPqjD7"
   },
   "source": [
    "Entrenamos sobre el `trainset`"
   ]
  },
  {
   "cell_type": "code",
   "execution_count": 28,
   "metadata": {
    "colab": {},
    "colab_type": "code",
    "id": "cIU5Wm4FqjD7"
   },
   "outputs": [
    {
     "data": {
      "text/plain": [
       "<surprise.prediction_algorithms.matrix_factorization.SVD at 0x357d13080>"
      ]
     },
     "execution_count": 28,
     "metadata": {},
     "output_type": "execute_result"
    }
   ],
   "source": [
    "algo.fit(trainset)"
   ]
  },
  {
   "cell_type": "markdown",
   "metadata": {
    "colab_type": "text",
    "id": "u6LlXKUyqjD_"
   },
   "source": [
    "Y predecimos sobre el `testset`. Notar que para predecir sobre un conjunto de test se usa la función `test`."
   ]
  },
  {
   "cell_type": "code",
   "execution_count": 29,
   "metadata": {
    "colab": {},
    "colab_type": "code",
    "id": "2YQ-tR9cqjD_"
   },
   "outputs": [],
   "source": [
    "predictions = algo.test(testset)"
   ]
  },
  {
   "cell_type": "markdown",
   "metadata": {
    "colab_type": "text",
    "id": "reKsua4CqjED"
   },
   "source": [
    "Explorar las característica de `predictions` y alguno de sus elementos"
   ]
  },
  {
   "cell_type": "code",
   "execution_count": 30,
   "metadata": {
    "colab": {},
    "colab_type": "code",
    "id": "bQewnnOqqjEE"
   },
   "outputs": [
    {
     "data": {
      "text/plain": [
       "Prediction(uid=1134057, iid=2862, r_ui=4.0, est=4.238699027444307, details={'was_impossible': False})"
      ]
     },
     "execution_count": 30,
     "metadata": {},
     "output_type": "execute_result"
    }
   ],
   "source": [
    "predictions[1]"
   ]
  },
  {
   "cell_type": "markdown",
   "metadata": {
    "colab_type": "text",
    "id": "S8cFczArqjEG"
   },
   "source": [
    "En cambio, si queremos predecir para un usuario y una película en particular, usamos la función `predict`"
   ]
  },
  {
   "cell_type": "code",
   "execution_count": 31,
   "metadata": {
    "colab": {},
    "colab_type": "code",
    "id": "3CF72f8iqjEH"
   },
   "outputs": [
    {
     "data": {
      "text/plain": [
       "Prediction(uid=237993, iid=175, r_ui=None, est=4.668726678001573, details={'was_impossible': False})"
      ]
     },
     "execution_count": 31,
     "metadata": {},
     "output_type": "execute_result"
    }
   ],
   "source": [
    "algo.predict(237993,175)"
   ]
  },
  {
   "cell_type": "markdown",
   "metadata": {
    "colab_type": "text",
    "id": "MVWXx1w1qjEJ"
   },
   "source": [
    "Exploremos un usuario, veamos cuáles películas le gustaron y cuáles les recomienda el sistema.\n",
    "\n",
    "Priomero, buscamos qué películas le gustaron"
   ]
  },
  {
   "cell_type": "code",
   "execution_count": 32,
   "metadata": {
    "colab": {},
    "colab_type": "code",
    "id": "WnJHteUsqjEJ"
   },
   "outputs": [
    {
     "data": {
      "text/html": [
       "<div>\n",
       "<style scoped>\n",
       "    .dataframe tbody tr th:only-of-type {\n",
       "        vertical-align: middle;\n",
       "    }\n",
       "\n",
       "    .dataframe tbody tr th {\n",
       "        vertical-align: top;\n",
       "    }\n",
       "\n",
       "    .dataframe thead th {\n",
       "        text-align: right;\n",
       "    }\n",
       "</style>\n",
       "<table border=\"1\" class=\"dataframe\">\n",
       "  <thead>\n",
       "    <tr style=\"text-align: right;\">\n",
       "      <th></th>\n",
       "      <th>User</th>\n",
       "      <th>Rating</th>\n",
       "      <th>movie_id</th>\n",
       "      <th>Name</th>\n",
       "    </tr>\n",
       "  </thead>\n",
       "  <tbody>\n",
       "    <tr>\n",
       "      <th>0</th>\n",
       "      <td>237993</td>\n",
       "      <td>5</td>\n",
       "      <td>175</td>\n",
       "      <td>Reservoir Dogs</td>\n",
       "    </tr>\n",
       "    <tr>\n",
       "      <th>1</th>\n",
       "      <td>237993</td>\n",
       "      <td>4</td>\n",
       "      <td>312</td>\n",
       "      <td>High Fidelity</td>\n",
       "    </tr>\n",
       "    <tr>\n",
       "      <th>2</th>\n",
       "      <td>237993</td>\n",
       "      <td>5</td>\n",
       "      <td>424</td>\n",
       "      <td>Happiness</td>\n",
       "    </tr>\n",
       "    <tr>\n",
       "      <th>3</th>\n",
       "      <td>237993</td>\n",
       "      <td>5</td>\n",
       "      <td>468</td>\n",
       "      <td>The Matrix: Revolutions</td>\n",
       "    </tr>\n",
       "    <tr>\n",
       "      <th>4</th>\n",
       "      <td>237993</td>\n",
       "      <td>5</td>\n",
       "      <td>571</td>\n",
       "      <td>American Beauty</td>\n",
       "    </tr>\n",
       "    <tr>\n",
       "      <th>5</th>\n",
       "      <td>237993</td>\n",
       "      <td>4</td>\n",
       "      <td>674</td>\n",
       "      <td>Hellbound: Hellraiser II</td>\n",
       "    </tr>\n",
       "    <tr>\n",
       "      <th>6</th>\n",
       "      <td>237993</td>\n",
       "      <td>4</td>\n",
       "      <td>819</td>\n",
       "      <td>The Faculty</td>\n",
       "    </tr>\n",
       "    <tr>\n",
       "      <th>7</th>\n",
       "      <td>237993</td>\n",
       "      <td>4</td>\n",
       "      <td>900</td>\n",
       "      <td>Eat Drink Man Woman</td>\n",
       "    </tr>\n",
       "    <tr>\n",
       "      <th>8</th>\n",
       "      <td>237993</td>\n",
       "      <td>4</td>\n",
       "      <td>1032</td>\n",
       "      <td>Hard Boiled</td>\n",
       "    </tr>\n",
       "    <tr>\n",
       "      <th>9</th>\n",
       "      <td>237993</td>\n",
       "      <td>5</td>\n",
       "      <td>1066</td>\n",
       "      <td>Superman: The Movie</td>\n",
       "    </tr>\n",
       "    <tr>\n",
       "      <th>10</th>\n",
       "      <td>237993</td>\n",
       "      <td>4</td>\n",
       "      <td>1102</td>\n",
       "      <td>Training Day</td>\n",
       "    </tr>\n",
       "    <tr>\n",
       "      <th>11</th>\n",
       "      <td>237993</td>\n",
       "      <td>5</td>\n",
       "      <td>1324</td>\n",
       "      <td>The Professional</td>\n",
       "    </tr>\n",
       "    <tr>\n",
       "      <th>12</th>\n",
       "      <td>237993</td>\n",
       "      <td>5</td>\n",
       "      <td>1408</td>\n",
       "      <td>The Limey</td>\n",
       "    </tr>\n",
       "    <tr>\n",
       "      <th>13</th>\n",
       "      <td>237993</td>\n",
       "      <td>4</td>\n",
       "      <td>1466</td>\n",
       "      <td>Midnight Cowboy</td>\n",
       "    </tr>\n",
       "    <tr>\n",
       "      <th>14</th>\n",
       "      <td>237993</td>\n",
       "      <td>4</td>\n",
       "      <td>1481</td>\n",
       "      <td>Porn Star: The Legend of Ron Jeremy</td>\n",
       "    </tr>\n",
       "    <tr>\n",
       "      <th>15</th>\n",
       "      <td>237993</td>\n",
       "      <td>4</td>\n",
       "      <td>1571</td>\n",
       "      <td>Poltergeist</td>\n",
       "    </tr>\n",
       "    <tr>\n",
       "      <th>16</th>\n",
       "      <td>237993</td>\n",
       "      <td>5</td>\n",
       "      <td>1625</td>\n",
       "      <td>Aliens: Collector's Edition</td>\n",
       "    </tr>\n",
       "    <tr>\n",
       "      <th>17</th>\n",
       "      <td>237993</td>\n",
       "      <td>4</td>\n",
       "      <td>2037</td>\n",
       "      <td>Fright Night</td>\n",
       "    </tr>\n",
       "    <tr>\n",
       "      <th>18</th>\n",
       "      <td>237993</td>\n",
       "      <td>4</td>\n",
       "      <td>2112</td>\n",
       "      <td>Identity</td>\n",
       "    </tr>\n",
       "    <tr>\n",
       "      <th>19</th>\n",
       "      <td>237993</td>\n",
       "      <td>5</td>\n",
       "      <td>2122</td>\n",
       "      <td>Being John Malkovich</td>\n",
       "    </tr>\n",
       "    <tr>\n",
       "      <th>20</th>\n",
       "      <td>237993</td>\n",
       "      <td>5</td>\n",
       "      <td>2128</td>\n",
       "      <td>Rudy</td>\n",
       "    </tr>\n",
       "    <tr>\n",
       "      <th>21</th>\n",
       "      <td>237993</td>\n",
       "      <td>4</td>\n",
       "      <td>2252</td>\n",
       "      <td>Bram Stoker's Dracula</td>\n",
       "    </tr>\n",
       "    <tr>\n",
       "      <th>22</th>\n",
       "      <td>237993</td>\n",
       "      <td>4</td>\n",
       "      <td>2348</td>\n",
       "      <td>The Omen</td>\n",
       "    </tr>\n",
       "    <tr>\n",
       "      <th>23</th>\n",
       "      <td>237993</td>\n",
       "      <td>5</td>\n",
       "      <td>2430</td>\n",
       "      <td>Alien: Collector's Edition</td>\n",
       "    </tr>\n",
       "    <tr>\n",
       "      <th>24</th>\n",
       "      <td>237993</td>\n",
       "      <td>5</td>\n",
       "      <td>2595</td>\n",
       "      <td>The Vanishing</td>\n",
       "    </tr>\n",
       "    <tr>\n",
       "      <th>25</th>\n",
       "      <td>237993</td>\n",
       "      <td>4</td>\n",
       "      <td>2660</td>\n",
       "      <td>When Harry Met Sally</td>\n",
       "    </tr>\n",
       "    <tr>\n",
       "      <th>26</th>\n",
       "      <td>237993</td>\n",
       "      <td>4</td>\n",
       "      <td>2675</td>\n",
       "      <td>Solaris</td>\n",
       "    </tr>\n",
       "    <tr>\n",
       "      <th>27</th>\n",
       "      <td>237993</td>\n",
       "      <td>5</td>\n",
       "      <td>2862</td>\n",
       "      <td>The Silence of the Lambs</td>\n",
       "    </tr>\n",
       "    <tr>\n",
       "      <th>28</th>\n",
       "      <td>237993</td>\n",
       "      <td>4</td>\n",
       "      <td>3106</td>\n",
       "      <td>Ghost</td>\n",
       "    </tr>\n",
       "    <tr>\n",
       "      <th>29</th>\n",
       "      <td>237993</td>\n",
       "      <td>4</td>\n",
       "      <td>3138</td>\n",
       "      <td>Blade: Trinity</td>\n",
       "    </tr>\n",
       "    <tr>\n",
       "      <th>30</th>\n",
       "      <td>237993</td>\n",
       "      <td>5</td>\n",
       "      <td>3151</td>\n",
       "      <td>Napoleon Dynamite</td>\n",
       "    </tr>\n",
       "    <tr>\n",
       "      <th>31</th>\n",
       "      <td>237993</td>\n",
       "      <td>5</td>\n",
       "      <td>3168</td>\n",
       "      <td>Evil Dead 2: Dead by Dawn</td>\n",
       "    </tr>\n",
       "    <tr>\n",
       "      <th>32</th>\n",
       "      <td>237993</td>\n",
       "      <td>4</td>\n",
       "      <td>3225</td>\n",
       "      <td>A Nightmare on Elm Street 3: Dream Warriors</td>\n",
       "    </tr>\n",
       "    <tr>\n",
       "      <th>33</th>\n",
       "      <td>237993</td>\n",
       "      <td>5</td>\n",
       "      <td>3290</td>\n",
       "      <td>The Godfather</td>\n",
       "    </tr>\n",
       "    <tr>\n",
       "      <th>34</th>\n",
       "      <td>237993</td>\n",
       "      <td>5</td>\n",
       "      <td>3385</td>\n",
       "      <td>28 Days Later</td>\n",
       "    </tr>\n",
       "    <tr>\n",
       "      <th>35</th>\n",
       "      <td>237993</td>\n",
       "      <td>4</td>\n",
       "      <td>3624</td>\n",
       "      <td>The Last Samurai</td>\n",
       "    </tr>\n",
       "    <tr>\n",
       "      <th>36</th>\n",
       "      <td>237993</td>\n",
       "      <td>4</td>\n",
       "      <td>3900</td>\n",
       "      <td>Amores Perros</td>\n",
       "    </tr>\n",
       "    <tr>\n",
       "      <th>37</th>\n",
       "      <td>237993</td>\n",
       "      <td>4</td>\n",
       "      <td>3925</td>\n",
       "      <td>The Matrix: Reloaded</td>\n",
       "    </tr>\n",
       "    <tr>\n",
       "      <th>38</th>\n",
       "      <td>237993</td>\n",
       "      <td>4</td>\n",
       "      <td>4097</td>\n",
       "      <td>Sleepaway Camp</td>\n",
       "    </tr>\n",
       "    <tr>\n",
       "      <th>39</th>\n",
       "      <td>237993</td>\n",
       "      <td>4</td>\n",
       "      <td>4109</td>\n",
       "      <td>American Psycho</td>\n",
       "    </tr>\n",
       "    <tr>\n",
       "      <th>40</th>\n",
       "      <td>237993</td>\n",
       "      <td>5</td>\n",
       "      <td>4306</td>\n",
       "      <td>The Sixth Sense</td>\n",
       "    </tr>\n",
       "    <tr>\n",
       "      <th>41</th>\n",
       "      <td>237993</td>\n",
       "      <td>4</td>\n",
       "      <td>4345</td>\n",
       "      <td>Bowling for Columbine</td>\n",
       "    </tr>\n",
       "    <tr>\n",
       "      <th>42</th>\n",
       "      <td>237993</td>\n",
       "      <td>4</td>\n",
       "      <td>4386</td>\n",
       "      <td>The Return of the Living Dead</td>\n",
       "    </tr>\n",
       "    <tr>\n",
       "      <th>43</th>\n",
       "      <td>237993</td>\n",
       "      <td>5</td>\n",
       "      <td>4392</td>\n",
       "      <td>Army of Darkness</td>\n",
       "    </tr>\n",
       "    <tr>\n",
       "      <th>44</th>\n",
       "      <td>237993</td>\n",
       "      <td>5</td>\n",
       "      <td>4402</td>\n",
       "      <td>A Nightmare on Elm Street</td>\n",
       "    </tr>\n",
       "    <tr>\n",
       "      <th>45</th>\n",
       "      <td>237993</td>\n",
       "      <td>4</td>\n",
       "      <td>4432</td>\n",
       "      <td>The Italian Job</td>\n",
       "    </tr>\n",
       "  </tbody>\n",
       "</table>\n",
       "</div>"
      ],
      "text/plain": [
       "      User  Rating  movie_id                                         Name\n",
       "0   237993       5       175                               Reservoir Dogs\n",
       "1   237993       4       312                                High Fidelity\n",
       "2   237993       5       424                                    Happiness\n",
       "3   237993       5       468                      The Matrix: Revolutions\n",
       "4   237993       5       571                              American Beauty\n",
       "5   237993       4       674                     Hellbound: Hellraiser II\n",
       "6   237993       4       819                                  The Faculty\n",
       "7   237993       4       900                          Eat Drink Man Woman\n",
       "8   237993       4      1032                                  Hard Boiled\n",
       "9   237993       5      1066                          Superman: The Movie\n",
       "10  237993       4      1102                                 Training Day\n",
       "11  237993       5      1324                             The Professional\n",
       "12  237993       5      1408                                    The Limey\n",
       "13  237993       4      1466                              Midnight Cowboy\n",
       "14  237993       4      1481          Porn Star: The Legend of Ron Jeremy\n",
       "15  237993       4      1571                                  Poltergeist\n",
       "16  237993       5      1625                  Aliens: Collector's Edition\n",
       "17  237993       4      2037                                 Fright Night\n",
       "18  237993       4      2112                                     Identity\n",
       "19  237993       5      2122                         Being John Malkovich\n",
       "20  237993       5      2128                                         Rudy\n",
       "21  237993       4      2252                        Bram Stoker's Dracula\n",
       "22  237993       4      2348                                     The Omen\n",
       "23  237993       5      2430                   Alien: Collector's Edition\n",
       "24  237993       5      2595                                The Vanishing\n",
       "25  237993       4      2660                         When Harry Met Sally\n",
       "26  237993       4      2675                                      Solaris\n",
       "27  237993       5      2862                     The Silence of the Lambs\n",
       "28  237993       4      3106                                        Ghost\n",
       "29  237993       4      3138                               Blade: Trinity\n",
       "30  237993       5      3151                            Napoleon Dynamite\n",
       "31  237993       5      3168                    Evil Dead 2: Dead by Dawn\n",
       "32  237993       4      3225  A Nightmare on Elm Street 3: Dream Warriors\n",
       "33  237993       5      3290                                The Godfather\n",
       "34  237993       5      3385                                28 Days Later\n",
       "35  237993       4      3624                             The Last Samurai\n",
       "36  237993       4      3900                                Amores Perros\n",
       "37  237993       4      3925                         The Matrix: Reloaded\n",
       "38  237993       4      4097                               Sleepaway Camp\n",
       "39  237993       4      4109                              American Psycho\n",
       "40  237993       5      4306                              The Sixth Sense\n",
       "41  237993       4      4345                        Bowling for Columbine\n",
       "42  237993       4      4386                The Return of the Living Dead\n",
       "43  237993       5      4392                             Army of Darkness\n",
       "44  237993       5      4402                    A Nightmare on Elm Street\n",
       "45  237993       4      4432                              The Italian Job"
      ]
     },
     "execution_count": 32,
     "metadata": {},
     "output_type": "execute_result"
    }
   ],
   "source": [
    "usuario = 237993\n",
    "rating = 5   # le pedimos peliculas a las que haya puesto 4 o 5 estrellas\n",
    "df_user = df1[(df1['User'] == 237993) & (df1['Rating'] >= 4)]\n",
    "df_user = df_user.reset_index(drop=True)\n",
    "df_user['Name'] = df_title['Name'].loc[df_user.movie_id].values\n",
    "df_user"
   ]
  },
  {
   "cell_type": "markdown",
   "metadata": {
    "colab_type": "text",
    "id": "9F2YeIFhqjEN"
   },
   "source": [
    "Creamos donde vamos a guardar las recomendaciones"
   ]
  },
  {
   "cell_type": "code",
   "execution_count": 33,
   "metadata": {
    "colab": {},
    "colab_type": "code",
    "id": "1WWUSxTpqjEO"
   },
   "outputs": [
    {
     "name": "stdout",
     "output_type": "stream",
     "text": [
      "(4499, 1)\n"
     ]
    },
    {
     "data": {
      "text/html": [
       "<div>\n",
       "<style scoped>\n",
       "    .dataframe tbody tr th:only-of-type {\n",
       "        vertical-align: middle;\n",
       "    }\n",
       "\n",
       "    .dataframe tbody tr th {\n",
       "        vertical-align: top;\n",
       "    }\n",
       "\n",
       "    .dataframe thead th {\n",
       "        text-align: right;\n",
       "    }\n",
       "</style>\n",
       "<table border=\"1\" class=\"dataframe\">\n",
       "  <thead>\n",
       "    <tr style=\"text-align: right;\">\n",
       "      <th></th>\n",
       "      <th>Name</th>\n",
       "    </tr>\n",
       "    <tr>\n",
       "      <th>Movie_Id</th>\n",
       "      <th></th>\n",
       "    </tr>\n",
       "  </thead>\n",
       "  <tbody>\n",
       "    <tr>\n",
       "      <th>1</th>\n",
       "      <td>Dinosaur Planet</td>\n",
       "    </tr>\n",
       "    <tr>\n",
       "      <th>2</th>\n",
       "      <td>Isle of Man TT 2004 Review</td>\n",
       "    </tr>\n",
       "    <tr>\n",
       "      <th>3</th>\n",
       "      <td>Character</td>\n",
       "    </tr>\n",
       "    <tr>\n",
       "      <th>4</th>\n",
       "      <td>Paula Abdul's Get Up &amp; Dance</td>\n",
       "    </tr>\n",
       "    <tr>\n",
       "      <th>5</th>\n",
       "      <td>The Rise and Fall of ECW</td>\n",
       "    </tr>\n",
       "  </tbody>\n",
       "</table>\n",
       "</div>"
      ],
      "text/plain": [
       "                                  Name\n",
       "Movie_Id                              \n",
       "1                      Dinosaur Planet\n",
       "2           Isle of Man TT 2004 Review\n",
       "3                            Character\n",
       "4         Paula Abdul's Get Up & Dance\n",
       "5             The Rise and Fall of ECW"
      ]
     },
     "execution_count": 33,
     "metadata": {},
     "output_type": "execute_result"
    }
   ],
   "source": [
    "recomendaciones_usuario = df_title.iloc[:4499].copy()\n",
    "print(recomendaciones_usuario.shape)\n",
    "recomendaciones_usuario.head()"
   ]
  },
  {
   "cell_type": "markdown",
   "metadata": {
    "colab_type": "text",
    "id": "6xx89ZG2qjER"
   },
   "source": [
    "Sacamos del dataframe todas las películas que ya sabemos que vio"
   ]
  },
  {
   "cell_type": "code",
   "execution_count": 34,
   "metadata": {
    "colab": {},
    "colab_type": "code",
    "id": "RQFXq1oYqjET"
   },
   "outputs": [
    {
     "name": "stdout",
     "output_type": "stream",
     "text": [
      "(60, 3)\n"
     ]
    }
   ],
   "source": [
    "usuario_vistas = df1[(df1['User'] == 237993)]\n",
    "print(usuario_vistas.shape)"
   ]
  },
  {
   "cell_type": "code",
   "execution_count": 37,
   "metadata": {},
   "outputs": [
    {
     "data": {
      "text/html": [
       "<div>\n",
       "<style scoped>\n",
       "    .dataframe tbody tr th:only-of-type {\n",
       "        vertical-align: middle;\n",
       "    }\n",
       "\n",
       "    .dataframe tbody tr th {\n",
       "        vertical-align: top;\n",
       "    }\n",
       "\n",
       "    .dataframe thead th {\n",
       "        text-align: right;\n",
       "    }\n",
       "</style>\n",
       "<table border=\"1\" class=\"dataframe\">\n",
       "  <thead>\n",
       "    <tr style=\"text-align: right;\">\n",
       "      <th></th>\n",
       "      <th>User</th>\n",
       "      <th>Rating</th>\n",
       "      <th>movie_id</th>\n",
       "    </tr>\n",
       "  </thead>\n",
       "  <tbody>\n",
       "    <tr>\n",
       "      <th>14110</th>\n",
       "      <td>237993</td>\n",
       "      <td>3</td>\n",
       "      <td>8</td>\n",
       "    </tr>\n",
       "    <tr>\n",
       "      <th>481395</th>\n",
       "      <td>237993</td>\n",
       "      <td>3</td>\n",
       "      <td>143</td>\n",
       "    </tr>\n",
       "    <tr>\n",
       "      <th>632214</th>\n",
       "      <td>237993</td>\n",
       "      <td>5</td>\n",
       "      <td>175</td>\n",
       "    </tr>\n",
       "    <tr>\n",
       "      <th>1537728</th>\n",
       "      <td>237993</td>\n",
       "      <td>4</td>\n",
       "      <td>312</td>\n",
       "    </tr>\n",
       "    <tr>\n",
       "      <th>2244424</th>\n",
       "      <td>237993</td>\n",
       "      <td>5</td>\n",
       "      <td>424</td>\n",
       "    </tr>\n",
       "  </tbody>\n",
       "</table>\n",
       "</div>"
      ],
      "text/plain": [
       "           User  Rating  movie_id\n",
       "14110    237993       3         8\n",
       "481395   237993       3       143\n",
       "632214   237993       5       175\n",
       "1537728  237993       4       312\n",
       "2244424  237993       5       424"
      ]
     },
     "execution_count": 37,
     "metadata": {},
     "output_type": "execute_result"
    }
   ],
   "source": [
    "usuario_vistas.head()"
   ]
  },
  {
   "cell_type": "code",
   "execution_count": 38,
   "metadata": {},
   "outputs": [
    {
     "data": {
      "text/plain": [
       "Index([   14110,   481395,   632214,  1537728,  2244424,  2535860,  3107560,\n",
       "        3527871,  3878422,  4283895,  4650106,  4991350,  5102985,  5239111,\n",
       "        5426932,  6813573,  7053849,  7279829,  7445090,  7467147,  7842000,\n",
       "        8116888,  8391527,  9268981, 10494671, 10760286, 10875895, 10947216,\n",
       "       11771912, 12115866, 12284851, 12672717, 13623758, 13881392, 13944781,\n",
       "       14724592, 14821266, 15998861, 16147242, 16289510, 16436226, 16636600,\n",
       "       17089103, 17722868, 18437618, 19027764, 19472844, 19807143, 20259543,\n",
       "       20551858, 20838906, 21725259, 21767237, 22809611, 23113844, 23376749,\n",
       "       23434456, 23489072, 23571269, 23743767],\n",
       "      dtype='int64')"
      ]
     },
     "execution_count": 38,
     "metadata": {},
     "output_type": "execute_result"
    }
   ],
   "source": [
    "usuario_vistas.index"
   ]
  },
  {
   "cell_type": "code",
   "execution_count": 40,
   "metadata": {},
   "outputs": [
    {
     "data": {
      "text/html": [
       "<div>\n",
       "<style scoped>\n",
       "    .dataframe tbody tr th:only-of-type {\n",
       "        vertical-align: middle;\n",
       "    }\n",
       "\n",
       "    .dataframe tbody tr th {\n",
       "        vertical-align: top;\n",
       "    }\n",
       "\n",
       "    .dataframe thead th {\n",
       "        text-align: right;\n",
       "    }\n",
       "</style>\n",
       "<table border=\"1\" class=\"dataframe\">\n",
       "  <thead>\n",
       "    <tr style=\"text-align: right;\">\n",
       "      <th></th>\n",
       "      <th>Name</th>\n",
       "    </tr>\n",
       "    <tr>\n",
       "      <th>Movie_Id</th>\n",
       "      <th></th>\n",
       "    </tr>\n",
       "  </thead>\n",
       "  <tbody>\n",
       "    <tr>\n",
       "      <th>1</th>\n",
       "      <td>Dinosaur Planet</td>\n",
       "    </tr>\n",
       "    <tr>\n",
       "      <th>2</th>\n",
       "      <td>Isle of Man TT 2004 Review</td>\n",
       "    </tr>\n",
       "    <tr>\n",
       "      <th>3</th>\n",
       "      <td>Character</td>\n",
       "    </tr>\n",
       "    <tr>\n",
       "      <th>4</th>\n",
       "      <td>Paula Abdul's Get Up &amp; Dance</td>\n",
       "    </tr>\n",
       "    <tr>\n",
       "      <th>5</th>\n",
       "      <td>The Rise and Fall of ECW</td>\n",
       "    </tr>\n",
       "    <tr>\n",
       "      <th>...</th>\n",
       "      <td>...</td>\n",
       "    </tr>\n",
       "    <tr>\n",
       "      <th>4495</th>\n",
       "      <td>Clifford: Happy Birthday Clifford / Puppy Love</td>\n",
       "    </tr>\n",
       "    <tr>\n",
       "      <th>4496</th>\n",
       "      <td>Farewell My Concubine</td>\n",
       "    </tr>\n",
       "    <tr>\n",
       "      <th>4497</th>\n",
       "      <td>Texasville</td>\n",
       "    </tr>\n",
       "    <tr>\n",
       "      <th>4498</th>\n",
       "      <td>Gonin</td>\n",
       "    </tr>\n",
       "    <tr>\n",
       "      <th>4499</th>\n",
       "      <td>In My Skin</td>\n",
       "    </tr>\n",
       "  </tbody>\n",
       "</table>\n",
       "<p>4499 rows × 1 columns</p>\n",
       "</div>"
      ],
      "text/plain": [
       "                                                    Name\n",
       "Movie_Id                                                \n",
       "1                                        Dinosaur Planet\n",
       "2                             Isle of Man TT 2004 Review\n",
       "3                                              Character\n",
       "4                           Paula Abdul's Get Up & Dance\n",
       "5                               The Rise and Fall of ECW\n",
       "...                                                  ...\n",
       "4495      Clifford: Happy Birthday Clifford / Puppy Love\n",
       "4496                               Farewell My Concubine\n",
       "4497                                          Texasville\n",
       "4498                                               Gonin\n",
       "4499                                          In My Skin\n",
       "\n",
       "[4499 rows x 1 columns]"
      ]
     },
     "execution_count": 40,
     "metadata": {},
     "output_type": "execute_result"
    }
   ],
   "source": [
    "recomendaciones_usuario"
   ]
  },
  {
   "cell_type": "code",
   "execution_count": 41,
   "metadata": {},
   "outputs": [],
   "source": [
    "recomendaciones_usuario.drop(usuario_vistas['movie_id'], inplace = True)\n",
    "recomendaciones_usuario = recomendaciones_usuario.reset_index()"
   ]
  },
  {
   "cell_type": "markdown",
   "metadata": {
    "colab_type": "text",
    "id": "s4bVoKpiqjEW"
   },
   "source": [
    "Y hacemos las recomendaciones"
   ]
  },
  {
   "cell_type": "code",
   "execution_count": 42,
   "metadata": {
    "colab": {},
    "colab_type": "code",
    "id": "a9u5zOFFqjEX"
   },
   "outputs": [],
   "source": [
    "recomendaciones_usuario['Estimate_Score'] = recomendaciones_usuario['Movie_Id'].apply(lambda x: algo.predict(usuario, x).est)"
   ]
  },
  {
   "cell_type": "code",
   "execution_count": 43,
   "metadata": {
    "colab": {},
    "colab_type": "code",
    "id": "GLp5j3UoqjEZ"
   },
   "outputs": [
    {
     "name": "stdout",
     "output_type": "stream",
     "text": [
      "      Movie_Id                                      Name  Estimate_Score\n",
      "1227      1243                 La Femme Nikita: Season 2             5.0\n",
      "3989      4041                   Mobile Suit Gundam SEED             5.0\n",
      "3621      3668                        Farscape: Season 2             5.0\n",
      "2031      2057        Buffy the Vampire Slayer: Season 6             5.0\n",
      "424        430                                   Chobits             5.0\n",
      "764        774                        Foyle's War: Set 2             5.0\n",
      "31          33            Aqua Teen Hunger Force: Vol. 1             5.0\n",
      "1823      1848  Samurai Trilogy 3: Duel at Ganryu Island             5.0\n",
      "2133      2162                             CSI: Season 1             5.0\n",
      "923        935                               Read Or Die             5.0\n"
     ]
    }
   ],
   "source": [
    "recomendaciones_usuario = recomendaciones_usuario.sort_values('Estimate_Score', ascending=False)\n",
    "print(recomendaciones_usuario.head(10))"
   ]
  },
  {
   "cell_type": "markdown",
   "metadata": {
    "colab_type": "text",
    "id": "aP9a7NCGqjEe"
   },
   "source": [
    "### 3.3 Evaluación\n",
    "\n",
    "Para el conjunto de `testset`, evaluamos el error RMSE entre las predicciones y las verdaderas calificaciones que le habían dado a las películas. Para eso, buscar en la documentación cómo se hace."
   ]
  },
  {
   "cell_type": "code",
   "execution_count": 44,
   "metadata": {
    "colab": {},
    "colab_type": "code",
    "id": "_fg8C6lOqjEe"
   },
   "outputs": [
    {
     "name": "stdout",
     "output_type": "stream",
     "text": [
      "RMSE: 0.9029\n"
     ]
    },
    {
     "data": {
      "text/plain": [
       "0.9028931289746546"
      ]
     },
     "execution_count": 44,
     "metadata": {},
     "output_type": "execute_result"
    }
   ],
   "source": [
    "# from surprise import COMPLETAR\n",
    "from surprise import accuracy\n",
    "\n",
    "# Calculate RMSE for test dataset\n",
    "accuracy.rmse(predictions)"
   ]
  },
  {
   "cell_type": "markdown",
   "metadata": {
    "colab_type": "text",
    "id": "BXfM00ZtqjEo"
   },
   "source": [
    "La próxima clase continuaremos con Optimización de Parámetros y algunos comentarios más sobre cómo trabajar con datasets grandes."
   ]
  }
 ],
 "metadata": {
  "colab": {
   "name": "DS_Encuentro_40_Sistemas_Recomendacion.ipynb",
   "provenance": []
  },
  "kernelspec": {
   "display_name": "base",
   "language": "python",
   "name": "python3"
  },
  "language_info": {
   "codemirror_mode": {
    "name": "ipython",
    "version": 3
   },
   "file_extension": ".py",
   "mimetype": "text/x-python",
   "name": "python",
   "nbconvert_exporter": "python",
   "pygments_lexer": "ipython3",
   "version": "3.12.4"
  }
 },
 "nbformat": 4,
 "nbformat_minor": 0
}
