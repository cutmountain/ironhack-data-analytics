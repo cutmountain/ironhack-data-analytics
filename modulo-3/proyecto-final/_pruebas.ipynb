{
 "cells": [
  {
   "cell_type": "markdown",
   "metadata": {},
   "source": [
    "# Fichero de pruebas / Borrador"
   ]
  },
  {
   "cell_type": "markdown",
   "metadata": {},
   "source": [
    "## Importar librerías"
   ]
  },
  {
   "cell_type": "code",
   "execution_count": 10,
   "metadata": {},
   "outputs": [],
   "source": [
    "# ===== Librerías ==========================================\n",
    "import warnings\n",
    "\n",
    "import numpy as np\n",
    "import pandas as pd   \n",
    "\n",
    "# Gráficos\n",
    "# Matplotlib\n",
    "import matplotlib.pyplot as plt\n",
    "# Seaborn\n",
    "import seaborn as sns\n",
    "# Plotly\n",
    "import plotly.express as px # Importing Plotly Express for high-level, easy-to-use interactive visualizations\n",
    "import plotly.graph_objects as go # Importing Plotly Graph Objects for more fine-grained control over visualizations\n",
    "from plotly.subplots import make_subplots # Multiple graphs in a figure\n",
    "\n",
    "# Importando itertools para generar combinaciones de columnas\n",
    "import itertools\n",
    "\n",
    "# Importando la función seasonal_decompose para la descomposición de series temporales\n",
    "from statsmodels.tsa.seasonal import seasonal_decompose\n",
    "\n",
    "# ===== Ajustes de visualización =============================\n",
    "#Configuramos para que las gráficas se vean dentro del cuaderno\n",
    "%matplotlib inline\n",
    "# Establecemos el tamaño de la fuente en los gráficos\n",
    "plt.rc('font', size=12)\n",
    "# Ajustamos el tamaño de las figuras\n",
    "plt.rc('figure', figsize=(12, 5))\n",
    "\n",
    "# Configuration to set so that all the Seaborn figures come out with this size\n",
    "%config Inlinebackend.figure_format= 'retina'\n",
    "\n",
    "# Set the Seaborn context to \"poster\" for larger text and figures\n",
    "sns.set_context(\"poster\")\n",
    "\n",
    "# Set the default figure size for Seaborn plots\n",
    "sns.set(rc={\"figure.figsize\": (12., 6.)})\n",
    "\n",
    "# Set the Seaborn style to \"whitegrid\" for a white background with gridlines\n",
    "sns.set_style(\"whitegrid\")"
   ]
  },
  {
   "cell_type": "markdown",
   "metadata": {},
   "source": [
    "## Cargar datos"
   ]
  },
  {
   "cell_type": "code",
   "execution_count": 3,
   "metadata": {},
   "outputs": [
    {
     "data": {
      "text/plain": [
       "(20594, 24)"
      ]
     },
     "execution_count": 3,
     "metadata": {},
     "output_type": "execute_result"
    }
   ],
   "source": [
    "# Load the dataset\n",
    "df = pd.read_csv('./datasets/kaggle/spotify_cleaned_dataset.csv')\n",
    "df.shape"
   ]
  },
  {
   "cell_type": "markdown",
   "metadata": {},
   "source": [
    "## Explorar y probar"
   ]
  },
  {
   "cell_type": "code",
   "execution_count": 5,
   "metadata": {},
   "outputs": [
    {
     "data": {
      "text/plain": [
       "Album_type\n",
       "album          14834\n",
       "single          4973\n",
       "compilation      787\n",
       "Name: count, dtype: int64"
      ]
     },
     "execution_count": 5,
     "metadata": {},
     "output_type": "execute_result"
    }
   ],
   "source": [
    "df['Album_type'].value_counts()"
   ]
  },
  {
   "cell_type": "code",
   "execution_count": 6,
   "metadata": {},
   "outputs": [],
   "source": [
    "columnas=df.columns.tolist()\n",
    "columnas_numericas=df.describe().columns.tolist()"
   ]
  },
  {
   "cell_type": "code",
   "execution_count": 17,
   "metadata": {},
   "outputs": [
    {
     "name": "stdout",
     "output_type": "stream",
     "text": [
      "Artist (2074 unique values) \n",
      "Track (17717 unique values) \n",
      "Album (11854 unique values) \n",
      "Album_type (3 unique values) -> pie\n",
      "Title (18023 unique values) \n",
      "Channel (6673 unique values) \n",
      "Licensed (3 unique values) -> pie\n",
      "official_video (3 unique values) -> pie\n",
      "most_playedon (2 unique values) -> pie\n",
      "\n",
      "Dibujaremos 4 pie charts\n"
     ]
    }
   ],
   "source": [
    "not_numericals = df.select_dtypes(np.object_).columns\n",
    "not_numericals\n",
    "lst_pies = []\n",
    "for c in not_numericals:\n",
    "    counts = df[c].value_counts()        \n",
    "    if len(counts)<=10:\n",
    "        drawpie = '-> pie'\n",
    "        lst_pies.append(c)\n",
    "    else:\n",
    "        drawpie = ''\n",
    "    print(f'{c} ({counts.index.__len__()} unique values)', drawpie)\n",
    "print(f'\\nDibujaremos {len(lst_pies)} pie charts')"
   ]
  },
  {
   "cell_type": "code",
   "execution_count": null,
   "metadata": {},
   "outputs": [
    {
     "data": {
      "image/png": "[encoded data removed]",
      "text/plain": [
       "<Figure size 1500x600 with 4 Axes>"
      ]
     },
     "metadata": {},
     "output_type": "display_data"
    }
   ],
   "source": [
    "# We want a subplot for every pie chart\n",
    "lst = list(df.groupby('continent'))\n",
    "\n",
    "# here we want our grid to be 2 x 3\n",
    "rows = 2\n",
    "cols = 3\n",
    "# continents are the first element in l\n",
    "subplot_titles = [l[0] for l in lst]\n",
    "\n",
    "# a compact and general version of what you did\n",
    "specs = [[{'type':'domain'}] * cols] * rows\n",
    "\n",
    "# here the only difference from your code\n",
    "# are the titles for subplots\n",
    "fig = make_subplots(\n",
    "        rows=rows,\n",
    "        cols=cols,\n",
    "        subplot_titles=subplot_titles,\n",
    "        specs=specs,\n",
    "        print_grid=True)\n",
    "\n",
    "for i, l in enumerate(lst):\n",
    "    # basic math to get col and row\n",
    "    row = i // cols + 1\n",
    "    col = i % (rows + 1) + 1\n",
    "    # this is the dataframe for every continent\n",
    "    d = l[1]\n",
    "    fig.add_trace(\n",
    "        go.Pie(labels=d[\"country\"],\n",
    "               values=d[\"pop\"],\n",
    "               showlegend=False,\n",
    "               textposition='inside',\n",
    "               textinfo='label+percent'),\n",
    "         row=row,\n",
    "         col=col\n",
    "    \n",
    "    )\n",
    "    \n",
    "fig.update_layout(title=\"Population by Continent\", title_x=0.5)\n",
    "fig.show()\n",
    "\n",
    "\n",
    "axs_idx = 0\n",
    "for c in columnas:\n",
    "    if c not in columnas_numericas:\n",
    "        counts = df[c].value_counts()\n",
    "        if len(counts)<=10:\n",
    "            labels = {index_name: index_name for index_name in counts.index}    \n",
    "            axs[axs_idx] = px.pie(names=counts.index, values=counts.values, title=f'Distribución de {c}', labels=labels)\n",
    "            # axs[axs_idx].update_traces(textinfo='label+percent',  # Show both label and percentage\n",
    "            #       textfont_size=14)                      # Font size of the labels\n",
    "            # axs[axs_idx].update_layout(height=500)\n",
    "            # axs[axs_idx].show()\n",
    "            break"
   ]
  },
  {
   "cell_type": "code",
   "execution_count": null,
   "metadata": {},
   "outputs": [],
   "source": [
    "fig, axs = plt.subplots(2, 2, figsize=(15, 6))\n",
    "ds.fees.type.value_counts().plot(kind='bar', ax=axs[0], width=0.6)\n",
    "ds.fees.status.value_counts().plot(kind='bar', ax=axs[1], width=0.6)\n",
    "ds.fees.category.value_counts().plot(kind='bar', ax=axs[2], width=0.6)\n",
    "ds.fees.charge_moment.value_counts().plot(kind='bar', ax=axs[3], width=0.4)\n",
    "plt.tight_layout(rect=[0, 0.03, 1, 0.95]) #rect=[left, bottom, right, top]\n",
    "fig.suptitle('Características categóricas del DataFrame fees')"
   ]
  }
 ],
 "metadata": {
  "kernelspec": {
   "display_name": "base",
   "language": "python",
   "name": "python3"
  },
  "language_info": {
   "codemirror_mode": {
    "name": "ipython",
    "version": 3
   },
   "file_extension": ".py",
   "mimetype": "text/x-python",
   "name": "python",
   "nbconvert_exporter": "python",
   "pygments_lexer": "ipython3",
   "version": "3.12.4"
  },
  "toc": {
   "base_numbering": 1,
   "nav_menu": {},
   "number_sections": true,
   "sideBar": true,
   "skip_h1_title": false,
   "title_cell": "Table of Contents",
   "title_sidebar": "Contents",
   "toc_cell": true,
   "toc_position": {},
   "toc_section_display": true,
   "toc_window_display": false
  },
  "varInspector": {
   "cols": {
    "lenName": 16,
    "lenType": 16,
    "lenVar": 40
   },
   "kernels_config": {
    "python": {
     "delete_cmd_postfix": "",
     "delete_cmd_prefix": "del ",
     "library": "var_list.py",
     "varRefreshCmd": "print(var_dic_list())"
    },
    "r": {
     "delete_cmd_postfix": ") ",
     "delete_cmd_prefix": "rm(",
     "library": "var_list.r",
     "varRefreshCmd": "cat(var_dic_list()) "
    }
   },
   "types_to_exclude": [
    "module",
    "function",
    "builtin_function_or_method",
    "instance",
    "_Feature"
   ],
   "window_display": false
  }
 },
 "nbformat": 4,
 "nbformat_minor": 2
}
